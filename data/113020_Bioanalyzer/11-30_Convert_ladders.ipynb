{
 "cells": [
  {
   "cell_type": "code",
   "execution_count": 37,
   "metadata": {},
   "outputs": [
    {
     "name": "stdout",
     "output_type": "stream",
     "text": [
      "Populating the interactive namespace from numpy and matplotlib\n"
     ]
    },
    {
     "name": "stderr",
     "output_type": "stream",
     "text": [
      "/Users/dosoonkim/anaconda3/lib/python3.7/site-packages/IPython/core/magics/pylab.py:160: UserWarning: pylab import has clobbered these variables: ['number']\n",
      "`%matplotlib` prevents importing * from pylab and numpy\n",
      "  \"\\n`%matplotlib` prevents importing * from pylab and numpy\"\n"
     ]
    }
   ],
   "source": [
    "import pandas as pd\n",
    "import scipy as sp\n",
    "from scipy.sparse import diags\n",
    "import numpy as np\n",
    "from numpy import linalg as LA\n",
    "import sys\n",
    "\n",
    "from os import path\n",
    "\n",
    "import matplotlib.pyplot as plt\n",
    "\n",
    "#importing seaborn for plotting\n",
    "import seaborn as sns\n",
    "\n",
    "#for plotting purposes\n",
    "%pylab inline\n",
    "sns.set_style('ticks')\n",
    "sns.set_context('paper')\n",
    "\n",
    "from IPython.core.interactiveshell import InteractiveShell\n",
    "InteractiveShell.ast_node_interactivity = \"all\"\n",
    "\n",
    "import matplotlib as mpl\n",
    "\n",
    "from scipy.signal import find_peaks\n",
    "\n",
    "# mpl.rcParams\n",
    "mpl.rcParams['axes.labelsize'] = 14\n",
    "mpl.rcParams['axes.titlesize'] = 16\n",
    "mpl.rcParams['xtick.labelsize'] = 12\n",
    "mpl.rcParams['ytick.labelsize'] = 12\n",
    "mpl.rcParams['legend.fontsize'] = 12\n",
    "mpl.rcParams['figure.figsize'] = [8, 16/3]"
   ]
  },
  {
   "cell_type": "markdown",
   "metadata": {},
   "source": [
    "### converting ladder to nts"
   ]
  },
  {
   "cell_type": "code",
   "execution_count": 38,
   "metadata": {},
   "outputs": [],
   "source": [
    "data_dir = './raw_data/'\n",
    "fig_dir = './plots/'\n",
    "processed_dir = './processed_data/'"
   ]
  },
  {
   "cell_type": "code",
   "execution_count": 44,
   "metadata": {},
   "outputs": [
    {
     "data": {
      "text/plain": [
       "'\\n    Plotting and identifying peaks from the ladder traces from BioAnalyzer.\\n    Must be done per chip/run, since ladders may elute at slightly different times per run.\\n    Generates plots that shows identified peaks.\\n    As of 11-30-2020, should identify 6 peaks.\\n    '"
      ]
     },
     "execution_count": 44,
     "metadata": {},
     "output_type": "execute_result"
    },
    {
     "data": {
      "text/plain": [
       "[<matplotlib.lines.Line2D at 0x7fa9f0f9cc90>]"
      ]
     },
     "execution_count": 44,
     "metadata": {},
     "output_type": "execute_result"
    },
    {
     "data": {
      "text/plain": [
       "[<matplotlib.lines.Line2D at 0x7fa9f0fe9e90>]"
      ]
     },
     "execution_count": 44,
     "metadata": {},
     "output_type": "execute_result"
    },
    {
     "data": {
      "text/plain": [
       "Text(0.5, 1.0, 'Ladder Peaks: Eukaryote Total RNA Nano_2020-11-24_11-30-28')"
      ]
     },
     "execution_count": 44,
     "metadata": {},
     "output_type": "execute_result"
    },
    {
     "data": {
      "text/plain": [
       "<matplotlib.legend.Legend at 0x7fa9f09edbd0>"
      ]
     },
     "execution_count": 44,
     "metadata": {},
     "output_type": "execute_result"
    },
    {
     "data": {
      "text/plain": [
       "Text(0.5, 0, 'Time')"
      ]
     },
     "execution_count": 44,
     "metadata": {},
     "output_type": "execute_result"
    },
    {
     "data": {
      "text/plain": [
       "Text(0, 0.5, 'FU')"
      ]
     },
     "execution_count": 44,
     "metadata": {},
     "output_type": "execute_result"
    },
    {
     "data": {
      "text/plain": [
       "(array([10., 20., 30., 40., 50., 60., 70., 80.]),\n",
       " <a list of 8 Text major ticklabel objects>)"
      ]
     },
     "execution_count": 44,
     "metadata": {},
     "output_type": "execute_result"
    },
    {
     "data": {
      "text/plain": [
       "(array([-2.5,  0. ,  2.5,  5. ,  7.5, 10. , 12.5, 15. , 17.5, 20. ]),\n",
       " <a list of 10 Text major ticklabel objects>)"
      ]
     },
     "execution_count": 44,
     "metadata": {},
     "output_type": "execute_result"
    },
    {
     "data": {
      "text/plain": [
       "'\\n    Converting times (elution times from BioAnalyzer) to nucleotides using\\n    a 4th order polynomial fit\\n    '"
      ]
     },
     "execution_count": 44,
     "metadata": {},
     "output_type": "execute_result"
    },
    {
     "data": {
      "text/plain": [
       "[<matplotlib.lines.Line2D at 0x7fa9e0743510>]"
      ]
     },
     "execution_count": 44,
     "metadata": {},
     "output_type": "execute_result"
    },
    {
     "data": {
      "text/plain": [
       "[<matplotlib.lines.Line2D at 0x7fa9f0fe9450>]"
      ]
     },
     "execution_count": 44,
     "metadata": {},
     "output_type": "execute_result"
    },
    {
     "data": {
      "text/plain": [
       "Text(0, 0.5, 'Calculated nts (from time)')"
      ]
     },
     "execution_count": 44,
     "metadata": {},
     "output_type": "execute_result"
    },
    {
     "data": {
      "text/plain": [
       "Text(0.5, 0, 'Ladder nts')"
      ]
     },
     "execution_count": 44,
     "metadata": {},
     "output_type": "execute_result"
    },
    {
     "data": {
      "text/plain": [
       "(array([-500.,    0.,  500., 1000., 1500., 2000., 2500., 3000., 3500.,\n",
       "        4000., 4500.]),\n",
       " <a list of 11 Text major ticklabel objects>)"
      ]
     },
     "execution_count": 44,
     "metadata": {},
     "output_type": "execute_result"
    },
    {
     "data": {
      "text/plain": [
       "(array([-500.,    0.,  500., 1000., 1500., 2000., 2500., 3000., 3500.,\n",
       "        4000., 4500.]),\n",
       " <a list of 11 Text major ticklabel objects>)"
      ]
     },
     "execution_count": 44,
     "metadata": {},
     "output_type": "execute_result"
    },
    {
     "data": {
      "text/plain": [
       "Text(0.5, 1.0, 'Ladder polynomial fit: Eukaryote Total RNA Nano_2020-11-24_11-30-28')"
      ]
     },
     "execution_count": 44,
     "metadata": {},
     "output_type": "execute_result"
    },
    {
     "data": {
      "text/plain": [
       "<matplotlib.legend.Legend at 0x7fa9e05e9dd0>"
      ]
     },
     "execution_count": 44,
     "metadata": {},
     "output_type": "execute_result"
    },
    {
     "data": {
      "text/plain": [
       "'\\n    Applying fits to samples as well, per ladder\\n    '"
      ]
     },
     "execution_count": 44,
     "metadata": {},
     "output_type": "execute_result"
    },
    {
     "name": "stdout",
     "output_type": "stream",
     "text": [
      "Eukaryote Total RNA Nano_2020-11-24_11-30-28_Sample1.csv\n",
      "Eukaryote Total RNA Nano_2020-11-24_11-30-28_Sample2.csv\n",
      "Eukaryote Total RNA Nano_2020-11-24_11-30-28_Sample3.csv\n",
      "Eukaryote Total RNA Nano_2020-11-24_11-30-28_Sample4.csv\n",
      "Eukaryote Total RNA Nano_2020-11-24_11-30-28_Sample5.csv\n",
      "Eukaryote Total RNA Nano_2020-11-24_11-30-28_Sample6.csv\n",
      "Eukaryote Total RNA Nano_2020-11-24_11-30-28_Sample7.csv\n",
      "Eukaryote Total RNA Nano_2020-11-24_11-30-28_Sample8.csv\n",
      "Eukaryote Total RNA Nano_2020-11-24_11-30-28_Sample9.csv\n",
      "Eukaryote Total RNA Nano_2020-11-24_11-30-28_Sample10.csv\n",
      "Eukaryote Total RNA Nano_2020-11-24_11-30-28_Sample11.csv\n",
      "Eukaryote Total RNA Nano_2020-11-24_11-30-28_Sample12.csv\n"
     ]
    },
    {
     "data": {
      "text/plain": [
       "'\\n    Plotting and identifying peaks from the ladder traces from BioAnalyzer.\\n    Must be done per chip/run, since ladders may elute at slightly different times per run.\\n    Generates plots that shows identified peaks.\\n    As of 11-30-2020, should identify 6 peaks.\\n    '"
      ]
     },
     "execution_count": 44,
     "metadata": {},
     "output_type": "execute_result"
    },
    {
     "data": {
      "text/plain": [
       "[<matplotlib.lines.Line2D at 0x7fa9e07e54d0>]"
      ]
     },
     "execution_count": 44,
     "metadata": {},
     "output_type": "execute_result"
    },
    {
     "data": {
      "text/plain": [
       "[<matplotlib.lines.Line2D at 0x7fa9e07e5090>]"
      ]
     },
     "execution_count": 44,
     "metadata": {},
     "output_type": "execute_result"
    },
    {
     "data": {
      "text/plain": [
       "Text(0.5, 1.0, 'Ladder Peaks: Eukaryote Total RNA Nano_2020-11-24_11-37-12')"
      ]
     },
     "execution_count": 44,
     "metadata": {},
     "output_type": "execute_result"
    },
    {
     "data": {
      "text/plain": [
       "<matplotlib.legend.Legend at 0x7fa9e073b110>"
      ]
     },
     "execution_count": 44,
     "metadata": {},
     "output_type": "execute_result"
    },
    {
     "data": {
      "text/plain": [
       "Text(0.5, 0, 'Time')"
      ]
     },
     "execution_count": 44,
     "metadata": {},
     "output_type": "execute_result"
    },
    {
     "data": {
      "text/plain": [
       "Text(0, 0.5, 'FU')"
      ]
     },
     "execution_count": 44,
     "metadata": {},
     "output_type": "execute_result"
    },
    {
     "data": {
      "text/plain": [
       "(array([10., 20., 30., 40., 50., 60., 70., 80.]),\n",
       " <a list of 8 Text major ticklabel objects>)"
      ]
     },
     "execution_count": 44,
     "metadata": {},
     "output_type": "execute_result"
    },
    {
     "data": {
      "text/plain": [
       "(array([-2.5,  0. ,  2.5,  5. ,  7.5, 10. , 12.5, 15. , 17.5, 20. ]),\n",
       " <a list of 10 Text major ticklabel objects>)"
      ]
     },
     "execution_count": 44,
     "metadata": {},
     "output_type": "execute_result"
    },
    {
     "data": {
      "text/plain": [
       "'\\n    Converting times (elution times from BioAnalyzer) to nucleotides using\\n    a 4th order polynomial fit\\n    '"
      ]
     },
     "execution_count": 44,
     "metadata": {},
     "output_type": "execute_result"
    },
    {
     "data": {
      "text/plain": [
       "[<matplotlib.lines.Line2D at 0x7fa9f0f55990>]"
      ]
     },
     "execution_count": 44,
     "metadata": {},
     "output_type": "execute_result"
    },
    {
     "data": {
      "text/plain": [
       "[<matplotlib.lines.Line2D at 0x7fa9f0ecca50>]"
      ]
     },
     "execution_count": 44,
     "metadata": {},
     "output_type": "execute_result"
    },
    {
     "data": {
      "text/plain": [
       "Text(0, 0.5, 'Calculated nts (from time)')"
      ]
     },
     "execution_count": 44,
     "metadata": {},
     "output_type": "execute_result"
    },
    {
     "data": {
      "text/plain": [
       "Text(0.5, 0, 'Ladder nts')"
      ]
     },
     "execution_count": 44,
     "metadata": {},
     "output_type": "execute_result"
    },
    {
     "data": {
      "text/plain": [
       "(array([-500.,    0.,  500., 1000., 1500., 2000., 2500., 3000., 3500.,\n",
       "        4000., 4500.]),\n",
       " <a list of 11 Text major ticklabel objects>)"
      ]
     },
     "execution_count": 44,
     "metadata": {},
     "output_type": "execute_result"
    },
    {
     "data": {
      "text/plain": [
       "(array([-500.,    0.,  500., 1000., 1500., 2000., 2500., 3000., 3500.,\n",
       "        4000., 4500.]),\n",
       " <a list of 11 Text major ticklabel objects>)"
      ]
     },
     "execution_count": 44,
     "metadata": {},
     "output_type": "execute_result"
    },
    {
     "data": {
      "text/plain": [
       "Text(0.5, 1.0, 'Ladder polynomial fit: Eukaryote Total RNA Nano_2020-11-24_11-37-12')"
      ]
     },
     "execution_count": 44,
     "metadata": {},
     "output_type": "execute_result"
    },
    {
     "data": {
      "text/plain": [
       "<matplotlib.legend.Legend at 0x7fa9f0fc30d0>"
      ]
     },
     "execution_count": 44,
     "metadata": {},
     "output_type": "execute_result"
    },
    {
     "data": {
      "text/plain": [
       "'\\n    Applying fits to samples as well, per ladder\\n    '"
      ]
     },
     "execution_count": 44,
     "metadata": {},
     "output_type": "execute_result"
    },
    {
     "name": "stdout",
     "output_type": "stream",
     "text": [
      "Eukaryote Total RNA Nano_2020-11-24_11-37-12_Sample1.csv\n",
      "Eukaryote Total RNA Nano_2020-11-24_11-37-12_Sample2.csv\n",
      "Eukaryote Total RNA Nano_2020-11-24_11-37-12_Sample3.csv\n",
      "Eukaryote Total RNA Nano_2020-11-24_11-37-12_Sample4.csv\n",
      "Eukaryote Total RNA Nano_2020-11-24_11-37-12_Sample5.csv\n",
      "Eukaryote Total RNA Nano_2020-11-24_11-37-12_Sample6.csv\n",
      "Eukaryote Total RNA Nano_2020-11-24_11-37-12_Sample7.csv\n",
      "Eukaryote Total RNA Nano_2020-11-24_11-37-12_Sample8.csv\n",
      "Eukaryote Total RNA Nano_2020-11-24_11-37-12_Sample9.csv\n",
      "Eukaryote Total RNA Nano_2020-11-24_11-37-12_Sample10.csv\n",
      "Eukaryote Total RNA Nano_2020-11-24_11-37-12_Sample11.csv\n",
      "Eukaryote Total RNA Nano_2020-11-24_11-37-12_Sample12.csv\n"
     ]
    },
    {
     "data": {
      "text/plain": [
       "'\\n    Plotting and identifying peaks from the ladder traces from BioAnalyzer.\\n    Must be done per chip/run, since ladders may elute at slightly different times per run.\\n    Generates plots that shows identified peaks.\\n    As of 11-30-2020, should identify 6 peaks.\\n    '"
      ]
     },
     "execution_count": 44,
     "metadata": {},
     "output_type": "execute_result"
    },
    {
     "data": {
      "text/plain": [
       "[<matplotlib.lines.Line2D at 0x7fa9f0f9cbd0>]"
      ]
     },
     "execution_count": 44,
     "metadata": {},
     "output_type": "execute_result"
    },
    {
     "data": {
      "text/plain": [
       "[<matplotlib.lines.Line2D at 0x7faa219d0c10>]"
      ]
     },
     "execution_count": 44,
     "metadata": {},
     "output_type": "execute_result"
    },
    {
     "data": {
      "text/plain": [
       "Text(0.5, 1.0, 'Ladder Peaks: Eukaryote Total RNA Nano_2020-11-24_11-55-27')"
      ]
     },
     "execution_count": 44,
     "metadata": {},
     "output_type": "execute_result"
    },
    {
     "data": {
      "text/plain": [
       "<matplotlib.legend.Legend at 0x7fa9e0a12890>"
      ]
     },
     "execution_count": 44,
     "metadata": {},
     "output_type": "execute_result"
    },
    {
     "data": {
      "text/plain": [
       "Text(0.5, 0, 'Time')"
      ]
     },
     "execution_count": 44,
     "metadata": {},
     "output_type": "execute_result"
    },
    {
     "data": {
      "text/plain": [
       "Text(0, 0.5, 'FU')"
      ]
     },
     "execution_count": 44,
     "metadata": {},
     "output_type": "execute_result"
    },
    {
     "data": {
      "text/plain": [
       "(array([10., 20., 30., 40., 50., 60., 70., 80.]),\n",
       " <a list of 8 Text major ticklabel objects>)"
      ]
     },
     "execution_count": 44,
     "metadata": {},
     "output_type": "execute_result"
    },
    {
     "data": {
      "text/plain": [
       "(array([-2.,  0.,  2.,  4.,  6.,  8., 10., 12., 14.]),\n",
       " <a list of 9 Text major ticklabel objects>)"
      ]
     },
     "execution_count": 44,
     "metadata": {},
     "output_type": "execute_result"
    },
    {
     "data": {
      "text/plain": [
       "'\\n    Converting times (elution times from BioAnalyzer) to nucleotides using\\n    a 4th order polynomial fit\\n    '"
      ]
     },
     "execution_count": 44,
     "metadata": {},
     "output_type": "execute_result"
    },
    {
     "data": {
      "text/plain": [
       "[<matplotlib.lines.Line2D at 0x7fa9f0f9cdd0>]"
      ]
     },
     "execution_count": 44,
     "metadata": {},
     "output_type": "execute_result"
    },
    {
     "data": {
      "text/plain": [
       "[<matplotlib.lines.Line2D at 0x7faa01416910>]"
      ]
     },
     "execution_count": 44,
     "metadata": {},
     "output_type": "execute_result"
    },
    {
     "data": {
      "text/plain": [
       "Text(0, 0.5, 'Calculated nts (from time)')"
      ]
     },
     "execution_count": 44,
     "metadata": {},
     "output_type": "execute_result"
    },
    {
     "data": {
      "text/plain": [
       "Text(0.5, 0, 'Ladder nts')"
      ]
     },
     "execution_count": 44,
     "metadata": {},
     "output_type": "execute_result"
    },
    {
     "data": {
      "text/plain": [
       "(array([-500.,    0.,  500., 1000., 1500., 2000., 2500., 3000., 3500.,\n",
       "        4000., 4500.]),\n",
       " <a list of 11 Text major ticklabel objects>)"
      ]
     },
     "execution_count": 44,
     "metadata": {},
     "output_type": "execute_result"
    },
    {
     "data": {
      "text/plain": [
       "(array([-500.,    0.,  500., 1000., 1500., 2000., 2500., 3000., 3500.,\n",
       "        4000., 4500.]),\n",
       " <a list of 11 Text major ticklabel objects>)"
      ]
     },
     "execution_count": 44,
     "metadata": {},
     "output_type": "execute_result"
    },
    {
     "data": {
      "text/plain": [
       "Text(0.5, 1.0, 'Ladder polynomial fit: Eukaryote Total RNA Nano_2020-11-24_11-55-27')"
      ]
     },
     "execution_count": 44,
     "metadata": {},
     "output_type": "execute_result"
    },
    {
     "data": {
      "text/plain": [
       "<matplotlib.legend.Legend at 0x7fa9e068c7d0>"
      ]
     },
     "execution_count": 44,
     "metadata": {},
     "output_type": "execute_result"
    },
    {
     "data": {
      "text/plain": [
       "'\\n    Applying fits to samples as well, per ladder\\n    '"
      ]
     },
     "execution_count": 44,
     "metadata": {},
     "output_type": "execute_result"
    },
    {
     "name": "stdout",
     "output_type": "stream",
     "text": [
      "Eukaryote Total RNA Nano_2020-11-24_11-55-27_Sample1.csv\n",
      "Eukaryote Total RNA Nano_2020-11-24_11-55-27_Sample2.csv\n",
      "Eukaryote Total RNA Nano_2020-11-24_11-55-27_Sample3.csv\n",
      "Eukaryote Total RNA Nano_2020-11-24_11-55-27_Sample4.csv\n",
      "Eukaryote Total RNA Nano_2020-11-24_11-55-27_Sample5.csv\n",
      "Eukaryote Total RNA Nano_2020-11-24_11-55-27_Sample6.csv\n",
      "Eukaryote Total RNA Nano_2020-11-24_11-55-27_Sample7.csv\n",
      "Eukaryote Total RNA Nano_2020-11-24_11-55-27_Sample8.csv\n",
      "Eukaryote Total RNA Nano_2020-11-24_11-55-27_Sample9.csv\n",
      "Eukaryote Total RNA Nano_2020-11-24_11-55-27_Sample10.csv\n",
      "Eukaryote Total RNA Nano_2020-11-24_11-55-27_Sample11.csv\n",
      "Eukaryote Total RNA Nano_2020-11-24_11-55-27_Sample12.csv\n"
     ]
    },
    {
     "data": {
      "text/plain": [
       "'\\n    Plotting and identifying peaks from the ladder traces from BioAnalyzer.\\n    Must be done per chip/run, since ladders may elute at slightly different times per run.\\n    Generates plots that shows identified peaks.\\n    As of 11-30-2020, should identify 6 peaks.\\n    '"
      ]
     },
     "execution_count": 44,
     "metadata": {},
     "output_type": "execute_result"
    },
    {
     "data": {
      "text/plain": [
       "[<matplotlib.lines.Line2D at 0x7fa9f0fdd790>]"
      ]
     },
     "execution_count": 44,
     "metadata": {},
     "output_type": "execute_result"
    },
    {
     "data": {
      "text/plain": [
       "[<matplotlib.lines.Line2D at 0x7fa9f0fdd510>]"
      ]
     },
     "execution_count": 44,
     "metadata": {},
     "output_type": "execute_result"
    },
    {
     "data": {
      "text/plain": [
       "Text(0.5, 1.0, 'Ladder Peaks: Eukaryote Total RNA Nano_2020-11-24_12-02-25')"
      ]
     },
     "execution_count": 44,
     "metadata": {},
     "output_type": "execute_result"
    },
    {
     "data": {
      "text/plain": [
       "<matplotlib.legend.Legend at 0x7fa9f0fdd910>"
      ]
     },
     "execution_count": 44,
     "metadata": {},
     "output_type": "execute_result"
    },
    {
     "data": {
      "text/plain": [
       "Text(0.5, 0, 'Time')"
      ]
     },
     "execution_count": 44,
     "metadata": {},
     "output_type": "execute_result"
    },
    {
     "data": {
      "text/plain": [
       "Text(0, 0.5, 'FU')"
      ]
     },
     "execution_count": 44,
     "metadata": {},
     "output_type": "execute_result"
    },
    {
     "data": {
      "text/plain": [
       "(array([10., 20., 30., 40., 50., 60., 70., 80.]),\n",
       " <a list of 8 Text major ticklabel objects>)"
      ]
     },
     "execution_count": 44,
     "metadata": {},
     "output_type": "execute_result"
    },
    {
     "data": {
      "text/plain": [
       "(array([-2.5,  0. ,  2.5,  5. ,  7.5, 10. , 12.5, 15. , 17.5, 20. ]),\n",
       " <a list of 10 Text major ticklabel objects>)"
      ]
     },
     "execution_count": 44,
     "metadata": {},
     "output_type": "execute_result"
    },
    {
     "data": {
      "text/plain": [
       "'\\n    Converting times (elution times from BioAnalyzer) to nucleotides using\\n    a 4th order polynomial fit\\n    '"
      ]
     },
     "execution_count": 44,
     "metadata": {},
     "output_type": "execute_result"
    },
    {
     "data": {
      "text/plain": [
       "[<matplotlib.lines.Line2D at 0x7fa9f103b3d0>]"
      ]
     },
     "execution_count": 44,
     "metadata": {},
     "output_type": "execute_result"
    },
    {
     "data": {
      "text/plain": [
       "[<matplotlib.lines.Line2D at 0x7faa21faa390>]"
      ]
     },
     "execution_count": 44,
     "metadata": {},
     "output_type": "execute_result"
    },
    {
     "data": {
      "text/plain": [
       "Text(0, 0.5, 'Calculated nts (from time)')"
      ]
     },
     "execution_count": 44,
     "metadata": {},
     "output_type": "execute_result"
    },
    {
     "data": {
      "text/plain": [
       "Text(0.5, 0, 'Ladder nts')"
      ]
     },
     "execution_count": 44,
     "metadata": {},
     "output_type": "execute_result"
    },
    {
     "data": {
      "text/plain": [
       "(array([-500.,    0.,  500., 1000., 1500., 2000., 2500., 3000., 3500.,\n",
       "        4000., 4500.]),\n",
       " <a list of 11 Text major ticklabel objects>)"
      ]
     },
     "execution_count": 44,
     "metadata": {},
     "output_type": "execute_result"
    },
    {
     "data": {
      "text/plain": [
       "(array([-500.,    0.,  500., 1000., 1500., 2000., 2500., 3000., 3500.,\n",
       "        4000., 4500.]),\n",
       " <a list of 11 Text major ticklabel objects>)"
      ]
     },
     "execution_count": 44,
     "metadata": {},
     "output_type": "execute_result"
    },
    {
     "data": {
      "text/plain": [
       "Text(0.5, 1.0, 'Ladder polynomial fit: Eukaryote Total RNA Nano_2020-11-24_12-02-25')"
      ]
     },
     "execution_count": 44,
     "metadata": {},
     "output_type": "execute_result"
    },
    {
     "data": {
      "text/plain": [
       "<matplotlib.legend.Legend at 0x7faa3061af10>"
      ]
     },
     "execution_count": 44,
     "metadata": {},
     "output_type": "execute_result"
    },
    {
     "data": {
      "text/plain": [
       "'\\n    Applying fits to samples as well, per ladder\\n    '"
      ]
     },
     "execution_count": 44,
     "metadata": {},
     "output_type": "execute_result"
    },
    {
     "name": "stdout",
     "output_type": "stream",
     "text": [
      "Eukaryote Total RNA Nano_2020-11-24_12-02-25_Sample1.csv\n",
      "Eukaryote Total RNA Nano_2020-11-24_12-02-25_Sample2.csv\n",
      "Eukaryote Total RNA Nano_2020-11-24_12-02-25_Sample3.csv\n",
      "Eukaryote Total RNA Nano_2020-11-24_12-02-25_Sample4.csv\n",
      "Eukaryote Total RNA Nano_2020-11-24_12-02-25_Sample5.csv\n",
      "Eukaryote Total RNA Nano_2020-11-24_12-02-25_Sample6.csv\n",
      "Eukaryote Total RNA Nano_2020-11-24_12-02-25_Sample7.csv\n",
      "Eukaryote Total RNA Nano_2020-11-24_12-02-25_Sample8.csv\n",
      "Eukaryote Total RNA Nano_2020-11-24_12-02-25_Sample9.csv\n",
      "Eukaryote Total RNA Nano_2020-11-24_12-02-25_Sample10.csv\n",
      "Eukaryote Total RNA Nano_2020-11-24_12-02-25_Sample11.csv\n",
      "Eukaryote Total RNA Nano_2020-11-24_12-02-25_Sample12.csv\n"
     ]
    },
    {
     "data": {
      "text/plain": [
       "'\\n    Plotting and identifying peaks from the ladder traces from BioAnalyzer.\\n    Must be done per chip/run, since ladders may elute at slightly different times per run.\\n    Generates plots that shows identified peaks.\\n    As of 11-30-2020, should identify 6 peaks.\\n    '"
      ]
     },
     "execution_count": 44,
     "metadata": {},
     "output_type": "execute_result"
    },
    {
     "data": {
      "text/plain": [
       "[<matplotlib.lines.Line2D at 0x7fa9f0ecca90>]"
      ]
     },
     "execution_count": 44,
     "metadata": {},
     "output_type": "execute_result"
    },
    {
     "data": {
      "text/plain": [
       "[<matplotlib.lines.Line2D at 0x7faa216f6690>]"
      ]
     },
     "execution_count": 44,
     "metadata": {},
     "output_type": "execute_result"
    },
    {
     "data": {
      "text/plain": [
       "Text(0.5, 1.0, 'Ladder Peaks: Eukaryote Total RNA Nano_2020-11-24_12-16-31')"
      ]
     },
     "execution_count": 44,
     "metadata": {},
     "output_type": "execute_result"
    },
    {
     "data": {
      "text/plain": [
       "<matplotlib.legend.Legend at 0x7faa21ff1b90>"
      ]
     },
     "execution_count": 44,
     "metadata": {},
     "output_type": "execute_result"
    },
    {
     "data": {
      "text/plain": [
       "Text(0.5, 0, 'Time')"
      ]
     },
     "execution_count": 44,
     "metadata": {},
     "output_type": "execute_result"
    },
    {
     "data": {
      "text/plain": [
       "Text(0, 0.5, 'FU')"
      ]
     },
     "execution_count": 44,
     "metadata": {},
     "output_type": "execute_result"
    },
    {
     "data": {
      "text/plain": [
       "(array([10., 20., 30., 40., 50., 60., 70., 80.]),\n",
       " <a list of 8 Text major ticklabel objects>)"
      ]
     },
     "execution_count": 44,
     "metadata": {},
     "output_type": "execute_result"
    },
    {
     "data": {
      "text/plain": [
       "(array([-2.,  0.,  2.,  4.,  6.,  8., 10., 12., 14., 16.]),\n",
       " <a list of 10 Text major ticklabel objects>)"
      ]
     },
     "execution_count": 44,
     "metadata": {},
     "output_type": "execute_result"
    },
    {
     "data": {
      "text/plain": [
       "'\\n    Converting times (elution times from BioAnalyzer) to nucleotides using\\n    a 4th order polynomial fit\\n    '"
      ]
     },
     "execution_count": 44,
     "metadata": {},
     "output_type": "execute_result"
    },
    {
     "data": {
      "text/plain": [
       "[<matplotlib.lines.Line2D at 0x7fa9d03bba50>]"
      ]
     },
     "execution_count": 44,
     "metadata": {},
     "output_type": "execute_result"
    },
    {
     "data": {
      "text/plain": [
       "[<matplotlib.lines.Line2D at 0x7faa01447e50>]"
      ]
     },
     "execution_count": 44,
     "metadata": {},
     "output_type": "execute_result"
    },
    {
     "data": {
      "text/plain": [
       "Text(0, 0.5, 'Calculated nts (from time)')"
      ]
     },
     "execution_count": 44,
     "metadata": {},
     "output_type": "execute_result"
    },
    {
     "data": {
      "text/plain": [
       "Text(0.5, 0, 'Ladder nts')"
      ]
     },
     "execution_count": 44,
     "metadata": {},
     "output_type": "execute_result"
    },
    {
     "data": {
      "text/plain": [
       "(array([-500.,    0.,  500., 1000., 1500., 2000., 2500., 3000., 3500.,\n",
       "        4000., 4500.]),\n",
       " <a list of 11 Text major ticklabel objects>)"
      ]
     },
     "execution_count": 44,
     "metadata": {},
     "output_type": "execute_result"
    },
    {
     "data": {
      "text/plain": [
       "(array([-500.,    0.,  500., 1000., 1500., 2000., 2500., 3000., 3500.,\n",
       "        4000., 4500.]),\n",
       " <a list of 11 Text major ticklabel objects>)"
      ]
     },
     "execution_count": 44,
     "metadata": {},
     "output_type": "execute_result"
    },
    {
     "data": {
      "text/plain": [
       "Text(0.5, 1.0, 'Ladder polynomial fit: Eukaryote Total RNA Nano_2020-11-24_12-16-31')"
      ]
     },
     "execution_count": 44,
     "metadata": {},
     "output_type": "execute_result"
    },
    {
     "data": {
      "text/plain": [
       "<matplotlib.legend.Legend at 0x7faa013f3110>"
      ]
     },
     "execution_count": 44,
     "metadata": {},
     "output_type": "execute_result"
    },
    {
     "data": {
      "text/plain": [
       "'\\n    Applying fits to samples as well, per ladder\\n    '"
      ]
     },
     "execution_count": 44,
     "metadata": {},
     "output_type": "execute_result"
    },
    {
     "name": "stdout",
     "output_type": "stream",
     "text": [
      "Eukaryote Total RNA Nano_2020-11-24_12-16-31_Sample1.csv\n",
      "Eukaryote Total RNA Nano_2020-11-24_12-16-31_Sample2.csv\n",
      "Eukaryote Total RNA Nano_2020-11-24_12-16-31_Sample3.csv\n",
      "Eukaryote Total RNA Nano_2020-11-24_12-16-31_Sample4.csv\n",
      "Eukaryote Total RNA Nano_2020-11-24_12-16-31_Sample5.csv\n",
      "Eukaryote Total RNA Nano_2020-11-24_12-16-31_Sample6.csv\n",
      "Eukaryote Total RNA Nano_2020-11-24_12-16-31_Sample7.csv\n",
      "Eukaryote Total RNA Nano_2020-11-24_12-16-31_Sample8.csv\n",
      "Eukaryote Total RNA Nano_2020-11-24_12-16-31_Sample9.csv\n",
      "Eukaryote Total RNA Nano_2020-11-24_12-16-31_Sample10.csv\n",
      "Eukaryote Total RNA Nano_2020-11-24_12-16-31_Sample11.csv\n",
      "Eukaryote Total RNA Nano_2020-11-24_12-16-31_Sample12.csv\n"
     ]
    },
    {
     "data": {
      "text/plain": [
       "'\\n    Plotting and identifying peaks from the ladder traces from BioAnalyzer.\\n    Must be done per chip/run, since ladders may elute at slightly different times per run.\\n    Generates plots that shows identified peaks.\\n    As of 11-30-2020, should identify 6 peaks.\\n    '"
      ]
     },
     "execution_count": 44,
     "metadata": {},
     "output_type": "execute_result"
    },
    {
     "data": {
      "text/plain": [
       "[<matplotlib.lines.Line2D at 0x7faa21efc890>]"
      ]
     },
     "execution_count": 44,
     "metadata": {},
     "output_type": "execute_result"
    },
    {
     "data": {
      "text/plain": [
       "[<matplotlib.lines.Line2D at 0x7faa21efcb90>]"
      ]
     },
     "execution_count": 44,
     "metadata": {},
     "output_type": "execute_result"
    },
    {
     "data": {
      "text/plain": [
       "Text(0.5, 1.0, 'Ladder Peaks: Eukaryote Total RNA Nano_2020-11-24_12-22-23')"
      ]
     },
     "execution_count": 44,
     "metadata": {},
     "output_type": "execute_result"
    },
    {
     "data": {
      "text/plain": [
       "<matplotlib.legend.Legend at 0x7fa9f0dc2290>"
      ]
     },
     "execution_count": 44,
     "metadata": {},
     "output_type": "execute_result"
    },
    {
     "data": {
      "text/plain": [
       "Text(0.5, 0, 'Time')"
      ]
     },
     "execution_count": 44,
     "metadata": {},
     "output_type": "execute_result"
    },
    {
     "data": {
      "text/plain": [
       "Text(0, 0.5, 'FU')"
      ]
     },
     "execution_count": 44,
     "metadata": {},
     "output_type": "execute_result"
    },
    {
     "data": {
      "text/plain": [
       "(array([10., 20., 30., 40., 50., 60., 70., 80.]),\n",
       " <a list of 8 Text major ticklabel objects>)"
      ]
     },
     "execution_count": 44,
     "metadata": {},
     "output_type": "execute_result"
    },
    {
     "data": {
      "text/plain": [
       "(array([-2.5,  0. ,  2.5,  5. ,  7.5, 10. , 12.5, 15. , 17.5, 20. ]),\n",
       " <a list of 10 Text major ticklabel objects>)"
      ]
     },
     "execution_count": 44,
     "metadata": {},
     "output_type": "execute_result"
    },
    {
     "data": {
      "text/plain": [
       "'\\n    Converting times (elution times from BioAnalyzer) to nucleotides using\\n    a 4th order polynomial fit\\n    '"
      ]
     },
     "execution_count": 44,
     "metadata": {},
     "output_type": "execute_result"
    },
    {
     "data": {
      "text/plain": [
       "[<matplotlib.lines.Line2D at 0x7fa9f10a5250>]"
      ]
     },
     "execution_count": 44,
     "metadata": {},
     "output_type": "execute_result"
    },
    {
     "data": {
      "text/plain": [
       "[<matplotlib.lines.Line2D at 0x7fa9e0619650>]"
      ]
     },
     "execution_count": 44,
     "metadata": {},
     "output_type": "execute_result"
    },
    {
     "data": {
      "text/plain": [
       "Text(0, 0.5, 'Calculated nts (from time)')"
      ]
     },
     "execution_count": 44,
     "metadata": {},
     "output_type": "execute_result"
    },
    {
     "data": {
      "text/plain": [
       "Text(0.5, 0, 'Ladder nts')"
      ]
     },
     "execution_count": 44,
     "metadata": {},
     "output_type": "execute_result"
    },
    {
     "data": {
      "text/plain": [
       "(array([-500.,    0.,  500., 1000., 1500., 2000., 2500., 3000., 3500.,\n",
       "        4000., 4500.]),\n",
       " <a list of 11 Text major ticklabel objects>)"
      ]
     },
     "execution_count": 44,
     "metadata": {},
     "output_type": "execute_result"
    },
    {
     "data": {
      "text/plain": [
       "(array([-500.,    0.,  500., 1000., 1500., 2000., 2500., 3000., 3500.,\n",
       "        4000., 4500.]),\n",
       " <a list of 11 Text major ticklabel objects>)"
      ]
     },
     "execution_count": 44,
     "metadata": {},
     "output_type": "execute_result"
    },
    {
     "data": {
      "text/plain": [
       "Text(0.5, 1.0, 'Ladder polynomial fit: Eukaryote Total RNA Nano_2020-11-24_12-22-23')"
      ]
     },
     "execution_count": 44,
     "metadata": {},
     "output_type": "execute_result"
    },
    {
     "data": {
      "text/plain": [
       "<matplotlib.legend.Legend at 0x7fa9f0f52250>"
      ]
     },
     "execution_count": 44,
     "metadata": {},
     "output_type": "execute_result"
    },
    {
     "data": {
      "text/plain": [
       "'\\n    Applying fits to samples as well, per ladder\\n    '"
      ]
     },
     "execution_count": 44,
     "metadata": {},
     "output_type": "execute_result"
    },
    {
     "name": "stdout",
     "output_type": "stream",
     "text": [
      "Eukaryote Total RNA Nano_2020-11-24_12-22-23_Sample1.csv\n",
      "Eukaryote Total RNA Nano_2020-11-24_12-22-23_Sample2.csv\n",
      "Eukaryote Total RNA Nano_2020-11-24_12-22-23_Sample3.csv\n",
      "Eukaryote Total RNA Nano_2020-11-24_12-22-23_Sample4.csv\n",
      "Eukaryote Total RNA Nano_2020-11-24_12-22-23_Sample5.csv\n",
      "Eukaryote Total RNA Nano_2020-11-24_12-22-23_Sample6.csv\n",
      "Eukaryote Total RNA Nano_2020-11-24_12-22-23_Sample7.csv\n",
      "Eukaryote Total RNA Nano_2020-11-24_12-22-23_Sample8.csv\n",
      "Eukaryote Total RNA Nano_2020-11-24_12-22-23_Sample9.csv\n",
      "Eukaryote Total RNA Nano_2020-11-24_12-22-23_Sample10.csv\n",
      "Eukaryote Total RNA Nano_2020-11-24_12-22-23_Sample11.csv\n",
      "Eukaryote Total RNA Nano_2020-11-24_12-22-23_Sample12.csv\n"
     ]
    },
    {
     "data": {
      "text/plain": [
       "'\\n    Plotting and identifying peaks from the ladder traces from BioAnalyzer.\\n    Must be done per chip/run, since ladders may elute at slightly different times per run.\\n    Generates plots that shows identified peaks.\\n    As of 11-30-2020, should identify 6 peaks.\\n    '"
      ]
     },
     "execution_count": 44,
     "metadata": {},
     "output_type": "execute_result"
    },
    {
     "data": {
      "text/plain": [
       "[<matplotlib.lines.Line2D at 0x7fa9f0ea9810>]"
      ]
     },
     "execution_count": 44,
     "metadata": {},
     "output_type": "execute_result"
    },
    {
     "data": {
      "text/plain": [
       "[<matplotlib.lines.Line2D at 0x7fa9f0f08cd0>]"
      ]
     },
     "execution_count": 44,
     "metadata": {},
     "output_type": "execute_result"
    },
    {
     "data": {
      "text/plain": [
       "Text(0.5, 1.0, 'Ladder Peaks: Eukaryote Total RNA Nano_2020-11-24_13-04-00')"
      ]
     },
     "execution_count": 44,
     "metadata": {},
     "output_type": "execute_result"
    },
    {
     "data": {
      "text/plain": [
       "<matplotlib.legend.Legend at 0x7fa9f08f14d0>"
      ]
     },
     "execution_count": 44,
     "metadata": {},
     "output_type": "execute_result"
    },
    {
     "data": {
      "text/plain": [
       "Text(0.5, 0, 'Time')"
      ]
     },
     "execution_count": 44,
     "metadata": {},
     "output_type": "execute_result"
    },
    {
     "data": {
      "text/plain": [
       "Text(0, 0.5, 'FU')"
      ]
     },
     "execution_count": 44,
     "metadata": {},
     "output_type": "execute_result"
    },
    {
     "data": {
      "text/plain": [
       "(array([10., 20., 30., 40., 50., 60., 70., 80.]),\n",
       " <a list of 8 Text major ticklabel objects>)"
      ]
     },
     "execution_count": 44,
     "metadata": {},
     "output_type": "execute_result"
    },
    {
     "data": {
      "text/plain": [
       "(array([-2.5,  0. ,  2.5,  5. ,  7.5, 10. , 12.5, 15. , 17.5, 20. ]),\n",
       " <a list of 10 Text major ticklabel objects>)"
      ]
     },
     "execution_count": 44,
     "metadata": {},
     "output_type": "execute_result"
    },
    {
     "data": {
      "text/plain": [
       "'\\n    Converting times (elution times from BioAnalyzer) to nucleotides using\\n    a 4th order polynomial fit\\n    '"
      ]
     },
     "execution_count": 44,
     "metadata": {},
     "output_type": "execute_result"
    },
    {
     "data": {
      "text/plain": [
       "[<matplotlib.lines.Line2D at 0x7fa9fa6604d0>]"
      ]
     },
     "execution_count": 44,
     "metadata": {},
     "output_type": "execute_result"
    },
    {
     "data": {
      "text/plain": [
       "[<matplotlib.lines.Line2D at 0x7fa9f0b3f8d0>]"
      ]
     },
     "execution_count": 44,
     "metadata": {},
     "output_type": "execute_result"
    },
    {
     "data": {
      "text/plain": [
       "Text(0, 0.5, 'Calculated nts (from time)')"
      ]
     },
     "execution_count": 44,
     "metadata": {},
     "output_type": "execute_result"
    },
    {
     "data": {
      "text/plain": [
       "Text(0.5, 0, 'Ladder nts')"
      ]
     },
     "execution_count": 44,
     "metadata": {},
     "output_type": "execute_result"
    },
    {
     "data": {
      "text/plain": [
       "(array([-500.,    0.,  500., 1000., 1500., 2000., 2500., 3000., 3500.,\n",
       "        4000., 4500.]),\n",
       " <a list of 11 Text major ticklabel objects>)"
      ]
     },
     "execution_count": 44,
     "metadata": {},
     "output_type": "execute_result"
    },
    {
     "data": {
      "text/plain": [
       "(array([-500.,    0.,  500., 1000., 1500., 2000., 2500., 3000., 3500.,\n",
       "        4000., 4500.]),\n",
       " <a list of 11 Text major ticklabel objects>)"
      ]
     },
     "execution_count": 44,
     "metadata": {},
     "output_type": "execute_result"
    },
    {
     "data": {
      "text/plain": [
       "Text(0.5, 1.0, 'Ladder polynomial fit: Eukaryote Total RNA Nano_2020-11-24_13-04-00')"
      ]
     },
     "execution_count": 44,
     "metadata": {},
     "output_type": "execute_result"
    },
    {
     "data": {
      "text/plain": [
       "<matplotlib.legend.Legend at 0x7fa9f0f52750>"
      ]
     },
     "execution_count": 44,
     "metadata": {},
     "output_type": "execute_result"
    },
    {
     "data": {
      "text/plain": [
       "'\\n    Applying fits to samples as well, per ladder\\n    '"
      ]
     },
     "execution_count": 44,
     "metadata": {},
     "output_type": "execute_result"
    },
    {
     "name": "stdout",
     "output_type": "stream",
     "text": [
      "Eukaryote Total RNA Nano_2020-11-24_13-04-00_Sample1.csv\n",
      "Eukaryote Total RNA Nano_2020-11-24_13-04-00_Sample2.csv\n",
      "Eukaryote Total RNA Nano_2020-11-24_13-04-00_Sample3.csv\n",
      "Eukaryote Total RNA Nano_2020-11-24_13-04-00_Sample4.csv\n",
      "Eukaryote Total RNA Nano_2020-11-24_13-04-00_Sample5.csv\n",
      "Eukaryote Total RNA Nano_2020-11-24_13-04-00_Sample6.csv\n",
      "Eukaryote Total RNA Nano_2020-11-24_13-04-00_Sample7.csv\n",
      "Eukaryote Total RNA Nano_2020-11-24_13-04-00_Sample8.csv\n",
      "Eukaryote Total RNA Nano_2020-11-24_13-04-00_Sample9.csv\n",
      "Eukaryote Total RNA Nano_2020-11-24_13-04-00_Sample10.csv\n",
      "Eukaryote Total RNA Nano_2020-11-24_13-04-00_Sample11.csv\n",
      "Eukaryote Total RNA Nano_2020-11-24_13-04-00_Sample12.csv\n"
     ]
    },
    {
     "data": {
      "text/plain": [
       "'\\n    Plotting and identifying peaks from the ladder traces from BioAnalyzer.\\n    Must be done per chip/run, since ladders may elute at slightly different times per run.\\n    Generates plots that shows identified peaks.\\n    As of 11-30-2020, should identify 6 peaks.\\n    '"
      ]
     },
     "execution_count": 44,
     "metadata": {},
     "output_type": "execute_result"
    },
    {
     "data": {
      "text/plain": [
       "[<matplotlib.lines.Line2D at 0x7fa9f0e2acd0>]"
      ]
     },
     "execution_count": 44,
     "metadata": {},
     "output_type": "execute_result"
    },
    {
     "data": {
      "text/plain": [
       "[<matplotlib.lines.Line2D at 0x7fa9f0e2a4d0>]"
      ]
     },
     "execution_count": 44,
     "metadata": {},
     "output_type": "execute_result"
    },
    {
     "data": {
      "text/plain": [
       "Text(0.5, 1.0, 'Ladder Peaks: Eukaryote Total RNA Nano_2020-11-24_13-12-23')"
      ]
     },
     "execution_count": 44,
     "metadata": {},
     "output_type": "execute_result"
    },
    {
     "data": {
      "text/plain": [
       "<matplotlib.legend.Legend at 0x7fa9f0978ed0>"
      ]
     },
     "execution_count": 44,
     "metadata": {},
     "output_type": "execute_result"
    },
    {
     "data": {
      "text/plain": [
       "Text(0.5, 0, 'Time')"
      ]
     },
     "execution_count": 44,
     "metadata": {},
     "output_type": "execute_result"
    },
    {
     "data": {
      "text/plain": [
       "Text(0, 0.5, 'FU')"
      ]
     },
     "execution_count": 44,
     "metadata": {},
     "output_type": "execute_result"
    },
    {
     "data": {
      "text/plain": [
       "(array([10., 20., 30., 40., 50., 60., 70., 80.]),\n",
       " <a list of 8 Text major ticklabel objects>)"
      ]
     },
     "execution_count": 44,
     "metadata": {},
     "output_type": "execute_result"
    },
    {
     "data": {
      "text/plain": [
       "(array([-2.5,  0. ,  2.5,  5. ,  7.5, 10. , 12.5, 15. , 17.5, 20. ]),\n",
       " <a list of 10 Text major ticklabel objects>)"
      ]
     },
     "execution_count": 44,
     "metadata": {},
     "output_type": "execute_result"
    },
    {
     "data": {
      "text/plain": [
       "'\\n    Converting times (elution times from BioAnalyzer) to nucleotides using\\n    a 4th order polynomial fit\\n    '"
      ]
     },
     "execution_count": 44,
     "metadata": {},
     "output_type": "execute_result"
    },
    {
     "data": {
      "text/plain": [
       "[<matplotlib.lines.Line2D at 0x7fa9e0a32bd0>]"
      ]
     },
     "execution_count": 44,
     "metadata": {},
     "output_type": "execute_result"
    },
    {
     "data": {
      "text/plain": [
       "[<matplotlib.lines.Line2D at 0x7fa9f0e6a6d0>]"
      ]
     },
     "execution_count": 44,
     "metadata": {},
     "output_type": "execute_result"
    },
    {
     "data": {
      "text/plain": [
       "Text(0, 0.5, 'Calculated nts (from time)')"
      ]
     },
     "execution_count": 44,
     "metadata": {},
     "output_type": "execute_result"
    },
    {
     "data": {
      "text/plain": [
       "Text(0.5, 0, 'Ladder nts')"
      ]
     },
     "execution_count": 44,
     "metadata": {},
     "output_type": "execute_result"
    },
    {
     "data": {
      "text/plain": [
       "(array([-500.,    0.,  500., 1000., 1500., 2000., 2500., 3000., 3500.,\n",
       "        4000., 4500.]),\n",
       " <a list of 11 Text major ticklabel objects>)"
      ]
     },
     "execution_count": 44,
     "metadata": {},
     "output_type": "execute_result"
    },
    {
     "data": {
      "text/plain": [
       "(array([-500.,    0.,  500., 1000., 1500., 2000., 2500., 3000., 3500.,\n",
       "        4000., 4500.]),\n",
       " <a list of 11 Text major ticklabel objects>)"
      ]
     },
     "execution_count": 44,
     "metadata": {},
     "output_type": "execute_result"
    },
    {
     "data": {
      "text/plain": [
       "Text(0.5, 1.0, 'Ladder polynomial fit: Eukaryote Total RNA Nano_2020-11-24_13-12-23')"
      ]
     },
     "execution_count": 44,
     "metadata": {},
     "output_type": "execute_result"
    },
    {
     "data": {
      "text/plain": [
       "<matplotlib.legend.Legend at 0x7fa9e0a19550>"
      ]
     },
     "execution_count": 44,
     "metadata": {},
     "output_type": "execute_result"
    },
    {
     "data": {
      "text/plain": [
       "'\\n    Applying fits to samples as well, per ladder\\n    '"
      ]
     },
     "execution_count": 44,
     "metadata": {},
     "output_type": "execute_result"
    },
    {
     "name": "stdout",
     "output_type": "stream",
     "text": [
      "Eukaryote Total RNA Nano_2020-11-24_13-12-23_Sample1.csv\n",
      "Eukaryote Total RNA Nano_2020-11-24_13-12-23_Sample2.csv\n",
      "Eukaryote Total RNA Nano_2020-11-24_13-12-23_Sample3.csv\n",
      "Eukaryote Total RNA Nano_2020-11-24_13-12-23_Sample4.csv\n",
      "Eukaryote Total RNA Nano_2020-11-24_13-12-23_Sample5.csv\n",
      "Eukaryote Total RNA Nano_2020-11-24_13-12-23_Sample6.csv\n",
      "Eukaryote Total RNA Nano_2020-11-24_13-12-23_Sample7.csv\n",
      "Eukaryote Total RNA Nano_2020-11-24_13-12-23_Sample8.csv\n",
      "Eukaryote Total RNA Nano_2020-11-24_13-12-23_Sample9.csv\n",
      "Eukaryote Total RNA Nano_2020-11-24_13-12-23_Sample10.csv\n",
      "Eukaryote Total RNA Nano_2020-11-24_13-12-23_Sample11.csv\n",
      "Eukaryote Total RNA Nano_2020-11-24_13-12-23_Sample12.csv\n"
     ]
    },
    {
     "data": {
      "text/plain": [
       "'\\n    Plotting and identifying peaks from the ladder traces from BioAnalyzer.\\n    Must be done per chip/run, since ladders may elute at slightly different times per run.\\n    Generates plots that shows identified peaks.\\n    As of 11-30-2020, should identify 6 peaks.\\n    '"
      ]
     },
     "execution_count": 44,
     "metadata": {},
     "output_type": "execute_result"
    },
    {
     "data": {
      "text/plain": [
       "[<matplotlib.lines.Line2D at 0x7fa9f0eef410>]"
      ]
     },
     "execution_count": 44,
     "metadata": {},
     "output_type": "execute_result"
    },
    {
     "data": {
      "text/plain": [
       "[<matplotlib.lines.Line2D at 0x7faa013d0110>]"
      ]
     },
     "execution_count": 44,
     "metadata": {},
     "output_type": "execute_result"
    },
    {
     "data": {
      "text/plain": [
       "Text(0.5, 1.0, 'Ladder Peaks: Eukaryote Total RNA Nano_2020-11-24_13-30-10')"
      ]
     },
     "execution_count": 44,
     "metadata": {},
     "output_type": "execute_result"
    },
    {
     "data": {
      "text/plain": [
       "<matplotlib.legend.Legend at 0x7fa9f08f1350>"
      ]
     },
     "execution_count": 44,
     "metadata": {},
     "output_type": "execute_result"
    },
    {
     "data": {
      "text/plain": [
       "Text(0.5, 0, 'Time')"
      ]
     },
     "execution_count": 44,
     "metadata": {},
     "output_type": "execute_result"
    },
    {
     "data": {
      "text/plain": [
       "Text(0, 0.5, 'FU')"
      ]
     },
     "execution_count": 44,
     "metadata": {},
     "output_type": "execute_result"
    },
    {
     "data": {
      "text/plain": [
       "(array([10., 20., 30., 40., 50., 60., 70., 80.]),\n",
       " <a list of 8 Text major ticklabel objects>)"
      ]
     },
     "execution_count": 44,
     "metadata": {},
     "output_type": "execute_result"
    },
    {
     "data": {
      "text/plain": [
       "(array([-2.5,  0. ,  2.5,  5. ,  7.5, 10. , 12.5, 15. , 17.5, 20. ]),\n",
       " <a list of 10 Text major ticklabel objects>)"
      ]
     },
     "execution_count": 44,
     "metadata": {},
     "output_type": "execute_result"
    },
    {
     "data": {
      "text/plain": [
       "'\\n    Converting times (elution times from BioAnalyzer) to nucleotides using\\n    a 4th order polynomial fit\\n    '"
      ]
     },
     "execution_count": 44,
     "metadata": {},
     "output_type": "execute_result"
    },
    {
     "data": {
      "text/plain": [
       "[<matplotlib.lines.Line2D at 0x7fa9f0947210>]"
      ]
     },
     "execution_count": 44,
     "metadata": {},
     "output_type": "execute_result"
    },
    {
     "data": {
      "text/plain": [
       "[<matplotlib.lines.Line2D at 0x7fa9f16a7390>]"
      ]
     },
     "execution_count": 44,
     "metadata": {},
     "output_type": "execute_result"
    },
    {
     "data": {
      "text/plain": [
       "Text(0, 0.5, 'Calculated nts (from time)')"
      ]
     },
     "execution_count": 44,
     "metadata": {},
     "output_type": "execute_result"
    },
    {
     "data": {
      "text/plain": [
       "Text(0.5, 0, 'Ladder nts')"
      ]
     },
     "execution_count": 44,
     "metadata": {},
     "output_type": "execute_result"
    },
    {
     "data": {
      "text/plain": [
       "(array([-500.,    0.,  500., 1000., 1500., 2000., 2500., 3000., 3500.,\n",
       "        4000., 4500.]),\n",
       " <a list of 11 Text major ticklabel objects>)"
      ]
     },
     "execution_count": 44,
     "metadata": {},
     "output_type": "execute_result"
    },
    {
     "data": {
      "text/plain": [
       "(array([-500.,    0.,  500., 1000., 1500., 2000., 2500., 3000., 3500.,\n",
       "        4000., 4500.]),\n",
       " <a list of 11 Text major ticklabel objects>)"
      ]
     },
     "execution_count": 44,
     "metadata": {},
     "output_type": "execute_result"
    },
    {
     "data": {
      "text/plain": [
       "Text(0.5, 1.0, 'Ladder polynomial fit: Eukaryote Total RNA Nano_2020-11-24_13-30-10')"
      ]
     },
     "execution_count": 44,
     "metadata": {},
     "output_type": "execute_result"
    },
    {
     "data": {
      "text/plain": [
       "<matplotlib.legend.Legend at 0x7fa9e0a207d0>"
      ]
     },
     "execution_count": 44,
     "metadata": {},
     "output_type": "execute_result"
    },
    {
     "data": {
      "text/plain": [
       "'\\n    Applying fits to samples as well, per ladder\\n    '"
      ]
     },
     "execution_count": 44,
     "metadata": {},
     "output_type": "execute_result"
    },
    {
     "name": "stdout",
     "output_type": "stream",
     "text": [
      "Eukaryote Total RNA Nano_2020-11-24_13-30-10_Sample1.csv\n",
      "Eukaryote Total RNA Nano_2020-11-24_13-30-10_Sample2.csv\n",
      "Eukaryote Total RNA Nano_2020-11-24_13-30-10_Sample3.csv\n",
      "Eukaryote Total RNA Nano_2020-11-24_13-30-10_Sample4.csv\n",
      "Eukaryote Total RNA Nano_2020-11-24_13-30-10_Sample5.csv\n",
      "Eukaryote Total RNA Nano_2020-11-24_13-30-10_Sample6.csv\n",
      "Eukaryote Total RNA Nano_2020-11-24_13-30-10_Sample7.csv\n",
      "Eukaryote Total RNA Nano_2020-11-24_13-30-10_Sample8.csv\n",
      "Eukaryote Total RNA Nano_2020-11-24_13-30-10_Sample9.csv\n",
      "Eukaryote Total RNA Nano_2020-11-24_13-30-10_Sample10.csv\n",
      "Eukaryote Total RNA Nano_2020-11-24_13-30-10_Sample11.csv\n",
      "Eukaryote Total RNA Nano_2020-11-24_13-30-10_Sample12.csv\n"
     ]
    },
    {
     "data": {
      "text/plain": [
       "'\\n    Plotting and identifying peaks from the ladder traces from BioAnalyzer.\\n    Must be done per chip/run, since ladders may elute at slightly different times per run.\\n    Generates plots that shows identified peaks.\\n    As of 11-30-2020, should identify 6 peaks.\\n    '"
      ]
     },
     "execution_count": 44,
     "metadata": {},
     "output_type": "execute_result"
    },
    {
     "data": {
      "text/plain": [
       "[<matplotlib.lines.Line2D at 0x7fa9f10ac550>]"
      ]
     },
     "execution_count": 44,
     "metadata": {},
     "output_type": "execute_result"
    },
    {
     "data": {
      "text/plain": [
       "[<matplotlib.lines.Line2D at 0x7fa9f10ac690>]"
      ]
     },
     "execution_count": 44,
     "metadata": {},
     "output_type": "execute_result"
    },
    {
     "data": {
      "text/plain": [
       "Text(0.5, 1.0, 'Ladder Peaks: Eukaryote Total RNA Nano_2020-11-24_13-37-35')"
      ]
     },
     "execution_count": 44,
     "metadata": {},
     "output_type": "execute_result"
    },
    {
     "data": {
      "text/plain": [
       "<matplotlib.legend.Legend at 0x7fa9f10ac890>"
      ]
     },
     "execution_count": 44,
     "metadata": {},
     "output_type": "execute_result"
    },
    {
     "data": {
      "text/plain": [
       "Text(0.5, 0, 'Time')"
      ]
     },
     "execution_count": 44,
     "metadata": {},
     "output_type": "execute_result"
    },
    {
     "data": {
      "text/plain": [
       "Text(0, 0.5, 'FU')"
      ]
     },
     "execution_count": 44,
     "metadata": {},
     "output_type": "execute_result"
    },
    {
     "data": {
      "text/plain": [
       "(array([10., 20., 30., 40., 50., 60., 70., 80.]),\n",
       " <a list of 8 Text major ticklabel objects>)"
      ]
     },
     "execution_count": 44,
     "metadata": {},
     "output_type": "execute_result"
    },
    {
     "data": {
      "text/plain": [
       "(array([-5.,  0.,  5., 10., 15., 20., 25., 30.]),\n",
       " <a list of 8 Text major ticklabel objects>)"
      ]
     },
     "execution_count": 44,
     "metadata": {},
     "output_type": "execute_result"
    },
    {
     "data": {
      "text/plain": [
       "'\\n    Converting times (elution times from BioAnalyzer) to nucleotides using\\n    a 4th order polynomial fit\\n    '"
      ]
     },
     "execution_count": 44,
     "metadata": {},
     "output_type": "execute_result"
    },
    {
     "data": {
      "text/plain": [
       "[<matplotlib.lines.Line2D at 0x7fa9f0de6610>]"
      ]
     },
     "execution_count": 44,
     "metadata": {},
     "output_type": "execute_result"
    },
    {
     "data": {
      "text/plain": [
       "[<matplotlib.lines.Line2D at 0x7fa9f9d688d0>]"
      ]
     },
     "execution_count": 44,
     "metadata": {},
     "output_type": "execute_result"
    },
    {
     "data": {
      "text/plain": [
       "Text(0, 0.5, 'Calculated nts (from time)')"
      ]
     },
     "execution_count": 44,
     "metadata": {},
     "output_type": "execute_result"
    },
    {
     "data": {
      "text/plain": [
       "Text(0.5, 0, 'Ladder nts')"
      ]
     },
     "execution_count": 44,
     "metadata": {},
     "output_type": "execute_result"
    },
    {
     "data": {
      "text/plain": [
       "(array([-500.,    0.,  500., 1000., 1500., 2000., 2500., 3000., 3500.,\n",
       "        4000., 4500.]),\n",
       " <a list of 11 Text major ticklabel objects>)"
      ]
     },
     "execution_count": 44,
     "metadata": {},
     "output_type": "execute_result"
    },
    {
     "data": {
      "text/plain": [
       "(array([-500.,    0.,  500., 1000., 1500., 2000., 2500., 3000., 3500.,\n",
       "        4000., 4500.]),\n",
       " <a list of 11 Text major ticklabel objects>)"
      ]
     },
     "execution_count": 44,
     "metadata": {},
     "output_type": "execute_result"
    },
    {
     "data": {
      "text/plain": [
       "Text(0.5, 1.0, 'Ladder polynomial fit: Eukaryote Total RNA Nano_2020-11-24_13-37-35')"
      ]
     },
     "execution_count": 44,
     "metadata": {},
     "output_type": "execute_result"
    },
    {
     "data": {
      "text/plain": [
       "<matplotlib.legend.Legend at 0x7fa9f0cd3110>"
      ]
     },
     "execution_count": 44,
     "metadata": {},
     "output_type": "execute_result"
    },
    {
     "data": {
      "text/plain": [
       "'\\n    Applying fits to samples as well, per ladder\\n    '"
      ]
     },
     "execution_count": 44,
     "metadata": {},
     "output_type": "execute_result"
    },
    {
     "name": "stdout",
     "output_type": "stream",
     "text": [
      "Eukaryote Total RNA Nano_2020-11-24_13-37-35_Sample1.csv\n",
      "Eukaryote Total RNA Nano_2020-11-24_13-37-35_Sample2.csv\n",
      "Eukaryote Total RNA Nano_2020-11-24_13-37-35_Sample3.csv\n",
      "Eukaryote Total RNA Nano_2020-11-24_13-37-35_Sample4.csv\n",
      "Eukaryote Total RNA Nano_2020-11-24_13-37-35_Sample5.csv\n",
      "Eukaryote Total RNA Nano_2020-11-24_13-37-35_Sample6.csv\n",
      "Eukaryote Total RNA Nano_2020-11-24_13-37-35_Sample7.csv\n",
      "Eukaryote Total RNA Nano_2020-11-24_13-37-35_Sample8.csv\n",
      "Eukaryote Total RNA Nano_2020-11-24_13-37-35_Sample9.csv\n",
      "Eukaryote Total RNA Nano_2020-11-24_13-37-35_Sample10.csv\n",
      "Eukaryote Total RNA Nano_2020-11-24_13-37-35_Sample11.csv\n",
      "Eukaryote Total RNA Nano_2020-11-24_13-37-35_Sample12.csv\n"
     ]
    },
    {
     "data": {
      "text/plain": [
       "<Figure size 576x384 with 0 Axes>"
      ]
     },
     "metadata": {},
     "output_type": "display_data"
    }
   ],
   "source": [
    "#list of filenames \n",
    "filenames = [\"Eukaryote Total RNA Nano_2020-11-24_11-30-28\",\\\n",
    "             \"Eukaryote Total RNA Nano_2020-11-24_11-37-12\",\\\n",
    "             \"Eukaryote Total RNA Nano_2020-11-24_11-55-27\",\\\n",
    "             \"Eukaryote Total RNA Nano_2020-11-24_12-02-25\",\\\n",
    "             \"Eukaryote Total RNA Nano_2020-11-24_12-16-31\",\\\n",
    "             \"Eukaryote Total RNA Nano_2020-11-24_12-22-23\",\\\n",
    "             \"Eukaryote Total RNA Nano_2020-11-24_13-04-00\",\\\n",
    "             \"Eukaryote Total RNA Nano_2020-11-24_13-12-23\",\\\n",
    "             \"Eukaryote Total RNA Nano_2020-11-24_13-30-10\",\\\n",
    "             \"Eukaryote Total RNA Nano_2020-11-24_13-37-35\"]\n",
    "\n",
    "\n",
    "\n",
    "for filename in filenames:\n",
    "    \n",
    "    \"\"\"\n",
    "    Plotting and identifying peaks from the ladder traces from BioAnalyzer.\n",
    "    Must be done per chip/run, since ladders may elute at slightly different times per run.\n",
    "    Generates plots that shows identified peaks.\n",
    "    As of 11-30-2020, should identify 6 peaks.\n",
    "    \"\"\"\n",
    "    \n",
    "    ladder_dict = {}\n",
    "    ladder_values = {}\n",
    "\n",
    "    ladder_df = pd.read_csv(data_dir+filename+'_Ladder.csv', skiprows=17)[:-1]\n",
    "    ladder_time = np.array(ladder_df['Time'].astype(float))\n",
    "    ladder_value = np.array(ladder_df['Value'].astype(float))\n",
    "\n",
    "    peaks,_ = find_peaks(ladder_value, height=5, distance=15)\n",
    "    ladder_dict = list(peaks[:6])\n",
    "\n",
    "    #plotting ladder trace + peak identification\n",
    "    plot(ladder_time, ladder_value, label='ladder trace')\n",
    "    plot(ladder_time[peaks], ladder_value[peaks], 'x', label='peaks', markersize=15)\n",
    "    title('Ladder Peaks: '+filename, fontsize=16)\n",
    "    legend(fontsize=14)\n",
    "    xlabel('Time', fontsize=14)\n",
    "    ylabel('FU', fontsize=14)\n",
    "    xticks(fontsize=14)\n",
    "    yticks(fontsize=14)\n",
    "    tight_layout()\n",
    "    \n",
    "    #saving figure\n",
    "    savefig(fig_dir+filename+'_ladder.png', dpi=300)\n",
    "    clf()\n",
    "    \n",
    "    \n",
    "    \"\"\"\n",
    "    Converting times (elution times from BioAnalyzer) to nucleotides using\n",
    "    a 4th order polynomial fit\n",
    "    \"\"\"\n",
    "    \n",
    "    #returns the times when peaks occur, will serve as x on polynomial fit\n",
    "    peak_times = ladder_time[ladder_dict]\n",
    "    \n",
    "    #ladder nucleotide sizes, will serve as y on polynomial fit\n",
    "    peak_fu = np.array([25, 200, 500, 1000, 2000, 4000])\n",
    "    \n",
    "    #assert that the lengths of x and y match (cannot perform fit otherwise)\n",
    "    assert (len(peak_times) == len(peak_fu))\n",
    "\n",
    "    new_height = 5\n",
    "    while (len(peak_times) < len(peak_fu)):\n",
    "        new_height = new_height-0.1\n",
    "        peaks,_ = find_peaks(ladder_value, height=new_height, distance=15)\n",
    "        ladder_dict = list(peaks[:6])\n",
    "        peak_times = ladder_time[ladder_dict]\n",
    "        \n",
    "    #fitting a 4th order polynomial to peaks/nucleotides\n",
    "    ladder_fit = np.polyfit(x=peak_times, y = peak_fu, deg = 4)\n",
    "    lf = np.poly1d(ladder_fit)\n",
    "    ladder_nts = lf\n",
    "    \n",
    "    #plotting\n",
    "    plot(peak_fu, lf(peak_times), 'o',label='calculated nts vs. ladder nts')\n",
    "    plot(peak_fu, peak_fu,label='perfect correlation')\n",
    "    ylabel('Calculated nts (from time)', fontsize=14)\n",
    "    xlabel('Ladder nts', fontsize=14)\n",
    "    yticks(fontsize=12)\n",
    "    xticks(fontsize=12)\n",
    "    title('Ladder polynomial fit: '+filename, fontsize=16)\n",
    "    legend(fontsize=12)\n",
    "    tight_layout()\n",
    "    \n",
    "    #saving figure\n",
    "    savefig(fig_dir+'ladder_fit-'+filename+'.png', dpi=300)\n",
    "    clf()\n",
    "\n",
    "    \n",
    "    \"\"\"\n",
    "    Applying fits to samples as well, per ladder\n",
    "    \"\"\"\n",
    "    \n",
    "    sample_numbers = np.arange(1,13)\n",
    "\n",
    "    for number in sample_numbers:\n",
    "        file = filename+'_Sample'+str(number)+\".csv\"\n",
    "        print(file)\n",
    "        if (path.exists(data_dir + file)):\n",
    "            sample_df = pd.read_csv(data_dir + file, skiprows=17)[:-1]\n",
    "            times = np.array(sample_df['Time'].astype(float))\n",
    "            sample_df['Nucleotides'] = ladder_nts(times)\n",
    "            sample_df.to_csv(processed_dir+'nts-'+ file)\n",
    "        else:\n",
    "            continue"
   ]
  }
 ],
 "metadata": {
  "kernelspec": {
   "display_name": "Python 3",
   "language": "python",
   "name": "python3"
  },
  "language_info": {
   "codemirror_mode": {
    "name": "ipython",
    "version": 3
   },
   "file_extension": ".py",
   "mimetype": "text/x-python",
   "name": "python",
   "nbconvert_exporter": "python",
   "pygments_lexer": "ipython3",
   "version": "3.7.7"
  }
 },
 "nbformat": 4,
 "nbformat_minor": 4
}
