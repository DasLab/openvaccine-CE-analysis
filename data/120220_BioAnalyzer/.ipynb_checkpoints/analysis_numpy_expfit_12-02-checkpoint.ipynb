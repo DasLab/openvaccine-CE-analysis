{
 "cells": [
  {
   "cell_type": "code",
   "execution_count": 4,
   "metadata": {},
   "outputs": [
    {
     "name": "stdout",
     "output_type": "stream",
     "text": [
      "Populating the interactive namespace from numpy and matplotlib\n"
     ]
    }
   ],
   "source": [
    "import pandas as pd\n",
    "import scipy as sp\n",
    "from scipy.sparse import diags\n",
    "import numpy as np\n",
    "from numpy import linalg as LA\n",
    "import sys\n",
    "from os import path\n",
    "from tqdm import tqdm\n",
    "\n",
    "import matplotlib.pyplot as plt\n",
    "\n",
    "#importing seaborn for plotting\n",
    "import seaborn as sns\n",
    "\n",
    "#for plotting purposes\n",
    "%pylab inline\n",
    "sns.set_style('ticks')\n",
    "sns.set_context('paper')\n",
    "\n",
    "from IPython.core.interactiveshell import InteractiveShell\n",
    "InteractiveShell.ast_node_interactivity = \"all\"\n",
    "\n",
    "import matplotlib as mpl\n",
    "\n",
    "# mpl.rcParams\n",
    "mpl.rcParams['axes.labelsize'] = 14\n",
    "mpl.rcParams['axes.titlesize'] = 16\n",
    "mpl.rcParams['xtick.labelsize'] = 12\n",
    "mpl.rcParams['ytick.labelsize'] = 12\n",
    "mpl.rcParams['legend.fontsize'] = 12\n",
    "mpl.rcParams['figure.figsize'] = [8, 16/3]"
   ]
  },
  {
   "cell_type": "code",
   "execution_count": 41,
   "metadata": {},
   "outputs": [],
   "source": [
    "#porting from HITRACE\n",
    "#based on Baseline correction for NMR spectroscopic metabolomics data analysis. 2008, \n",
    "#Author(s): Xi, Yuanxin and Rocke, David M\n",
    "#https://doi.org/10.1186/1471-2105-9-324 and further modified by Rhiju (Stanford University)\n",
    "#name of variables tracks closely to what is presented in the manuscript\n",
    "\n",
    "def baseline_xi(b,A=2e9,B=2e4,s=1.0):\n",
    "    # Input: \n",
    "    # b Nx1, spectrum data\n",
    "    # A 1x1 smoothing factor\n",
    "    # B 1x1 negative penalty\n",
    "    # s 1x1 noise standard deviation\n",
    "\n",
    "    # Output:\n",
    "    # bd Nx1 baseline\n",
    "    # b_subtract Nx1 background subtracted trace\n",
    "\n",
    "    L = len(b)\n",
    "    # b is the SIGNAL (gamma in the paper). bd is the estimated baseline (b in the paper).\n",
    "    bd = np.ones((L,1))*np.median(b)\n",
    "    bd0 = b\n",
    "\n",
    "    #current error\n",
    "    nm = LA.norm(b-bd0)\n",
    "    nm0 = sys.float_info.max #initialize with largest possible float\n",
    "\n",
    "    #solving D*bd = m\n",
    "    #D and m have been divided through by A\n",
    "    #Mistake in expression for M; should be +1, not -1\n",
    "    M0 = s*np.ones((L,1))/A\n",
    "\n",
    "    #initialize D matrix\n",
    "    e = np.ones((L,1))\n",
    "    diagonals = [2, -8, 12, -8, 2]\n",
    "    D0 = diags(diagonals, np.arange(-2,3), shape=(L,L)).toarray()\n",
    "    D0[0,0] = 2\n",
    "    D0[L-1,L-1] = 2\n",
    "    D0[1,0] = -4\n",
    "    D0[0,1] = -4\n",
    "    D0[L-1,L-2] = -4\n",
    "    D0[L-2,L-1]= -4\n",
    "    D0[1,1] = 10\n",
    "    D0[L-2,L-2] = 10\n",
    "\n",
    "    i=0\n",
    "    while ((nm>10 or i<5) and i<30):\n",
    "        i=i+1\n",
    "        M = M0\n",
    "        D = D0\n",
    "        bd0 = bd\n",
    "        nm0=nm #not sure this is needed, nm0 not used in iteration\n",
    "        for j in np.arange(0,L):\n",
    "            if (bd[j]>b[j]):\n",
    "                M[j] = M[j] + 2*(B/A)*b[j]\n",
    "                D[j,j] = D[j,j] + 2*(B/A)\n",
    "        bd = solve(D,M).flatten() #need to flatten to convert to 1D array\n",
    "        nm = LA.norm(bd0-bd)\n",
    "        \n",
    "    b_subtract = b-bd\n",
    "    return b_subtract,bd\n",
    "\n",
    "from scipy.signal import find_peaks\n",
    "\n",
    "###returns indices for peaks for a given trace as well as the values at the peaks\n",
    "def find_trace_peaks(trace, min_distance=100, min_height=2.5):\n",
    "    \n",
    "    peak_idx, _ = find_peaks(trace, distance=min_distance, height=min_height)  \n",
    "    peak_val = trace[peak_idx]\n",
    "\n",
    "    return peak_idx, peak_val\n",
    "\n",
    "def return_peak_areas(start_nt, end_nt, trace, trace_nt, ctrl_start=200, ctrl_end=300):\n",
    "    #start_nt and end_nt should flank the peak of interest\n",
    "    #trace refers to the reading values (FU on the Bioanalyzer)\n",
    "    #trace_nt refers to the x-axis, or the nucleotides corresponding to different values in trace\n",
    "    #ctrl_start, and ctrl_end refer to P4P6 control, and is flanking a wider nucleotide window to account for accumulation\n",
    "    #of background, degraded RNAs\n",
    "    \n",
    "    #indices for P4P6\n",
    "    p4p6_start_idx = min(range(len(trace_nt)), key=lambda i: abs(trace_nt[i]-ctrl_start))\n",
    "    p4p6_end_idx = min(range(len(trace_nt)), key=lambda i: abs(trace_nt[i]-ctrl_end))\n",
    "\n",
    "    #indices for mRNA\n",
    "    first_idx = min(range(len(trace_nt)), key=lambda i: abs(trace_nt[i]-start_nt))\n",
    "    last_idx = min(range(len(trace_nt)), key=lambda i: abs(trace_nt[i]-end_nt)) \n",
    "    \n",
    "    #calculating areas\n",
    "    p4p6_area = np.trapz(y=trace[p4p6_start_idx:p4p6_end_idx], x=trace_nt[p4p6_start_idx:p4p6_end_idx])\n",
    "    background_area = np.trapz(y=[trace[first_idx], trace[last_idx]], x=[trace_nt[first_idx],trace_nt[last_idx]])\n",
    "    total_area = np.trapz(y=trace[first_idx:last_idx], x=trace_nt[first_idx:last_idx])\n",
    "    \n",
    "    subtracted_area = total_area-background_area\n",
    "    normalized_area = subtracted_area/p4p6_area\n",
    "    \n",
    "    return p4p6_area, background_area, total_area, subtracted_area, normalized_area\n",
    "\n",
    "def return_total_area(start_nt, end_nt, trace, trace_nt, ctrl_start=200, ctrl_end = 300, total_start = 200):\n",
    "    '''\n",
    "    start_nt and end_nt should flank the peak of interest\n",
    "    trace: signal (FU on the Bioanalyzer)\n",
    "    trace_nt: nucleotides corresponding to trace\n",
    "    ctrl_start: nucleotide to start measuring background from for entire trace\n",
    "    '''\n",
    "    #indices for P4P6\n",
    "    p4p6_start_idx = min(range(len(trace_nt)), key=lambda i: abs(trace_nt[i]-ctrl_start))\n",
    "    p4p6_end_idx = min(range(len(trace_nt)), key=lambda i: abs(trace_nt[i]-ctrl_end))\n",
    "\n",
    "    #indices for mRNA\n",
    "    first_idx = min(range(len(trace_nt)), key=lambda i: abs(trace_nt[i]-start_nt))\n",
    "    last_idx = min(range(len(trace_nt)), key=lambda i: abs(trace_nt[i]-end_nt)) \n",
    "    \n",
    "    #calculating areas:\n",
    "    #area for p4p6 control (also sometimes 25 nt area)\n",
    "    p4p6_area = np.trapz(y=trace[p4p6_start_idx:p4p6_end_idx], x=trace_nt[p4p6_start_idx:p4p6_end_idx])\n",
    "    #area for background\n",
    "    peak_background_area = np.trapz(y=[trace[first_idx], trace[last_idx]], x=[trace_nt[first_idx],trace_nt[last_idx]])\n",
    "    #peak area refers to full length peak of interest\n",
    "    peak_area = np.trapz(y=trace[first_idx:last_idx], x=trace_nt[first_idx:last_idx])\n",
    "    \n",
    "    #now calculating full background\n",
    "    control_start_idx =  min(range(len(trace_nt)), key=lambda i: abs(trace_nt[i]-total_start))\n",
    "    lane_background_area = np.trapz(y=trace[control_start_idx:last_idx], x=trace_nt[control_start_idx:last_idx])\n",
    "    \n",
    "#     #subtract out background and normalize\n",
    "#     subtracted_area = peak_area-background_area\n",
    "#     normalized_area = subtracted_area/p4p6_area\n",
    "    \n",
    "#     #now also normalize by the total amount of background present\n",
    "#     subtracted_lane = total_background - subtracted_area #returns the total background for the entire lane\n",
    "#     normalized_lane = peak_area/total_background #should return ~1 if the majority of the area is represented in peak\n",
    "    \n",
    "    return p4p6_area, peak_area, peak_background_area,lane_background_area\n",
    "\n",
    "def calc_frac_intact(times, norm_areas):\n",
    "    \n",
    "    init_val = float(norm_areas[0])\n",
    "    frac_intact = (norm_areas/init_val).clip(0)\n",
    "    \n",
    "    return frac_intact\n",
    "\n",
    "#returns indices, bootstrapped\n",
    "def bootstrap_inds(x):\n",
    "    bs_indices = np.random.choice(range(len(x)),len(x))\n",
    "    return bs_indices\n",
    "\n",
    "def log_transform_fit(timepoints, frac_intact, bs_iter=1000):\n",
    "    \n",
    "    fit_coeffs = []\n",
    "    \n",
    "    for i in np.arange(0,bs_iter, 1):\n",
    "        frac_intact = np.absolute(frac_intact)\n",
    "        \n",
    "        #generate bootstrap indices\n",
    "        bs_indices = bootstrap_inds(frac_intact)\n",
    "\n",
    "        if (len(set(bs_indices))==1):\n",
    "        continue\n",
    "        \n",
    "        #generating data for fit\n",
    "        fit_t = [timepoints[i] for i in bs_indices]\n",
    "        fit_fracint = [frac_intact[i] for i in bs_indices]\n",
    "        \n",
    "        #doing a first order fit after log transform\n",
    "        fit = np.polyfit(fit_t, -1*np.log(fit_fracint), 1, w=np.sqrt(fit_fracint))\n",
    "#         fit = np.polyfit(fit_t, -1*np.log(fit_fracint), 1)\n",
    "        \n",
    "        fit_coeffs.append(fit[0])\n",
    "    \n",
    "    return fit_coeffs"
   ]
  },
  {
   "cell_type": "code",
   "execution_count": 3,
   "metadata": {},
   "outputs": [
    {
     "data": {
      "text/plain": [
       "\"\\ncheck that files exist\\ncommented out for now after checking, we're good\\n\""
      ]
     },
     "execution_count": 3,
     "metadata": {},
     "output_type": "execute_result"
    }
   ],
   "source": [
    "### read in sample map\n",
    "map_df = pd.read_csv('sample_nucleotide_filename.csv')\n",
    "# map_df = pd.read_csv('sample_nucleotide_filename_first6.csv')\n",
    "# map_df\n",
    "\n",
    "#match plate number to filename:\n",
    "filenames_df = pd.read_csv('platenumber_filename.csv')\n",
    "# filenames_df\n",
    "filenames_dict = dict(zip(filenames_df['Plate_Number'],filenames_df['File_Name']))\n",
    "# filenames_dict\n",
    "\n",
    "data_dir = './processed_data/'\n",
    "#mapping plate number to filename, adding column to map\n",
    "filenames = []\n",
    "\n",
    "for filename, filenum in zip(map_df['Plate'], map_df['FileNumber']):\n",
    "    name = filenames_dict[filename]\n",
    "    name = 'nts-'+name+'_Sample'+str(filenum)+'.csv'\n",
    "#     print(name)\n",
    "    filenames.append(name)\n",
    "\n",
    "\"\"\"\n",
    "check that files exist\n",
    "commented out for now after checking, we're good\n",
    "\"\"\"\n",
    "\n",
    "# for filename in filenames:\n",
    "#     print(path.exists(data_dir+filename))\n",
    "\n",
    "map_df['FileName'] = filenames\n",
    "# map_df"
   ]
  },
  {
   "cell_type": "code",
   "execution_count": 6,
   "metadata": {},
   "outputs": [],
   "source": [
    "#let's take the first sample from lane_df\n",
    "# test_df = map_df[map_df['Sample']=='hHBB_10422827_Ribotree_Random_sup_1_hHBB']\n",
    "# test_df\n",
    "\n",
    "peak_nts_list = []\n",
    "start_nt_list = []\n",
    "end_nt_list = []\n",
    "p4p6_area_list = []\n",
    "peak_area_list = []\n",
    "peak_background_area_list = []\n",
    "lane_background_area_list = []\n",
    "peaks_nt_dict = {}\n",
    "\n",
    "#iterating through the dataframe\n",
    "for row in map_df.itertuples():\n",
    "    \n",
    "    sample_df = pd.read_csv(data_dir+row.FileName)\n",
    "    \n",
    "    #extract time series and nucleotides, let's clip to just the first third (up to ~1400 nucleotides)\n",
    "    array_len = len(sample_df['Nucleotides'])\n",
    "    clip_len = int(array_len/2.2)\n",
    "    \n",
    "    nts = np.array(sample_df['Nucleotides'][:clip_len])\n",
    "    trace = np.array(sample_df['Value'][:clip_len])\n",
    "    \n",
    "    ###plotting the background subtracted trace\n",
    "    trace_norm,_ = baseline_xi(trace)\n",
    "    \n",
    "    if (row.Timepoint == 0):\n",
    "        peak_idx, peak_val = find_trace_peaks(trace,min_distance=100, min_height=1)\n",
    "        peak_nts = nts[peak_idx]\n",
    "        peak_nts_list.append(peak_nts)\n",
    "        \n",
    "        start_nt = nts[peak_idx][-1]-100\n",
    "        end_nt = nts[peak_idx][-1]+100\n",
    "        \n",
    "        start_nt_list.append(start_nt)\n",
    "        end_nt_list.append(end_nt)\n",
    "        \n",
    "        peak_assign_dict = {}\n",
    "        peak_assign_dict['start_nt'] = start_nt\n",
    "        peak_assign_dict['end_nt'] = end_nt\n",
    "        peak_assign_dict['peaks'] = peak_nts\n",
    "        \n",
    "        peaks_nt_dict[(row.Sample, row.Nucleotide)] = peak_assign_dict\n",
    "\n",
    "    else:\n",
    "        time_0_dict = peaks_nt_dict[(row.Sample, row.Nucleotide)]\n",
    "        peak_nts_list.append(time_0_dict['peaks'])\n",
    "        start_nt_list.append(time_0_dict['start_nt'])\n",
    "        end_nt_list.append(time_0_dict['end_nt'])\n",
    "        \n",
    "        start_nt = time_0_dict['start_nt']\n",
    "        end_nt = time_0_dict['end_nt']\n",
    "    \n",
    "    p4p6_area, peak_area, peak_background_area, lane_background_area = return_total_area(start_nt, end_nt, trace, nts, ctrl_start=200, ctrl_end=300)\n",
    "\n",
    "    p4p6_area_list.append(p4p6_area)\n",
    "    peak_area_list.append(peak_area)\n",
    "    peak_background_area_list.append(peak_background_area)\n",
    "    lane_background_area_list.append(lane_background_area)\n",
    "    \n",
    "#     _,_,control_area_25, _, _ = return_peak_areas(start_nt=5, end_nt = 50, trace=trace, trace_nt=nts)\n",
    "#     double_normalized = normalized/control_area_25\n",
    "#     signal_normalized_area_list.append(double_normalized)\n",
    "    \n",
    "    \n",
    "map_df = map_df.assign(peak_nts = peak_nts_list, \n",
    "                         start_nt = start_nt_list, \n",
    "                         end_nt = end_nt_list,\n",
    "                         p4p6_area = p4p6_area_list,\n",
    "                         peak_area = peak_area_list,\n",
    "                         peak_background_area = peak_background_area_list,\n",
    "                         lane_background_area = lane_background_area_list)\n",
    "map_df = map_df.dropna(axis=1)\n",
    "map_df.to_csv('map_allareas.csv')"
   ]
  },
  {
   "cell_type": "code",
   "execution_count": 9,
   "metadata": {},
   "outputs": [],
   "source": [
    "map_df['peak_area_subtracted'] = map_df['peak_area']-map_df['peak_background_area']\n",
    "map_df['fraction_intact'] = map_df['peak_area_subtracted']/map_df['lane_background_area']\n",
    "# map_df"
   ]
  },
  {
   "cell_type": "code",
   "execution_count": 16,
   "metadata": {},
   "outputs": [
    {
     "data": {
      "text/plain": [
       "<Figure size 1656x1296 with 0 Axes>"
      ]
     },
     "execution_count": 16,
     "metadata": {},
     "output_type": "execute_result"
    },
    {
     "name": "stderr",
     "output_type": "stream",
     "text": [
      "\r",
      "0it [00:00, ?it/s]"
     ]
    },
    {
     "data": {
      "text/plain": [
       "<matplotlib.axes._subplots.AxesSubplot at 0x7f881a577b50>"
      ]
     },
     "execution_count": 16,
     "metadata": {},
     "output_type": "execute_result"
    },
    {
     "data": {
      "text/plain": [
       "<matplotlib.collections.PathCollection at 0x7f87f0995150>"
      ]
     },
     "execution_count": 16,
     "metadata": {},
     "output_type": "execute_result"
    },
    {
     "data": {
      "text/plain": [
       "Text(0.5, 1.0, 'hHBB_10383581_START_reference_hHBB')"
      ]
     },
     "execution_count": 16,
     "metadata": {},
     "output_type": "execute_result"
    },
    {
     "data": {
      "text/plain": [
       "Text(0.5, 0, 'Time (hours)')"
      ]
     },
     "execution_count": 16,
     "metadata": {},
     "output_type": "execute_result"
    },
    {
     "data": {
      "text/plain": [
       "Text(0, 0.5, 'ln(Fraction Intact)')"
      ]
     },
     "execution_count": 16,
     "metadata": {},
     "output_type": "execute_result"
    },
    {
     "data": {
      "text/plain": [
       "<matplotlib.axes._subplots.AxesSubplot at 0x7f87f0995b50>"
      ]
     },
     "execution_count": 16,
     "metadata": {},
     "output_type": "execute_result"
    },
    {
     "data": {
      "text/plain": [
       "<matplotlib.collections.PathCollection at 0x7f88393e8650>"
      ]
     },
     "execution_count": 16,
     "metadata": {},
     "output_type": "execute_result"
    },
    {
     "data": {
      "text/plain": [
       "Text(0.5, 1.0, 'hHBB_10383601_LinearDesign-beamsize50-USETHISONE_hHBB')"
      ]
     },
     "execution_count": 16,
     "metadata": {},
     "output_type": "execute_result"
    },
    {
     "data": {
      "text/plain": [
       "Text(0.5, 0, 'Time (hours)')"
      ]
     },
     "execution_count": 16,
     "metadata": {},
     "output_type": "execute_result"
    },
    {
     "data": {
      "text/plain": [
       "Text(0, 0.5, 'ln(Fraction Intact)')"
      ]
     },
     "execution_count": 16,
     "metadata": {},
     "output_type": "execute_result"
    },
    {
     "data": {
      "text/plain": [
       "<matplotlib.axes._subplots.AxesSubplot at 0x7f88393f7410>"
      ]
     },
     "execution_count": 16,
     "metadata": {},
     "output_type": "execute_result"
    },
    {
     "data": {
      "text/plain": [
       "<matplotlib.collections.PathCollection at 0x7f88393e87d0>"
      ]
     },
     "execution_count": 16,
     "metadata": {},
     "output_type": "execute_result"
    },
    {
     "data": {
      "text/plain": [
       "Text(0.5, 1.0, 'hHBB_10383651_GC_rich_1_hHBB')"
      ]
     },
     "execution_count": 16,
     "metadata": {},
     "output_type": "execute_result"
    },
    {
     "data": {
      "text/plain": [
       "Text(0.5, 0, 'Time (hours)')"
      ]
     },
     "execution_count": 16,
     "metadata": {},
     "output_type": "execute_result"
    },
    {
     "data": {
      "text/plain": [
       "Text(0, 0.5, 'ln(Fraction Intact)')"
      ]
     },
     "execution_count": 16,
     "metadata": {},
     "output_type": "execute_result"
    },
    {
     "data": {
      "text/plain": [
       "<matplotlib.axes._subplots.AxesSubplot at 0x7f883943e590>"
      ]
     },
     "execution_count": 16,
     "metadata": {},
     "output_type": "execute_result"
    },
    {
     "data": {
      "text/plain": [
       "<matplotlib.collections.PathCollection at 0x7f87f0964f10>"
      ]
     },
     "execution_count": 16,
     "metadata": {},
     "output_type": "execute_result"
    },
    {
     "data": {
      "text/plain": [
       "Text(0.5, 1.0, 'hHBB_10383653_GC_rich_2_hHBB')"
      ]
     },
     "execution_count": 16,
     "metadata": {},
     "output_type": "execute_result"
    },
    {
     "data": {
      "text/plain": [
       "Text(0.5, 0, 'Time (hours)')"
      ]
     },
     "execution_count": 16,
     "metadata": {},
     "output_type": "execute_result"
    },
    {
     "data": {
      "text/plain": [
       "Text(0, 0.5, 'ln(Fraction Intact)')"
      ]
     },
     "execution_count": 16,
     "metadata": {},
     "output_type": "execute_result"
    },
    {
     "data": {
      "text/plain": [
       "<matplotlib.axes._subplots.AxesSubplot at 0x7f87f09645d0>"
      ]
     },
     "execution_count": 16,
     "metadata": {},
     "output_type": "execute_result"
    },
    {
     "data": {
      "text/plain": [
       "<matplotlib.collections.PathCollection at 0x7f87f09be550>"
      ]
     },
     "execution_count": 16,
     "metadata": {},
     "output_type": "execute_result"
    },
    {
     "data": {
      "text/plain": [
       "Text(0.5, 1.0, 'hHBB_10388753_IDT_1_hHBB')"
      ]
     },
     "execution_count": 16,
     "metadata": {},
     "output_type": "execute_result"
    },
    {
     "data": {
      "text/plain": [
       "Text(0.5, 0, 'Time (hours)')"
      ]
     },
     "execution_count": 16,
     "metadata": {},
     "output_type": "execute_result"
    },
    {
     "data": {
      "text/plain": [
       "Text(0, 0.5, 'ln(Fraction Intact)')"
      ]
     },
     "execution_count": 16,
     "metadata": {},
     "output_type": "execute_result"
    },
    {
     "name": "stderr",
     "output_type": "stream",
     "text": [
      "\r",
      "5it [00:00, 42.66it/s]"
     ]
    },
    {
     "data": {
      "text/plain": [
       "<matplotlib.axes._subplots.AxesSubplot at 0x7f87f09dd110>"
      ]
     },
     "execution_count": 16,
     "metadata": {},
     "output_type": "execute_result"
    },
    {
     "data": {
      "text/plain": [
       "<matplotlib.collections.PathCollection at 0x7f87f09beb10>"
      ]
     },
     "execution_count": 16,
     "metadata": {},
     "output_type": "execute_result"
    },
    {
     "data": {
      "text/plain": [
       "Text(0.5, 1.0, 'hHBB_10388767_Genewiz_1_hHBB')"
      ]
     },
     "execution_count": 16,
     "metadata": {},
     "output_type": "execute_result"
    },
    {
     "data": {
      "text/plain": [
       "Text(0.5, 0, 'Time (hours)')"
      ]
     },
     "execution_count": 16,
     "metadata": {},
     "output_type": "execute_result"
    },
    {
     "data": {
      "text/plain": [
       "Text(0, 0.5, 'ln(Fraction Intact)')"
      ]
     },
     "execution_count": 16,
     "metadata": {},
     "output_type": "execute_result"
    },
    {
     "data": {
      "text/plain": [
       "<matplotlib.axes._subplots.AxesSubplot at 0x7f8828a5da10>"
      ]
     },
     "execution_count": 16,
     "metadata": {},
     "output_type": "execute_result"
    },
    {
     "data": {
      "text/plain": [
       "<matplotlib.collections.PathCollection at 0x7f8828a5d910>"
      ]
     },
     "execution_count": 16,
     "metadata": {},
     "output_type": "execute_result"
    },
    {
     "data": {
      "text/plain": [
       "Text(0.5, 1.0, 'hHBB_10388774_Twist_1_hHBB')"
      ]
     },
     "execution_count": 16,
     "metadata": {},
     "output_type": "execute_result"
    },
    {
     "data": {
      "text/plain": [
       "Text(0.5, 0, 'Time (hours)')"
      ]
     },
     "execution_count": 16,
     "metadata": {},
     "output_type": "execute_result"
    },
    {
     "data": {
      "text/plain": [
       "Text(0, 0.5, 'ln(Fraction Intact)')"
      ]
     },
     "execution_count": 16,
     "metadata": {},
     "output_type": "execute_result"
    },
    {
     "data": {
      "text/plain": [
       "<matplotlib.axes._subplots.AxesSubplot at 0x7f8828a71050>"
      ]
     },
     "execution_count": 16,
     "metadata": {},
     "output_type": "execute_result"
    },
    {
     "data": {
      "text/plain": [
       "<matplotlib.collections.PathCollection at 0x7f8828a98050>"
      ]
     },
     "execution_count": 16,
     "metadata": {},
     "output_type": "execute_result"
    },
    {
     "data": {
      "text/plain": [
       "Text(0.5, 1.0, \"hHBB_10389218_Omei_1_DG2=158.7_5'UTR_20_unpaired_hHBB\")"
      ]
     },
     "execution_count": 16,
     "metadata": {},
     "output_type": "execute_result"
    },
    {
     "data": {
      "text/plain": [
       "Text(0.5, 0, 'Time (hours)')"
      ]
     },
     "execution_count": 16,
     "metadata": {},
     "output_type": "execute_result"
    },
    {
     "data": {
      "text/plain": [
       "Text(0, 0.5, 'ln(Fraction Intact)')"
      ]
     },
     "execution_count": 16,
     "metadata": {},
     "output_type": "execute_result"
    },
    {
     "data": {
      "text/plain": [
       "<matplotlib.axes._subplots.AxesSubplot at 0x7f8828a98910>"
      ]
     },
     "execution_count": 16,
     "metadata": {},
     "output_type": "execute_result"
    },
    {
     "data": {
      "text/plain": [
       "<matplotlib.collections.PathCollection at 0x7f87f869bfd0>"
      ]
     },
     "execution_count": 16,
     "metadata": {},
     "output_type": "execute_result"
    },
    {
     "data": {
      "text/plain": [
       "Text(0.5, 1.0, 'hHBB_10396597_Astros-Brourd-Eli-mod3_hHBB')"
      ]
     },
     "execution_count": 16,
     "metadata": {},
     "output_type": "execute_result"
    },
    {
     "data": {
      "text/plain": [
       "Text(0.5, 0, 'Time (hours)')"
      ]
     },
     "execution_count": 16,
     "metadata": {},
     "output_type": "execute_result"
    },
    {
     "data": {
      "text/plain": [
       "Text(0, 0.5, 'ln(Fraction Intact)')"
      ]
     },
     "execution_count": 16,
     "metadata": {},
     "output_type": "execute_result"
    },
    {
     "data": {
      "text/plain": [
       "<matplotlib.axes._subplots.AxesSubplot at 0x7f87f86a8210>"
      ]
     },
     "execution_count": 16,
     "metadata": {},
     "output_type": "execute_result"
    },
    {
     "data": {
      "text/plain": [
       "<matplotlib.collections.PathCollection at 0x7f87f86a8510>"
      ]
     },
     "execution_count": 16,
     "metadata": {},
     "output_type": "execute_result"
    },
    {
     "data": {
      "text/plain": [
       "Text(0.5, 1.0, 'hHBB_10405622_Eli_Fisker_s_Yellowstone_hHBB')"
      ]
     },
     "execution_count": 16,
     "metadata": {},
     "output_type": "execute_result"
    },
    {
     "data": {
      "text/plain": [
       "Text(0.5, 0, 'Time (hours)')"
      ]
     },
     "execution_count": 16,
     "metadata": {},
     "output_type": "execute_result"
    },
    {
     "data": {
      "text/plain": [
       "Text(0, 0.5, 'ln(Fraction Intact)')"
      ]
     },
     "execution_count": 16,
     "metadata": {},
     "output_type": "execute_result"
    },
    {
     "name": "stderr",
     "output_type": "stream",
     "text": [
      "\r",
      "10it [00:00, 42.72it/s]"
     ]
    },
    {
     "data": {
      "text/plain": [
       "<matplotlib.axes._subplots.AxesSubplot at 0x7f8808e25f10>"
      ]
     },
     "execution_count": 16,
     "metadata": {},
     "output_type": "execute_result"
    },
    {
     "data": {
      "text/plain": [
       "<matplotlib.collections.PathCollection at 0x7f8808e67310>"
      ]
     },
     "execution_count": 16,
     "metadata": {},
     "output_type": "execute_result"
    },
    {
     "data": {
      "text/plain": [
       "Text(0.5, 1.0, \"hHBB_10409421_BugacMan's_Worm_refined_Kagglestyle_hHBB\")"
      ]
     },
     "execution_count": 16,
     "metadata": {},
     "output_type": "execute_result"
    },
    {
     "data": {
      "text/plain": [
       "Text(0.5, 0, 'Time (hours)')"
      ]
     },
     "execution_count": 16,
     "metadata": {},
     "output_type": "execute_result"
    },
    {
     "data": {
      "text/plain": [
       "Text(0, 0.5, 'ln(Fraction Intact)')"
      ]
     },
     "execution_count": 16,
     "metadata": {},
     "output_type": "execute_result"
    },
    {
     "data": {
      "text/plain": [
       "<matplotlib.axes._subplots.AxesSubplot at 0x7f8808e67810>"
      ]
     },
     "execution_count": 16,
     "metadata": {},
     "output_type": "execute_result"
    },
    {
     "data": {
      "text/plain": [
       "<matplotlib.collections.PathCollection at 0x7f8839505e90>"
      ]
     },
     "execution_count": 16,
     "metadata": {},
     "output_type": "execute_result"
    },
    {
     "data": {
      "text/plain": [
       "Text(0.5, 1.0, 'hHBB_10415148_AB_Rhiju_Mod_3_hHBB')"
      ]
     },
     "execution_count": 16,
     "metadata": {},
     "output_type": "execute_result"
    },
    {
     "data": {
      "text/plain": [
       "Text(0.5, 0, 'Time (hours)')"
      ]
     },
     "execution_count": 16,
     "metadata": {},
     "output_type": "execute_result"
    },
    {
     "data": {
      "text/plain": [
       "Text(0, 0.5, 'ln(Fraction Intact)')"
      ]
     },
     "execution_count": 16,
     "metadata": {},
     "output_type": "execute_result"
    },
    {
     "data": {
      "text/plain": [
       "<matplotlib.axes._subplots.AxesSubplot at 0x7f881a68e690>"
      ]
     },
     "execution_count": 16,
     "metadata": {},
     "output_type": "execute_result"
    },
    {
     "data": {
      "text/plain": [
       "<matplotlib.collections.PathCollection at 0x7f881a6a17d0>"
      ]
     },
     "execution_count": 16,
     "metadata": {},
     "output_type": "execute_result"
    },
    {
     "data": {
      "text/plain": [
       "Text(0.5, 1.0, 'hHBB_10415488_RLT-10_hHBB')"
      ]
     },
     "execution_count": 16,
     "metadata": {},
     "output_type": "execute_result"
    },
    {
     "data": {
      "text/plain": [
       "Text(0.5, 0, 'Time (hours)')"
      ]
     },
     "execution_count": 16,
     "metadata": {},
     "output_type": "execute_result"
    },
    {
     "data": {
      "text/plain": [
       "Text(0, 0.5, 'ln(Fraction Intact)')"
      ]
     },
     "execution_count": 16,
     "metadata": {},
     "output_type": "execute_result"
    },
    {
     "data": {
      "text/plain": [
       "<matplotlib.axes._subplots.AxesSubplot at 0x7f881a6a1e50>"
      ]
     },
     "execution_count": 16,
     "metadata": {},
     "output_type": "execute_result"
    },
    {
     "data": {
      "text/plain": [
       "<matplotlib.collections.PathCollection at 0x7f87f0daa0d0>"
      ]
     },
     "execution_count": 16,
     "metadata": {},
     "output_type": "execute_result"
    },
    {
     "data": {
      "text/plain": [
       "Text(0.5, 1.0, \"hHBB_10417205_Jill's_mod_of_Clotho_2.0_hHBB\")"
      ]
     },
     "execution_count": 16,
     "metadata": {},
     "output_type": "execute_result"
    },
    {
     "data": {
      "text/plain": [
       "Text(0.5, 0, 'Time (hours)')"
      ]
     },
     "execution_count": 16,
     "metadata": {},
     "output_type": "execute_result"
    },
    {
     "data": {
      "text/plain": [
       "Text(0, 0.5, 'ln(Fraction Intact)')"
      ]
     },
     "execution_count": 16,
     "metadata": {},
     "output_type": "execute_result"
    },
    {
     "data": {
      "text/plain": [
       "<matplotlib.axes._subplots.AxesSubplot at 0x7f87f0ddfed0>"
      ]
     },
     "execution_count": 16,
     "metadata": {},
     "output_type": "execute_result"
    },
    {
     "data": {
      "text/plain": [
       "<matplotlib.collections.PathCollection at 0x7f87f0ddfdd0>"
      ]
     },
     "execution_count": 16,
     "metadata": {},
     "output_type": "execute_result"
    },
    {
     "data": {
      "text/plain": [
       "Text(0.5, 1.0, 'hHBB_10419522_12_hHBB')"
      ]
     },
     "execution_count": 16,
     "metadata": {},
     "output_type": "execute_result"
    },
    {
     "data": {
      "text/plain": [
       "Text(0.5, 0, 'Time (hours)')"
      ]
     },
     "execution_count": 16,
     "metadata": {},
     "output_type": "execute_result"
    },
    {
     "data": {
      "text/plain": [
       "Text(0, 0.5, 'ln(Fraction Intact)')"
      ]
     },
     "execution_count": 16,
     "metadata": {},
     "output_type": "execute_result"
    },
    {
     "name": "stderr",
     "output_type": "stream",
     "text": [
      "\r",
      "15it [00:00, 42.65it/s]"
     ]
    },
    {
     "data": {
      "text/plain": [
       "<matplotlib.axes._subplots.AxesSubplot at 0x7f87f0dee1d0>"
      ]
     },
     "execution_count": 16,
     "metadata": {},
     "output_type": "execute_result"
    },
    {
     "data": {
      "text/plain": [
       "<matplotlib.collections.PathCollection at 0x7f87f86d2710>"
      ]
     },
     "execution_count": 16,
     "metadata": {},
     "output_type": "execute_result"
    },
    {
     "data": {
      "text/plain": [
       "Text(0.5, 1.0, \"hHBB_10419549_BugacMan's_Lost_LD+finetuning_mod_Deg-2-ed_hHBB\")"
      ]
     },
     "execution_count": 16,
     "metadata": {},
     "output_type": "execute_result"
    },
    {
     "data": {
      "text/plain": [
       "Text(0.5, 0, 'Time (hours)')"
      ]
     },
     "execution_count": 16,
     "metadata": {},
     "output_type": "execute_result"
    },
    {
     "data": {
      "text/plain": [
       "Text(0, 0.5, 'ln(Fraction Intact)')"
      ]
     },
     "execution_count": 16,
     "metadata": {},
     "output_type": "execute_result"
    },
    {
     "data": {
      "text/plain": [
       "<matplotlib.axes._subplots.AxesSubplot at 0x7f87f86d2c10>"
      ]
     },
     "execution_count": 16,
     "metadata": {},
     "output_type": "execute_result"
    },
    {
     "data": {
      "text/plain": [
       "<matplotlib.collections.PathCollection at 0x7f8828ac5190>"
      ]
     },
     "execution_count": 16,
     "metadata": {},
     "output_type": "execute_result"
    },
    {
     "data": {
      "text/plain": [
       "Text(0.5, 1.0, 'hHBB_10422723_Ribotree_Random_degscoreall_1_hHBB')"
      ]
     },
     "execution_count": 16,
     "metadata": {},
     "output_type": "execute_result"
    },
    {
     "data": {
      "text/plain": [
       "Text(0.5, 0, 'Time (hours)')"
      ]
     },
     "execution_count": 16,
     "metadata": {},
     "output_type": "execute_result"
    },
    {
     "data": {
      "text/plain": [
       "Text(0, 0.5, 'ln(Fraction Intact)')"
      ]
     },
     "execution_count": 16,
     "metadata": {},
     "output_type": "execute_result"
    },
    {
     "data": {
      "text/plain": [
       "<matplotlib.axes._subplots.AxesSubplot at 0x7f8808e7add0>"
      ]
     },
     "execution_count": 16,
     "metadata": {},
     "output_type": "execute_result"
    },
    {
     "data": {
      "text/plain": [
       "<matplotlib.collections.PathCollection at 0x7f8808e94d10>"
      ]
     },
     "execution_count": 16,
     "metadata": {},
     "output_type": "execute_result"
    },
    {
     "data": {
      "text/plain": [
       "Text(0.5, 1.0, 'hHBB_10422744_Ribotree_Random_degscore_1_hHBB')"
      ]
     },
     "execution_count": 16,
     "metadata": {},
     "output_type": "execute_result"
    },
    {
     "data": {
      "text/plain": [
       "Text(0.5, 0, 'Time (hours)')"
      ]
     },
     "execution_count": 16,
     "metadata": {},
     "output_type": "execute_result"
    },
    {
     "data": {
      "text/plain": [
       "Text(0, 0.5, 'ln(Fraction Intact)')"
      ]
     },
     "execution_count": 16,
     "metadata": {},
     "output_type": "execute_result"
    },
    {
     "data": {
      "text/plain": [
       "<matplotlib.axes._subplots.AxesSubplot at 0x7f8808ea22d0>"
      ]
     },
     "execution_count": 16,
     "metadata": {},
     "output_type": "execute_result"
    },
    {
     "data": {
      "text/plain": [
       "<matplotlib.collections.PathCollection at 0x7f8839575650>"
      ]
     },
     "execution_count": 16,
     "metadata": {},
     "output_type": "execute_result"
    },
    {
     "data": {
      "text/plain": [
       "Text(0.5, 1.0, 'hHBB_10422746_Ribotree_BT_winner_random_degscore_2_hHBB')"
      ]
     },
     "execution_count": 16,
     "metadata": {},
     "output_type": "execute_result"
    },
    {
     "data": {
      "text/plain": [
       "Text(0.5, 0, 'Time (hours)')"
      ]
     },
     "execution_count": 16,
     "metadata": {},
     "output_type": "execute_result"
    },
    {
     "data": {
      "text/plain": [
       "Text(0, 0.5, 'ln(Fraction Intact)')"
      ]
     },
     "execution_count": 16,
     "metadata": {},
     "output_type": "execute_result"
    },
    {
     "data": {
      "text/plain": [
       "<matplotlib.axes._subplots.AxesSubplot at 0x7f88395759d0>"
      ]
     },
     "execution_count": 16,
     "metadata": {},
     "output_type": "execute_result"
    },
    {
     "data": {
      "text/plain": [
       "<matplotlib.collections.PathCollection at 0x7f88395b8190>"
      ]
     },
     "execution_count": 16,
     "metadata": {},
     "output_type": "execute_result"
    },
    {
     "data": {
      "text/plain": [
       "Text(0.5, 1.0, 'hHBB_10422764_Ribotree_LinearDesign_degscoreall_1_hHBB')"
      ]
     },
     "execution_count": 16,
     "metadata": {},
     "output_type": "execute_result"
    },
    {
     "data": {
      "text/plain": [
       "Text(0.5, 0, 'Time (hours)')"
      ]
     },
     "execution_count": 16,
     "metadata": {},
     "output_type": "execute_result"
    },
    {
     "data": {
      "text/plain": [
       "Text(0, 0.5, 'ln(Fraction Intact)')"
      ]
     },
     "execution_count": 16,
     "metadata": {},
     "output_type": "execute_result"
    },
    {
     "name": "stderr",
     "output_type": "stream",
     "text": [
      "\r",
      "20it [00:00, 42.58it/s]"
     ]
    },
    {
     "data": {
      "text/plain": [
       "<matplotlib.axes._subplots.AxesSubplot at 0x7f87eab85d50>"
      ]
     },
     "execution_count": 16,
     "metadata": {},
     "output_type": "execute_result"
    },
    {
     "data": {
      "text/plain": [
       "<matplotlib.collections.PathCollection at 0x7f87eab85710>"
      ]
     },
     "execution_count": 16,
     "metadata": {},
     "output_type": "execute_result"
    },
    {
     "data": {
      "text/plain": [
       "Text(0.5, 1.0, 'hHBB_10422776_RiboTree_Nullrecurrent_winner_LinearDesign_degscoreall_7_hHBB')"
      ]
     },
     "execution_count": 16,
     "metadata": {},
     "output_type": "execute_result"
    },
    {
     "data": {
      "text/plain": [
       "Text(0.5, 0, 'Time (hours)')"
      ]
     },
     "execution_count": 16,
     "metadata": {},
     "output_type": "execute_result"
    },
    {
     "data": {
      "text/plain": [
       "Text(0, 0.5, 'ln(Fraction Intact)')"
      ]
     },
     "execution_count": 16,
     "metadata": {},
     "output_type": "execute_result"
    },
    {
     "data": {
      "text/plain": [
       "<matplotlib.axes._subplots.AxesSubplot at 0x7f87eabad750>"
      ]
     },
     "execution_count": 16,
     "metadata": {},
     "output_type": "execute_result"
    },
    {
     "data": {
      "text/plain": [
       "<matplotlib.collections.PathCollection at 0x7f8808ed1590>"
      ]
     },
     "execution_count": 16,
     "metadata": {},
     "output_type": "execute_result"
    },
    {
     "data": {
      "text/plain": [
       "Text(0.5, 1.0, 'hHBB_10422784_Ribotree_LinearDesign_degscore_1_hHBB')"
      ]
     },
     "execution_count": 16,
     "metadata": {},
     "output_type": "execute_result"
    },
    {
     "data": {
      "text/plain": [
       "Text(0.5, 0, 'Time (hours)')"
      ]
     },
     "execution_count": 16,
     "metadata": {},
     "output_type": "execute_result"
    },
    {
     "data": {
      "text/plain": [
       "Text(0, 0.5, 'ln(Fraction Intact)')"
      ]
     },
     "execution_count": 16,
     "metadata": {},
     "output_type": "execute_result"
    },
    {
     "data": {
      "text/plain": [
       "<matplotlib.axes._subplots.AxesSubplot at 0x7f8808ef51d0>"
      ]
     },
     "execution_count": 16,
     "metadata": {},
     "output_type": "execute_result"
    },
    {
     "data": {
      "text/plain": [
       "<matplotlib.collections.PathCollection at 0x7f8808ed1c10>"
      ]
     },
     "execution_count": 16,
     "metadata": {},
     "output_type": "execute_result"
    },
    {
     "data": {
      "text/plain": [
       "Text(0.5, 1.0, 'hHBB_10422804_Ribotree_LinearDesign_sup_1_hHBB')"
      ]
     },
     "execution_count": 16,
     "metadata": {},
     "output_type": "execute_result"
    },
    {
     "data": {
      "text/plain": [
       "Text(0.5, 0, 'Time (hours)')"
      ]
     },
     "execution_count": 16,
     "metadata": {},
     "output_type": "execute_result"
    },
    {
     "data": {
      "text/plain": [
       "Text(0, 0.5, 'ln(Fraction Intact)')"
      ]
     },
     "execution_count": 16,
     "metadata": {},
     "output_type": "execute_result"
    },
    {
     "data": {
      "text/plain": [
       "<matplotlib.axes._subplots.AxesSubplot at 0x7f881a6cac10>"
      ]
     },
     "execution_count": 16,
     "metadata": {},
     "output_type": "execute_result"
    },
    {
     "data": {
      "text/plain": [
       "<matplotlib.collections.PathCollection at 0x7f881a6cab90>"
      ]
     },
     "execution_count": 16,
     "metadata": {},
     "output_type": "execute_result"
    },
    {
     "data": {
      "text/plain": [
       "Text(0.5, 1.0, 'hHBB_10422827_Ribotree_Random_sup_1_hHBB')"
      ]
     },
     "execution_count": 16,
     "metadata": {},
     "output_type": "execute_result"
    },
    {
     "data": {
      "text/plain": [
       "Text(0.5, 0, 'Time (hours)')"
      ]
     },
     "execution_count": 16,
     "metadata": {},
     "output_type": "execute_result"
    },
    {
     "data": {
      "text/plain": [
       "Text(0, 0.5, 'ln(Fraction Intact)')"
      ]
     },
     "execution_count": 16,
     "metadata": {},
     "output_type": "execute_result"
    },
    {
     "name": "stderr",
     "output_type": "stream",
     "text": [
      "24it [00:00, 42.99it/s]\n"
     ]
    },
    {
     "data": {
      "image/png": "[encoded data removed]",
      "text/plain": [
       "<Figure size 1656x1296 with 24 Axes>"
      ]
     },
     "metadata": {},
     "output_type": "display_data"
    }
   ],
   "source": [
    "samples = set(zip(map_df['Sample'], map_df['Nucleotide']))\n",
    "\n",
    "num_plots = len(samples)\n",
    "num_rows = round(num_plots/4, 1)\n",
    "num_columns = num_plots/num_rows\n",
    "figure(figsize=(num_rows*3+5, num_columns*4+2))\n",
    "# sample_dfs = []\n",
    "# sample_fits = {}\n",
    "# all_fits = {}\n",
    "\n",
    "for i, sample in tqdm(enumerate(sorted(samples))):\n",
    "    \n",
    "    subplot(num_rows, num_columns, i+1)\n",
    "    rna_sample = sample[0]\n",
    "    nucleotide = sample[1]\n",
    "\n",
    "    #extracting the df for that sample, nucleotide combo\n",
    "    working_df = map_df[(map_df['Sample']==rna_sample) & (map_df['Nucleotide']==nucleotide)]\n",
    "    \n",
    "    #times are time points (t), fraction intact values (fi)\n",
    "    #to be used in fi = np.exp(-b*t) fit for b coefficient --> kdeg calculation\n",
    "    times = np.array(working_df['Timepoint'])\n",
    "    frac_intact = np.array(working_df['fraction_intact'])\n",
    "    \n",
    "#     clf()\n",
    "    scatter(times, np.log(frac_intact), s=20, marker='o')\n",
    "    \n",
    "    title('{}'.format(rna_sample), fontsize=12)\n",
    "    xlabel('Time (hours)')\n",
    "    ylabel('ln(Fraction Intact)')\n",
    "\n",
    "tight_layout()\n",
    "\n",
    "savefig(plot_dir+'logy.pdf')"
   ]
  },
  {
   "cell_type": "code",
   "execution_count": 63,
   "metadata": {},
   "outputs": [
    {
     "data": {
      "text/plain": [
       "array([0, 1, 3, 5])"
      ]
     },
     "execution_count": 63,
     "metadata": {},
     "output_type": "execute_result"
    },
    {
     "data": {
      "text/plain": [
       "array([0.76472177, 0.49394238, 0.28459904, 0.19974081])"
      ]
     },
     "execution_count": 63,
     "metadata": {},
     "output_type": "execute_result"
    },
    {
     "name": "stdout",
     "output_type": "stream",
     "text": [
      "[3 0 1 1]\n"
     ]
    },
    {
     "data": {
      "text/plain": [
       "array([0.26776064, 0.35430256])"
      ]
     },
     "execution_count": 63,
     "metadata": {},
     "output_type": "execute_result"
    },
    {
     "name": "stdout",
     "output_type": "stream",
     "text": [
      "[1 2 1 2]\n"
     ]
    },
    {
     "data": {
      "text/plain": [
       "array([0.27566879, 0.42966762])"
      ]
     },
     "execution_count": 63,
     "metadata": {},
     "output_type": "execute_result"
    },
    {
     "name": "stdout",
     "output_type": "stream",
     "text": [
      "[0 2 0 1]\n"
     ]
    },
    {
     "data": {
      "text/plain": [
       "array([0.33922677, 0.28558127])"
      ]
     },
     "execution_count": 63,
     "metadata": {},
     "output_type": "execute_result"
    },
    {
     "name": "stdout",
     "output_type": "stream",
     "text": [
      "[3 0 3 2]\n"
     ]
    },
    {
     "data": {
      "text/plain": [
       "array([0.27624346, 0.2889364 ])"
      ]
     },
     "execution_count": 63,
     "metadata": {},
     "output_type": "execute_result"
    },
    {
     "name": "stdout",
     "output_type": "stream",
     "text": [
      "[1 2 3 1]\n"
     ]
    },
    {
     "data": {
      "text/plain": [
       "array([0.23616306, 0.47912154])"
      ]
     },
     "execution_count": 63,
     "metadata": {},
     "output_type": "execute_result"
    },
    {
     "name": "stdout",
     "output_type": "stream",
     "text": [
      "[2 3 0 1]\n"
     ]
    },
    {
     "data": {
      "text/plain": [
       "array([0.28021009, 0.33012402])"
      ]
     },
     "execution_count": 63,
     "metadata": {},
     "output_type": "execute_result"
    },
    {
     "name": "stdout",
     "output_type": "stream",
     "text": [
      "[1 3 1 1]\n"
     ]
    },
    {
     "data": {
      "text/plain": [
       "array([0.22634958, 0.47898683])"
      ]
     },
     "execution_count": 63,
     "metadata": {},
     "output_type": "execute_result"
    },
    {
     "name": "stdout",
     "output_type": "stream",
     "text": [
      "[1 2 3 2]\n"
     ]
    },
    {
     "data": {
      "text/plain": [
       "array([0.23681076, 0.49693507])"
      ]
     },
     "execution_count": 63,
     "metadata": {},
     "output_type": "execute_result"
    },
    {
     "name": "stdout",
     "output_type": "stream",
     "text": [
      "[0 0 1 2]\n"
     ]
    },
    {
     "data": {
      "text/plain": [
       "array([0.33922677, 0.28558127])"
      ]
     },
     "execution_count": 63,
     "metadata": {},
     "output_type": "execute_result"
    },
    {
     "name": "stdout",
     "output_type": "stream",
     "text": [
      "[1 0 3 1]\n"
     ]
    },
    {
     "data": {
      "text/plain": [
       "array([0.26776064, 0.35430256])"
      ]
     },
     "execution_count": 63,
     "metadata": {},
     "output_type": "execute_result"
    },
    {
     "data": {
      "text/plain": [
       "[0.26776064371190744,\n",
       " 0.2756687857873218,\n",
       " 0.3392267722930031,\n",
       " 0.27624345868728895,\n",
       " 0.23616305596875073,\n",
       " 0.2802100867498793,\n",
       " 0.2263495767418874,\n",
       " 0.2368107565632565,\n",
       " 0.339226772293003,\n",
       " 0.26776064371190744]"
      ]
     },
     "execution_count": 63,
     "metadata": {},
     "output_type": "execute_result"
    }
   ],
   "source": [
    "test_df = map_df[map_df['Sample']=='hHBB_10383581_START_reference_hHBB']\n",
    "test_times = np.array(test_df['Timepoint'])\n",
    "test_fi = np.array(test_df['fraction_intact'])\n",
    "\n",
    "test_times\n",
    "test_fi\n",
    "\n",
    "fit_coeffs=[]\n",
    "\n",
    "for i in np.arange(0,10, 1):\n",
    "    \n",
    "    frac_intact = np.absolute(test_fi)\n",
    "\n",
    "    #generate bootstrap indices\n",
    "    bs_indices = bootstrap_inds(frac_intact)\n",
    "    print(bs_indices)\n",
    "    if (len(set(bs_indices))==1):\n",
    "        continue\n",
    "#     print(bs_indices)\n",
    "\n",
    "    #generating data for fit\n",
    "    fit_t = [test_times[i] for i in bs_indices]\n",
    "    fit_fracint = [frac_intact[i] for i in bs_indices]\n",
    "\n",
    "    #doing a first order fit after log transform\n",
    "    fit = np.polyfit(fit_t, -1*np.log(fit_fracint), 1, w=np.sqrt(fit_fracint))\n",
    "#         fit = np.polyfit(fit_t, -1*np.log(fit_fracint), 1)\n",
    "\n",
    "    fit\n",
    "    \n",
    "    fit_coeffs.append(fit[0])\n",
    "\n",
    "fit_coeffs\n",
    "\n",
    "\n",
    "# scatter(test_times, test_fi)\n",
    "\n",
    "# # fit = np.polyfit(test_times, -1*np.log(test_fi),1, w=np.sqrt(test_fi))\n",
    "# # fit\n",
    "# plot(np.arange(0,24,0.05), test_fi[0]*np.exp(-1*fit[0]*np.arange(0,24,0.05)))"
   ]
  },
  {
   "cell_type": "code",
   "execution_count": 60,
   "metadata": {},
   "outputs": [
    {
     "data": {
      "text/plain": [
       "<Figure size 1656x1296 with 0 Axes>"
      ]
     },
     "execution_count": 60,
     "metadata": {},
     "output_type": "execute_result"
    },
    {
     "name": "stderr",
     "output_type": "stream",
     "text": [
      "\r",
      "0it [00:00, ?it/s]"
     ]
    },
    {
     "data": {
      "text/plain": [
       "<matplotlib.axes._subplots.AxesSubplot at 0x7f881afdc4d0>"
      ]
     },
     "execution_count": 60,
     "metadata": {},
     "output_type": "execute_result"
    },
    {
     "data": {
      "text/plain": [
       "<matplotlib.collections.PathCollection at 0x7f8809dbad90>"
      ]
     },
     "execution_count": 60,
     "metadata": {},
     "output_type": "execute_result"
    },
    {
     "name": "stdout",
     "output_type": "stream",
     "text": [
      "Trying an exponential fit...('hHBB_10383581_START_reference_hHBB', 'PSU')\n"
     ]
    },
    {
     "data": {
      "text/plain": [
       "array([0.28021009, 0.33012402])"
      ]
     },
     "execution_count": 60,
     "metadata": {},
     "output_type": "execute_result"
    },
    {
     "data": {
      "text/plain": [
       "array([[ 0.00126631, -0.00170472],\n",
       "       [-0.00170472,  0.00584759]])"
      ]
     },
     "execution_count": 60,
     "metadata": {},
     "output_type": "execute_result"
    },
    {
     "name": "stdout",
     "output_type": "stream",
     "text": [
      "kdeg: 0.2802100867498794\n",
      "kdeg_err: 0.0012663143246692918\n"
     ]
    },
    {
     "data": {
      "text/plain": [
       "[<matplotlib.lines.Line2D at 0x7f88291aa4d0>]"
      ]
     },
     "execution_count": 60,
     "metadata": {},
     "output_type": "execute_result"
    },
    {
     "data": {
      "text/plain": [
       "<matplotlib.legend.Legend at 0x7f88291aa710>"
      ]
     },
     "execution_count": 60,
     "metadata": {},
     "output_type": "execute_result"
    },
    {
     "data": {
      "text/plain": [
       "Text(0.5, 1.0, 'hHBB_10383581_START_reference_hHBB')"
      ]
     },
     "execution_count": 60,
     "metadata": {},
     "output_type": "execute_result"
    },
    {
     "data": {
      "text/plain": [
       "Text(0.5, 0, 'Time (hours)')"
      ]
     },
     "execution_count": 60,
     "metadata": {},
     "output_type": "execute_result"
    },
    {
     "data": {
      "text/plain": [
       "Text(0, 0.5, 'Fraction Intact')"
      ]
     },
     "execution_count": 60,
     "metadata": {},
     "output_type": "execute_result"
    },
    {
     "data": {
      "text/plain": [
       "<matplotlib.axes._subplots.AxesSubplot at 0x7f87ebf0be90>"
      ]
     },
     "execution_count": 60,
     "metadata": {},
     "output_type": "execute_result"
    },
    {
     "data": {
      "text/plain": [
       "<matplotlib.collections.PathCollection at 0x7f88291a3c10>"
      ]
     },
     "execution_count": 60,
     "metadata": {},
     "output_type": "execute_result"
    },
    {
     "name": "stdout",
     "output_type": "stream",
     "text": [
      "Trying an exponential fit...('hHBB_10383601_LinearDesign-beamsize50-USETHISONE_hHBB', 'PSU')\n"
     ]
    },
    {
     "data": {
      "text/plain": [
       "array([0.13566969, 0.37311767])"
      ]
     },
     "execution_count": 60,
     "metadata": {},
     "output_type": "execute_result"
    },
    {
     "data": {
      "text/plain": [
       "array([[ 0.00013297, -0.00023604],\n",
       "       [-0.00023604,  0.00085392]])"
      ]
     },
     "execution_count": 60,
     "metadata": {},
     "output_type": "execute_result"
    },
    {
     "name": "stdout",
     "output_type": "stream",
     "text": [
      "kdeg: 0.13566969294531547\n",
      "kdeg_err: 0.0001329724273991386\n"
     ]
    },
    {
     "data": {
      "text/plain": [
       "[<matplotlib.lines.Line2D at 0x7f88291b9b90>]"
      ]
     },
     "execution_count": 60,
     "metadata": {},
     "output_type": "execute_result"
    },
    {
     "data": {
      "text/plain": [
       "<matplotlib.legend.Legend at 0x7f88291b9dd0>"
      ]
     },
     "execution_count": 60,
     "metadata": {},
     "output_type": "execute_result"
    },
    {
     "data": {
      "text/plain": [
       "Text(0.5, 1.0, 'hHBB_10383601_LinearDesign-beamsize50-USETHISONE_hHBB')"
      ]
     },
     "execution_count": 60,
     "metadata": {},
     "output_type": "execute_result"
    },
    {
     "data": {
      "text/plain": [
       "Text(0.5, 0, 'Time (hours)')"
      ]
     },
     "execution_count": 60,
     "metadata": {},
     "output_type": "execute_result"
    },
    {
     "data": {
      "text/plain": [
       "Text(0, 0.5, 'Fraction Intact')"
      ]
     },
     "execution_count": 60,
     "metadata": {},
     "output_type": "execute_result"
    },
    {
     "name": "stderr",
     "output_type": "stream",
     "text": [
      "\r",
      "2it [00:00, 12.66it/s]"
     ]
    },
    {
     "data": {
      "text/plain": [
       "<matplotlib.axes._subplots.AxesSubplot at 0x7f87ebe5de10>"
      ]
     },
     "execution_count": 60,
     "metadata": {},
     "output_type": "execute_result"
    },
    {
     "data": {
      "text/plain": [
       "<matplotlib.collections.PathCollection at 0x7f88291b9350>"
      ]
     },
     "execution_count": 60,
     "metadata": {},
     "output_type": "execute_result"
    },
    {
     "name": "stdout",
     "output_type": "stream",
     "text": [
      "Trying an exponential fit...('hHBB_10383651_GC_rich_1_hHBB', 'PSU')\n"
     ]
    },
    {
     "data": {
      "text/plain": [
       "array([0.29267751, 0.32621629])"
      ]
     },
     "execution_count": 60,
     "metadata": {},
     "output_type": "execute_result"
    },
    {
     "data": {
      "text/plain": [
       "array([[ 0.00123551, -0.00162114],\n",
       "       [-0.00162114,  0.00551396]])"
      ]
     },
     "execution_count": 60,
     "metadata": {},
     "output_type": "execute_result"
    },
    {
     "name": "stdout",
     "output_type": "stream",
     "text": [
      "kdeg: 0.29267750758826294\n",
      "kdeg_err: 0.0012355136234117443\n"
     ]
    },
    {
     "data": {
      "text/plain": [
       "[<matplotlib.lines.Line2D at 0x7f87f16c9c10>]"
      ]
     },
     "execution_count": 60,
     "metadata": {},
     "output_type": "execute_result"
    },
    {
     "data": {
      "text/plain": [
       "<matplotlib.legend.Legend at 0x7f87f16c9a50>"
      ]
     },
     "execution_count": 60,
     "metadata": {},
     "output_type": "execute_result"
    },
    {
     "data": {
      "text/plain": [
       "Text(0.5, 1.0, 'hHBB_10383651_GC_rich_1_hHBB')"
      ]
     },
     "execution_count": 60,
     "metadata": {},
     "output_type": "execute_result"
    },
    {
     "data": {
      "text/plain": [
       "Text(0.5, 0, 'Time (hours)')"
      ]
     },
     "execution_count": 60,
     "metadata": {},
     "output_type": "execute_result"
    },
    {
     "data": {
      "text/plain": [
       "Text(0, 0.5, 'Fraction Intact')"
      ]
     },
     "execution_count": 60,
     "metadata": {},
     "output_type": "execute_result"
    },
    {
     "data": {
      "text/plain": [
       "<matplotlib.axes._subplots.AxesSubplot at 0x7f88291e8dd0>"
      ]
     },
     "execution_count": 60,
     "metadata": {},
     "output_type": "execute_result"
    },
    {
     "data": {
      "text/plain": [
       "<matplotlib.collections.PathCollection at 0x7f87f16c9310>"
      ]
     },
     "execution_count": 60,
     "metadata": {},
     "output_type": "execute_result"
    },
    {
     "name": "stdout",
     "output_type": "stream",
     "text": [
      "Trying an exponential fit...('hHBB_10383653_GC_rich_2_hHBB', 'PSU')\n"
     ]
    },
    {
     "data": {
      "text/plain": [
       "array([0.28556948, 0.29180143])"
      ]
     },
     "execution_count": 60,
     "metadata": {},
     "output_type": "execute_result"
    },
    {
     "data": {
      "text/plain": [
       "array([[ 0.00057022, -0.00076028],\n",
       "       [-0.00076028,  0.00256348]])"
      ]
     },
     "execution_count": 60,
     "metadata": {},
     "output_type": "execute_result"
    },
    {
     "name": "stdout",
     "output_type": "stream",
     "text": [
      "kdeg: 0.2855694776494747\n",
      "kdeg_err: 0.0005702180192791821\n"
     ]
    },
    {
     "data": {
      "text/plain": [
       "[<matplotlib.lines.Line2D at 0x7f88291fcbd0>]"
      ]
     },
     "execution_count": 60,
     "metadata": {},
     "output_type": "execute_result"
    },
    {
     "data": {
      "text/plain": [
       "<matplotlib.legend.Legend at 0x7f88291fc8d0>"
      ]
     },
     "execution_count": 60,
     "metadata": {},
     "output_type": "execute_result"
    },
    {
     "data": {
      "text/plain": [
       "Text(0.5, 1.0, 'hHBB_10383653_GC_rich_2_hHBB')"
      ]
     },
     "execution_count": 60,
     "metadata": {},
     "output_type": "execute_result"
    },
    {
     "data": {
      "text/plain": [
       "Text(0.5, 0, 'Time (hours)')"
      ]
     },
     "execution_count": 60,
     "metadata": {},
     "output_type": "execute_result"
    },
    {
     "data": {
      "text/plain": [
       "Text(0, 0.5, 'Fraction Intact')"
      ]
     },
     "execution_count": 60,
     "metadata": {},
     "output_type": "execute_result"
    },
    {
     "name": "stderr",
     "output_type": "stream",
     "text": [
      "\r",
      "4it [00:00, 12.09it/s]"
     ]
    },
    {
     "data": {
      "text/plain": [
       "<matplotlib.axes._subplots.AxesSubplot at 0x7f882921cc50>"
      ]
     },
     "execution_count": 60,
     "metadata": {},
     "output_type": "execute_result"
    },
    {
     "data": {
      "text/plain": [
       "<matplotlib.collections.PathCollection at 0x7f88291fc210>"
      ]
     },
     "execution_count": 60,
     "metadata": {},
     "output_type": "execute_result"
    },
    {
     "name": "stdout",
     "output_type": "stream",
     "text": [
      "Trying an exponential fit...('hHBB_10388753_IDT_1_hHBB', 'PSU')\n"
     ]
    },
    {
     "data": {
      "text/plain": [
       "array([0.37938187, 0.41917015])"
      ]
     },
     "execution_count": 60,
     "metadata": {},
     "output_type": "execute_result"
    },
    {
     "data": {
      "text/plain": [
       "array([[ 0.0004195 , -0.00046648],\n",
       "       [-0.00046648,  0.00140108]])"
      ]
     },
     "execution_count": 60,
     "metadata": {},
     "output_type": "execute_result"
    },
    {
     "name": "stdout",
     "output_type": "stream",
     "text": [
      "kdeg: 0.3793818723503525\n",
      "kdeg_err: 0.0004195038077066658\n"
     ]
    },
    {
     "data": {
      "text/plain": [
       "[<matplotlib.lines.Line2D at 0x7f87d878bf50>]"
      ]
     },
     "execution_count": 60,
     "metadata": {},
     "output_type": "execute_result"
    },
    {
     "data": {
      "text/plain": [
       "<matplotlib.legend.Legend at 0x7f87d878b810>"
      ]
     },
     "execution_count": 60,
     "metadata": {},
     "output_type": "execute_result"
    },
    {
     "data": {
      "text/plain": [
       "Text(0.5, 1.0, 'hHBB_10388753_IDT_1_hHBB')"
      ]
     },
     "execution_count": 60,
     "metadata": {},
     "output_type": "execute_result"
    },
    {
     "data": {
      "text/plain": [
       "Text(0.5, 0, 'Time (hours)')"
      ]
     },
     "execution_count": 60,
     "metadata": {},
     "output_type": "execute_result"
    },
    {
     "data": {
      "text/plain": [
       "Text(0, 0.5, 'Fraction Intact')"
      ]
     },
     "execution_count": 60,
     "metadata": {},
     "output_type": "execute_result"
    },
    {
     "name": "stderr",
     "output_type": "stream",
     "text": [
      "\r",
      "5it [00:00, 10.45it/s]"
     ]
    },
    {
     "data": {
      "text/plain": [
       "<matplotlib.axes._subplots.AxesSubplot at 0x7f87d8771e50>"
      ]
     },
     "execution_count": 60,
     "metadata": {},
     "output_type": "execute_result"
    },
    {
     "data": {
      "text/plain": [
       "<matplotlib.collections.PathCollection at 0x7f87d878b610>"
      ]
     },
     "execution_count": 60,
     "metadata": {},
     "output_type": "execute_result"
    },
    {
     "name": "stdout",
     "output_type": "stream",
     "text": [
      "Trying an exponential fit...('hHBB_10388767_Genewiz_1_hHBB', 'PSU')\n"
     ]
    },
    {
     "data": {
      "text/plain": [
       "array([0.31179659, 0.26899182])"
      ]
     },
     "execution_count": 60,
     "metadata": {},
     "output_type": "execute_result"
    },
    {
     "data": {
      "text/plain": [
       "array([[ 0.0015456 , -0.00195703],\n",
       "       [-0.00195703,  0.00659383]])"
      ]
     },
     "execution_count": 60,
     "metadata": {},
     "output_type": "execute_result"
    },
    {
     "name": "stdout",
     "output_type": "stream",
     "text": [
      "kdeg: 0.3117965945106493\n",
      "kdeg_err: 0.0015456032415604598\n"
     ]
    },
    {
     "data": {
      "text/plain": [
       "[<matplotlib.lines.Line2D at 0x7f8839c9c0d0>]"
      ]
     },
     "execution_count": 60,
     "metadata": {},
     "output_type": "execute_result"
    },
    {
     "data": {
      "text/plain": [
       "<matplotlib.legend.Legend at 0x7f88291fc550>"
      ]
     },
     "execution_count": 60,
     "metadata": {},
     "output_type": "execute_result"
    },
    {
     "data": {
      "text/plain": [
       "Text(0.5, 1.0, 'hHBB_10388767_Genewiz_1_hHBB')"
      ]
     },
     "execution_count": 60,
     "metadata": {},
     "output_type": "execute_result"
    },
    {
     "data": {
      "text/plain": [
       "Text(0.5, 0, 'Time (hours)')"
      ]
     },
     "execution_count": 60,
     "metadata": {},
     "output_type": "execute_result"
    },
    {
     "data": {
      "text/plain": [
       "Text(0, 0.5, 'Fraction Intact')"
      ]
     },
     "execution_count": 60,
     "metadata": {},
     "output_type": "execute_result"
    },
    {
     "name": "stderr",
     "output_type": "stream",
     "text": [
      "\r",
      "6it [00:00,  9.32it/s]"
     ]
    },
    {
     "data": {
      "text/plain": [
       "<matplotlib.axes._subplots.AxesSubplot at 0x7f87d8661f90>"
      ]
     },
     "execution_count": 60,
     "metadata": {},
     "output_type": "execute_result"
    },
    {
     "data": {
      "text/plain": [
       "<matplotlib.collections.PathCollection at 0x7f8839c7b850>"
      ]
     },
     "execution_count": 60,
     "metadata": {},
     "output_type": "execute_result"
    },
    {
     "name": "stdout",
     "output_type": "stream",
     "text": [
      "Trying an exponential fit...('hHBB_10388774_Twist_1_hHBB', 'PSU')\n"
     ]
    },
    {
     "data": {
      "text/plain": [
       "array([0.29982658, 0.39376792])"
      ]
     },
     "execution_count": 60,
     "metadata": {},
     "output_type": "execute_result"
    },
    {
     "data": {
      "text/plain": [
       "array([[ 0.00034764, -0.00045108],\n",
       "       [-0.00045108,  0.001496  ]])"
      ]
     },
     "execution_count": 60,
     "metadata": {},
     "output_type": "execute_result"
    },
    {
     "name": "stdout",
     "output_type": "stream",
     "text": [
      "kdeg: 0.2998265817220133\n",
      "kdeg_err: 0.0003476389310287487\n"
     ]
    },
    {
     "data": {
      "text/plain": [
       "[<matplotlib.lines.Line2D at 0x7f87ebf42210>]"
      ]
     },
     "execution_count": 60,
     "metadata": {},
     "output_type": "execute_result"
    },
    {
     "data": {
      "text/plain": [
       "<matplotlib.legend.Legend at 0x7f87ebf34a50>"
      ]
     },
     "execution_count": 60,
     "metadata": {},
     "output_type": "execute_result"
    },
    {
     "data": {
      "text/plain": [
       "Text(0.5, 1.0, 'hHBB_10388774_Twist_1_hHBB')"
      ]
     },
     "execution_count": 60,
     "metadata": {},
     "output_type": "execute_result"
    },
    {
     "data": {
      "text/plain": [
       "Text(0.5, 0, 'Time (hours)')"
      ]
     },
     "execution_count": 60,
     "metadata": {},
     "output_type": "execute_result"
    },
    {
     "data": {
      "text/plain": [
       "Text(0, 0.5, 'Fraction Intact')"
      ]
     },
     "execution_count": 60,
     "metadata": {},
     "output_type": "execute_result"
    },
    {
     "name": "stderr",
     "output_type": "stream",
     "text": [
      "\r",
      "7it [00:00,  8.44it/s]"
     ]
    },
    {
     "data": {
      "text/plain": [
       "<matplotlib.axes._subplots.AxesSubplot at 0x7f87ebf49310>"
      ]
     },
     "execution_count": 60,
     "metadata": {},
     "output_type": "execute_result"
    },
    {
     "data": {
      "text/plain": [
       "<matplotlib.collections.PathCollection at 0x7f87ebf347d0>"
      ]
     },
     "execution_count": 60,
     "metadata": {},
     "output_type": "execute_result"
    },
    {
     "name": "stdout",
     "output_type": "stream",
     "text": [
      "Trying an exponential fit...(\"hHBB_10389218_Omei_1_DG2=158.7_5'UTR_20_unpaired_hHBB\", 'PSU')\n"
     ]
    },
    {
     "data": {
      "text/plain": [
       "array([0.14243919, 0.35742662])"
      ]
     },
     "execution_count": 60,
     "metadata": {},
     "output_type": "execute_result"
    },
    {
     "data": {
      "text/plain": [
       "array([[ 0.00023771, -0.00041659],\n",
       "       [-0.00041659,  0.00152357]])"
      ]
     },
     "execution_count": 60,
     "metadata": {},
     "output_type": "execute_result"
    },
    {
     "name": "stdout",
     "output_type": "stream",
     "text": [
      "kdeg: 0.14243918966998373\n",
      "kdeg_err: 0.0002377072699491178\n"
     ]
    },
    {
     "data": {
      "text/plain": [
       "[<matplotlib.lines.Line2D at 0x7f8809e37310>]"
      ]
     },
     "execution_count": 60,
     "metadata": {},
     "output_type": "execute_result"
    },
    {
     "data": {
      "text/plain": [
       "<matplotlib.legend.Legend at 0x7f87ebf64350>"
      ]
     },
     "execution_count": 60,
     "metadata": {},
     "output_type": "execute_result"
    },
    {
     "data": {
      "text/plain": [
       "Text(0.5, 1.0, \"hHBB_10389218_Omei_1_DG2=158.7_5'UTR_20_unpaired_hHBB\")"
      ]
     },
     "execution_count": 60,
     "metadata": {},
     "output_type": "execute_result"
    },
    {
     "data": {
      "text/plain": [
       "Text(0.5, 0, 'Time (hours)')"
      ]
     },
     "execution_count": 60,
     "metadata": {},
     "output_type": "execute_result"
    },
    {
     "data": {
      "text/plain": [
       "Text(0, 0.5, 'Fraction Intact')"
      ]
     },
     "execution_count": 60,
     "metadata": {},
     "output_type": "execute_result"
    },
    {
     "name": "stderr",
     "output_type": "stream",
     "text": [
      "\r",
      "8it [00:00,  7.68it/s]"
     ]
    },
    {
     "data": {
      "text/plain": [
       "<matplotlib.axes._subplots.AxesSubplot at 0x7f8809e35050>"
      ]
     },
     "execution_count": 60,
     "metadata": {},
     "output_type": "execute_result"
    },
    {
     "data": {
      "text/plain": [
       "<matplotlib.collections.PathCollection at 0x7f87ebf49190>"
      ]
     },
     "execution_count": 60,
     "metadata": {},
     "output_type": "execute_result"
    },
    {
     "name": "stdout",
     "output_type": "stream",
     "text": [
      "Trying an exponential fit...('hHBB_10396597_Astros-Brourd-Eli-mod3_hHBB', 'PSU')\n"
     ]
    },
    {
     "data": {
      "text/plain": [
       "array([0.34857161, 0.29324102])"
      ]
     },
     "execution_count": 60,
     "metadata": {},
     "output_type": "execute_result"
    },
    {
     "data": {
      "text/plain": [
       "array([[ 0.00015834, -0.00018694],\n",
       "       [-0.00018694,  0.00058016]])"
      ]
     },
     "execution_count": 60,
     "metadata": {},
     "output_type": "execute_result"
    },
    {
     "name": "stdout",
     "output_type": "stream",
     "text": [
      "kdeg: 0.34857160808953225\n",
      "kdeg_err: 0.00015834121599981511\n"
     ]
    },
    {
     "data": {
      "text/plain": [
       "[<matplotlib.lines.Line2D at 0x7f8839ce5e10>]"
      ]
     },
     "execution_count": 60,
     "metadata": {},
     "output_type": "execute_result"
    },
    {
     "data": {
      "text/plain": [
       "<matplotlib.legend.Legend at 0x7f8839ce5c10>"
      ]
     },
     "execution_count": 60,
     "metadata": {},
     "output_type": "execute_result"
    },
    {
     "data": {
      "text/plain": [
       "Text(0.5, 1.0, 'hHBB_10396597_Astros-Brourd-Eli-mod3_hHBB')"
      ]
     },
     "execution_count": 60,
     "metadata": {},
     "output_type": "execute_result"
    },
    {
     "data": {
      "text/plain": [
       "Text(0.5, 0, 'Time (hours)')"
      ]
     },
     "execution_count": 60,
     "metadata": {},
     "output_type": "execute_result"
    },
    {
     "data": {
      "text/plain": [
       "Text(0, 0.5, 'Fraction Intact')"
      ]
     },
     "execution_count": 60,
     "metadata": {},
     "output_type": "execute_result"
    },
    {
     "name": "stderr",
     "output_type": "stream",
     "text": [
      "\r",
      "9it [00:01,  7.16it/s]"
     ]
    },
    {
     "data": {
      "text/plain": [
       "<matplotlib.axes._subplots.AxesSubplot at 0x7f8839cf7050>"
      ]
     },
     "execution_count": 60,
     "metadata": {},
     "output_type": "execute_result"
    },
    {
     "data": {
      "text/plain": [
       "<matplotlib.collections.PathCollection at 0x7f8839ce5610>"
      ]
     },
     "execution_count": 60,
     "metadata": {},
     "output_type": "execute_result"
    },
    {
     "name": "stdout",
     "output_type": "stream",
     "text": [
      "Trying an exponential fit...('hHBB_10405622_Eli_Fisker_s_Yellowstone_hHBB', 'PSU')\n"
     ]
    },
    {
     "data": {
      "text/plain": [
       "array([0.31181836, 0.38251642])"
      ]
     },
     "execution_count": 60,
     "metadata": {},
     "output_type": "execute_result"
    },
    {
     "data": {
      "text/plain": [
       "array([[ 0.00035565, -0.00045108],\n",
       "       [-0.00045108,  0.00147788]])"
      ]
     },
     "execution_count": 60,
     "metadata": {},
     "output_type": "execute_result"
    },
    {
     "name": "stdout",
     "output_type": "stream",
     "text": [
      "kdeg: 0.31181835883590464\n",
      "kdeg_err: 0.0003556471408037289\n"
     ]
    },
    {
     "data": {
      "text/plain": [
       "[<matplotlib.lines.Line2D at 0x7f87ec0011d0>]"
      ]
     },
     "execution_count": 60,
     "metadata": {},
     "output_type": "execute_result"
    },
    {
     "data": {
      "text/plain": [
       "<matplotlib.legend.Legend at 0x7f87ebfdce50>"
      ]
     },
     "execution_count": 60,
     "metadata": {},
     "output_type": "execute_result"
    },
    {
     "data": {
      "text/plain": [
       "Text(0.5, 1.0, 'hHBB_10405622_Eli_Fisker_s_Yellowstone_hHBB')"
      ]
     },
     "execution_count": 60,
     "metadata": {},
     "output_type": "execute_result"
    },
    {
     "data": {
      "text/plain": [
       "Text(0.5, 0, 'Time (hours)')"
      ]
     },
     "execution_count": 60,
     "metadata": {},
     "output_type": "execute_result"
    },
    {
     "data": {
      "text/plain": [
       "Text(0, 0.5, 'Fraction Intact')"
      ]
     },
     "execution_count": 60,
     "metadata": {},
     "output_type": "execute_result"
    },
    {
     "name": "stderr",
     "output_type": "stream",
     "text": [
      "\r",
      "10it [00:01,  6.77it/s]"
     ]
    },
    {
     "data": {
      "text/plain": [
       "<matplotlib.axes._subplots.AxesSubplot at 0x7f87f16dba50>"
      ]
     },
     "execution_count": 60,
     "metadata": {},
     "output_type": "execute_result"
    },
    {
     "data": {
      "text/plain": [
       "<matplotlib.collections.PathCollection at 0x7f87ebfdc890>"
      ]
     },
     "execution_count": 60,
     "metadata": {},
     "output_type": "execute_result"
    },
    {
     "name": "stdout",
     "output_type": "stream",
     "text": [
      "Trying an exponential fit...(\"hHBB_10409421_BugacMan's_Worm_refined_Kagglestyle_hHBB\", 'PSU')\n"
     ]
    },
    {
     "data": {
      "text/plain": [
       "array([0.15795967, 0.28885263])"
      ]
     },
     "execution_count": 60,
     "metadata": {},
     "output_type": "execute_result"
    },
    {
     "data": {
      "text/plain": [
       "array([[ 6.80625922e-05, -1.15932392e-04],\n",
       "       [-1.15932392e-04,  4.16814929e-04]])"
      ]
     },
     "execution_count": 60,
     "metadata": {},
     "output_type": "execute_result"
    },
    {
     "name": "stdout",
     "output_type": "stream",
     "text": [
      "kdeg: 0.157959669662302\n",
      "kdeg_err: 6.806259221812724e-05\n"
     ]
    },
    {
     "data": {
      "text/plain": [
       "[<matplotlib.lines.Line2D at 0x7f8809e91dd0>]"
      ]
     },
     "execution_count": 60,
     "metadata": {},
     "output_type": "execute_result"
    },
    {
     "data": {
      "text/plain": [
       "<matplotlib.legend.Legend at 0x7f8809e91b50>"
      ]
     },
     "execution_count": 60,
     "metadata": {},
     "output_type": "execute_result"
    },
    {
     "data": {
      "text/plain": [
       "Text(0.5, 1.0, \"hHBB_10409421_BugacMan's_Worm_refined_Kagglestyle_hHBB\")"
      ]
     },
     "execution_count": 60,
     "metadata": {},
     "output_type": "execute_result"
    },
    {
     "data": {
      "text/plain": [
       "Text(0.5, 0, 'Time (hours)')"
      ]
     },
     "execution_count": 60,
     "metadata": {},
     "output_type": "execute_result"
    },
    {
     "data": {
      "text/plain": [
       "Text(0, 0.5, 'Fraction Intact')"
      ]
     },
     "execution_count": 60,
     "metadata": {},
     "output_type": "execute_result"
    },
    {
     "name": "stderr",
     "output_type": "stream",
     "text": [
      "\r",
      "11it [00:01,  6.16it/s]"
     ]
    },
    {
     "data": {
      "text/plain": [
       "<matplotlib.axes._subplots.AxesSubplot at 0x7f8809e9cf50>"
      ]
     },
     "execution_count": 60,
     "metadata": {},
     "output_type": "execute_result"
    },
    {
     "data": {
      "text/plain": [
       "<matplotlib.collections.PathCollection at 0x7f8809e914d0>"
      ]
     },
     "execution_count": 60,
     "metadata": {},
     "output_type": "execute_result"
    },
    {
     "name": "stdout",
     "output_type": "stream",
     "text": [
      "Trying an exponential fit...('hHBB_10415148_AB_Rhiju_Mod_3_hHBB', 'PSU')\n"
     ]
    },
    {
     "data": {
      "text/plain": [
       "array([0.12030395, 0.29089388])"
      ]
     },
     "execution_count": 60,
     "metadata": {},
     "output_type": "execute_result"
    },
    {
     "data": {
      "text/plain": [
       "array([[ 8.23939837e-06, -1.50431254e-05],\n",
       "       [-1.50431254e-05,  5.50287105e-05]])"
      ]
     },
     "execution_count": 60,
     "metadata": {},
     "output_type": "execute_result"
    },
    {
     "name": "stdout",
     "output_type": "stream",
     "text": [
      "kdeg: 0.12030395267199626\n",
      "kdeg_err: 8.23939836893014e-06\n"
     ]
    },
    {
     "data": {
      "text/plain": [
       "[<matplotlib.lines.Line2D at 0x7f87ec041690>]"
      ]
     },
     "execution_count": 60,
     "metadata": {},
     "output_type": "execute_result"
    },
    {
     "data": {
      "text/plain": [
       "<matplotlib.legend.Legend at 0x7f87ec01edd0>"
      ]
     },
     "execution_count": 60,
     "metadata": {},
     "output_type": "execute_result"
    },
    {
     "data": {
      "text/plain": [
       "Text(0.5, 1.0, 'hHBB_10415148_AB_Rhiju_Mod_3_hHBB')"
      ]
     },
     "execution_count": 60,
     "metadata": {},
     "output_type": "execute_result"
    },
    {
     "data": {
      "text/plain": [
       "Text(0.5, 0, 'Time (hours)')"
      ]
     },
     "execution_count": 60,
     "metadata": {},
     "output_type": "execute_result"
    },
    {
     "data": {
      "text/plain": [
       "Text(0, 0.5, 'Fraction Intact')"
      ]
     },
     "execution_count": 60,
     "metadata": {},
     "output_type": "execute_result"
    },
    {
     "name": "stderr",
     "output_type": "stream",
     "text": [
      "\r",
      "12it [00:01,  5.75it/s]"
     ]
    },
    {
     "data": {
      "text/plain": [
       "<matplotlib.axes._subplots.AxesSubplot at 0x7f87ec045650>"
      ]
     },
     "execution_count": 60,
     "metadata": {},
     "output_type": "execute_result"
    },
    {
     "data": {
      "text/plain": [
       "<matplotlib.collections.PathCollection at 0x7f87ec01ed10>"
      ]
     },
     "execution_count": 60,
     "metadata": {},
     "output_type": "execute_result"
    },
    {
     "name": "stdout",
     "output_type": "stream",
     "text": [
      "Trying an exponential fit...('hHBB_10415488_RLT-10_hHBB', 'PSU')\n"
     ]
    },
    {
     "data": {
      "text/plain": [
       "array([0.14058623, 0.2901236 ])"
      ]
     },
     "execution_count": 60,
     "metadata": {},
     "output_type": "execute_result"
    },
    {
     "data": {
      "text/plain": [
       "array([[ 7.39972418e-05, -1.30181408e-04],\n",
       "       [-1.30181408e-04,  4.72364986e-04]])"
      ]
     },
     "execution_count": 60,
     "metadata": {},
     "output_type": "execute_result"
    },
    {
     "name": "stdout",
     "output_type": "stream",
     "text": [
      "kdeg: 0.1405862279772574\n",
      "kdeg_err: 7.399724182438765e-05\n"
     ]
    },
    {
     "data": {
      "text/plain": [
       "[<matplotlib.lines.Line2D at 0x7f87f890ff10>]"
      ]
     },
     "execution_count": 60,
     "metadata": {},
     "output_type": "execute_result"
    },
    {
     "data": {
      "text/plain": [
       "<matplotlib.legend.Legend at 0x7f87f890fe50>"
      ]
     },
     "execution_count": 60,
     "metadata": {},
     "output_type": "execute_result"
    },
    {
     "data": {
      "text/plain": [
       "Text(0.5, 1.0, 'hHBB_10415488_RLT-10_hHBB')"
      ]
     },
     "execution_count": 60,
     "metadata": {},
     "output_type": "execute_result"
    },
    {
     "data": {
      "text/plain": [
       "Text(0.5, 0, 'Time (hours)')"
      ]
     },
     "execution_count": 60,
     "metadata": {},
     "output_type": "execute_result"
    },
    {
     "data": {
      "text/plain": [
       "Text(0, 0.5, 'Fraction Intact')"
      ]
     },
     "execution_count": 60,
     "metadata": {},
     "output_type": "execute_result"
    },
    {
     "name": "stderr",
     "output_type": "stream",
     "text": [
      "\r",
      "13it [00:01,  5.58it/s]"
     ]
    },
    {
     "data": {
      "text/plain": [
       "<matplotlib.axes._subplots.AxesSubplot at 0x7f881b1fd150>"
      ]
     },
     "execution_count": 60,
     "metadata": {},
     "output_type": "execute_result"
    },
    {
     "data": {
      "text/plain": [
       "<matplotlib.collections.PathCollection at 0x7f87f890f750>"
      ]
     },
     "execution_count": 60,
     "metadata": {},
     "output_type": "execute_result"
    },
    {
     "name": "stdout",
     "output_type": "stream",
     "text": [
      "Trying an exponential fit...(\"hHBB_10417205_Jill's_mod_of_Clotho_2.0_hHBB\", 'PSU')\n"
     ]
    },
    {
     "data": {
      "text/plain": [
       "array([0.18241844, 0.42350171])"
      ]
     },
     "execution_count": 60,
     "metadata": {},
     "output_type": "execute_result"
    },
    {
     "data": {
      "text/plain": [
       "array([[ 0.00025891, -0.00042107],\n",
       "       [-0.00042107,  0.00147296]])"
      ]
     },
     "execution_count": 60,
     "metadata": {},
     "output_type": "execute_result"
    },
    {
     "name": "stdout",
     "output_type": "stream",
     "text": [
      "kdeg: 0.18241843736896057\n",
      "kdeg_err: 0.00025890647735429416\n"
     ]
    },
    {
     "data": {
      "text/plain": [
       "[<matplotlib.lines.Line2D at 0x7f87ec0811d0>]"
      ]
     },
     "execution_count": 60,
     "metadata": {},
     "output_type": "execute_result"
    },
    {
     "data": {
      "text/plain": [
       "<matplotlib.legend.Legend at 0x7f87ec035a10>"
      ]
     },
     "execution_count": 60,
     "metadata": {},
     "output_type": "execute_result"
    },
    {
     "data": {
      "text/plain": [
       "Text(0.5, 1.0, \"hHBB_10417205_Jill's_mod_of_Clotho_2.0_hHBB\")"
      ]
     },
     "execution_count": 60,
     "metadata": {},
     "output_type": "execute_result"
    },
    {
     "data": {
      "text/plain": [
       "Text(0.5, 0, 'Time (hours)')"
      ]
     },
     "execution_count": 60,
     "metadata": {},
     "output_type": "execute_result"
    },
    {
     "data": {
      "text/plain": [
       "Text(0, 0.5, 'Fraction Intact')"
      ]
     },
     "execution_count": 60,
     "metadata": {},
     "output_type": "execute_result"
    },
    {
     "name": "stderr",
     "output_type": "stream",
     "text": [
      "\r",
      "14it [00:02,  5.26it/s]"
     ]
    },
    {
     "data": {
      "text/plain": [
       "<matplotlib.axes._subplots.AxesSubplot at 0x7f87ec06e250>"
      ]
     },
     "execution_count": 60,
     "metadata": {},
     "output_type": "execute_result"
    },
    {
     "data": {
      "text/plain": [
       "<matplotlib.collections.PathCollection at 0x7f87ec061f90>"
      ]
     },
     "execution_count": 60,
     "metadata": {},
     "output_type": "execute_result"
    },
    {
     "name": "stdout",
     "output_type": "stream",
     "text": [
      "Trying an exponential fit...('hHBB_10419522_12_hHBB', 'PSU')\n"
     ]
    },
    {
     "data": {
      "text/plain": [
       "array([0.26755475, 0.32827427])"
      ]
     },
     "execution_count": 60,
     "metadata": {},
     "output_type": "execute_result"
    },
    {
     "data": {
      "text/plain": [
       "array([[ 0.00011443, -0.00015817],\n",
       "       [-0.00015817,  0.00053044]])"
      ]
     },
     "execution_count": 60,
     "metadata": {},
     "output_type": "execute_result"
    },
    {
     "name": "stdout",
     "output_type": "stream",
     "text": [
      "kdeg: 0.2675547453285242\n",
      "kdeg_err: 0.00011443423208335698\n"
     ]
    },
    {
     "data": {
      "text/plain": [
       "[<matplotlib.lines.Line2D at 0x7f87ec0e2450>]"
      ]
     },
     "execution_count": 60,
     "metadata": {},
     "output_type": "execute_result"
    },
    {
     "data": {
      "text/plain": [
       "<matplotlib.legend.Legend at 0x7f87ec06e850>"
      ]
     },
     "execution_count": 60,
     "metadata": {},
     "output_type": "execute_result"
    },
    {
     "data": {
      "text/plain": [
       "Text(0.5, 1.0, 'hHBB_10419522_12_hHBB')"
      ]
     },
     "execution_count": 60,
     "metadata": {},
     "output_type": "execute_result"
    },
    {
     "data": {
      "text/plain": [
       "Text(0.5, 0, 'Time (hours)')"
      ]
     },
     "execution_count": 60,
     "metadata": {},
     "output_type": "execute_result"
    },
    {
     "data": {
      "text/plain": [
       "Text(0, 0.5, 'Fraction Intact')"
      ]
     },
     "execution_count": 60,
     "metadata": {},
     "output_type": "execute_result"
    },
    {
     "name": "stderr",
     "output_type": "stream",
     "text": [
      "\r",
      "15it [00:02,  4.82it/s]"
     ]
    },
    {
     "data": {
      "text/plain": [
       "<matplotlib.axes._subplots.AxesSubplot at 0x7f87ec0e9250>"
      ]
     },
     "execution_count": 60,
     "metadata": {},
     "output_type": "execute_result"
    },
    {
     "data": {
      "text/plain": [
       "<matplotlib.collections.PathCollection at 0x7f87ec0c3cd0>"
      ]
     },
     "execution_count": 60,
     "metadata": {},
     "output_type": "execute_result"
    },
    {
     "name": "stdout",
     "output_type": "stream",
     "text": [
      "Trying an exponential fit...(\"hHBB_10419549_BugacMan's_Lost_LD+finetuning_mod_Deg-2-ed_hHBB\", 'PSU')\n"
     ]
    },
    {
     "data": {
      "text/plain": [
       "array([0.10509731, 0.30910028])"
      ]
     },
     "execution_count": 60,
     "metadata": {},
     "output_type": "execute_result"
    },
    {
     "data": {
      "text/plain": [
       "array([[ 2.59414560e-05, -4.86834596e-05],\n",
       "       [-4.86834596e-05,  1.79790112e-04]])"
      ]
     },
     "execution_count": 60,
     "metadata": {},
     "output_type": "execute_result"
    },
    {
     "name": "stdout",
     "output_type": "stream",
     "text": [
      "kdeg: 0.10509731137639294\n",
      "kdeg_err: 2.594145597125377e-05\n"
     ]
    },
    {
     "data": {
      "text/plain": [
       "[<matplotlib.lines.Line2D at 0x7f8829250d90>]"
      ]
     },
     "execution_count": 60,
     "metadata": {},
     "output_type": "execute_result"
    },
    {
     "data": {
      "text/plain": [
       "<matplotlib.legend.Legend at 0x7f8829271290>"
      ]
     },
     "execution_count": 60,
     "metadata": {},
     "output_type": "execute_result"
    },
    {
     "data": {
      "text/plain": [
       "Text(0.5, 1.0, \"hHBB_10419549_BugacMan's_Lost_LD+finetuning_mod_Deg-2-ed_hHBB\")"
      ]
     },
     "execution_count": 60,
     "metadata": {},
     "output_type": "execute_result"
    },
    {
     "data": {
      "text/plain": [
       "Text(0.5, 0, 'Time (hours)')"
      ]
     },
     "execution_count": 60,
     "metadata": {},
     "output_type": "execute_result"
    },
    {
     "data": {
      "text/plain": [
       "Text(0, 0.5, 'Fraction Intact')"
      ]
     },
     "execution_count": 60,
     "metadata": {},
     "output_type": "execute_result"
    },
    {
     "name": "stderr",
     "output_type": "stream",
     "text": [
      "\r",
      "16it [00:02,  4.64it/s]"
     ]
    },
    {
     "data": {
      "text/plain": [
       "<matplotlib.axes._subplots.AxesSubplot at 0x7f87ec0e9850>"
      ]
     },
     "execution_count": 60,
     "metadata": {},
     "output_type": "execute_result"
    },
    {
     "data": {
      "text/plain": [
       "<matplotlib.collections.PathCollection at 0x7f88292505d0>"
      ]
     },
     "execution_count": 60,
     "metadata": {},
     "output_type": "execute_result"
    },
    {
     "name": "stdout",
     "output_type": "stream",
     "text": [
      "Trying an exponential fit...('hHBB_10422723_Ribotree_Random_degscoreall_1_hHBB', 'PSU')\n"
     ]
    },
    {
     "data": {
      "text/plain": [
       "array([0.32633531, 0.27105634])"
      ]
     },
     "execution_count": 60,
     "metadata": {},
     "output_type": "execute_result"
    },
    {
     "data": {
      "text/plain": [
       "array([[ 0.00011794, -0.00014531],\n",
       "       [-0.00014531,  0.00045826]])"
      ]
     },
     "execution_count": 60,
     "metadata": {},
     "output_type": "execute_result"
    },
    {
     "name": "stdout",
     "output_type": "stream",
     "text": [
      "kdeg: 0.3263353056128982\n",
      "kdeg_err: 0.00011793584006781837\n"
     ]
    },
    {
     "data": {
      "text/plain": [
       "[<matplotlib.lines.Line2D at 0x7f8839d30e90>]"
      ]
     },
     "execution_count": 60,
     "metadata": {},
     "output_type": "execute_result"
    },
    {
     "data": {
      "text/plain": [
       "<matplotlib.legend.Legend at 0x7f8839d307d0>"
      ]
     },
     "execution_count": 60,
     "metadata": {},
     "output_type": "execute_result"
    },
    {
     "data": {
      "text/plain": [
       "Text(0.5, 1.0, 'hHBB_10422723_Ribotree_Random_degscoreall_1_hHBB')"
      ]
     },
     "execution_count": 60,
     "metadata": {},
     "output_type": "execute_result"
    },
    {
     "data": {
      "text/plain": [
       "Text(0.5, 0, 'Time (hours)')"
      ]
     },
     "execution_count": 60,
     "metadata": {},
     "output_type": "execute_result"
    },
    {
     "data": {
      "text/plain": [
       "Text(0, 0.5, 'Fraction Intact')"
      ]
     },
     "execution_count": 60,
     "metadata": {},
     "output_type": "execute_result"
    },
    {
     "name": "stderr",
     "output_type": "stream",
     "text": [
      "\r",
      "17it [00:02,  4.45it/s]"
     ]
    },
    {
     "data": {
      "text/plain": [
       "<matplotlib.axes._subplots.AxesSubplot at 0x7f8829250a10>"
      ]
     },
     "execution_count": 60,
     "metadata": {},
     "output_type": "execute_result"
    },
    {
     "data": {
      "text/plain": [
       "<matplotlib.collections.PathCollection at 0x7f8839d30650>"
      ]
     },
     "execution_count": 60,
     "metadata": {},
     "output_type": "execute_result"
    },
    {
     "name": "stdout",
     "output_type": "stream",
     "text": [
      "Trying an exponential fit...('hHBB_10422744_Ribotree_Random_degscore_1_hHBB', 'PSU')\n"
     ]
    },
    {
     "data": {
      "text/plain": [
       "array([0.37237676, 0.33675516])"
      ]
     },
     "execution_count": 60,
     "metadata": {},
     "output_type": "execute_result"
    },
    {
     "data": {
      "text/plain": [
       "array([[ 0.00056823, -0.0006388 ],\n",
       "       [-0.0006388 ,  0.00199272]])"
      ]
     },
     "execution_count": 60,
     "metadata": {},
     "output_type": "execute_result"
    },
    {
     "name": "stdout",
     "output_type": "stream",
     "text": [
      "kdeg: 0.3723767621969358\n",
      "kdeg_err: 0.0005682262516334973\n"
     ]
    },
    {
     "data": {
      "text/plain": [
       "[<matplotlib.lines.Line2D at 0x7f881b252d10>]"
      ]
     },
     "execution_count": 60,
     "metadata": {},
     "output_type": "execute_result"
    },
    {
     "data": {
      "text/plain": [
       "<matplotlib.legend.Legend at 0x7f881b252510>"
      ]
     },
     "execution_count": 60,
     "metadata": {},
     "output_type": "execute_result"
    },
    {
     "data": {
      "text/plain": [
       "Text(0.5, 1.0, 'hHBB_10422744_Ribotree_Random_degscore_1_hHBB')"
      ]
     },
     "execution_count": 60,
     "metadata": {},
     "output_type": "execute_result"
    },
    {
     "data": {
      "text/plain": [
       "Text(0.5, 0, 'Time (hours)')"
      ]
     },
     "execution_count": 60,
     "metadata": {},
     "output_type": "execute_result"
    },
    {
     "data": {
      "text/plain": [
       "Text(0, 0.5, 'Fraction Intact')"
      ]
     },
     "execution_count": 60,
     "metadata": {},
     "output_type": "execute_result"
    },
    {
     "name": "stderr",
     "output_type": "stream",
     "text": [
      "\r",
      "18it [00:03,  4.31it/s]"
     ]
    },
    {
     "data": {
      "text/plain": [
       "<matplotlib.axes._subplots.AxesSubplot at 0x7f881b273790>"
      ]
     },
     "execution_count": 60,
     "metadata": {},
     "output_type": "execute_result"
    },
    {
     "data": {
      "text/plain": [
       "<matplotlib.collections.PathCollection at 0x7f881b2524d0>"
      ]
     },
     "execution_count": 60,
     "metadata": {},
     "output_type": "execute_result"
    },
    {
     "name": "stdout",
     "output_type": "stream",
     "text": [
      "Trying an exponential fit...('hHBB_10422746_Ribotree_BT_winner_random_degscore_2_hHBB', 'PSU')\n"
     ]
    },
    {
     "data": {
      "text/plain": [
       "array([0.32419727, 0.50797141])"
      ]
     },
     "execution_count": 60,
     "metadata": {},
     "output_type": "execute_result"
    },
    {
     "data": {
      "text/plain": [
       "array([[ 0.00046819, -0.00057912],\n",
       "       [-0.00057912,  0.00189511]])"
      ]
     },
     "execution_count": 60,
     "metadata": {},
     "output_type": "execute_result"
    },
    {
     "name": "stdout",
     "output_type": "stream",
     "text": [
      "kdeg: 0.3241972695518972\n",
      "kdeg_err: 0.00046819104563988447\n"
     ]
    },
    {
     "data": {
      "text/plain": [
       "[<matplotlib.lines.Line2D at 0x7f8839d4f750>]"
      ]
     },
     "execution_count": 60,
     "metadata": {},
     "output_type": "execute_result"
    },
    {
     "data": {
      "text/plain": [
       "<matplotlib.legend.Legend at 0x7f8809f13f10>"
      ]
     },
     "execution_count": 60,
     "metadata": {},
     "output_type": "execute_result"
    },
    {
     "data": {
      "text/plain": [
       "Text(0.5, 1.0, 'hHBB_10422746_Ribotree_BT_winner_random_degscore_2_hHBB')"
      ]
     },
     "execution_count": 60,
     "metadata": {},
     "output_type": "execute_result"
    },
    {
     "data": {
      "text/plain": [
       "Text(0.5, 0, 'Time (hours)')"
      ]
     },
     "execution_count": 60,
     "metadata": {},
     "output_type": "execute_result"
    },
    {
     "data": {
      "text/plain": [
       "Text(0, 0.5, 'Fraction Intact')"
      ]
     },
     "execution_count": 60,
     "metadata": {},
     "output_type": "execute_result"
    },
    {
     "name": "stderr",
     "output_type": "stream",
     "text": [
      "\r",
      "19it [00:03,  4.04it/s]"
     ]
    },
    {
     "data": {
      "text/plain": [
       "<matplotlib.axes._subplots.AxesSubplot at 0x7f8839d55d90>"
      ]
     },
     "execution_count": 60,
     "metadata": {},
     "output_type": "execute_result"
    },
    {
     "data": {
      "text/plain": [
       "<matplotlib.collections.PathCollection at 0x7f8809f139d0>"
      ]
     },
     "execution_count": 60,
     "metadata": {},
     "output_type": "execute_result"
    },
    {
     "name": "stdout",
     "output_type": "stream",
     "text": [
      "Trying an exponential fit...('hHBB_10422764_Ribotree_LinearDesign_degscoreall_1_hHBB', 'PSU')\n"
     ]
    },
    {
     "data": {
      "text/plain": [
       "array([0.13772011, 0.36929671])"
      ]
     },
     "execution_count": 60,
     "metadata": {},
     "output_type": "execute_result"
    },
    {
     "data": {
      "text/plain": [
       "array([[ 9.65037732e-05, -1.70623077e-04],\n",
       "       [-1.70623077e-04,  6.18975259e-04]])"
      ]
     },
     "execution_count": 60,
     "metadata": {},
     "output_type": "execute_result"
    },
    {
     "name": "stdout",
     "output_type": "stream",
     "text": [
      "kdeg: 0.1377201072939949\n",
      "kdeg_err: 9.650377318097287e-05\n"
     ]
    },
    {
     "data": {
      "text/plain": [
       "[<matplotlib.lines.Line2D at 0x7f87d8695d10>]"
      ]
     },
     "execution_count": 60,
     "metadata": {},
     "output_type": "execute_result"
    },
    {
     "data": {
      "text/plain": [
       "<matplotlib.legend.Legend at 0x7f87d8695550>"
      ]
     },
     "execution_count": 60,
     "metadata": {},
     "output_type": "execute_result"
    },
    {
     "data": {
      "text/plain": [
       "Text(0.5, 1.0, 'hHBB_10422764_Ribotree_LinearDesign_degscoreall_1_hHBB')"
      ]
     },
     "execution_count": 60,
     "metadata": {},
     "output_type": "execute_result"
    },
    {
     "data": {
      "text/plain": [
       "Text(0.5, 0, 'Time (hours)')"
      ]
     },
     "execution_count": 60,
     "metadata": {},
     "output_type": "execute_result"
    },
    {
     "data": {
      "text/plain": [
       "Text(0, 0.5, 'Fraction Intact')"
      ]
     },
     "execution_count": 60,
     "metadata": {},
     "output_type": "execute_result"
    },
    {
     "name": "stderr",
     "output_type": "stream",
     "text": [
      "\r",
      "20it [00:03,  3.86it/s]"
     ]
    },
    {
     "data": {
      "text/plain": [
       "<matplotlib.axes._subplots.AxesSubplot at 0x7f8809eec110>"
      ]
     },
     "execution_count": 60,
     "metadata": {},
     "output_type": "execute_result"
    },
    {
     "data": {
      "text/plain": [
       "<matplotlib.collections.PathCollection at 0x7f87d8695490>"
      ]
     },
     "execution_count": 60,
     "metadata": {},
     "output_type": "execute_result"
    },
    {
     "name": "stdout",
     "output_type": "stream",
     "text": [
      "Trying an exponential fit...('hHBB_10422776_RiboTree_Nullrecurrent_winner_LinearDesign_degscoreall_7_hHBB', 'PSU')\n"
     ]
    },
    {
     "data": {
      "text/plain": [
       "array([0.14181296, 0.31807693])"
      ]
     },
     "execution_count": 60,
     "metadata": {},
     "output_type": "execute_result"
    },
    {
     "data": {
      "text/plain": [
       "array([[ 0.0001193 , -0.00020943],\n",
       "       [-0.00020943,  0.00076027]])"
      ]
     },
     "execution_count": 60,
     "metadata": {},
     "output_type": "execute_result"
    },
    {
     "name": "stdout",
     "output_type": "stream",
     "text": [
      "kdeg: 0.1418129596897551\n",
      "kdeg_err: 0.00011930427795382712\n"
     ]
    },
    {
     "data": {
      "text/plain": [
       "[<matplotlib.lines.Line2D at 0x7f87ec14ec50>]"
      ]
     },
     "execution_count": 60,
     "metadata": {},
     "output_type": "execute_result"
    },
    {
     "data": {
      "text/plain": [
       "<matplotlib.legend.Legend at 0x7f87ec14e690>"
      ]
     },
     "execution_count": 60,
     "metadata": {},
     "output_type": "execute_result"
    },
    {
     "data": {
      "text/plain": [
       "Text(0.5, 1.0, 'hHBB_10422776_RiboTree_Nullrecurrent_winner_LinearDesign_degscoreall_7_hHBB')"
      ]
     },
     "execution_count": 60,
     "metadata": {},
     "output_type": "execute_result"
    },
    {
     "data": {
      "text/plain": [
       "Text(0.5, 0, 'Time (hours)')"
      ]
     },
     "execution_count": 60,
     "metadata": {},
     "output_type": "execute_result"
    },
    {
     "data": {
      "text/plain": [
       "Text(0, 0.5, 'Fraction Intact')"
      ]
     },
     "execution_count": 60,
     "metadata": {},
     "output_type": "execute_result"
    },
    {
     "name": "stderr",
     "output_type": "stream",
     "text": [
      "\r",
      "21it [00:03,  3.76it/s]"
     ]
    },
    {
     "data": {
      "text/plain": [
       "<matplotlib.axes._subplots.AxesSubplot at 0x7f87f1708d10>"
      ]
     },
     "execution_count": 60,
     "metadata": {},
     "output_type": "execute_result"
    },
    {
     "data": {
      "text/plain": [
       "<matplotlib.collections.PathCollection at 0x7f87ec14e410>"
      ]
     },
     "execution_count": 60,
     "metadata": {},
     "output_type": "execute_result"
    },
    {
     "name": "stdout",
     "output_type": "stream",
     "text": [
      "Trying an exponential fit...('hHBB_10422784_Ribotree_LinearDesign_degscore_1_hHBB', 'PSU')\n"
     ]
    },
    {
     "data": {
      "text/plain": [
       "array([0.13671931, 0.33661847])"
      ]
     },
     "execution_count": 60,
     "metadata": {},
     "output_type": "execute_result"
    },
    {
     "data": {
      "text/plain": [
       "array([[ 9.87525101e-05, -1.74963903e-04],\n",
       "       [-1.74963903e-04,  6.32448749e-04]])"
      ]
     },
     "execution_count": 60,
     "metadata": {},
     "output_type": "execute_result"
    },
    {
     "name": "stdout",
     "output_type": "stream",
     "text": [
      "kdeg: 0.13671930658344048\n",
      "kdeg_err: 9.87525100787279e-05\n"
     ]
    },
    {
     "data": {
      "text/plain": [
       "[<matplotlib.lines.Line2D at 0x7f8809f44690>]"
      ]
     },
     "execution_count": 60,
     "metadata": {},
     "output_type": "execute_result"
    },
    {
     "data": {
      "text/plain": [
       "<matplotlib.legend.Legend at 0x7f8809f44550>"
      ]
     },
     "execution_count": 60,
     "metadata": {},
     "output_type": "execute_result"
    },
    {
     "data": {
      "text/plain": [
       "Text(0.5, 1.0, 'hHBB_10422784_Ribotree_LinearDesign_degscore_1_hHBB')"
      ]
     },
     "execution_count": 60,
     "metadata": {},
     "output_type": "execute_result"
    },
    {
     "data": {
      "text/plain": [
       "Text(0.5, 0, 'Time (hours)')"
      ]
     },
     "execution_count": 60,
     "metadata": {},
     "output_type": "execute_result"
    },
    {
     "data": {
      "text/plain": [
       "Text(0, 0.5, 'Fraction Intact')"
      ]
     },
     "execution_count": 60,
     "metadata": {},
     "output_type": "execute_result"
    },
    {
     "name": "stderr",
     "output_type": "stream",
     "text": [
      "\r",
      "22it [00:04,  3.68it/s]"
     ]
    },
    {
     "data": {
      "text/plain": [
       "<matplotlib.axes._subplots.AxesSubplot at 0x7f8809f4a410>"
      ]
     },
     "execution_count": 60,
     "metadata": {},
     "output_type": "execute_result"
    },
    {
     "data": {
      "text/plain": [
       "<matplotlib.collections.PathCollection at 0x7f8809f38e90>"
      ]
     },
     "execution_count": 60,
     "metadata": {},
     "output_type": "execute_result"
    },
    {
     "name": "stdout",
     "output_type": "stream",
     "text": [
      "Trying an exponential fit...('hHBB_10422804_Ribotree_LinearDesign_sup_1_hHBB', 'PSU')\n"
     ]
    },
    {
     "data": {
      "text/plain": [
       "array([0.1565486 , 0.33184359])"
      ]
     },
     "execution_count": 60,
     "metadata": {},
     "output_type": "execute_result"
    },
    {
     "data": {
      "text/plain": [
       "array([[ 3.53209688e-05, -6.03228764e-05],\n",
       "       [-6.03228764e-05,  2.16407058e-04]])"
      ]
     },
     "execution_count": 60,
     "metadata": {},
     "output_type": "execute_result"
    },
    {
     "name": "stdout",
     "output_type": "stream",
     "text": [
      "kdeg: 0.1565485980271133\n",
      "kdeg_err: 3.532096880016138e-05\n"
     ]
    },
    {
     "data": {
      "text/plain": [
       "[<matplotlib.lines.Line2D at 0x7f881b28f250>]"
      ]
     },
     "execution_count": 60,
     "metadata": {},
     "output_type": "execute_result"
    },
    {
     "data": {
      "text/plain": [
       "<matplotlib.legend.Legend at 0x7f8809f4acd0>"
      ]
     },
     "execution_count": 60,
     "metadata": {},
     "output_type": "execute_result"
    },
    {
     "data": {
      "text/plain": [
       "Text(0.5, 1.0, 'hHBB_10422804_Ribotree_LinearDesign_sup_1_hHBB')"
      ]
     },
     "execution_count": 60,
     "metadata": {},
     "output_type": "execute_result"
    },
    {
     "data": {
      "text/plain": [
       "Text(0.5, 0, 'Time (hours)')"
      ]
     },
     "execution_count": 60,
     "metadata": {},
     "output_type": "execute_result"
    },
    {
     "data": {
      "text/plain": [
       "Text(0, 0.5, 'Fraction Intact')"
      ]
     },
     "execution_count": 60,
     "metadata": {},
     "output_type": "execute_result"
    },
    {
     "name": "stderr",
     "output_type": "stream",
     "text": [
      "\r",
      "23it [00:04,  3.58it/s]"
     ]
    },
    {
     "data": {
      "text/plain": [
       "<matplotlib.axes._subplots.AxesSubplot at 0x7f87ec094890>"
      ]
     },
     "execution_count": 60,
     "metadata": {},
     "output_type": "execute_result"
    },
    {
     "data": {
      "text/plain": [
       "<matplotlib.collections.PathCollection at 0x7f87ec15b250>"
      ]
     },
     "execution_count": 60,
     "metadata": {},
     "output_type": "execute_result"
    },
    {
     "name": "stdout",
     "output_type": "stream",
     "text": [
      "Trying an exponential fit...('hHBB_10422827_Ribotree_Random_sup_1_hHBB', 'PSU')\n"
     ]
    },
    {
     "data": {
      "text/plain": [
       "array([0.23125293, 0.33135983])"
      ]
     },
     "execution_count": 60,
     "metadata": {},
     "output_type": "execute_result"
    },
    {
     "data": {
      "text/plain": [
       "array([[ 0.00010235, -0.00015166],\n",
       "       [-0.00015166,  0.00051257]])"
      ]
     },
     "execution_count": 60,
     "metadata": {},
     "output_type": "execute_result"
    },
    {
     "name": "stdout",
     "output_type": "stream",
     "text": [
      "kdeg: 0.2312529272972728\n",
      "kdeg_err: 0.00010234632162084462\n"
     ]
    },
    {
     "data": {
      "text/plain": [
       "[<matplotlib.lines.Line2D at 0x7f881b2d45d0>]"
      ]
     },
     "execution_count": 60,
     "metadata": {},
     "output_type": "execute_result"
    },
    {
     "data": {
      "text/plain": [
       "<matplotlib.legend.Legend at 0x7f881b2d4410>"
      ]
     },
     "execution_count": 60,
     "metadata": {},
     "output_type": "execute_result"
    },
    {
     "data": {
      "text/plain": [
       "Text(0.5, 1.0, 'hHBB_10422827_Ribotree_Random_sup_1_hHBB')"
      ]
     },
     "execution_count": 60,
     "metadata": {},
     "output_type": "execute_result"
    },
    {
     "data": {
      "text/plain": [
       "Text(0.5, 0, 'Time (hours)')"
      ]
     },
     "execution_count": 60,
     "metadata": {},
     "output_type": "execute_result"
    },
    {
     "data": {
      "text/plain": [
       "Text(0, 0.5, 'Fraction Intact')"
      ]
     },
     "execution_count": 60,
     "metadata": {},
     "output_type": "execute_result"
    },
    {
     "name": "stderr",
     "output_type": "stream",
     "text": [
      "24it [00:04,  5.05it/s]\n"
     ]
    },
    {
     "data": {
      "image/png": "[encoded data removed]",
      "text/plain": [
       "<Figure size 1656x1296 with 24 Axes>"
      ]
     },
     "metadata": {},
     "output_type": "display_data"
    }
   ],
   "source": [
    "matplotlib.rcParams['pdf.fonttype'] = 42\n",
    "plot_dir = './plots/'\n",
    "\n",
    "#all combinations of sample and nucleotide type\n",
    "samples = set(zip(map_df['Sample'], map_df['Nucleotide']))\n",
    "# samples=samples[0]\n",
    "\n",
    "sample_dfs = []\n",
    "sample_fits = {}\n",
    "all_fits = {}\n",
    "\n",
    "num_plots = len(samples)\n",
    "num_rows = round(num_plots/4, 1)\n",
    "num_columns = num_plots/num_rows\n",
    "figure(figsize=(num_rows*3+5, num_columns*4+2))\n",
    "sample_dfs = []\n",
    "sample_fits = {}\n",
    "all_fits = {}\n",
    "\n",
    "for i, sample in tqdm(enumerate(sorted(samples))):\n",
    "    \n",
    "    subplot(num_rows, num_columns, i+1)\n",
    "    \n",
    "    rna_sample = sample[0]\n",
    "    nucleotide = sample[1]\n",
    "\n",
    "    #extracting the df for that sample, nucleotide combo\n",
    "    working_df = map_df[(map_df['Sample']==rna_sample) & (map_df['Nucleotide']==nucleotide)]\n",
    "    \n",
    "    #times are time points (t), fraction intact values (fi)\n",
    "    #to be used in fi = np.exp(-b*t) fit for b coefficient --> kdeg calculation\n",
    "    times = np.array(working_df['Timepoint'])\n",
    "    frac_intact = np.array(working_df['fraction_intact'])\n",
    "    \n",
    "#     times\n",
    "#     frac_intact\n",
    "\n",
    "    scatter(times, frac_intact, label='Data', s=20, marker='o')\n",
    "    \n",
    "    fit_dict = {}\n",
    "    try:\n",
    "        print('Trying an exponential fit...'+str(sample))\n",
    "#         fits = np.array(log_transform_fit(timepoints = times, frac_intact=frac_intact, bs_iter=1000))\n",
    "#         fits\n",
    "        fit, cov = np.polyfit(times, -1*np.log(frac_intact), 1, w=np.sqrt(frac_intact), cov=True)\n",
    "        fit\n",
    "        cov\n",
    "        kdeg = fit[0]\n",
    "        kdeg_err = cov[0][0]\n",
    "        print('kdeg: '+str(kdeg))\n",
    "        print('kdeg_err: '+str(kdeg_err))\n",
    "        fit_dict['kdeg'] = kdeg\n",
    "        fit_dict['kdeg_err'] = kdeg_err\n",
    "        \n",
    "#         plotting fit\n",
    "        plot(np.arange(0,24,0.05), frac_intact[0]*np.exp(-1*kdeg*np.arange(0,24,0.05)), linewidth=3, label='Fit')\n",
    "\n",
    "#     except LinAlgError:\n",
    "#         print('Could not converge for...'+str(sample))\n",
    "#         fit_dict['kdeg'] = 'Error'\n",
    "#         fit_dict['kdeg_err'] = 'Error'\n",
    "#         continue\n",
    "    \n",
    "    except RuntimeError:\n",
    "        print('Could not converge for...'+str(sample))\n",
    "        fit_dict['kdeg'] = 'Error'\n",
    "        fit_dict['kdeg_err'] = 'Error'\n",
    "        continue\n",
    "    \n",
    "    sample_fits[sample] = fit_dict\n",
    "    all_fits[sample] = fits\n",
    "    \n",
    "    legend(loc='upper left', bbox_to_anchor=(1.05,1), fontsize=14)\n",
    "    title('{}'.format(rna_sample), fontsize=12)\n",
    "    xlabel('Time (hours)')\n",
    "    ylabel('Fraction Intact')\n",
    "    tight_layout()\n",
    "\n",
    "savefig(plot_dir+'numpy_exponential_fit.pdf')\n",
    "#     clf()"
   ]
  },
  {
   "cell_type": "code",
   "execution_count": 50,
   "metadata": {},
   "outputs": [],
   "source": [
    "pd.DataFrame.from_dict(sample_fits, orient='index').to_csv('12-02_expfits.csv')"
   ]
  },
  {
   "cell_type": "code",
   "execution_count": null,
   "metadata": {},
   "outputs": [],
   "source": []
  }
 ],
 "metadata": {
  "kernelspec": {
   "display_name": "Python 3",
   "language": "python",
   "name": "python3"
  },
  "language_info": {
   "codemirror_mode": {
    "name": "ipython",
    "version": 3
   },
   "file_extension": ".py",
   "mimetype": "text/x-python",
   "name": "python",
   "nbconvert_exporter": "python",
   "pygments_lexer": "ipython3",
   "version": "3.7.7"
  }
 },
 "nbformat": 4,
 "nbformat_minor": 4
}
