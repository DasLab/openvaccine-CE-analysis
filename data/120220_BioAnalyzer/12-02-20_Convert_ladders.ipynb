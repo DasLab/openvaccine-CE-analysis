{
 "cells": [
  {
   "cell_type": "code",
   "execution_count": 8,
   "metadata": {},
   "outputs": [
    {
     "name": "stdout",
     "output_type": "stream",
     "text": [
      "Populating the interactive namespace from numpy and matplotlib\n"
     ]
    },
    {
     "name": "stderr",
     "output_type": "stream",
     "text": [
      "/Users/dosoonkim/anaconda3/lib/python3.7/site-packages/IPython/core/magics/pylab.py:160: UserWarning: pylab import has clobbered these variables: ['number']\n",
      "`%matplotlib` prevents importing * from pylab and numpy\n",
      "  \"\\n`%matplotlib` prevents importing * from pylab and numpy\"\n"
     ]
    }
   ],
   "source": [
    "import pandas as pd\n",
    "import scipy as sp\n",
    "from scipy.sparse import diags\n",
    "import numpy as np\n",
    "from numpy import linalg as LA\n",
    "import sys\n",
    "\n",
    "from os import path\n",
    "\n",
    "import matplotlib.pyplot as plt\n",
    "\n",
    "#importing seaborn for plotting\n",
    "import seaborn as sns\n",
    "\n",
    "#for plotting purposes\n",
    "%pylab inline\n",
    "sns.set_style('ticks')\n",
    "sns.set_context('paper')\n",
    "\n",
    "from IPython.core.interactiveshell import InteractiveShell\n",
    "InteractiveShell.ast_node_interactivity = \"all\"\n",
    "\n",
    "import matplotlib as mpl\n",
    "\n",
    "from scipy.signal import find_peaks\n",
    "\n",
    "# mpl.rcParams\n",
    "mpl.rcParams['axes.labelsize'] = 14\n",
    "mpl.rcParams['axes.titlesize'] = 16\n",
    "mpl.rcParams['xtick.labelsize'] = 12\n",
    "mpl.rcParams['ytick.labelsize'] = 12\n",
    "mpl.rcParams['legend.fontsize'] = 12\n",
    "mpl.rcParams['figure.figsize'] = [8, 16/3]"
   ]
  },
  {
   "cell_type": "markdown",
   "metadata": {},
   "source": [
    "### converting ladder to nts"
   ]
  },
  {
   "cell_type": "code",
   "execution_count": 9,
   "metadata": {},
   "outputs": [],
   "source": [
    "data_dir = './raw_data/'\n",
    "fig_dir = './plots/'\n",
    "processed_dir = './processed_data/'"
   ]
  },
  {
   "cell_type": "code",
   "execution_count": 10,
   "metadata": {},
   "outputs": [
    {
     "data": {
      "text/plain": [
       "'\\nfrom files:\\nEukaryote Total RNA Nano_2020-12-02_14-31-30_WK_1.pdf\\nEukaryote Total RNA Nano_2020-12-02_14-38-16_WK_2.pdf\\nEukaryote Total RNA Nano_2020-12-02_15-24-46_WK_4.pdf\\nEukaryote Total RNA Nano_2020-12-02_15-29-46_WK_3.pdf\\nEukaryote Total RNA Nano_2020-12-02_15-48-34_WK_5.pdf\\nEukaryote Total RNA Nano_2020-12-02_15-54-46_WK_6.pdf\\nEukaryote Total RNA Nano_2020-12-02_16-14-33_WK_7.pdf\\nEukaryote Total RNA Nano_2020-12-02_16-22-53_WK_8.pdf\\n'"
      ]
     },
     "execution_count": 10,
     "metadata": {},
     "output_type": "execute_result"
    },
    {
     "data": {
      "text/plain": [
       "'\\n    Plotting and identifying peaks from the ladder traces from BioAnalyzer.\\n    Must be done per chip/run, since ladders may elute at slightly different times per run.\\n    Generates plots that shows identified peaks.\\n    As of 12-02-2020, should identify 6 peaks.\\n    '"
      ]
     },
     "execution_count": 10,
     "metadata": {},
     "output_type": "execute_result"
    },
    {
     "data": {
      "text/plain": [
       "[<matplotlib.lines.Line2D at 0x7fb5e00cded0>]"
      ]
     },
     "execution_count": 10,
     "metadata": {},
     "output_type": "execute_result"
    },
    {
     "data": {
      "text/plain": [
       "[<matplotlib.lines.Line2D at 0x7fb5c1779cd0>]"
      ]
     },
     "execution_count": 10,
     "metadata": {},
     "output_type": "execute_result"
    },
    {
     "data": {
      "text/plain": [
       "Text(0.5, 1.0, 'Ladder Peaks: Eukaryote Total RNA Nano_2020-12-02_14-31-30')"
      ]
     },
     "execution_count": 10,
     "metadata": {},
     "output_type": "execute_result"
    },
    {
     "data": {
      "text/plain": [
       "<matplotlib.legend.Legend at 0x7fb5c1779810>"
      ]
     },
     "execution_count": 10,
     "metadata": {},
     "output_type": "execute_result"
    },
    {
     "data": {
      "text/plain": [
       "Text(0.5, 0, 'Time')"
      ]
     },
     "execution_count": 10,
     "metadata": {},
     "output_type": "execute_result"
    },
    {
     "data": {
      "text/plain": [
       "Text(0, 0.5, 'FU')"
      ]
     },
     "execution_count": 10,
     "metadata": {},
     "output_type": "execute_result"
    },
    {
     "data": {
      "text/plain": [
       "(array([10., 20., 30., 40., 50., 60., 70., 80.]),\n",
       " <a list of 8 Text major ticklabel objects>)"
      ]
     },
     "execution_count": 10,
     "metadata": {},
     "output_type": "execute_result"
    },
    {
     "data": {
      "text/plain": [
       "(array([-5.,  0.,  5., 10., 15., 20., 25., 30.]),\n",
       " <a list of 8 Text major ticklabel objects>)"
      ]
     },
     "execution_count": 10,
     "metadata": {},
     "output_type": "execute_result"
    },
    {
     "data": {
      "text/plain": [
       "'\\n    Converting times (elution times from BioAnalyzer) to nucleotides using\\n    a 4th order polynomial fit\\n    '"
      ]
     },
     "execution_count": 10,
     "metadata": {},
     "output_type": "execute_result"
    },
    {
     "data": {
      "text/plain": [
       "[<matplotlib.lines.Line2D at 0x7fb5d05bf050>]"
      ]
     },
     "execution_count": 10,
     "metadata": {},
     "output_type": "execute_result"
    },
    {
     "data": {
      "text/plain": [
       "[<matplotlib.lines.Line2D at 0x7fb5e03d5f10>]"
      ]
     },
     "execution_count": 10,
     "metadata": {},
     "output_type": "execute_result"
    },
    {
     "data": {
      "text/plain": [
       "Text(0, 0.5, 'Calculated nts (from time)')"
      ]
     },
     "execution_count": 10,
     "metadata": {},
     "output_type": "execute_result"
    },
    {
     "data": {
      "text/plain": [
       "Text(0.5, 0, 'Ladder nts')"
      ]
     },
     "execution_count": 10,
     "metadata": {},
     "output_type": "execute_result"
    },
    {
     "data": {
      "text/plain": [
       "(array([-500.,    0.,  500., 1000., 1500., 2000., 2500., 3000., 3500.,\n",
       "        4000., 4500.]),\n",
       " <a list of 11 Text major ticklabel objects>)"
      ]
     },
     "execution_count": 10,
     "metadata": {},
     "output_type": "execute_result"
    },
    {
     "data": {
      "text/plain": [
       "(array([-500.,    0.,  500., 1000., 1500., 2000., 2500., 3000., 3500.,\n",
       "        4000., 4500.]),\n",
       " <a list of 11 Text major ticklabel objects>)"
      ]
     },
     "execution_count": 10,
     "metadata": {},
     "output_type": "execute_result"
    },
    {
     "data": {
      "text/plain": [
       "Text(0.5, 1.0, 'Ladder polynomial fit: Eukaryote Total RNA Nano_2020-12-02_14-31-30')"
      ]
     },
     "execution_count": 10,
     "metadata": {},
     "output_type": "execute_result"
    },
    {
     "data": {
      "text/plain": [
       "<matplotlib.legend.Legend at 0x7fb5e00d7d90>"
      ]
     },
     "execution_count": 10,
     "metadata": {},
     "output_type": "execute_result"
    },
    {
     "data": {
      "text/plain": [
       "'\\n    Applying fits to samples as well, per ladder\\n    '"
      ]
     },
     "execution_count": 10,
     "metadata": {},
     "output_type": "execute_result"
    },
    {
     "name": "stdout",
     "output_type": "stream",
     "text": [
      "Eukaryote Total RNA Nano_2020-12-02_14-31-30_Sample1.csv\n",
      "Eukaryote Total RNA Nano_2020-12-02_14-31-30_Sample2.csv\n",
      "Eukaryote Total RNA Nano_2020-12-02_14-31-30_Sample3.csv\n",
      "Eukaryote Total RNA Nano_2020-12-02_14-31-30_Sample4.csv\n",
      "Eukaryote Total RNA Nano_2020-12-02_14-31-30_Sample5.csv\n",
      "Eukaryote Total RNA Nano_2020-12-02_14-31-30_Sample6.csv\n",
      "Eukaryote Total RNA Nano_2020-12-02_14-31-30_Sample7.csv\n",
      "Eukaryote Total RNA Nano_2020-12-02_14-31-30_Sample8.csv\n",
      "Eukaryote Total RNA Nano_2020-12-02_14-31-30_Sample9.csv\n",
      "Eukaryote Total RNA Nano_2020-12-02_14-31-30_Sample10.csv\n",
      "Eukaryote Total RNA Nano_2020-12-02_14-31-30_Sample11.csv\n",
      "Eukaryote Total RNA Nano_2020-12-02_14-31-30_Sample12.csv\n"
     ]
    },
    {
     "data": {
      "text/plain": [
       "'\\n    Plotting and identifying peaks from the ladder traces from BioAnalyzer.\\n    Must be done per chip/run, since ladders may elute at slightly different times per run.\\n    Generates plots that shows identified peaks.\\n    As of 12-02-2020, should identify 6 peaks.\\n    '"
      ]
     },
     "execution_count": 10,
     "metadata": {},
     "output_type": "execute_result"
    },
    {
     "data": {
      "text/plain": [
       "[<matplotlib.lines.Line2D at 0x7fb59030a550>]"
      ]
     },
     "execution_count": 10,
     "metadata": {},
     "output_type": "execute_result"
    },
    {
     "data": {
      "text/plain": [
       "[<matplotlib.lines.Line2D at 0x7fb5c1787bd0>]"
      ]
     },
     "execution_count": 10,
     "metadata": {},
     "output_type": "execute_result"
    },
    {
     "data": {
      "text/plain": [
       "Text(0.5, 1.0, 'Ladder Peaks: Eukaryote Total RNA Nano_2020-12-02_14-38-16')"
      ]
     },
     "execution_count": 10,
     "metadata": {},
     "output_type": "execute_result"
    },
    {
     "data": {
      "text/plain": [
       "<matplotlib.legend.Legend at 0x7fb59a131850>"
      ]
     },
     "execution_count": 10,
     "metadata": {},
     "output_type": "execute_result"
    },
    {
     "data": {
      "text/plain": [
       "Text(0.5, 0, 'Time')"
      ]
     },
     "execution_count": 10,
     "metadata": {},
     "output_type": "execute_result"
    },
    {
     "data": {
      "text/plain": [
       "Text(0, 0.5, 'FU')"
      ]
     },
     "execution_count": 10,
     "metadata": {},
     "output_type": "execute_result"
    },
    {
     "data": {
      "text/plain": [
       "(array([10., 20., 30., 40., 50., 60., 70., 80.]),\n",
       " <a list of 8 Text major ticklabel objects>)"
      ]
     },
     "execution_count": 10,
     "metadata": {},
     "output_type": "execute_result"
    },
    {
     "data": {
      "text/plain": [
       "(array([-5.,  0.,  5., 10., 15., 20., 25.]),\n",
       " <a list of 7 Text major ticklabel objects>)"
      ]
     },
     "execution_count": 10,
     "metadata": {},
     "output_type": "execute_result"
    },
    {
     "data": {
      "text/plain": [
       "'\\n    Converting times (elution times from BioAnalyzer) to nucleotides using\\n    a 4th order polynomial fit\\n    '"
      ]
     },
     "execution_count": 10,
     "metadata": {},
     "output_type": "execute_result"
    },
    {
     "data": {
      "text/plain": [
       "[<matplotlib.lines.Line2D at 0x7fb5e03d5f10>]"
      ]
     },
     "execution_count": 10,
     "metadata": {},
     "output_type": "execute_result"
    },
    {
     "data": {
      "text/plain": [
       "[<matplotlib.lines.Line2D at 0x7fb5e00d4c50>]"
      ]
     },
     "execution_count": 10,
     "metadata": {},
     "output_type": "execute_result"
    },
    {
     "data": {
      "text/plain": [
       "Text(0, 0.5, 'Calculated nts (from time)')"
      ]
     },
     "execution_count": 10,
     "metadata": {},
     "output_type": "execute_result"
    },
    {
     "data": {
      "text/plain": [
       "Text(0.5, 0, 'Ladder nts')"
      ]
     },
     "execution_count": 10,
     "metadata": {},
     "output_type": "execute_result"
    },
    {
     "data": {
      "text/plain": [
       "(array([-500.,    0.,  500., 1000., 1500., 2000., 2500., 3000., 3500.,\n",
       "        4000., 4500.]),\n",
       " <a list of 11 Text major ticklabel objects>)"
      ]
     },
     "execution_count": 10,
     "metadata": {},
     "output_type": "execute_result"
    },
    {
     "data": {
      "text/plain": [
       "(array([-500.,    0.,  500., 1000., 1500., 2000., 2500., 3000., 3500.,\n",
       "        4000., 4500.]),\n",
       " <a list of 11 Text major ticklabel objects>)"
      ]
     },
     "execution_count": 10,
     "metadata": {},
     "output_type": "execute_result"
    },
    {
     "data": {
      "text/plain": [
       "Text(0.5, 1.0, 'Ladder polynomial fit: Eukaryote Total RNA Nano_2020-12-02_14-38-16')"
      ]
     },
     "execution_count": 10,
     "metadata": {},
     "output_type": "execute_result"
    },
    {
     "data": {
      "text/plain": [
       "<matplotlib.legend.Legend at 0x7fb5a08e9d50>"
      ]
     },
     "execution_count": 10,
     "metadata": {},
     "output_type": "execute_result"
    },
    {
     "data": {
      "text/plain": [
       "'\\n    Applying fits to samples as well, per ladder\\n    '"
      ]
     },
     "execution_count": 10,
     "metadata": {},
     "output_type": "execute_result"
    },
    {
     "name": "stdout",
     "output_type": "stream",
     "text": [
      "Eukaryote Total RNA Nano_2020-12-02_14-38-16_Sample1.csv\n",
      "Eukaryote Total RNA Nano_2020-12-02_14-38-16_Sample2.csv\n",
      "Eukaryote Total RNA Nano_2020-12-02_14-38-16_Sample3.csv\n",
      "Eukaryote Total RNA Nano_2020-12-02_14-38-16_Sample4.csv\n",
      "Eukaryote Total RNA Nano_2020-12-02_14-38-16_Sample5.csv\n",
      "Eukaryote Total RNA Nano_2020-12-02_14-38-16_Sample6.csv\n",
      "Eukaryote Total RNA Nano_2020-12-02_14-38-16_Sample7.csv\n",
      "Eukaryote Total RNA Nano_2020-12-02_14-38-16_Sample8.csv\n",
      "Eukaryote Total RNA Nano_2020-12-02_14-38-16_Sample9.csv\n",
      "Eukaryote Total RNA Nano_2020-12-02_14-38-16_Sample10.csv\n",
      "Eukaryote Total RNA Nano_2020-12-02_14-38-16_Sample11.csv\n",
      "Eukaryote Total RNA Nano_2020-12-02_14-38-16_Sample12.csv\n"
     ]
    },
    {
     "data": {
      "text/plain": [
       "'\\n    Plotting and identifying peaks from the ladder traces from BioAnalyzer.\\n    Must be done per chip/run, since ladders may elute at slightly different times per run.\\n    Generates plots that shows identified peaks.\\n    As of 12-02-2020, should identify 6 peaks.\\n    '"
      ]
     },
     "execution_count": 10,
     "metadata": {},
     "output_type": "execute_result"
    },
    {
     "data": {
      "text/plain": [
       "[<matplotlib.lines.Line2D at 0x7fb5c1953510>]"
      ]
     },
     "execution_count": 10,
     "metadata": {},
     "output_type": "execute_result"
    },
    {
     "data": {
      "text/plain": [
       "[<matplotlib.lines.Line2D at 0x7fb5c181fcd0>]"
      ]
     },
     "execution_count": 10,
     "metadata": {},
     "output_type": "execute_result"
    },
    {
     "data": {
      "text/plain": [
       "Text(0.5, 1.0, 'Ladder Peaks: Eukaryote Total RNA Nano_2020-12-02_15-29-46')"
      ]
     },
     "execution_count": 10,
     "metadata": {},
     "output_type": "execute_result"
    },
    {
     "data": {
      "text/plain": [
       "<matplotlib.legend.Legend at 0x7fb5d05c9390>"
      ]
     },
     "execution_count": 10,
     "metadata": {},
     "output_type": "execute_result"
    },
    {
     "data": {
      "text/plain": [
       "Text(0.5, 0, 'Time')"
      ]
     },
     "execution_count": 10,
     "metadata": {},
     "output_type": "execute_result"
    },
    {
     "data": {
      "text/plain": [
       "Text(0, 0.5, 'FU')"
      ]
     },
     "execution_count": 10,
     "metadata": {},
     "output_type": "execute_result"
    },
    {
     "data": {
      "text/plain": [
       "(array([10., 20., 30., 40., 50., 60., 70., 80.]),\n",
       " <a list of 8 Text major ticklabel objects>)"
      ]
     },
     "execution_count": 10,
     "metadata": {},
     "output_type": "execute_result"
    },
    {
     "data": {
      "text/plain": [
       "(array([-5.,  0.,  5., 10., 15., 20., 25., 30.]),\n",
       " <a list of 8 Text major ticklabel objects>)"
      ]
     },
     "execution_count": 10,
     "metadata": {},
     "output_type": "execute_result"
    },
    {
     "data": {
      "text/plain": [
       "'\\n    Converting times (elution times from BioAnalyzer) to nucleotides using\\n    a 4th order polynomial fit\\n    '"
      ]
     },
     "execution_count": 10,
     "metadata": {},
     "output_type": "execute_result"
    },
    {
     "data": {
      "text/plain": [
       "[<matplotlib.lines.Line2D at 0x7fb5f033b150>]"
      ]
     },
     "execution_count": 10,
     "metadata": {},
     "output_type": "execute_result"
    },
    {
     "data": {
      "text/plain": [
       "[<matplotlib.lines.Line2D at 0x7fb59a13d850>]"
      ]
     },
     "execution_count": 10,
     "metadata": {},
     "output_type": "execute_result"
    },
    {
     "data": {
      "text/plain": [
       "Text(0, 0.5, 'Calculated nts (from time)')"
      ]
     },
     "execution_count": 10,
     "metadata": {},
     "output_type": "execute_result"
    },
    {
     "data": {
      "text/plain": [
       "Text(0.5, 0, 'Ladder nts')"
      ]
     },
     "execution_count": 10,
     "metadata": {},
     "output_type": "execute_result"
    },
    {
     "data": {
      "text/plain": [
       "(array([-500.,    0.,  500., 1000., 1500., 2000., 2500., 3000., 3500.,\n",
       "        4000., 4500.]),\n",
       " <a list of 11 Text major ticklabel objects>)"
      ]
     },
     "execution_count": 10,
     "metadata": {},
     "output_type": "execute_result"
    },
    {
     "data": {
      "text/plain": [
       "(array([-500.,    0.,  500., 1000., 1500., 2000., 2500., 3000., 3500.,\n",
       "        4000., 4500.]),\n",
       " <a list of 11 Text major ticklabel objects>)"
      ]
     },
     "execution_count": 10,
     "metadata": {},
     "output_type": "execute_result"
    },
    {
     "data": {
      "text/plain": [
       "Text(0.5, 1.0, 'Ladder polynomial fit: Eukaryote Total RNA Nano_2020-12-02_15-29-46')"
      ]
     },
     "execution_count": 10,
     "metadata": {},
     "output_type": "execute_result"
    },
    {
     "data": {
      "text/plain": [
       "<matplotlib.legend.Legend at 0x7fb5e00cf790>"
      ]
     },
     "execution_count": 10,
     "metadata": {},
     "output_type": "execute_result"
    },
    {
     "data": {
      "text/plain": [
       "'\\n    Applying fits to samples as well, per ladder\\n    '"
      ]
     },
     "execution_count": 10,
     "metadata": {},
     "output_type": "execute_result"
    },
    {
     "name": "stdout",
     "output_type": "stream",
     "text": [
      "Eukaryote Total RNA Nano_2020-12-02_15-29-46_Sample1.csv\n",
      "Eukaryote Total RNA Nano_2020-12-02_15-29-46_Sample2.csv\n",
      "Eukaryote Total RNA Nano_2020-12-02_15-29-46_Sample3.csv\n",
      "Eukaryote Total RNA Nano_2020-12-02_15-29-46_Sample4.csv\n",
      "Eukaryote Total RNA Nano_2020-12-02_15-29-46_Sample5.csv\n",
      "Eukaryote Total RNA Nano_2020-12-02_15-29-46_Sample6.csv\n",
      "Eukaryote Total RNA Nano_2020-12-02_15-29-46_Sample7.csv\n",
      "Eukaryote Total RNA Nano_2020-12-02_15-29-46_Sample8.csv\n",
      "Eukaryote Total RNA Nano_2020-12-02_15-29-46_Sample9.csv\n",
      "Eukaryote Total RNA Nano_2020-12-02_15-29-46_Sample10.csv\n",
      "Eukaryote Total RNA Nano_2020-12-02_15-29-46_Sample11.csv\n",
      "Eukaryote Total RNA Nano_2020-12-02_15-29-46_Sample12.csv\n"
     ]
    },
    {
     "data": {
      "text/plain": [
       "'\\n    Plotting and identifying peaks from the ladder traces from BioAnalyzer.\\n    Must be done per chip/run, since ladders may elute at slightly different times per run.\\n    Generates plots that shows identified peaks.\\n    As of 12-02-2020, should identify 6 peaks.\\n    '"
      ]
     },
     "execution_count": 10,
     "metadata": {},
     "output_type": "execute_result"
    },
    {
     "data": {
      "text/plain": [
       "[<matplotlib.lines.Line2D at 0x7fb5c17879d0>]"
      ]
     },
     "execution_count": 10,
     "metadata": {},
     "output_type": "execute_result"
    },
    {
     "data": {
      "text/plain": [
       "[<matplotlib.lines.Line2D at 0x7fb5e03fe290>]"
      ]
     },
     "execution_count": 10,
     "metadata": {},
     "output_type": "execute_result"
    },
    {
     "data": {
      "text/plain": [
       "Text(0.5, 1.0, 'Ladder Peaks: Eukaryote Total RNA Nano_2020-12-02_15-24-46')"
      ]
     },
     "execution_count": 10,
     "metadata": {},
     "output_type": "execute_result"
    },
    {
     "data": {
      "text/plain": [
       "<matplotlib.legend.Legend at 0x7fb5c1788bd0>"
      ]
     },
     "execution_count": 10,
     "metadata": {},
     "output_type": "execute_result"
    },
    {
     "data": {
      "text/plain": [
       "Text(0.5, 0, 'Time')"
      ]
     },
     "execution_count": 10,
     "metadata": {},
     "output_type": "execute_result"
    },
    {
     "data": {
      "text/plain": [
       "Text(0, 0.5, 'FU')"
      ]
     },
     "execution_count": 10,
     "metadata": {},
     "output_type": "execute_result"
    },
    {
     "data": {
      "text/plain": [
       "(array([10., 20., 30., 40., 50., 60., 70., 80.]),\n",
       " <a list of 8 Text major ticklabel objects>)"
      ]
     },
     "execution_count": 10,
     "metadata": {},
     "output_type": "execute_result"
    },
    {
     "data": {
      "text/plain": [
       "(array([-5.,  0.,  5., 10., 15., 20., 25.]),\n",
       " <a list of 7 Text major ticklabel objects>)"
      ]
     },
     "execution_count": 10,
     "metadata": {},
     "output_type": "execute_result"
    },
    {
     "data": {
      "text/plain": [
       "'\\n    Converting times (elution times from BioAnalyzer) to nucleotides using\\n    a 4th order polynomial fit\\n    '"
      ]
     },
     "execution_count": 10,
     "metadata": {},
     "output_type": "execute_result"
    },
    {
     "data": {
      "text/plain": [
       "[<matplotlib.lines.Line2D at 0x7fb5c183cc10>]"
      ]
     },
     "execution_count": 10,
     "metadata": {},
     "output_type": "execute_result"
    },
    {
     "data": {
      "text/plain": [
       "[<matplotlib.lines.Line2D at 0x7fb590379610>]"
      ]
     },
     "execution_count": 10,
     "metadata": {},
     "output_type": "execute_result"
    },
    {
     "data": {
      "text/plain": [
       "Text(0, 0.5, 'Calculated nts (from time)')"
      ]
     },
     "execution_count": 10,
     "metadata": {},
     "output_type": "execute_result"
    },
    {
     "data": {
      "text/plain": [
       "Text(0.5, 0, 'Ladder nts')"
      ]
     },
     "execution_count": 10,
     "metadata": {},
     "output_type": "execute_result"
    },
    {
     "data": {
      "text/plain": [
       "(array([-500.,    0.,  500., 1000., 1500., 2000., 2500., 3000., 3500.,\n",
       "        4000., 4500.]),\n",
       " <a list of 11 Text major ticklabel objects>)"
      ]
     },
     "execution_count": 10,
     "metadata": {},
     "output_type": "execute_result"
    },
    {
     "data": {
      "text/plain": [
       "(array([-500.,    0.,  500., 1000., 1500., 2000., 2500., 3000., 3500.,\n",
       "        4000., 4500.]),\n",
       " <a list of 11 Text major ticklabel objects>)"
      ]
     },
     "execution_count": 10,
     "metadata": {},
     "output_type": "execute_result"
    },
    {
     "data": {
      "text/plain": [
       "Text(0.5, 1.0, 'Ladder polynomial fit: Eukaryote Total RNA Nano_2020-12-02_15-24-46')"
      ]
     },
     "execution_count": 10,
     "metadata": {},
     "output_type": "execute_result"
    },
    {
     "data": {
      "text/plain": [
       "<matplotlib.legend.Legend at 0x7fb5d06e74d0>"
      ]
     },
     "execution_count": 10,
     "metadata": {},
     "output_type": "execute_result"
    },
    {
     "data": {
      "text/plain": [
       "'\\n    Applying fits to samples as well, per ladder\\n    '"
      ]
     },
     "execution_count": 10,
     "metadata": {},
     "output_type": "execute_result"
    },
    {
     "name": "stdout",
     "output_type": "stream",
     "text": [
      "Eukaryote Total RNA Nano_2020-12-02_15-24-46_Sample1.csv\n",
      "Eukaryote Total RNA Nano_2020-12-02_15-24-46_Sample2.csv\n",
      "Eukaryote Total RNA Nano_2020-12-02_15-24-46_Sample3.csv\n",
      "Eukaryote Total RNA Nano_2020-12-02_15-24-46_Sample4.csv\n",
      "Eukaryote Total RNA Nano_2020-12-02_15-24-46_Sample5.csv\n",
      "Eukaryote Total RNA Nano_2020-12-02_15-24-46_Sample6.csv\n",
      "Eukaryote Total RNA Nano_2020-12-02_15-24-46_Sample7.csv\n",
      "Eukaryote Total RNA Nano_2020-12-02_15-24-46_Sample8.csv\n",
      "Eukaryote Total RNA Nano_2020-12-02_15-24-46_Sample9.csv\n",
      "Eukaryote Total RNA Nano_2020-12-02_15-24-46_Sample10.csv\n",
      "Eukaryote Total RNA Nano_2020-12-02_15-24-46_Sample11.csv\n",
      "Eukaryote Total RNA Nano_2020-12-02_15-24-46_Sample12.csv\n"
     ]
    },
    {
     "data": {
      "text/plain": [
       "'\\n    Plotting and identifying peaks from the ladder traces from BioAnalyzer.\\n    Must be done per chip/run, since ladders may elute at slightly different times per run.\\n    Generates plots that shows identified peaks.\\n    As of 12-02-2020, should identify 6 peaks.\\n    '"
      ]
     },
     "execution_count": 10,
     "metadata": {},
     "output_type": "execute_result"
    },
    {
     "data": {
      "text/plain": [
       "[<matplotlib.lines.Line2D at 0x7fb5c1954990>]"
      ]
     },
     "execution_count": 10,
     "metadata": {},
     "output_type": "execute_result"
    },
    {
     "data": {
      "text/plain": [
       "[<matplotlib.lines.Line2D at 0x7fb5d06e7410>]"
      ]
     },
     "execution_count": 10,
     "metadata": {},
     "output_type": "execute_result"
    },
    {
     "data": {
      "text/plain": [
       "Text(0.5, 1.0, 'Ladder Peaks: Eukaryote Total RNA Nano_2020-12-02_15-48-34')"
      ]
     },
     "execution_count": 10,
     "metadata": {},
     "output_type": "execute_result"
    },
    {
     "data": {
      "text/plain": [
       "<matplotlib.legend.Legend at 0x7fb5c1840750>"
      ]
     },
     "execution_count": 10,
     "metadata": {},
     "output_type": "execute_result"
    },
    {
     "data": {
      "text/plain": [
       "Text(0.5, 0, 'Time')"
      ]
     },
     "execution_count": 10,
     "metadata": {},
     "output_type": "execute_result"
    },
    {
     "data": {
      "text/plain": [
       "Text(0, 0.5, 'FU')"
      ]
     },
     "execution_count": 10,
     "metadata": {},
     "output_type": "execute_result"
    },
    {
     "data": {
      "text/plain": [
       "(array([10., 20., 30., 40., 50., 60., 70., 80.]),\n",
       " <a list of 8 Text major ticklabel objects>)"
      ]
     },
     "execution_count": 10,
     "metadata": {},
     "output_type": "execute_result"
    },
    {
     "data": {
      "text/plain": [
       "(array([-5.,  0.,  5., 10., 15., 20., 25.]),\n",
       " <a list of 7 Text major ticklabel objects>)"
      ]
     },
     "execution_count": 10,
     "metadata": {},
     "output_type": "execute_result"
    },
    {
     "data": {
      "text/plain": [
       "'\\n    Converting times (elution times from BioAnalyzer) to nucleotides using\\n    a 4th order polynomial fit\\n    '"
      ]
     },
     "execution_count": 10,
     "metadata": {},
     "output_type": "execute_result"
    },
    {
     "data": {
      "text/plain": [
       "[<matplotlib.lines.Line2D at 0x7fb5d05bc490>]"
      ]
     },
     "execution_count": 10,
     "metadata": {},
     "output_type": "execute_result"
    },
    {
     "data": {
      "text/plain": [
       "[<matplotlib.lines.Line2D at 0x7fb5c183d250>]"
      ]
     },
     "execution_count": 10,
     "metadata": {},
     "output_type": "execute_result"
    },
    {
     "data": {
      "text/plain": [
       "Text(0, 0.5, 'Calculated nts (from time)')"
      ]
     },
     "execution_count": 10,
     "metadata": {},
     "output_type": "execute_result"
    },
    {
     "data": {
      "text/plain": [
       "Text(0.5, 0, 'Ladder nts')"
      ]
     },
     "execution_count": 10,
     "metadata": {},
     "output_type": "execute_result"
    },
    {
     "data": {
      "text/plain": [
       "(array([-500.,    0.,  500., 1000., 1500., 2000., 2500., 3000., 3500.,\n",
       "        4000., 4500.]),\n",
       " <a list of 11 Text major ticklabel objects>)"
      ]
     },
     "execution_count": 10,
     "metadata": {},
     "output_type": "execute_result"
    },
    {
     "data": {
      "text/plain": [
       "(array([-500.,    0.,  500., 1000., 1500., 2000., 2500., 3000., 3500.,\n",
       "        4000., 4500.]),\n",
       " <a list of 11 Text major ticklabel objects>)"
      ]
     },
     "execution_count": 10,
     "metadata": {},
     "output_type": "execute_result"
    },
    {
     "data": {
      "text/plain": [
       "Text(0.5, 1.0, 'Ladder polynomial fit: Eukaryote Total RNA Nano_2020-12-02_15-48-34')"
      ]
     },
     "execution_count": 10,
     "metadata": {},
     "output_type": "execute_result"
    },
    {
     "data": {
      "text/plain": [
       "<matplotlib.legend.Legend at 0x7fb5d06d96d0>"
      ]
     },
     "execution_count": 10,
     "metadata": {},
     "output_type": "execute_result"
    },
    {
     "data": {
      "text/plain": [
       "'\\n    Applying fits to samples as well, per ladder\\n    '"
      ]
     },
     "execution_count": 10,
     "metadata": {},
     "output_type": "execute_result"
    },
    {
     "name": "stdout",
     "output_type": "stream",
     "text": [
      "Eukaryote Total RNA Nano_2020-12-02_15-48-34_Sample1.csv\n",
      "Eukaryote Total RNA Nano_2020-12-02_15-48-34_Sample2.csv\n",
      "Eukaryote Total RNA Nano_2020-12-02_15-48-34_Sample3.csv\n",
      "Eukaryote Total RNA Nano_2020-12-02_15-48-34_Sample4.csv\n",
      "Eukaryote Total RNA Nano_2020-12-02_15-48-34_Sample5.csv\n",
      "Eukaryote Total RNA Nano_2020-12-02_15-48-34_Sample6.csv\n",
      "Eukaryote Total RNA Nano_2020-12-02_15-48-34_Sample7.csv\n",
      "Eukaryote Total RNA Nano_2020-12-02_15-48-34_Sample8.csv\n",
      "Eukaryote Total RNA Nano_2020-12-02_15-48-34_Sample9.csv\n",
      "Eukaryote Total RNA Nano_2020-12-02_15-48-34_Sample10.csv\n",
      "Eukaryote Total RNA Nano_2020-12-02_15-48-34_Sample11.csv\n",
      "Eukaryote Total RNA Nano_2020-12-02_15-48-34_Sample12.csv\n"
     ]
    },
    {
     "data": {
      "text/plain": [
       "'\\n    Plotting and identifying peaks from the ladder traces from BioAnalyzer.\\n    Must be done per chip/run, since ladders may elute at slightly different times per run.\\n    Generates plots that shows identified peaks.\\n    As of 12-02-2020, should identify 6 peaks.\\n    '"
      ]
     },
     "execution_count": 10,
     "metadata": {},
     "output_type": "execute_result"
    },
    {
     "data": {
      "text/plain": [
       "[<matplotlib.lines.Line2D at 0x7fb59a0f7c50>]"
      ]
     },
     "execution_count": 10,
     "metadata": {},
     "output_type": "execute_result"
    },
    {
     "data": {
      "text/plain": [
       "[<matplotlib.lines.Line2D at 0x7fb5902f5a90>]"
      ]
     },
     "execution_count": 10,
     "metadata": {},
     "output_type": "execute_result"
    },
    {
     "data": {
      "text/plain": [
       "Text(0.5, 1.0, 'Ladder Peaks: Eukaryote Total RNA Nano_2020-12-02_15-54-46')"
      ]
     },
     "execution_count": 10,
     "metadata": {},
     "output_type": "execute_result"
    },
    {
     "data": {
      "text/plain": [
       "<matplotlib.legend.Legend at 0x7fb5c1788750>"
      ]
     },
     "execution_count": 10,
     "metadata": {},
     "output_type": "execute_result"
    },
    {
     "data": {
      "text/plain": [
       "Text(0.5, 0, 'Time')"
      ]
     },
     "execution_count": 10,
     "metadata": {},
     "output_type": "execute_result"
    },
    {
     "data": {
      "text/plain": [
       "Text(0, 0.5, 'FU')"
      ]
     },
     "execution_count": 10,
     "metadata": {},
     "output_type": "execute_result"
    },
    {
     "data": {
      "text/plain": [
       "(array([10., 20., 30., 40., 50., 60., 70., 80.]),\n",
       " <a list of 8 Text major ticklabel objects>)"
      ]
     },
     "execution_count": 10,
     "metadata": {},
     "output_type": "execute_result"
    },
    {
     "data": {
      "text/plain": [
       "(array([-5.,  0.,  5., 10., 15., 20., 25., 30.]),\n",
       " <a list of 8 Text major ticklabel objects>)"
      ]
     },
     "execution_count": 10,
     "metadata": {},
     "output_type": "execute_result"
    },
    {
     "data": {
      "text/plain": [
       "'\\n    Converting times (elution times from BioAnalyzer) to nucleotides using\\n    a 4th order polynomial fit\\n    '"
      ]
     },
     "execution_count": 10,
     "metadata": {},
     "output_type": "execute_result"
    },
    {
     "data": {
      "text/plain": [
       "[<matplotlib.lines.Line2D at 0x7fb5903029d0>]"
      ]
     },
     "execution_count": 10,
     "metadata": {},
     "output_type": "execute_result"
    },
    {
     "data": {
      "text/plain": [
       "[<matplotlib.lines.Line2D at 0x7fb5d06ef590>]"
      ]
     },
     "execution_count": 10,
     "metadata": {},
     "output_type": "execute_result"
    },
    {
     "data": {
      "text/plain": [
       "Text(0, 0.5, 'Calculated nts (from time)')"
      ]
     },
     "execution_count": 10,
     "metadata": {},
     "output_type": "execute_result"
    },
    {
     "data": {
      "text/plain": [
       "Text(0.5, 0, 'Ladder nts')"
      ]
     },
     "execution_count": 10,
     "metadata": {},
     "output_type": "execute_result"
    },
    {
     "data": {
      "text/plain": [
       "(array([-500.,    0.,  500., 1000., 1500., 2000., 2500., 3000., 3500.,\n",
       "        4000., 4500.]),\n",
       " <a list of 11 Text major ticklabel objects>)"
      ]
     },
     "execution_count": 10,
     "metadata": {},
     "output_type": "execute_result"
    },
    {
     "data": {
      "text/plain": [
       "(array([-500.,    0.,  500., 1000., 1500., 2000., 2500., 3000., 3500.,\n",
       "        4000., 4500.]),\n",
       " <a list of 11 Text major ticklabel objects>)"
      ]
     },
     "execution_count": 10,
     "metadata": {},
     "output_type": "execute_result"
    },
    {
     "data": {
      "text/plain": [
       "Text(0.5, 1.0, 'Ladder polynomial fit: Eukaryote Total RNA Nano_2020-12-02_15-54-46')"
      ]
     },
     "execution_count": 10,
     "metadata": {},
     "output_type": "execute_result"
    },
    {
     "data": {
      "text/plain": [
       "<matplotlib.legend.Legend at 0x7fb59030ad50>"
      ]
     },
     "execution_count": 10,
     "metadata": {},
     "output_type": "execute_result"
    },
    {
     "data": {
      "text/plain": [
       "'\\n    Applying fits to samples as well, per ladder\\n    '"
      ]
     },
     "execution_count": 10,
     "metadata": {},
     "output_type": "execute_result"
    },
    {
     "name": "stdout",
     "output_type": "stream",
     "text": [
      "Eukaryote Total RNA Nano_2020-12-02_15-54-46_Sample1.csv\n",
      "Eukaryote Total RNA Nano_2020-12-02_15-54-46_Sample2.csv\n",
      "Eukaryote Total RNA Nano_2020-12-02_15-54-46_Sample3.csv\n",
      "Eukaryote Total RNA Nano_2020-12-02_15-54-46_Sample4.csv\n",
      "Eukaryote Total RNA Nano_2020-12-02_15-54-46_Sample5.csv\n",
      "Eukaryote Total RNA Nano_2020-12-02_15-54-46_Sample6.csv\n",
      "Eukaryote Total RNA Nano_2020-12-02_15-54-46_Sample7.csv\n",
      "Eukaryote Total RNA Nano_2020-12-02_15-54-46_Sample8.csv\n",
      "Eukaryote Total RNA Nano_2020-12-02_15-54-46_Sample9.csv\n",
      "Eukaryote Total RNA Nano_2020-12-02_15-54-46_Sample10.csv\n",
      "Eukaryote Total RNA Nano_2020-12-02_15-54-46_Sample11.csv\n",
      "Eukaryote Total RNA Nano_2020-12-02_15-54-46_Sample12.csv\n"
     ]
    },
    {
     "data": {
      "text/plain": [
       "'\\n    Plotting and identifying peaks from the ladder traces from BioAnalyzer.\\n    Must be done per chip/run, since ladders may elute at slightly different times per run.\\n    Generates plots that shows identified peaks.\\n    As of 12-02-2020, should identify 6 peaks.\\n    '"
      ]
     },
     "execution_count": 10,
     "metadata": {},
     "output_type": "execute_result"
    },
    {
     "data": {
      "text/plain": [
       "[<matplotlib.lines.Line2D at 0x7fb590302c90>]"
      ]
     },
     "execution_count": 10,
     "metadata": {},
     "output_type": "execute_result"
    },
    {
     "data": {
      "text/plain": [
       "[<matplotlib.lines.Line2D at 0x7fb5902efa10>]"
      ]
     },
     "execution_count": 10,
     "metadata": {},
     "output_type": "execute_result"
    },
    {
     "data": {
      "text/plain": [
       "Text(0.5, 1.0, 'Ladder Peaks: Eukaryote Total RNA Nano_2020-12-02_16-14-33')"
      ]
     },
     "execution_count": 10,
     "metadata": {},
     "output_type": "execute_result"
    },
    {
     "data": {
      "text/plain": [
       "<matplotlib.legend.Legend at 0x7fb5c17d3ed0>"
      ]
     },
     "execution_count": 10,
     "metadata": {},
     "output_type": "execute_result"
    },
    {
     "data": {
      "text/plain": [
       "Text(0.5, 0, 'Time')"
      ]
     },
     "execution_count": 10,
     "metadata": {},
     "output_type": "execute_result"
    },
    {
     "data": {
      "text/plain": [
       "Text(0, 0.5, 'FU')"
      ]
     },
     "execution_count": 10,
     "metadata": {},
     "output_type": "execute_result"
    },
    {
     "data": {
      "text/plain": [
       "(array([10., 20., 30., 40., 50., 60., 70., 80.]),\n",
       " <a list of 8 Text major ticklabel objects>)"
      ]
     },
     "execution_count": 10,
     "metadata": {},
     "output_type": "execute_result"
    },
    {
     "data": {
      "text/plain": [
       "(array([-5.,  0.,  5., 10., 15., 20., 25., 30.]),\n",
       " <a list of 8 Text major ticklabel objects>)"
      ]
     },
     "execution_count": 10,
     "metadata": {},
     "output_type": "execute_result"
    },
    {
     "data": {
      "text/plain": [
       "'\\n    Converting times (elution times from BioAnalyzer) to nucleotides using\\n    a 4th order polynomial fit\\n    '"
      ]
     },
     "execution_count": 10,
     "metadata": {},
     "output_type": "execute_result"
    },
    {
     "data": {
      "text/plain": [
       "[<matplotlib.lines.Line2D at 0x7fb5d0657e50>]"
      ]
     },
     "execution_count": 10,
     "metadata": {},
     "output_type": "execute_result"
    },
    {
     "data": {
      "text/plain": [
       "[<matplotlib.lines.Line2D at 0x7fb59038ab50>]"
      ]
     },
     "execution_count": 10,
     "metadata": {},
     "output_type": "execute_result"
    },
    {
     "data": {
      "text/plain": [
       "Text(0, 0.5, 'Calculated nts (from time)')"
      ]
     },
     "execution_count": 10,
     "metadata": {},
     "output_type": "execute_result"
    },
    {
     "data": {
      "text/plain": [
       "Text(0.5, 0, 'Ladder nts')"
      ]
     },
     "execution_count": 10,
     "metadata": {},
     "output_type": "execute_result"
    },
    {
     "data": {
      "text/plain": [
       "(array([-500.,    0.,  500., 1000., 1500., 2000., 2500., 3000., 3500.,\n",
       "        4000., 4500.]),\n",
       " <a list of 11 Text major ticklabel objects>)"
      ]
     },
     "execution_count": 10,
     "metadata": {},
     "output_type": "execute_result"
    },
    {
     "data": {
      "text/plain": [
       "(array([-500.,    0.,  500., 1000., 1500., 2000., 2500., 3000., 3500.,\n",
       "        4000., 4500.]),\n",
       " <a list of 11 Text major ticklabel objects>)"
      ]
     },
     "execution_count": 10,
     "metadata": {},
     "output_type": "execute_result"
    },
    {
     "data": {
      "text/plain": [
       "Text(0.5, 1.0, 'Ladder polynomial fit: Eukaryote Total RNA Nano_2020-12-02_16-14-33')"
      ]
     },
     "execution_count": 10,
     "metadata": {},
     "output_type": "execute_result"
    },
    {
     "data": {
      "text/plain": [
       "<matplotlib.legend.Legend at 0x7fb5c17a4e90>"
      ]
     },
     "execution_count": 10,
     "metadata": {},
     "output_type": "execute_result"
    },
    {
     "data": {
      "text/plain": [
       "'\\n    Applying fits to samples as well, per ladder\\n    '"
      ]
     },
     "execution_count": 10,
     "metadata": {},
     "output_type": "execute_result"
    },
    {
     "name": "stdout",
     "output_type": "stream",
     "text": [
      "Eukaryote Total RNA Nano_2020-12-02_16-14-33_Sample1.csv\n",
      "Eukaryote Total RNA Nano_2020-12-02_16-14-33_Sample2.csv\n",
      "Eukaryote Total RNA Nano_2020-12-02_16-14-33_Sample3.csv\n",
      "Eukaryote Total RNA Nano_2020-12-02_16-14-33_Sample4.csv\n",
      "Eukaryote Total RNA Nano_2020-12-02_16-14-33_Sample5.csv\n",
      "Eukaryote Total RNA Nano_2020-12-02_16-14-33_Sample6.csv\n",
      "Eukaryote Total RNA Nano_2020-12-02_16-14-33_Sample7.csv\n",
      "Eukaryote Total RNA Nano_2020-12-02_16-14-33_Sample8.csv\n",
      "Eukaryote Total RNA Nano_2020-12-02_16-14-33_Sample9.csv\n",
      "Eukaryote Total RNA Nano_2020-12-02_16-14-33_Sample10.csv\n",
      "Eukaryote Total RNA Nano_2020-12-02_16-14-33_Sample11.csv\n",
      "Eukaryote Total RNA Nano_2020-12-02_16-14-33_Sample12.csv\n"
     ]
    },
    {
     "data": {
      "text/plain": [
       "'\\n    Plotting and identifying peaks from the ladder traces from BioAnalyzer.\\n    Must be done per chip/run, since ladders may elute at slightly different times per run.\\n    Generates plots that shows identified peaks.\\n    As of 12-02-2020, should identify 6 peaks.\\n    '"
      ]
     },
     "execution_count": 10,
     "metadata": {},
     "output_type": "execute_result"
    },
    {
     "data": {
      "text/plain": [
       "[<matplotlib.lines.Line2D at 0x7fb5e00aad50>]"
      ]
     },
     "execution_count": 10,
     "metadata": {},
     "output_type": "execute_result"
    },
    {
     "data": {
      "text/plain": [
       "[<matplotlib.lines.Line2D at 0x7fb5901fc110>]"
      ]
     },
     "execution_count": 10,
     "metadata": {},
     "output_type": "execute_result"
    },
    {
     "data": {
      "text/plain": [
       "Text(0.5, 1.0, 'Ladder Peaks: Eukaryote Total RNA Nano_2020-12-02_16-22-53')"
      ]
     },
     "execution_count": 10,
     "metadata": {},
     "output_type": "execute_result"
    },
    {
     "data": {
      "text/plain": [
       "<matplotlib.legend.Legend at 0x7fb5901fc8d0>"
      ]
     },
     "execution_count": 10,
     "metadata": {},
     "output_type": "execute_result"
    },
    {
     "data": {
      "text/plain": [
       "Text(0.5, 0, 'Time')"
      ]
     },
     "execution_count": 10,
     "metadata": {},
     "output_type": "execute_result"
    },
    {
     "data": {
      "text/plain": [
       "Text(0, 0.5, 'FU')"
      ]
     },
     "execution_count": 10,
     "metadata": {},
     "output_type": "execute_result"
    },
    {
     "data": {
      "text/plain": [
       "(array([10., 20., 30., 40., 50., 60., 70., 80.]),\n",
       " <a list of 8 Text major ticklabel objects>)"
      ]
     },
     "execution_count": 10,
     "metadata": {},
     "output_type": "execute_result"
    },
    {
     "data": {
      "text/plain": [
       "(array([-5.,  0.,  5., 10., 15., 20., 25., 30.]),\n",
       " <a list of 8 Text major ticklabel objects>)"
      ]
     },
     "execution_count": 10,
     "metadata": {},
     "output_type": "execute_result"
    },
    {
     "data": {
      "text/plain": [
       "'\\n    Converting times (elution times from BioAnalyzer) to nucleotides using\\n    a 4th order polynomial fit\\n    '"
      ]
     },
     "execution_count": 10,
     "metadata": {},
     "output_type": "execute_result"
    },
    {
     "data": {
      "text/plain": [
       "[<matplotlib.lines.Line2D at 0x7fb5c183b190>]"
      ]
     },
     "execution_count": 10,
     "metadata": {},
     "output_type": "execute_result"
    },
    {
     "data": {
      "text/plain": [
       "[<matplotlib.lines.Line2D at 0x7fb59037a990>]"
      ]
     },
     "execution_count": 10,
     "metadata": {},
     "output_type": "execute_result"
    },
    {
     "data": {
      "text/plain": [
       "Text(0, 0.5, 'Calculated nts (from time)')"
      ]
     },
     "execution_count": 10,
     "metadata": {},
     "output_type": "execute_result"
    },
    {
     "data": {
      "text/plain": [
       "Text(0.5, 0, 'Ladder nts')"
      ]
     },
     "execution_count": 10,
     "metadata": {},
     "output_type": "execute_result"
    },
    {
     "data": {
      "text/plain": [
       "(array([-500.,    0.,  500., 1000., 1500., 2000., 2500., 3000., 3500.,\n",
       "        4000., 4500.]),\n",
       " <a list of 11 Text major ticklabel objects>)"
      ]
     },
     "execution_count": 10,
     "metadata": {},
     "output_type": "execute_result"
    },
    {
     "data": {
      "text/plain": [
       "(array([-500.,    0.,  500., 1000., 1500., 2000., 2500., 3000., 3500.,\n",
       "        4000., 4500.]),\n",
       " <a list of 11 Text major ticklabel objects>)"
      ]
     },
     "execution_count": 10,
     "metadata": {},
     "output_type": "execute_result"
    },
    {
     "data": {
      "text/plain": [
       "Text(0.5, 1.0, 'Ladder polynomial fit: Eukaryote Total RNA Nano_2020-12-02_16-22-53')"
      ]
     },
     "execution_count": 10,
     "metadata": {},
     "output_type": "execute_result"
    },
    {
     "data": {
      "text/plain": [
       "<matplotlib.legend.Legend at 0x7fb5f04a5310>"
      ]
     },
     "execution_count": 10,
     "metadata": {},
     "output_type": "execute_result"
    },
    {
     "data": {
      "text/plain": [
       "'\\n    Applying fits to samples as well, per ladder\\n    '"
      ]
     },
     "execution_count": 10,
     "metadata": {},
     "output_type": "execute_result"
    },
    {
     "name": "stdout",
     "output_type": "stream",
     "text": [
      "Eukaryote Total RNA Nano_2020-12-02_16-22-53_Sample1.csv\n",
      "Eukaryote Total RNA Nano_2020-12-02_16-22-53_Sample2.csv\n",
      "Eukaryote Total RNA Nano_2020-12-02_16-22-53_Sample3.csv\n",
      "Eukaryote Total RNA Nano_2020-12-02_16-22-53_Sample4.csv\n",
      "Eukaryote Total RNA Nano_2020-12-02_16-22-53_Sample5.csv\n",
      "Eukaryote Total RNA Nano_2020-12-02_16-22-53_Sample6.csv\n",
      "Eukaryote Total RNA Nano_2020-12-02_16-22-53_Sample7.csv\n",
      "Eukaryote Total RNA Nano_2020-12-02_16-22-53_Sample8.csv\n",
      "Eukaryote Total RNA Nano_2020-12-02_16-22-53_Sample9.csv\n",
      "Eukaryote Total RNA Nano_2020-12-02_16-22-53_Sample10.csv\n",
      "Eukaryote Total RNA Nano_2020-12-02_16-22-53_Sample11.csv\n",
      "Eukaryote Total RNA Nano_2020-12-02_16-22-53_Sample12.csv\n"
     ]
    },
    {
     "data": {
      "text/plain": [
       "<Figure size 576x384 with 0 Axes>"
      ]
     },
     "metadata": {},
     "output_type": "display_data"
    }
   ],
   "source": [
    "#list of filenames \n",
    "filenames = [\"Eukaryote Total RNA Nano_2020-12-02_14-31-30\",\\\n",
    "             \"Eukaryote Total RNA Nano_2020-12-02_14-38-16\",\\\n",
    "             \"Eukaryote Total RNA Nano_2020-12-02_15-29-46\",\\\n",
    "             \"Eukaryote Total RNA Nano_2020-12-02_15-24-46\",\\\n",
    "             \"Eukaryote Total RNA Nano_2020-12-02_15-48-34\",\\\n",
    "             \"Eukaryote Total RNA Nano_2020-12-02_15-54-46\",\\\n",
    "             \"Eukaryote Total RNA Nano_2020-12-02_16-14-33\",\\\n",
    "             \"Eukaryote Total RNA Nano_2020-12-02_16-22-53\"]\n",
    "\"\"\"\n",
    "from files:\n",
    "Eukaryote Total RNA Nano_2020-12-02_14-31-30_WK_1.pdf\n",
    "Eukaryote Total RNA Nano_2020-12-02_14-38-16_WK_2.pdf\n",
    "Eukaryote Total RNA Nano_2020-12-02_15-24-46_WK_4.pdf\n",
    "Eukaryote Total RNA Nano_2020-12-02_15-29-46_WK_3.pdf\n",
    "Eukaryote Total RNA Nano_2020-12-02_15-48-34_WK_5.pdf\n",
    "Eukaryote Total RNA Nano_2020-12-02_15-54-46_WK_6.pdf\n",
    "Eukaryote Total RNA Nano_2020-12-02_16-14-33_WK_7.pdf\n",
    "Eukaryote Total RNA Nano_2020-12-02_16-22-53_WK_8.pdf\n",
    "\"\"\"\n",
    "\n",
    "for filename in filenames:\n",
    "    \n",
    "    \"\"\"\n",
    "    Plotting and identifying peaks from the ladder traces from BioAnalyzer.\n",
    "    Must be done per chip/run, since ladders may elute at slightly different times per run.\n",
    "    Generates plots that shows identified peaks.\n",
    "    As of 12-02-2020, should identify 6 peaks.\n",
    "    \"\"\"\n",
    "    \n",
    "    ladder_dict = {}\n",
    "    ladder_values = {}\n",
    "\n",
    "    ladder_df = pd.read_csv(data_dir+filename+'_Ladder.csv', skiprows=17)[:-1]\n",
    "    ladder_time = np.array(ladder_df['Time'].astype(float))\n",
    "    ladder_value = np.array(ladder_df['Value'].astype(float))\n",
    "\n",
    "    peaks,_ = find_peaks(ladder_value, height=5, distance=15)\n",
    "    ladder_dict = list(peaks[:6])\n",
    "\n",
    "    #plotting ladder trace + peak identification\n",
    "    plot(ladder_time, ladder_value, label='ladder trace')\n",
    "    plot(ladder_time[peaks], ladder_value[peaks], 'x', label='peaks', markersize=15)\n",
    "    title('Ladder Peaks: '+filename, fontsize=16)\n",
    "    legend(fontsize=14)\n",
    "    xlabel('Time', fontsize=14)\n",
    "    ylabel('FU', fontsize=14)\n",
    "    xticks(fontsize=14)\n",
    "    yticks(fontsize=14)\n",
    "    tight_layout()\n",
    "    \n",
    "    #saving figure\n",
    "    savefig(fig_dir+filename+'_ladder.png', dpi=300)\n",
    "    clf()\n",
    "    \n",
    "    \n",
    "    \"\"\"\n",
    "    Converting times (elution times from BioAnalyzer) to nucleotides using\n",
    "    a 4th order polynomial fit\n",
    "    \"\"\"\n",
    "    \n",
    "    #returns the times when peaks occur, will serve as x on polynomial fit\n",
    "    peak_times = ladder_time[ladder_dict]\n",
    "    \n",
    "    #ladder nucleotide sizes, will serve as y on polynomial fit\n",
    "    peak_fu = np.array([25, 200, 500, 1000, 2000, 4000])\n",
    "    \n",
    "    #assert that the lengths of x and y match (cannot perform fit otherwise)\n",
    "    assert (len(peak_times) == len(peak_fu))\n",
    "\n",
    "    new_height = 5\n",
    "    while (len(peak_times) < len(peak_fu)):\n",
    "        new_height = new_height-0.1\n",
    "        peaks,_ = find_peaks(ladder_value, height=new_height, distance=15)\n",
    "        ladder_dict = list(peaks[:6])\n",
    "        peak_times = ladder_time[ladder_dict]\n",
    "        \n",
    "    #fitting a 4th order polynomial to peaks/nucleotides\n",
    "    ladder_fit = np.polyfit(x=peak_times, y = peak_fu, deg = 4)\n",
    "    lf = np.poly1d(ladder_fit)\n",
    "    ladder_nts = lf\n",
    "    \n",
    "    #plotting\n",
    "    plot(peak_fu, lf(peak_times), 'o',label='calculated nts vs. ladder nts')\n",
    "    plot(peak_fu, peak_fu,label='perfect correlation')\n",
    "    ylabel('Calculated nts (from time)', fontsize=14)\n",
    "    xlabel('Ladder nts', fontsize=14)\n",
    "    yticks(fontsize=12)\n",
    "    xticks(fontsize=12)\n",
    "    title('Ladder polynomial fit: '+filename, fontsize=16)\n",
    "    legend(fontsize=12)\n",
    "    tight_layout()\n",
    "    \n",
    "    #saving figure\n",
    "    savefig(fig_dir+'ladder_fit-'+filename+'.png', dpi=300)\n",
    "    clf()\n",
    "\n",
    "    \n",
    "    \"\"\"\n",
    "    Applying fits to samples as well, per ladder\n",
    "    \"\"\"\n",
    "    \n",
    "    sample_numbers = np.arange(1,13)\n",
    "\n",
    "    for number in sample_numbers:\n",
    "        file = filename+'_Sample'+str(number)+\".csv\"\n",
    "        print(file)\n",
    "        if (path.exists(data_dir + file)):\n",
    "            sample_df = pd.read_csv(data_dir + file, skiprows=17)[:-1]\n",
    "            times = np.array(sample_df['Time'].astype(float))\n",
    "            sample_df['Nucleotides'] = ladder_nts(times)\n",
    "            sample_df.to_csv(processed_dir+'nts-'+ file)\n",
    "        else:\n",
    "            continue"
   ]
  },
  {
   "cell_type": "code",
   "execution_count": null,
   "metadata": {},
   "outputs": [],
   "source": []
  }
 ],
 "metadata": {
  "kernelspec": {
   "display_name": "Python 3",
   "language": "python",
   "name": "python3"
  },
  "language_info": {
   "codemirror_mode": {
    "name": "ipython",
    "version": 3
   },
   "file_extension": ".py",
   "mimetype": "text/x-python",
   "name": "python",
   "nbconvert_exporter": "python",
   "pygments_lexer": "ipython3",
   "version": "3.7.7"
  }
 },
 "nbformat": 4,
 "nbformat_minor": 4
}
