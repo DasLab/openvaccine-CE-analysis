{
 "cells": [
  {
   "cell_type": "code",
   "execution_count": 1,
   "metadata": {},
   "outputs": [
    {
     "data": {
      "text/html": [
       "<style>.container { width:100% !important; }</style>"
      ],
      "text/plain": [
       "<IPython.core.display.HTML object>"
      ]
     },
     "metadata": {},
     "output_type": "display_data"
    }
   ],
   "source": [
    "# loading\n",
    "import sys\n",
    "import os\n",
    "sys.path.append(os.getcwd())\n",
    "import analysis_rd_dsk_scratch as ivdeg\n",
    "%load_ext autoreload\n",
    "%autoreload 2\n",
    "\n",
    "from IPython.core.display import display, HTML\n",
    "display(HTML(\"<style>.container { width:100% !important; }</style>\"))"
   ]
  },
  {
   "cell_type": "code",
   "execution_count": null,
   "metadata": {},
   "outputs": [],
   "source": [
    "### 12-02 (4 timepoint survey), P4-P6, mRNA\n",
    "data_dir = \"/data/120220_BioAnalyzer/\"\n",
    "output_filename = 'dsk_output_12-02_P4P6norm'\n",
    "output_dir = 'output_dsk/1202/'\n",
    "norm_pk = 2\n",
    "pk_nt_bounds=np.array([[20,30],[250,300],[820,1000]])\n",
    "output_1202_P4P6norm_compiled, ouput_1202_P4P6norm_fits = ivdeg.analyze_bioanalyzer_data(data_dir, pk_nt_bounds=pk_nt_bounds, output_filename = output_filename, norm_pk = norm_pk, output_dir=output_dir, output_pdf=True)\n",
    "\n",
    "### 12-02 (4 timepoint survey), P4-P6, mRNA --expfitvaryamp\n",
    "data_dir = \"/data/120220_BioAnalyzer/\"\n",
    "output_filename = 'dsk_output_12-02_P4P6norm_expfitvaryamp'\n",
    "output_dir = 'output_dsk/1202/'\n",
    "norm_pk = 2\n",
    "pk_nt_bounds=np.array([[20,30],[250,300],[820,1000]])\n",
    "output_1202_P4P6norm_compiled_expfitvaryamp, ouput_1202_P4P6norm_fits_expfitvaryamp = ivdeg.analyze_bioanalyzer_data(data_dir, pk_nt_bounds = pk_nt_bounds, output_filename = output_filename, norm_pk = norm_pk, output_dir=output_dir, fit_type = 'expfit_varyamp', output_pdf=True)\n",
    "\n",
    "### 12-02 (4 timepoint survey), use total-mRNA\n",
    "data_dir = \"/data/120220_BioAnalyzer/\"\n",
    "output_filename = 'dsk_output_12-02_totalmRNAnorm'\n",
    "output_dir = 'output_dsk/1202/'\n",
    "norm_pk = 0\n",
    "pk_nt_bounds=np.array([[20,30],[250,300],[820,1000]])\n",
    "output_1202_totalmRNAnorm_compiled, ouput_1202_totalmRNAnorm_fits = ivdeg.analyze_bioanalyzer_data(data_dir, pk_nt_bounds = pk_nt_bounds, output_filename = output_filename, norm_pk = norm_pk, output_dir=output_dir, output_pdf=True)\n",
    "\n",
    "### 12-02 (4 timepoint survey), use total-mRNA\n",
    "data_dir = \"/data/120220_BioAnalyzer/\"\n",
    "output_filename = 'dsk_output_12-02_totalmRNAnorm_expfitvaryamp'\n",
    "output_dir = 'output_dsk/1202/'\n",
    "norm_pk = 0\n",
    "pk_nt_bounds=np.array([[20,30],[250,300],[820,1000]])\n",
    "output_1202_totalmRNAnorm_compiled_expfitvaryamp, ouput_1202_totalmRNAnorm_fits_expfitvaryamp = ivdeg.analyze_bioanalyzer_data(data_dir, pk_nt_bounds = pk_nt_bounds, output_filename = output_filename, norm_pk = norm_pk, output_dir=output_dir, fit_type='expfit_varyamp', output_pdf=True)"
   ]
  },
  {
   "cell_type": "code",
   "execution_count": null,
   "metadata": {},
   "outputs": [],
   "source": [
    "### 12-10 (10 timepoint survey, no P4P6 spikein), use total-mRNA\n",
    "data_dir = \"/Users/dosoonkim/Google Drive (dosoon@stanford.edu)/COVID_Vaccine/8. Experimental Results/Experimental Logs - Das/121020_Bioanalyzer/\"\n",
    "output_filename = 'dsk_output_12-10_totalmRNAnorm'\n",
    "output_dir = 'output_dsk/1210/'\n",
    "norm_pk = 0\n",
    "pk_nt_bounds=np.array([[20,30],[820,1000]])\n",
    "output_1210_compiled, ouput_1210_totalmRNAnorm_fits = ivdeg.analyze_bioanalyzer_data(data_dir, pk_nt_bounds = pk_nt_bounds, output_filename = output_filename, norm_pk = norm_pk, output_dir=output_dir, output_pdf=True)\n",
    "\n",
    "### 12-10 (10 timepoint survey, no P4P6 spikein), use total-mRNA and vary amplitude\n",
    "data_dir = \"/Users/dosoonkim/Google Drive (dosoon@stanford.edu)/COVID_Vaccine/8. Experimental Results/Experimental Logs - Das/121020_Bioanalyzer/\"\n",
    "output_filename = 'dsk_output_12-10_totalmRNAnorm_expfitvaryamp'\n",
    "output_dir = 'output_dsk/1210/'\n",
    "norm_pk = 0\n",
    "pk_nt_bounds=np.array([[20,30],[820,1000]])\n",
    "output_1210_compiled_expfitvaryamp, ouput_1210_totalmRNAnorm_fits_expfitvaryamp = ivdeg.analyze_bioanalyzer_data(data_dir, pk_nt_bounds = pk_nt_bounds, output_filename = output_filename, norm_pk = norm_pk, output_dir=output_dir, output_pdf=True)"
   ]
  },
  {
   "cell_type": "code",
   "execution_count": null,
   "metadata": {},
   "outputs": [],
   "source": [
    "### 10-15, 6 nLuc tests (natural RNA), P4P6 norm\n",
    "data_dir = \"/Users/dosoonkim/Google Drive (dosoon@stanford.edu)/COVID_Vaccine/8. Experimental Results/Experimental Logs - Das/101520_mRNA_BioAnalyzer/\"\n",
    "output_filename = 'dsk_output_1015_P4P6norm'\n",
    "output_dir = 'output_dsk/1015/'\n",
    "output_pdf = True\n",
    "norm_pk = 2\n",
    "pk_nt_bounds=np.array([[20,30],[200, 300],[800,1000]])\n",
    "output_1015_P4P6norm_compiled, ouput_1015_P4P6norm_fits = ivdeg.analyze_bioanalyzer_data(data_dir, pk_nt_bounds = pk_nt_bounds, output_filename = output_filename, norm_pk = norm_pk, output_dir=output_dir, output_pdf=output_pdf)\n",
    "\n",
    "### 10-15, 6 nLuc tests (natural RNA), total mRNA norm\n",
    "data_dir = \"/Users/dosoonkim/Google Drive (dosoon@stanford.edu)/COVID_Vaccine/8. Experimental Results/Experimental Logs - Das/101520_mRNA_BioAnalyzer/\"\n",
    "output_filename = 'dsk_output_1015_totalmRNAnorm'\n",
    "output_dir = 'output_dsk/1015/'\n",
    "output_pdf = True\n",
    "norm_pk = 0\n",
    "pk_nt_bounds=np.array([[20,30],[200, 300],[800,1000]])\n",
    "output_1015_totalmRNAnorm_compiled, ouput_1015_totalmRNAnorm_fits = ivdeg.analyze_bioanalyzer_data(data_dir, pk_nt_bounds = pk_nt_bounds, output_filename = output_filename, norm_pk = norm_pk, output_dir=output_dir, output_pdf=output_pdf)\n",
    "\n"
   ]
  },
  {
   "cell_type": "code",
   "execution_count": 2,
   "metadata": {},
   "outputs": [
    {
     "name": "stdout",
     "output_type": "stream",
     "text": [
      "Analyzing samples for: /Users/dosoonkim/Google Drive (dosoon@stanford.edu)/COVID_Vaccine/8. Experimental Results/Experimental Logs - Das/102120_PSU_5mC_BioAnalyzer/...\n",
      "[{'Sample': 'hHBB_Yellowstone_hHBB', 'Nucleotide': 'natural', 'Timepoint': 0.0, 'Plate': 1, 'FileNumber': 1}, {'Sample': 'hHBB_Yellowstone_hHBB', 'Nucleotide': 'natural', 'Timepoint': 0.5, 'Plate': 1, 'FileNumber': 2}, {'Sample': 'hHBB_Yellowstone_hHBB', 'Nucleotide': 'natural', 'Timepoint': 1.0, 'Plate': 1, 'FileNumber': 3}, {'Sample': 'hHBB_Yellowstone_hHBB', 'Nucleotide': 'natural', 'Timepoint': 1.5, 'Plate': 1, 'FileNumber': 4}, {'Sample': 'hHBB_Yellowstone_hHBB', 'Nucleotide': 'natural', 'Timepoint': 2.0, 'Plate': 1, 'FileNumber': 5}, {'Sample': 'hHBB_Yellowstone_hHBB', 'Nucleotide': 'natural', 'Timepoint': 3.0, 'Plate': 1, 'FileNumber': 6}, {'Sample': 'hHBB_Yellowstone_hHBB', 'Nucleotide': 'natural', 'Timepoint': 4.0, 'Plate': 1, 'FileNumber': 7}, {'Sample': 'hHBB_Yellowstone_hHBB', 'Nucleotide': 'natural', 'Timepoint': 5.0, 'Plate': 1, 'FileNumber': 8}, {'Sample': 'hHBB_Yellowstone_hHBB', 'Nucleotide': 'natural', 'Timepoint': 18.0, 'Plate': 1, 'FileNumber': 9}, {'Sample': 'hHBB_Yellowstone_hHBB', 'Nucleotide': 'natural', 'Timepoint': 24.0, 'Plate': 1, 'FileNumber': 10}, {'Sample': 'hHBB_Yellowstone_hHBB', 'Nucleotide': '5mC', 'Timepoint': 0.0, 'Plate': 1, 'FileNumber': 11}, {'Sample': 'hHBB_Yellowstone_hHBB', 'Nucleotide': '5mC', 'Timepoint': 0.5, 'Plate': 1, 'FileNumber': 12}, {'Sample': 'hHBB_Yellowstone_hHBB', 'Nucleotide': '5mC', 'Timepoint': 1.0, 'Plate': 2, 'FileNumber': 1}, {'Sample': 'hHBB_Yellowstone_hHBB', 'Nucleotide': '5mC', 'Timepoint': 1.5, 'Plate': 2, 'FileNumber': 2}, {'Sample': 'hHBB_Yellowstone_hHBB', 'Nucleotide': '5mC', 'Timepoint': 2.0, 'Plate': 2, 'FileNumber': 3}, {'Sample': 'hHBB_Yellowstone_hHBB', 'Nucleotide': '5mC', 'Timepoint': 3.0, 'Plate': 2, 'FileNumber': 4}, {'Sample': 'hHBB_Yellowstone_hHBB', 'Nucleotide': '5mC', 'Timepoint': 4.0, 'Plate': 2, 'FileNumber': 5}, {'Sample': 'hHBB_Yellowstone_hHBB', 'Nucleotide': '5mC', 'Timepoint': 5.0, 'Plate': 2, 'FileNumber': 6}, {'Sample': 'hHBB_Yellowstone_hHBB', 'Nucleotide': '5mC', 'Timepoint': 18.0, 'Plate': 2, 'FileNumber': 7}, {'Sample': 'hHBB_Yellowstone_hHBB', 'Nucleotide': '5mC', 'Timepoint': 24.0, 'Plate': 2, 'FileNumber': 8}, {'Sample': 'hHBB_Yellowstone_hHBB', 'Nucleotide': 'PSU', 'Timepoint': 0.0, 'Plate': 6, 'FileNumber': 11}, {'Sample': 'hHBB_Yellowstone_hHBB', 'Nucleotide': 'PSU', 'Timepoint': 0.5, 'Plate': 6, 'FileNumber': 12}, {'Sample': 'hHBB_Yellowstone_hHBB', 'Nucleotide': 'PSU', 'Timepoint': 1.0, 'Plate': 7, 'FileNumber': 1}, {'Sample': 'hHBB_Yellowstone_hHBB', 'Nucleotide': 'PSU', 'Timepoint': 1.5, 'Plate': 7, 'FileNumber': 2}, {'Sample': 'hHBB_Yellowstone_hHBB', 'Nucleotide': 'PSU', 'Timepoint': 2.0, 'Plate': 7, 'FileNumber': 3}, {'Sample': 'hHBB_Yellowstone_hHBB', 'Nucleotide': 'PSU', 'Timepoint': 3.0, 'Plate': 7, 'FileNumber': 4}, {'Sample': 'hHBB_Yellowstone_hHBB', 'Nucleotide': 'PSU', 'Timepoint': 4.0, 'Plate': 7, 'FileNumber': 5}, {'Sample': 'hHBB_Yellowstone_hHBB', 'Nucleotide': 'PSU', 'Timepoint': 5.0, 'Plate': 7, 'FileNumber': 6}, {'Sample': 'hHBB_Yellowstone_hHBB', 'Nucleotide': 'PSU', 'Timepoint': 18.0, 'Plate': 7, 'FileNumber': 7}, {'Sample': 'hHBB_Yellowstone_hHBB', 'Nucleotide': 'PSU', 'Timepoint': 24.0, 'Plate': 7, 'FileNumber': 8}, {'Sample': 'hHBB_LinearDesign_hHBB', 'Nucleotide': '5mC', 'Timepoint': 0.0, 'Plate': 9, 'FileNumber': 6}, {'Sample': 'hHBB_LinearDesign_hHBB', 'Nucleotide': '5mC', 'Timepoint': 0.5, 'Plate': 2, 'FileNumber': 9}, {'Sample': 'hHBB_LinearDesign_hHBB', 'Nucleotide': '5mC', 'Timepoint': 1.0, 'Plate': 2, 'FileNumber': 11}, {'Sample': 'hHBB_LinearDesign_hHBB', 'Nucleotide': '5mC', 'Timepoint': 1.5, 'Plate': 2, 'FileNumber': 12}, {'Sample': 'hHBB_LinearDesign_hHBB', 'Nucleotide': '5mC', 'Timepoint': 2.0, 'Plate': 3, 'FileNumber': 1}, {'Sample': 'hHBB_LinearDesign_hHBB', 'Nucleotide': '5mC', 'Timepoint': 3.0, 'Plate': 3, 'FileNumber': 2}, {'Sample': 'hHBB_LinearDesign_hHBB', 'Nucleotide': '5mC', 'Timepoint': 4.0, 'Plate': 3, 'FileNumber': 3}, {'Sample': 'hHBB_LinearDesign_hHBB', 'Nucleotide': '5mC', 'Timepoint': 5.0, 'Plate': 3, 'FileNumber': 4}, {'Sample': 'hHBB_LinearDesign_hHBB', 'Nucleotide': '5mC', 'Timepoint': 18.0, 'Plate': 3, 'FileNumber': 5}, {'Sample': 'hHBB_LinearDesign_hHBB', 'Nucleotide': '5mC', 'Timepoint': 24.0, 'Plate': 3, 'FileNumber': 6}, {'Sample': 'hHBB_LinearDesign_hHBB', 'Nucleotide': 'PSU', 'Timepoint': 0.0, 'Plate': 7, 'FileNumber': 9}, {'Sample': 'hHBB_LinearDesign_hHBB', 'Nucleotide': 'PSU', 'Timepoint': 0.5, 'Plate': 7, 'FileNumber': 10}, {'Sample': 'hHBB_LinearDesign_hHBB', 'Nucleotide': 'PSU', 'Timepoint': 1.0, 'Plate': 7, 'FileNumber': 11}, {'Sample': 'hHBB_LinearDesign_hHBB', 'Nucleotide': 'PSU', 'Timepoint': 1.5, 'Plate': 7, 'FileNumber': 12}, {'Sample': 'hHBB_LinearDesign_hHBB', 'Nucleotide': 'PSU', 'Timepoint': 2.0, 'Plate': 8, 'FileNumber': 1}, {'Sample': 'hHBB_LinearDesign_hHBB', 'Nucleotide': 'PSU', 'Timepoint': 3.0, 'Plate': 8, 'FileNumber': 2}, {'Sample': 'hHBB_LinearDesign_hHBB', 'Nucleotide': 'PSU', 'Timepoint': 4.0, 'Plate': 8, 'FileNumber': 3}, {'Sample': 'hHBB_LinearDesign_hHBB', 'Nucleotide': 'PSU', 'Timepoint': 5.0, 'Plate': 8, 'FileNumber': 4}, {'Sample': 'hHBB_LinearDesign_hHBB', 'Nucleotide': 'PSU', 'Timepoint': 18.0, 'Plate': 8, 'FileNumber': 5}, {'Sample': 'hHBB_LinearDesign_hHBB', 'Nucleotide': 'PSU', 'Timepoint': 24.0, 'Plate': 8, 'FileNumber': 6}, {'Sample': 'hHBB_Nluc_hHBB', 'Nucleotide': '5mC', 'Timepoint': 0.0, 'Plate': 3, 'FileNumber': 7}, {'Sample': 'hHBB_Nluc_hHBB', 'Nucleotide': '5mC', 'Timepoint': 0.5, 'Plate': 3, 'FileNumber': 8}, {'Sample': 'hHBB_Nluc_hHBB', 'Nucleotide': '5mC', 'Timepoint': 1.0, 'Plate': 3, 'FileNumber': 9}, {'Sample': 'hHBB_Nluc_hHBB', 'Nucleotide': '5mC', 'Timepoint': 1.5, 'Plate': 3, 'FileNumber': 10}, {'Sample': 'hHBB_Nluc_hHBB', 'Nucleotide': '5mC', 'Timepoint': 2.0, 'Plate': 3, 'FileNumber': 11}, {'Sample': 'hHBB_Nluc_hHBB', 'Nucleotide': '5mC', 'Timepoint': 3.0, 'Plate': 3, 'FileNumber': 12}, {'Sample': 'hHBB_Nluc_hHBB', 'Nucleotide': '5mC', 'Timepoint': 4.0, 'Plate': 4, 'FileNumber': 1}, {'Sample': 'hHBB_Nluc_hHBB', 'Nucleotide': '5mC', 'Timepoint': 5.0, 'Plate': 4, 'FileNumber': 2}, {'Sample': 'hHBB_Nluc_hHBB', 'Nucleotide': '5mC', 'Timepoint': 18.0, 'Plate': 4, 'FileNumber': 3}, {'Sample': 'hHBB_Nluc_hHBB', 'Nucleotide': '5mC', 'Timepoint': 24.0, 'Plate': 4, 'FileNumber': 4}, {'Sample': 'hHBB_Nluc_hHBB', 'Nucleotide': 'PSU', 'Timepoint': 0.0, 'Plate': 8, 'FileNumber': 7}, {'Sample': 'hHBB_Nluc_hHBB', 'Nucleotide': 'PSU', 'Timepoint': 0.5, 'Plate': 8, 'FileNumber': 8}, {'Sample': 'hHBB_Nluc_hHBB', 'Nucleotide': 'PSU', 'Timepoint': 1.0, 'Plate': 8, 'FileNumber': 9}, {'Sample': 'hHBB_Nluc_hHBB', 'Nucleotide': 'PSU', 'Timepoint': 1.5, 'Plate': 8, 'FileNumber': 10}, {'Sample': 'hHBB_Nluc_hHBB', 'Nucleotide': 'PSU', 'Timepoint': 2.0, 'Plate': 8, 'FileNumber': 11}, {'Sample': 'hHBB_Nluc_hHBB', 'Nucleotide': 'PSU', 'Timepoint': 3.0, 'Plate': 8, 'FileNumber': 12}, {'Sample': 'hHBB_Nluc_hHBB', 'Nucleotide': 'PSU', 'Timepoint': 4.0, 'Plate': 9, 'FileNumber': 1}, {'Sample': 'hHBB_Nluc_hHBB', 'Nucleotide': 'PSU', 'Timepoint': 5.0, 'Plate': 9, 'FileNumber': 2}, {'Sample': 'hHBB_Nluc_hHBB', 'Nucleotide': 'PSU', 'Timepoint': 18.0, 'Plate': 9, 'FileNumber': 3}, {'Sample': 'hHBB_Nluc_hHBB', 'Nucleotide': 'PSU', 'Timepoint': 24.0, 'Plate': 9, 'FileNumber': 4}, {'Sample': 'hHBB_GCrich-2_hHBB', 'Nucleotide': '5mC', 'Timepoint': 0.0, 'Plate': 4, 'FileNumber': 5}, {'Sample': 'hHBB_GCrich-2_hHBB', 'Nucleotide': '5mC', 'Timepoint': 0.5, 'Plate': 4, 'FileNumber': 6}, {'Sample': 'hHBB_GCrich-2_hHBB', 'Nucleotide': '5mC', 'Timepoint': 1.0, 'Plate': 4, 'FileNumber': 7}, {'Sample': 'hHBB_GCrich-2_hHBB', 'Nucleotide': '5mC', 'Timepoint': 1.5, 'Plate': 4, 'FileNumber': 8}, {'Sample': 'hHBB_GCrich-2_hHBB', 'Nucleotide': '5mC', 'Timepoint': 2.0, 'Plate': 4, 'FileNumber': 9}, {'Sample': 'hHBB_GCrich-2_hHBB', 'Nucleotide': '5mC', 'Timepoint': 3.0, 'Plate': 4, 'FileNumber': 10}, {'Sample': 'hHBB_GCrich-2_hHBB', 'Nucleotide': '5mC', 'Timepoint': 4.0, 'Plate': 4, 'FileNumber': 11}, {'Sample': 'hHBB_GCrich-2_hHBB', 'Nucleotide': '5mC', 'Timepoint': 5.0, 'Plate': 4, 'FileNumber': 12}, {'Sample': 'hHBB_GCrich-2_hHBB', 'Nucleotide': '5mC', 'Timepoint': 18.0, 'Plate': 9, 'FileNumber': 7}, {'Sample': 'hHBB_GCrich-2_hHBB', 'Nucleotide': '5mC', 'Timepoint': 24.0, 'Plate': 5, 'FileNumber': 2}, {'Sample': 'hHBB_GCrich-2_hHBB', 'Nucleotide': 'PSU', 'Timepoint': 0.0, 'Plate': 10, 'FileNumber': 2}, {'Sample': 'hHBB_GCrich-2_hHBB', 'Nucleotide': 'PSU', 'Timepoint': 0.5, 'Plate': 10, 'FileNumber': 2}, {'Sample': 'hHBB_GCrich-2_hHBB', 'Nucleotide': 'PSU', 'Timepoint': 1.0, 'Plate': 10, 'FileNumber': 3}, {'Sample': 'hHBB_GCrich-2_hHBB', 'Nucleotide': 'PSU', 'Timepoint': 1.5, 'Plate': 10, 'FileNumber': 4}, {'Sample': 'hHBB_GCrich-2_hHBB', 'Nucleotide': 'PSU', 'Timepoint': 2.0, 'Plate': 10, 'FileNumber': 5}, {'Sample': 'hHBB_GCrich-2_hHBB', 'Nucleotide': 'PSU', 'Timepoint': 3.0, 'Plate': 10, 'FileNumber': 6}, {'Sample': 'hHBB_GCrich-2_hHBB', 'Nucleotide': 'PSU', 'Timepoint': 4.0, 'Plate': 10, 'FileNumber': 7}, {'Sample': 'hHBB_GCrich-2_hHBB', 'Nucleotide': 'PSU', 'Timepoint': 5.0, 'Plate': 10, 'FileNumber': 8}, {'Sample': 'hHBB_GCrich-2_hHBB', 'Nucleotide': 'PSU', 'Timepoint': 18.0, 'Plate': 10, 'FileNumber': 9}, {'Sample': 'hHBB_GCrich-2_hHBB', 'Nucleotide': 'PSU', 'Timepoint': 24.0, 'Plate': 10, 'FileNumber': 10}, {'Sample': 'hHBB_LocalDesign_hHBB', 'Nucleotide': '5mC', 'Timepoint': 0.0, 'Plate': 5, 'FileNumber': 3}, {'Sample': 'hHBB_LocalDesign_hHBB', 'Nucleotide': '5mC', 'Timepoint': 0.5, 'Plate': 5, 'FileNumber': 4}, {'Sample': 'hHBB_LocalDesign_hHBB', 'Nucleotide': '5mC', 'Timepoint': 1.0, 'Plate': 5, 'FileNumber': 5}, {'Sample': 'hHBB_LocalDesign_hHBB', 'Nucleotide': '5mC', 'Timepoint': 1.5, 'Plate': 5, 'FileNumber': 6}, {'Sample': 'hHBB_LocalDesign_hHBB', 'Nucleotide': '5mC', 'Timepoint': 2.0, 'Plate': 5, 'FileNumber': 7}, {'Sample': 'hHBB_LocalDesign_hHBB', 'Nucleotide': '5mC', 'Timepoint': 3.0, 'Plate': 5, 'FileNumber': 8}, {'Sample': 'hHBB_LocalDesign_hHBB', 'Nucleotide': '5mC', 'Timepoint': 4.0, 'Plate': 5, 'FileNumber': 9}, {'Sample': 'hHBB_LocalDesign_hHBB', 'Nucleotide': '5mC', 'Timepoint': 5.0, 'Plate': 5, 'FileNumber': 10}, {'Sample': 'hHBB_LocalDesign_hHBB', 'Nucleotide': '5mC', 'Timepoint': 18.0, 'Plate': 5, 'FileNumber': 11}, {'Sample': 'hHBB_LocalDesign_hHBB', 'Nucleotide': '5mC', 'Timepoint': 24.0, 'Plate': 5, 'FileNumber': 12}, {'Sample': 'hHBB_LocalDesign_hHBB', 'Nucleotide': 'PSU', 'Timepoint': 0.0, 'Plate': 11, 'FileNumber': 1}, {'Sample': 'hHBB_LocalDesign_hHBB', 'Nucleotide': 'PSU', 'Timepoint': 0.5, 'Plate': 11, 'FileNumber': 2}, {'Sample': 'hHBB_LocalDesign_hHBB', 'Nucleotide': 'PSU', 'Timepoint': 1.0, 'Plate': 11, 'FileNumber': 3}, {'Sample': 'hHBB_LocalDesign_hHBB', 'Nucleotide': 'PSU', 'Timepoint': 1.5, 'Plate': 11, 'FileNumber': 4}, {'Sample': 'hHBB_LocalDesign_hHBB', 'Nucleotide': 'PSU', 'Timepoint': 2.0, 'Plate': 11, 'FileNumber': 5}, {'Sample': 'hHBB_LocalDesign_hHBB', 'Nucleotide': 'PSU', 'Timepoint': 3.0, 'Plate': 11, 'FileNumber': 6}, {'Sample': 'hHBB_LocalDesign_hHBB', 'Nucleotide': 'PSU', 'Timepoint': 4.0, 'Plate': 11, 'FileNumber': 7}, {'Sample': 'hHBB_LocalDesign_hHBB', 'Nucleotide': 'PSU', 'Timepoint': 5.0, 'Plate': 11, 'FileNumber': 8}, {'Sample': 'hHBB_LocalDesign_hHBB', 'Nucleotide': 'PSU', 'Timepoint': 18.0, 'Plate': 11, 'FileNumber': 9}, {'Sample': 'hHBB_LocalDesign_hHBB', 'Nucleotide': 'PSU', 'Timepoint': 24.0, 'Plate': 11, 'FileNumber': 10}, {'Sample': 'hHBB_-423.7 kcal_hHBB', 'Nucleotide': '5mC', 'Timepoint': 0.0, 'Plate': 6, 'FileNumber': 1}, {'Sample': 'hHBB_-423.7 kcal_hHBB', 'Nucleotide': '5mC', 'Timepoint': 0.5, 'Plate': 6, 'FileNumber': 2}, {'Sample': 'hHBB_-423.7 kcal_hHBB', 'Nucleotide': '5mC', 'Timepoint': 1.0, 'Plate': 6, 'FileNumber': 3}, {'Sample': 'hHBB_-423.7 kcal_hHBB', 'Nucleotide': '5mC', 'Timepoint': 1.5, 'Plate': 6, 'FileNumber': 4}, {'Sample': 'hHBB_-423.7 kcal_hHBB', 'Nucleotide': '5mC', 'Timepoint': 2.0, 'Plate': 6, 'FileNumber': 5}, {'Sample': 'hHBB_-423.7 kcal_hHBB', 'Nucleotide': '5mC', 'Timepoint': 3.0, 'Plate': 6, 'FileNumber': 6}, {'Sample': 'hHBB_-423.7 kcal_hHBB', 'Nucleotide': '5mC', 'Timepoint': 4.0, 'Plate': 6, 'FileNumber': 7}, {'Sample': 'hHBB_-423.7 kcal_hHBB', 'Nucleotide': '5mC', 'Timepoint': 5.0, 'Plate': 6, 'FileNumber': 8}, {'Sample': 'hHBB_-423.7 kcal_hHBB', 'Nucleotide': '5mC', 'Timepoint': 18.0, 'Plate': 6, 'FileNumber': 9}, {'Sample': 'hHBB_-423.7 kcal_hHBB', 'Nucleotide': '5mC', 'Timepoint': 24.0, 'Plate': 6, 'FileNumber': 10}, {'Sample': 'hHBB_-423.7 kcal_hHBB', 'Nucleotide': 'PSU', 'Timepoint': 0.0, 'Plate': 13, 'FileNumber': 1}, {'Sample': 'hHBB_-423.7 kcal_hHBB', 'Nucleotide': 'PSU', 'Timepoint': 0.5, 'Plate': 13, 'FileNumber': 2}, {'Sample': 'hHBB_-423.7 kcal_hHBB', 'Nucleotide': 'PSU', 'Timepoint': 1.0, 'Plate': 13, 'FileNumber': 3}, {'Sample': 'hHBB_-423.7 kcal_hHBB', 'Nucleotide': 'PSU', 'Timepoint': 1.5, 'Plate': 13, 'FileNumber': 4}, {'Sample': 'hHBB_-423.7 kcal_hHBB', 'Nucleotide': 'PSU', 'Timepoint': 2.0, 'Plate': 13, 'FileNumber': 5}, {'Sample': 'hHBB_-423.7 kcal_hHBB', 'Nucleotide': 'PSU', 'Timepoint': 3.0, 'Plate': 13, 'FileNumber': 6}, {'Sample': 'hHBB_-423.7 kcal_hHBB', 'Nucleotide': 'PSU', 'Timepoint': 4.0, 'Plate': 13, 'FileNumber': 7}, {'Sample': 'hHBB_-423.7 kcal_hHBB', 'Nucleotide': 'PSU', 'Timepoint': 5.0, 'Plate': 13, 'FileNumber': 8}, {'Sample': 'hHBB_-423.7 kcal_hHBB', 'Nucleotide': 'PSU', 'Timepoint': 18.0, 'Plate': 13, 'FileNumber': 9}, {'Sample': 'hHBB_-423.7 kcal_hHBB', 'Nucleotide': 'PSU', 'Timepoint': 24.0, 'Plate': 13, 'FileNumber': 10}]\n"
     ]
    },
    {
     "data": {
      "application/vnd.jupyter.widget-view+json": {
       "model_id": "16f383193a244b878b2fd656741f7ed3",
       "version_major": 2,
       "version_minor": 0
      },
      "text/plain": [
       "HBox(children=(FloatProgress(value=0.0, max=130.0), HTML(value='')))"
      ]
     },
     "metadata": {},
     "output_type": "display_data"
    },
    {
     "name": "stdout",
     "output_type": "stream",
     "text": [
      "{'Sample': 'hHBB_Yellowstone_hHBB', 'Nucleotide': 'natural', 'Timepoint': 0.0, 'Plate': 1, 'FileNumber': 1}\n",
      "{'Sample': 'hHBB_Yellowstone_hHBB', 'Nucleotide': 'natural', 'Timepoint': 0.5, 'Plate': 1, 'FileNumber': 2}\n",
      "{'Sample': 'hHBB_Yellowstone_hHBB', 'Nucleotide': 'natural', 'Timepoint': 1.0, 'Plate': 1, 'FileNumber': 3}\n",
      "{'Sample': 'hHBB_Yellowstone_hHBB', 'Nucleotide': 'natural', 'Timepoint': 1.5, 'Plate': 1, 'FileNumber': 4}\n",
      "{'Sample': 'hHBB_Yellowstone_hHBB', 'Nucleotide': 'natural', 'Timepoint': 2.0, 'Plate': 1, 'FileNumber': 5}\n",
      "{'Sample': 'hHBB_Yellowstone_hHBB', 'Nucleotide': 'natural', 'Timepoint': 3.0, 'Plate': 1, 'FileNumber': 6}\n",
      "{'Sample': 'hHBB_Yellowstone_hHBB', 'Nucleotide': 'natural', 'Timepoint': 4.0, 'Plate': 1, 'FileNumber': 7}\n",
      "{'Sample': 'hHBB_Yellowstone_hHBB', 'Nucleotide': 'natural', 'Timepoint': 5.0, 'Plate': 1, 'FileNumber': 8}\n",
      "{'Sample': 'hHBB_Yellowstone_hHBB', 'Nucleotide': 'natural', 'Timepoint': 18.0, 'Plate': 1, 'FileNumber': 9}\n",
      "{'Sample': 'hHBB_Yellowstone_hHBB', 'Nucleotide': 'natural', 'Timepoint': 24.0, 'Plate': 1, 'FileNumber': 10}\n",
      "{'Sample': 'hHBB_Yellowstone_hHBB', 'Nucleotide': '5mC', 'Timepoint': 0.0, 'Plate': 1, 'FileNumber': 11}\n",
      "{'Sample': 'hHBB_Yellowstone_hHBB', 'Nucleotide': '5mC', 'Timepoint': 0.5, 'Plate': 1, 'FileNumber': 12}\n",
      "{'Sample': 'hHBB_Yellowstone_hHBB', 'Nucleotide': '5mC', 'Timepoint': 1.0, 'Plate': 2, 'FileNumber': 1}\n",
      "{'Sample': 'hHBB_Yellowstone_hHBB', 'Nucleotide': '5mC', 'Timepoint': 1.5, 'Plate': 2, 'FileNumber': 2}\n",
      "{'Sample': 'hHBB_Yellowstone_hHBB', 'Nucleotide': '5mC', 'Timepoint': 2.0, 'Plate': 2, 'FileNumber': 3}\n",
      "{'Sample': 'hHBB_Yellowstone_hHBB', 'Nucleotide': '5mC', 'Timepoint': 3.0, 'Plate': 2, 'FileNumber': 4}\n",
      "{'Sample': 'hHBB_Yellowstone_hHBB', 'Nucleotide': '5mC', 'Timepoint': 4.0, 'Plate': 2, 'FileNumber': 5}\n",
      "{'Sample': 'hHBB_Yellowstone_hHBB', 'Nucleotide': '5mC', 'Timepoint': 5.0, 'Plate': 2, 'FileNumber': 6}\n",
      "{'Sample': 'hHBB_Yellowstone_hHBB', 'Nucleotide': '5mC', 'Timepoint': 18.0, 'Plate': 2, 'FileNumber': 7}\n",
      "{'Sample': 'hHBB_Yellowstone_hHBB', 'Nucleotide': '5mC', 'Timepoint': 24.0, 'Plate': 2, 'FileNumber': 8}\n",
      "{'Sample': 'hHBB_Yellowstone_hHBB', 'Nucleotide': 'PSU', 'Timepoint': 0.0, 'Plate': 6, 'FileNumber': 11}\n",
      "{'Sample': 'hHBB_Yellowstone_hHBB', 'Nucleotide': 'PSU', 'Timepoint': 0.5, 'Plate': 6, 'FileNumber': 12}\n",
      "{'Sample': 'hHBB_Yellowstone_hHBB', 'Nucleotide': 'PSU', 'Timepoint': 1.0, 'Plate': 7, 'FileNumber': 1}\n",
      "{'Sample': 'hHBB_Yellowstone_hHBB', 'Nucleotide': 'PSU', 'Timepoint': 1.5, 'Plate': 7, 'FileNumber': 2}\n",
      "{'Sample': 'hHBB_Yellowstone_hHBB', 'Nucleotide': 'PSU', 'Timepoint': 2.0, 'Plate': 7, 'FileNumber': 3}\n",
      "{'Sample': 'hHBB_Yellowstone_hHBB', 'Nucleotide': 'PSU', 'Timepoint': 3.0, 'Plate': 7, 'FileNumber': 4}\n",
      "{'Sample': 'hHBB_Yellowstone_hHBB', 'Nucleotide': 'PSU', 'Timepoint': 4.0, 'Plate': 7, 'FileNumber': 5}\n",
      "{'Sample': 'hHBB_Yellowstone_hHBB', 'Nucleotide': 'PSU', 'Timepoint': 5.0, 'Plate': 7, 'FileNumber': 6}\n",
      "{'Sample': 'hHBB_Yellowstone_hHBB', 'Nucleotide': 'PSU', 'Timepoint': 18.0, 'Plate': 7, 'FileNumber': 7}\n",
      "{'Sample': 'hHBB_Yellowstone_hHBB', 'Nucleotide': 'PSU', 'Timepoint': 24.0, 'Plate': 7, 'FileNumber': 8}\n",
      "{'Sample': 'hHBB_LinearDesign_hHBB', 'Nucleotide': '5mC', 'Timepoint': 0.0, 'Plate': 9, 'FileNumber': 6}\n",
      "{'Sample': 'hHBB_LinearDesign_hHBB', 'Nucleotide': '5mC', 'Timepoint': 0.5, 'Plate': 2, 'FileNumber': 9}\n",
      "{'Sample': 'hHBB_LinearDesign_hHBB', 'Nucleotide': '5mC', 'Timepoint': 1.0, 'Plate': 2, 'FileNumber': 11}\n",
      "{'Sample': 'hHBB_LinearDesign_hHBB', 'Nucleotide': '5mC', 'Timepoint': 1.5, 'Plate': 2, 'FileNumber': 12}\n",
      "{'Sample': 'hHBB_LinearDesign_hHBB', 'Nucleotide': '5mC', 'Timepoint': 2.0, 'Plate': 3, 'FileNumber': 1}\n",
      "{'Sample': 'hHBB_LinearDesign_hHBB', 'Nucleotide': '5mC', 'Timepoint': 3.0, 'Plate': 3, 'FileNumber': 2}\n",
      "{'Sample': 'hHBB_LinearDesign_hHBB', 'Nucleotide': '5mC', 'Timepoint': 4.0, 'Plate': 3, 'FileNumber': 3}\n",
      "{'Sample': 'hHBB_LinearDesign_hHBB', 'Nucleotide': '5mC', 'Timepoint': 5.0, 'Plate': 3, 'FileNumber': 4}\n",
      "{'Sample': 'hHBB_LinearDesign_hHBB', 'Nucleotide': '5mC', 'Timepoint': 18.0, 'Plate': 3, 'FileNumber': 5}\n",
      "{'Sample': 'hHBB_LinearDesign_hHBB', 'Nucleotide': '5mC', 'Timepoint': 24.0, 'Plate': 3, 'FileNumber': 6}\n",
      "{'Sample': 'hHBB_LinearDesign_hHBB', 'Nucleotide': 'PSU', 'Timepoint': 0.0, 'Plate': 7, 'FileNumber': 9}\n",
      "{'Sample': 'hHBB_LinearDesign_hHBB', 'Nucleotide': 'PSU', 'Timepoint': 0.5, 'Plate': 7, 'FileNumber': 10}\n",
      "{'Sample': 'hHBB_LinearDesign_hHBB', 'Nucleotide': 'PSU', 'Timepoint': 1.0, 'Plate': 7, 'FileNumber': 11}\n",
      "{'Sample': 'hHBB_LinearDesign_hHBB', 'Nucleotide': 'PSU', 'Timepoint': 1.5, 'Plate': 7, 'FileNumber': 12}\n",
      "{'Sample': 'hHBB_LinearDesign_hHBB', 'Nucleotide': 'PSU', 'Timepoint': 2.0, 'Plate': 8, 'FileNumber': 1}\n",
      "{'Sample': 'hHBB_LinearDesign_hHBB', 'Nucleotide': 'PSU', 'Timepoint': 3.0, 'Plate': 8, 'FileNumber': 2}\n",
      "{'Sample': 'hHBB_LinearDesign_hHBB', 'Nucleotide': 'PSU', 'Timepoint': 4.0, 'Plate': 8, 'FileNumber': 3}\n",
      "{'Sample': 'hHBB_LinearDesign_hHBB', 'Nucleotide': 'PSU', 'Timepoint': 5.0, 'Plate': 8, 'FileNumber': 4}\n",
      "{'Sample': 'hHBB_LinearDesign_hHBB', 'Nucleotide': 'PSU', 'Timepoint': 18.0, 'Plate': 8, 'FileNumber': 5}\n",
      "{'Sample': 'hHBB_LinearDesign_hHBB', 'Nucleotide': 'PSU', 'Timepoint': 24.0, 'Plate': 8, 'FileNumber': 6}\n",
      "{'Sample': 'hHBB_Nluc_hHBB', 'Nucleotide': '5mC', 'Timepoint': 0.0, 'Plate': 3, 'FileNumber': 7}\n",
      "{'Sample': 'hHBB_Nluc_hHBB', 'Nucleotide': '5mC', 'Timepoint': 0.5, 'Plate': 3, 'FileNumber': 8}\n",
      "{'Sample': 'hHBB_Nluc_hHBB', 'Nucleotide': '5mC', 'Timepoint': 1.0, 'Plate': 3, 'FileNumber': 9}\n",
      "{'Sample': 'hHBB_Nluc_hHBB', 'Nucleotide': '5mC', 'Timepoint': 1.5, 'Plate': 3, 'FileNumber': 10}\n",
      "{'Sample': 'hHBB_Nluc_hHBB', 'Nucleotide': '5mC', 'Timepoint': 2.0, 'Plate': 3, 'FileNumber': 11}\n",
      "{'Sample': 'hHBB_Nluc_hHBB', 'Nucleotide': '5mC', 'Timepoint': 3.0, 'Plate': 3, 'FileNumber': 12}\n",
      "{'Sample': 'hHBB_Nluc_hHBB', 'Nucleotide': '5mC', 'Timepoint': 4.0, 'Plate': 4, 'FileNumber': 1}\n",
      "{'Sample': 'hHBB_Nluc_hHBB', 'Nucleotide': '5mC', 'Timepoint': 5.0, 'Plate': 4, 'FileNumber': 2}\n",
      "{'Sample': 'hHBB_Nluc_hHBB', 'Nucleotide': '5mC', 'Timepoint': 18.0, 'Plate': 4, 'FileNumber': 3}\n",
      "{'Sample': 'hHBB_Nluc_hHBB', 'Nucleotide': '5mC', 'Timepoint': 24.0, 'Plate': 4, 'FileNumber': 4}\n",
      "{'Sample': 'hHBB_Nluc_hHBB', 'Nucleotide': 'PSU', 'Timepoint': 0.0, 'Plate': 8, 'FileNumber': 7}\n",
      "{'Sample': 'hHBB_Nluc_hHBB', 'Nucleotide': 'PSU', 'Timepoint': 0.5, 'Plate': 8, 'FileNumber': 8}\n",
      "{'Sample': 'hHBB_Nluc_hHBB', 'Nucleotide': 'PSU', 'Timepoint': 1.0, 'Plate': 8, 'FileNumber': 9}\n",
      "{'Sample': 'hHBB_Nluc_hHBB', 'Nucleotide': 'PSU', 'Timepoint': 1.5, 'Plate': 8, 'FileNumber': 10}\n",
      "{'Sample': 'hHBB_Nluc_hHBB', 'Nucleotide': 'PSU', 'Timepoint': 2.0, 'Plate': 8, 'FileNumber': 11}\n",
      "{'Sample': 'hHBB_Nluc_hHBB', 'Nucleotide': 'PSU', 'Timepoint': 3.0, 'Plate': 8, 'FileNumber': 12}\n",
      "{'Sample': 'hHBB_Nluc_hHBB', 'Nucleotide': 'PSU', 'Timepoint': 4.0, 'Plate': 9, 'FileNumber': 1}\n",
      "{'Sample': 'hHBB_Nluc_hHBB', 'Nucleotide': 'PSU', 'Timepoint': 5.0, 'Plate': 9, 'FileNumber': 2}\n",
      "{'Sample': 'hHBB_Nluc_hHBB', 'Nucleotide': 'PSU', 'Timepoint': 18.0, 'Plate': 9, 'FileNumber': 3}\n",
      "{'Sample': 'hHBB_Nluc_hHBB', 'Nucleotide': 'PSU', 'Timepoint': 24.0, 'Plate': 9, 'FileNumber': 4}\n",
      "{'Sample': 'hHBB_GCrich-2_hHBB', 'Nucleotide': '5mC', 'Timepoint': 0.0, 'Plate': 4, 'FileNumber': 5}\n",
      "{'Sample': 'hHBB_GCrich-2_hHBB', 'Nucleotide': '5mC', 'Timepoint': 0.5, 'Plate': 4, 'FileNumber': 6}\n",
      "{'Sample': 'hHBB_GCrich-2_hHBB', 'Nucleotide': '5mC', 'Timepoint': 1.0, 'Plate': 4, 'FileNumber': 7}\n",
      "{'Sample': 'hHBB_GCrich-2_hHBB', 'Nucleotide': '5mC', 'Timepoint': 1.5, 'Plate': 4, 'FileNumber': 8}\n",
      "{'Sample': 'hHBB_GCrich-2_hHBB', 'Nucleotide': '5mC', 'Timepoint': 2.0, 'Plate': 4, 'FileNumber': 9}\n",
      "{'Sample': 'hHBB_GCrich-2_hHBB', 'Nucleotide': '5mC', 'Timepoint': 3.0, 'Plate': 4, 'FileNumber': 10}\n",
      "{'Sample': 'hHBB_GCrich-2_hHBB', 'Nucleotide': '5mC', 'Timepoint': 4.0, 'Plate': 4, 'FileNumber': 11}\n",
      "{'Sample': 'hHBB_GCrich-2_hHBB', 'Nucleotide': '5mC', 'Timepoint': 5.0, 'Plate': 4, 'FileNumber': 12}\n",
      "{'Sample': 'hHBB_GCrich-2_hHBB', 'Nucleotide': '5mC', 'Timepoint': 18.0, 'Plate': 9, 'FileNumber': 7}\n",
      "{'Sample': 'hHBB_GCrich-2_hHBB', 'Nucleotide': '5mC', 'Timepoint': 24.0, 'Plate': 5, 'FileNumber': 2}\n",
      "{'Sample': 'hHBB_GCrich-2_hHBB', 'Nucleotide': 'PSU', 'Timepoint': 0.0, 'Plate': 10, 'FileNumber': 2}\n",
      "{'Sample': 'hHBB_GCrich-2_hHBB', 'Nucleotide': 'PSU', 'Timepoint': 0.5, 'Plate': 10, 'FileNumber': 2}\n",
      "{'Sample': 'hHBB_GCrich-2_hHBB', 'Nucleotide': 'PSU', 'Timepoint': 1.0, 'Plate': 10, 'FileNumber': 3}\n",
      "{'Sample': 'hHBB_GCrich-2_hHBB', 'Nucleotide': 'PSU', 'Timepoint': 1.5, 'Plate': 10, 'FileNumber': 4}\n",
      "{'Sample': 'hHBB_GCrich-2_hHBB', 'Nucleotide': 'PSU', 'Timepoint': 2.0, 'Plate': 10, 'FileNumber': 5}\n",
      "{'Sample': 'hHBB_GCrich-2_hHBB', 'Nucleotide': 'PSU', 'Timepoint': 3.0, 'Plate': 10, 'FileNumber': 6}\n",
      "{'Sample': 'hHBB_GCrich-2_hHBB', 'Nucleotide': 'PSU', 'Timepoint': 4.0, 'Plate': 10, 'FileNumber': 7}\n",
      "{'Sample': 'hHBB_GCrich-2_hHBB', 'Nucleotide': 'PSU', 'Timepoint': 5.0, 'Plate': 10, 'FileNumber': 8}\n",
      "{'Sample': 'hHBB_GCrich-2_hHBB', 'Nucleotide': 'PSU', 'Timepoint': 18.0, 'Plate': 10, 'FileNumber': 9}\n",
      "{'Sample': 'hHBB_GCrich-2_hHBB', 'Nucleotide': 'PSU', 'Timepoint': 24.0, 'Plate': 10, 'FileNumber': 10}\n",
      "{'Sample': 'hHBB_LocalDesign_hHBB', 'Nucleotide': '5mC', 'Timepoint': 0.0, 'Plate': 5, 'FileNumber': 3}\n",
      "{'Sample': 'hHBB_LocalDesign_hHBB', 'Nucleotide': '5mC', 'Timepoint': 0.5, 'Plate': 5, 'FileNumber': 4}\n",
      "{'Sample': 'hHBB_LocalDesign_hHBB', 'Nucleotide': '5mC', 'Timepoint': 1.0, 'Plate': 5, 'FileNumber': 5}\n",
      "{'Sample': 'hHBB_LocalDesign_hHBB', 'Nucleotide': '5mC', 'Timepoint': 1.5, 'Plate': 5, 'FileNumber': 6}\n",
      "{'Sample': 'hHBB_LocalDesign_hHBB', 'Nucleotide': '5mC', 'Timepoint': 2.0, 'Plate': 5, 'FileNumber': 7}\n",
      "{'Sample': 'hHBB_LocalDesign_hHBB', 'Nucleotide': '5mC', 'Timepoint': 3.0, 'Plate': 5, 'FileNumber': 8}\n",
      "{'Sample': 'hHBB_LocalDesign_hHBB', 'Nucleotide': '5mC', 'Timepoint': 4.0, 'Plate': 5, 'FileNumber': 9}\n",
      "{'Sample': 'hHBB_LocalDesign_hHBB', 'Nucleotide': '5mC', 'Timepoint': 5.0, 'Plate': 5, 'FileNumber': 10}\n",
      "{'Sample': 'hHBB_LocalDesign_hHBB', 'Nucleotide': '5mC', 'Timepoint': 18.0, 'Plate': 5, 'FileNumber': 11}\n",
      "{'Sample': 'hHBB_LocalDesign_hHBB', 'Nucleotide': '5mC', 'Timepoint': 24.0, 'Plate': 5, 'FileNumber': 12}\n",
      "{'Sample': 'hHBB_LocalDesign_hHBB', 'Nucleotide': 'PSU', 'Timepoint': 0.0, 'Plate': 11, 'FileNumber': 1}\n",
      "{'Sample': 'hHBB_LocalDesign_hHBB', 'Nucleotide': 'PSU', 'Timepoint': 0.5, 'Plate': 11, 'FileNumber': 2}\n",
      "{'Sample': 'hHBB_LocalDesign_hHBB', 'Nucleotide': 'PSU', 'Timepoint': 1.0, 'Plate': 11, 'FileNumber': 3}\n",
      "{'Sample': 'hHBB_LocalDesign_hHBB', 'Nucleotide': 'PSU', 'Timepoint': 1.5, 'Plate': 11, 'FileNumber': 4}\n",
      "{'Sample': 'hHBB_LocalDesign_hHBB', 'Nucleotide': 'PSU', 'Timepoint': 2.0, 'Plate': 11, 'FileNumber': 5}\n",
      "{'Sample': 'hHBB_LocalDesign_hHBB', 'Nucleotide': 'PSU', 'Timepoint': 3.0, 'Plate': 11, 'FileNumber': 6}\n",
      "{'Sample': 'hHBB_LocalDesign_hHBB', 'Nucleotide': 'PSU', 'Timepoint': 4.0, 'Plate': 11, 'FileNumber': 7}\n",
      "{'Sample': 'hHBB_LocalDesign_hHBB', 'Nucleotide': 'PSU', 'Timepoint': 5.0, 'Plate': 11, 'FileNumber': 8}\n",
      "{'Sample': 'hHBB_LocalDesign_hHBB', 'Nucleotide': 'PSU', 'Timepoint': 18.0, 'Plate': 11, 'FileNumber': 9}\n",
      "{'Sample': 'hHBB_LocalDesign_hHBB', 'Nucleotide': 'PSU', 'Timepoint': 24.0, 'Plate': 11, 'FileNumber': 10}\n",
      "{'Sample': 'hHBB_-423.7 kcal_hHBB', 'Nucleotide': '5mC', 'Timepoint': 0.0, 'Plate': 6, 'FileNumber': 1}\n",
      "{'Sample': 'hHBB_-423.7 kcal_hHBB', 'Nucleotide': '5mC', 'Timepoint': 0.5, 'Plate': 6, 'FileNumber': 2}\n",
      "{'Sample': 'hHBB_-423.7 kcal_hHBB', 'Nucleotide': '5mC', 'Timepoint': 1.0, 'Plate': 6, 'FileNumber': 3}\n",
      "{'Sample': 'hHBB_-423.7 kcal_hHBB', 'Nucleotide': '5mC', 'Timepoint': 1.5, 'Plate': 6, 'FileNumber': 4}\n",
      "{'Sample': 'hHBB_-423.7 kcal_hHBB', 'Nucleotide': '5mC', 'Timepoint': 2.0, 'Plate': 6, 'FileNumber': 5}\n",
      "{'Sample': 'hHBB_-423.7 kcal_hHBB', 'Nucleotide': '5mC', 'Timepoint': 3.0, 'Plate': 6, 'FileNumber': 6}\n",
      "{'Sample': 'hHBB_-423.7 kcal_hHBB', 'Nucleotide': '5mC', 'Timepoint': 4.0, 'Plate': 6, 'FileNumber': 7}\n",
      "{'Sample': 'hHBB_-423.7 kcal_hHBB', 'Nucleotide': '5mC', 'Timepoint': 5.0, 'Plate': 6, 'FileNumber': 8}\n",
      "{'Sample': 'hHBB_-423.7 kcal_hHBB', 'Nucleotide': '5mC', 'Timepoint': 18.0, 'Plate': 6, 'FileNumber': 9}\n",
      "{'Sample': 'hHBB_-423.7 kcal_hHBB', 'Nucleotide': '5mC', 'Timepoint': 24.0, 'Plate': 6, 'FileNumber': 10}\n",
      "{'Sample': 'hHBB_-423.7 kcal_hHBB', 'Nucleotide': 'PSU', 'Timepoint': 0.0, 'Plate': 13, 'FileNumber': 1}\n",
      "{'Sample': 'hHBB_-423.7 kcal_hHBB', 'Nucleotide': 'PSU', 'Timepoint': 0.5, 'Plate': 13, 'FileNumber': 2}\n",
      "{'Sample': 'hHBB_-423.7 kcal_hHBB', 'Nucleotide': 'PSU', 'Timepoint': 1.0, 'Plate': 13, 'FileNumber': 3}\n",
      "{'Sample': 'hHBB_-423.7 kcal_hHBB', 'Nucleotide': 'PSU', 'Timepoint': 1.5, 'Plate': 13, 'FileNumber': 4}\n",
      "{'Sample': 'hHBB_-423.7 kcal_hHBB', 'Nucleotide': 'PSU', 'Timepoint': 2.0, 'Plate': 13, 'FileNumber': 5}\n",
      "{'Sample': 'hHBB_-423.7 kcal_hHBB', 'Nucleotide': 'PSU', 'Timepoint': 3.0, 'Plate': 13, 'FileNumber': 6}\n",
      "{'Sample': 'hHBB_-423.7 kcal_hHBB', 'Nucleotide': 'PSU', 'Timepoint': 4.0, 'Plate': 13, 'FileNumber': 7}\n",
      "{'Sample': 'hHBB_-423.7 kcal_hHBB', 'Nucleotide': 'PSU', 'Timepoint': 5.0, 'Plate': 13, 'FileNumber': 8}\n",
      "{'Sample': 'hHBB_-423.7 kcal_hHBB', 'Nucleotide': 'PSU', 'Timepoint': 18.0, 'Plate': 13, 'FileNumber': 9}\n",
      "{'Sample': 'hHBB_-423.7 kcal_hHBB', 'Nucleotide': 'PSU', 'Timepoint': 24.0, 'Plate': 13, 'FileNumber': 10}\n",
      "\n"
     ]
    },
    {
     "name": "stdout",
     "output_type": "stream",
     "text": [
      "hHBB_Yellowstone_hHBB\n"
     ]
    },
    {
     "name": "stderr",
     "output_type": "stream",
     "text": [
      "/Users/dosoonkim/anaconda3/lib/python3.7/site-packages/pandas/core/indexing.py:845: SettingWithCopyWarning: \n",
      "A value is trying to be set on a copy of a slice from a DataFrame.\n",
      "Try using .loc[row_indexer,col_indexer] = value instead\n",
      "\n",
      "See the caveats in the documentation: https://pandas.pydata.org/pandas-docs/stable/user_guide/indexing.html#returning-a-view-versus-a-copy\n",
      "  self.obj[key] = _infer_fill_value(value)\n",
      "/Users/dosoonkim/anaconda3/lib/python3.7/site-packages/pandas/core/indexing.py:966: SettingWithCopyWarning: \n",
      "A value is trying to be set on a copy of a slice from a DataFrame.\n",
      "Try using .loc[row_indexer,col_indexer] = value instead\n",
      "\n",
      "See the caveats in the documentation: https://pandas.pydata.org/pandas-docs/stable/user_guide/indexing.html#returning-a-view-versus-a-copy\n",
      "  self.obj[item] = s\n"
     ]
    },
    {
     "name": "stdout",
     "output_type": "stream",
     "text": [
      "hHBB_Yellowstone_hHBB\n",
      "hHBB_Yellowstone_hHBB\n",
      "hHBB_LinearDesign_hHBB\n",
      "hHBB_LinearDesign_hHBB\n",
      "hHBB_Nluc_hHBB\n",
      "hHBB_Nluc_hHBB\n",
      "hHBB_GCrich-2_hHBB\n",
      "hHBB_GCrich-2_hHBB\n",
      "hHBB_LocalDesign_hHBB\n",
      "hHBB_LocalDesign_hHBB\n",
      "hHBB_-423.7 kcal_hHBB\n",
      "hHBB_-423.7 kcal_hHBB\n",
      "hHBB_Yellowstone_hHBB\n",
      "[102, 231, 399]\n",
      "[126, 266, 426]\n",
      "hHBB_Yellowstone_hHBB\n",
      "[102, 231, 400]\n",
      "[126, 266, 427]\n",
      "hHBB_Yellowstone_hHBB\n",
      "[102, 232, 401]\n",
      "[126, 267, 428]\n",
      "hHBB_Yellowstone_hHBB\n",
      "[102, 232, 401]\n",
      "[126, 268, 428]\n",
      "hHBB_Yellowstone_hHBB\n",
      "[102, 230, 400]\n",
      "[126, 268, 427]\n",
      "hHBB_Yellowstone_hHBB\n",
      "[102, 232, 403]\n",
      "[126, 268, 427]\n",
      "hHBB_Yellowstone_hHBB\n",
      "[102, 232, 403]\n",
      "[126, 268, 427]\n",
      "hHBB_Yellowstone_hHBB\n",
      "[102, 232, 403]\n",
      "[126, 268, 427]\n",
      "hHBB_Yellowstone_hHBB\n",
      "[102, 232, 403]\n",
      "[126, 268, 427]\n",
      "hHBB_Yellowstone_hHBB\n",
      "[102, 232, 403]\n",
      "[126, 268, 427]\n",
      "hHBB_Yellowstone_hHBB\n",
      "[101, 232, 395]\n",
      "[127, 265, 418]\n",
      "hHBB_Yellowstone_hHBB\n",
      "[101, 231, 396]\n",
      "[127, 266, 420]\n",
      "hHBB_Yellowstone_hHBB\n",
      "[102, 231, 395]\n",
      "[126, 263, 422]\n",
      "hHBB_Yellowstone_hHBB\n",
      "[102, 231, 394]\n",
      "[126, 263, 423]\n",
      "hHBB_Yellowstone_hHBB\n",
      "[101, 231, 394]\n",
      "[127, 264, 424]\n",
      "hHBB_Yellowstone_hHBB\n",
      "[101, 228, 395]\n",
      "[127, 270, 422]\n",
      "hHBB_Yellowstone_hHBB\n",
      "[101, 228, 395]\n",
      "[127, 270, 421]\n",
      "hHBB_Yellowstone_hHBB\n",
      "[101, 228, 395]\n",
      "[127, 270, 421]\n",
      "hHBB_Yellowstone_hHBB\n",
      "[101, 228, 395]\n",
      "[127, 270, 421]\n",
      "hHBB_Yellowstone_hHBB\n",
      "[101, 228, 395]\n",
      "[127, 270, 421]\n",
      "hHBB_Yellowstone_hHBB\n",
      "[102, 231, 387]\n",
      "[125, 266, 413]\n",
      "hHBB_Yellowstone_hHBB\n",
      "[102, 232, 387]\n",
      "[125, 267, 413]\n",
      "hHBB_Yellowstone_hHBB\n",
      "[101, 231, 388]\n",
      "[127, 264, 415]\n",
      "hHBB_Yellowstone_hHBB\n",
      "[101, 230, 388]\n",
      "[127, 265, 414]\n",
      "hHBB_Yellowstone_hHBB\n",
      "[101, 231, 388]\n",
      "[127, 266, 414]\n",
      "hHBB_Yellowstone_hHBB\n",
      "[101, 230, 387]\n",
      "[127, 265, 414]\n",
      "hHBB_Yellowstone_hHBB\n",
      "[101, 231, 388]\n",
      "[127, 266, 415]\n",
      "hHBB_Yellowstone_hHBB\n",
      "[101, 231, 387]\n",
      "[127, 267, 416]\n",
      "hHBB_Yellowstone_hHBB\n",
      "[101, 231, 387]\n",
      "[127, 267, 416]\n",
      "hHBB_Yellowstone_hHBB\n",
      "[101, 231, 387]\n",
      "[127, 267, 416]\n",
      "hHBB_LinearDesign_hHBB\n",
      "[102, 232, 405]\n",
      "[126, 267, 434]\n",
      "hHBB_LinearDesign_hHBB\n",
      "[101, 232, 403]\n",
      "[127, 265, 429]\n",
      "hHBB_LinearDesign_hHBB\n",
      "[101, 230, 401]\n",
      "[127, 265, 430]\n",
      "hHBB_LinearDesign_hHBB\n",
      "[101, 230, 401]\n",
      "[127, 265, 433]\n",
      "hHBB_LinearDesign_hHBB\n",
      "[102, 232, 404]\n",
      "[126, 265, 434]\n",
      "hHBB_LinearDesign_hHBB\n",
      "[102, 231, 402]\n",
      "[126, 264, 437]\n",
      "hHBB_LinearDesign_hHBB\n",
      "[102, 232, 402]\n",
      "[126, 265, 438]\n",
      "hHBB_LinearDesign_hHBB\n",
      "[102, 231, 400]\n",
      "[126, 264, 441]\n",
      "hHBB_LinearDesign_hHBB\n",
      "[102, 231, 400]\n",
      "[126, 264, 441]\n",
      "hHBB_LinearDesign_hHBB\n",
      "[102, 231, 400]\n",
      "[126, 264, 441]\n",
      "hHBB_LinearDesign_hHBB\n",
      "[101, 230, 395]\n",
      "[127, 265, 416]\n",
      "hHBB_LinearDesign_hHBB\n",
      "[101, 230, 395]\n",
      "[127, 266, 416]\n",
      "hHBB_LinearDesign_hHBB\n",
      "[101, 229, 392]\n",
      "[127, 264, 415]\n",
      "hHBB_LinearDesign_hHBB\n",
      "[101, 229, 393]\n",
      "[127, 265, 416]\n",
      "hHBB_LinearDesign_hHBB\n",
      "[102, 231, 399]\n",
      "[126, 266, 422]\n",
      "hHBB_LinearDesign_hHBB\n",
      "[102, 230, 397]\n",
      "[126, 266, 420]\n",
      "hHBB_LinearDesign_hHBB\n",
      "[102, 230, 397]\n",
      "[126, 265, 420]\n",
      "hHBB_LinearDesign_hHBB\n",
      "[102, 231, 398]\n",
      "[126, 267, 422]\n",
      "hHBB_LinearDesign_hHBB\n",
      "[102, 231, 398]\n",
      "[126, 267, 422]\n",
      "hHBB_LinearDesign_hHBB\n",
      "[102, 231, 398]\n",
      "[126, 267, 422]\n",
      "hHBB_Nluc_hHBB\n",
      "[102, 231, 363]\n",
      "[126, 263, 413]\n",
      "hHBB_Nluc_hHBB\n",
      "[102, 231, 363]\n",
      "[126, 263, 414]\n",
      "hHBB_Nluc_hHBB\n",
      "[102, 231, 361]\n",
      "[126, 263, 414]\n",
      "hHBB_Nluc_hHBB\n",
      "[101, 230, 360]\n",
      "[127, 262, 414]\n",
      "hHBB_Nluc_hHBB\n",
      "[101, 232, 359]\n",
      "[127, 262, 418]\n",
      "hHBB_Nluc_hHBB\n",
      "[101, 228, 367]\n",
      "[127, 270, 403]\n",
      "hHBB_Nluc_hHBB\n",
      "[101, 228, 367]\n",
      "[127, 270, 403]\n",
      "hHBB_Nluc_hHBB\n",
      "[101, 228, 367]\n",
      "[127, 270, 403]\n",
      "hHBB_Nluc_hHBB\n",
      "[101, 228, 367]\n",
      "[127, 270, 403]\n",
      "hHBB_Nluc_hHBB\n",
      "[101, 228, 367]\n",
      "[127, 270, 403]\n",
      "hHBB_Nluc_hHBB\n",
      "[101, 234, 361]\n",
      "[127, 263, 397]\n",
      "hHBB_Nluc_hHBB\n",
      "[101, 234, 361]\n",
      "[127, 263, 397]\n",
      "hHBB_Nluc_hHBB\n",
      "[101, 234, 361]\n",
      "[127, 263, 397]\n",
      "hHBB_Nluc_hHBB\n",
      "[101, 234, 361]\n",
      "[127, 263, 397]\n",
      "hHBB_Nluc_hHBB\n",
      "[101, 234, 361]\n",
      "[127, 263, 397]\n",
      "hHBB_Nluc_hHBB\n",
      "[101, 229, 360]\n",
      "[127, 264, 398]\n",
      "hHBB_Nluc_hHBB\n",
      "[102, 231, 359]\n",
      "[126, 267, 403]\n",
      "hHBB_Nluc_hHBB\n",
      "[102, 231, 359]\n",
      "[126, 267, 403]\n",
      "hHBB_Nluc_hHBB\n",
      "[102, 231, 359]\n",
      "[126, 267, 403]\n",
      "hHBB_Nluc_hHBB\n",
      "[102, 231, 359]\n",
      "[126, 267, 403]\n",
      "hHBB_GCrich-2_hHBB\n",
      "[102, 232, 392]\n",
      "[126, 264, 425]\n",
      "hHBB_GCrich-2_hHBB\n",
      "[102, 232, 391]\n",
      "[126, 265, 426]\n",
      "hHBB_GCrich-2_hHBB\n",
      "[102, 231, 392]\n",
      "[126, 266, 427]\n",
      "hHBB_GCrich-2_hHBB\n",
      "[102, 232, 392]\n",
      "[126, 265, 428]\n",
      "hHBB_GCrich-2_hHBB\n",
      "[102, 231, 389]\n",
      "[126, 264, 427]\n",
      "hHBB_GCrich-2_hHBB\n",
      "[101, 231, 387]\n",
      "[127, 264, 432]\n",
      "hHBB_GCrich-2_hHBB\n",
      "[102, 230, 391]\n",
      "[126, 269, 426]\n",
      "hHBB_GCrich-2_hHBB\n",
      "[102, 229, 390]\n",
      "[126, 271, 428]\n",
      "hHBB_GCrich-2_hHBB\n",
      "[102, 229, 390]\n",
      "[126, 271, 428]\n",
      "hHBB_GCrich-2_hHBB\n",
      "[102, 229, 390]\n",
      "[126, 271, 428]\n",
      "hHBB_GCrich-2_hHBB\n",
      "[102, 231, 387]\n",
      "[126, 272, 417]\n",
      "hHBB_GCrich-2_hHBB\n",
      "[102, 231, 387]\n",
      "[126, 272, 417]\n",
      "hHBB_GCrich-2_hHBB\n",
      "[102, 229, 385]\n",
      "[126, 270, 417]\n",
      "hHBB_GCrich-2_hHBB\n",
      "[102, 231, 386]\n",
      "[126, 272, 419]\n",
      "hHBB_GCrich-2_hHBB\n",
      "[102, 231, 387]\n",
      "[126, 272, 419]\n",
      "hHBB_GCrich-2_hHBB\n",
      "[102, 231, 387]\n",
      "[126, 269, 420]\n",
      "hHBB_GCrich-2_hHBB\n",
      "[102, 230, 385]\n",
      "[126, 268, 420]\n",
      "hHBB_GCrich-2_hHBB\n",
      "[102, 230, 385]\n",
      "[126, 269, 421]\n",
      "hHBB_GCrich-2_hHBB\n",
      "[102, 230, 385]\n",
      "[126, 269, 421]\n",
      "hHBB_GCrich-2_hHBB\n",
      "[102, 230, 385]\n",
      "[126, 269, 421]\n"
     ]
    },
    {
     "name": "stderr",
     "output_type": "stream",
     "text": [
      "/Users/dosoonkim/Google Drive (dosoon@stanford.edu)/COVID_Vaccine/8. Experimental Results/Experimental Logs - Das/001_dosoon_revisit_bioanalyzer_fits/analysis_rd_dsk_scratch.py:345: RuntimeWarning: More than 20 figures have been opened. Figures created through the pyplot interface (`matplotlib.pyplot.figure`) are retained until explicitly closed and may consume too much memory. (To control this warning, see the rcParam `figure.max_open_warning`).\n",
      "  plt.figure(figsize=(10,20))\n"
     ]
    },
    {
     "name": "stdout",
     "output_type": "stream",
     "text": [
      "hHBB_LocalDesign_hHBB\n",
      "[102, 228, 391]\n",
      "[126, 269, 414]\n",
      "hHBB_LocalDesign_hHBB\n",
      "[102, 229, 392]\n",
      "[126, 270, 415]\n",
      "hHBB_LocalDesign_hHBB\n",
      "[102, 230, 392]\n",
      "[126, 269, 416]\n",
      "hHBB_LocalDesign_hHBB\n",
      "[102, 230, 392]\n",
      "[126, 271, 418]\n",
      "hHBB_LocalDesign_hHBB\n",
      "[102, 230, 391]\n",
      "[126, 269, 417]\n",
      "hHBB_LocalDesign_hHBB\n",
      "[102, 229, 392]\n",
      "[126, 271, 415]\n",
      "hHBB_LocalDesign_hHBB\n",
      "[102, 230, 393]\n",
      "[126, 272, 417]\n",
      "hHBB_LocalDesign_hHBB\n",
      "[102, 229, 394]\n",
      "[126, 271, 414]\n",
      "hHBB_LocalDesign_hHBB\n",
      "[102, 229, 394]\n",
      "[126, 271, 414]\n",
      "hHBB_LocalDesign_hHBB\n",
      "[102, 229, 394]\n",
      "[126, 271, 414]\n"
     ]
    },
    {
     "name": "stderr",
     "output_type": "stream",
     "text": [
      "/Users/dosoonkim/Google Drive (dosoon@stanford.edu)/COVID_Vaccine/8. Experimental Results/Experimental Logs - Das/001_dosoon_revisit_bioanalyzer_fits/analysis_rd_dsk_scratch.py:275: RuntimeWarning: More than 20 figures have been opened. Figures created through the pyplot interface (`matplotlib.pyplot.figure`) are retained until explicitly closed and may consume too much memory. (To control this warning, see the rcParam `figure.max_open_warning`).\n",
      "  plt.figure(figsize=(8,12))\n",
      "/Users/dosoonkim/Google Drive (dosoon@stanford.edu)/COVID_Vaccine/8. Experimental Results/Experimental Logs - Das/001_dosoon_revisit_bioanalyzer_fits/analysis_rd_dsk_scratch.py:345: RuntimeWarning: More than 20 figures have been opened. Figures created through the pyplot interface (`matplotlib.pyplot.figure`) are retained until explicitly closed and may consume too much memory. (To control this warning, see the rcParam `figure.max_open_warning`).\n",
      "  plt.figure(figsize=(10,20))\n"
     ]
    },
    {
     "name": "stdout",
     "output_type": "stream",
     "text": [
      "hHBB_LocalDesign_hHBB\n",
      "[102, 226, 385]\n",
      "[125, 279, 408]\n",
      "hHBB_LocalDesign_hHBB\n",
      "[102, 227, 384]\n",
      "[125, 278, 407]\n",
      "hHBB_LocalDesign_hHBB\n",
      "[102, 230, 385]\n",
      "[126, 272, 408]\n",
      "hHBB_LocalDesign_hHBB\n",
      "[102, 229, 384]\n",
      "[126, 273, 407]\n",
      "hHBB_LocalDesign_hHBB\n",
      "[102, 230, 384]\n",
      "[126, 272, 408]\n",
      "hHBB_LocalDesign_hHBB\n",
      "[102, 231, 383]\n",
      "[126, 270, 409]\n",
      "hHBB_LocalDesign_hHBB\n",
      "[102, 230, 381]\n",
      "[126, 269, 407]\n",
      "hHBB_LocalDesign_hHBB\n",
      "[102, 231, 382]\n",
      "[126, 269, 408]\n",
      "hHBB_LocalDesign_hHBB\n",
      "[102, 231, 382]\n",
      "[126, 269, 408]\n",
      "hHBB_LocalDesign_hHBB\n",
      "[102, 231, 382]\n",
      "[126, 269, 408]\n"
     ]
    },
    {
     "name": "stderr",
     "output_type": "stream",
     "text": [
      "/Users/dosoonkim/Google Drive (dosoon@stanford.edu)/COVID_Vaccine/8. Experimental Results/Experimental Logs - Das/001_dosoon_revisit_bioanalyzer_fits/analysis_rd_dsk_scratch.py:275: RuntimeWarning: More than 20 figures have been opened. Figures created through the pyplot interface (`matplotlib.pyplot.figure`) are retained until explicitly closed and may consume too much memory. (To control this warning, see the rcParam `figure.max_open_warning`).\n",
      "  plt.figure(figsize=(8,12))\n",
      "/Users/dosoonkim/Google Drive (dosoon@stanford.edu)/COVID_Vaccine/8. Experimental Results/Experimental Logs - Das/001_dosoon_revisit_bioanalyzer_fits/analysis_rd_dsk_scratch.py:345: RuntimeWarning: More than 20 figures have been opened. Figures created through the pyplot interface (`matplotlib.pyplot.figure`) are retained until explicitly closed and may consume too much memory. (To control this warning, see the rcParam `figure.max_open_warning`).\n",
      "  plt.figure(figsize=(10,20))\n"
     ]
    },
    {
     "name": "stdout",
     "output_type": "stream",
     "text": [
      "hHBB_-423.7 kcal_hHBB\n",
      "[102, 232, 394]\n",
      "[125, 268, 417]\n",
      "hHBB_-423.7 kcal_hHBB\n",
      "[102, 233, 394]\n",
      "[125, 269, 417]\n",
      "hHBB_-423.7 kcal_hHBB\n",
      "[102, 231, 393]\n",
      "[125, 270, 416]\n",
      "hHBB_-423.7 kcal_hHBB\n",
      "[102, 232, 395]\n",
      "[125, 271, 419]\n",
      "hHBB_-423.7 kcal_hHBB\n",
      "[102, 232, 395]\n",
      "[125, 271, 419]\n",
      "hHBB_-423.7 kcal_hHBB\n",
      "[102, 232, 393]\n",
      "[125, 271, 420]\n",
      "hHBB_-423.7 kcal_hHBB\n",
      "[102, 229, 393]\n",
      "[125, 273, 419]\n",
      "hHBB_-423.7 kcal_hHBB\n",
      "[102, 229, 393]\n",
      "[125, 273, 419]\n",
      "hHBB_-423.7 kcal_hHBB\n",
      "[102, 229, 393]\n",
      "[125, 273, 419]\n",
      "hHBB_-423.7 kcal_hHBB\n",
      "[102, 229, 393]\n",
      "[125, 273, 419]\n"
     ]
    },
    {
     "name": "stderr",
     "output_type": "stream",
     "text": [
      "/Users/dosoonkim/Google Drive (dosoon@stanford.edu)/COVID_Vaccine/8. Experimental Results/Experimental Logs - Das/001_dosoon_revisit_bioanalyzer_fits/analysis_rd_dsk_scratch.py:275: RuntimeWarning: More than 20 figures have been opened. Figures created through the pyplot interface (`matplotlib.pyplot.figure`) are retained until explicitly closed and may consume too much memory. (To control this warning, see the rcParam `figure.max_open_warning`).\n",
      "  plt.figure(figsize=(8,12))\n",
      "/Users/dosoonkim/Google Drive (dosoon@stanford.edu)/COVID_Vaccine/8. Experimental Results/Experimental Logs - Das/001_dosoon_revisit_bioanalyzer_fits/analysis_rd_dsk_scratch.py:345: RuntimeWarning: More than 20 figures have been opened. Figures created through the pyplot interface (`matplotlib.pyplot.figure`) are retained until explicitly closed and may consume too much memory. (To control this warning, see the rcParam `figure.max_open_warning`).\n",
      "  plt.figure(figsize=(10,20))\n"
     ]
    },
    {
     "name": "stdout",
     "output_type": "stream",
     "text": [
      "hHBB_-423.7 kcal_hHBB\n",
      "[101, 259, 393]\n",
      "[127, 282, 413]\n",
      "hHBB_-423.7 kcal_hHBB\n",
      "[101, 259, 393]\n",
      "[127, 283, 414]\n",
      "hHBB_-423.7 kcal_hHBB\n",
      "[101, 260, 394]\n",
      "[127, 284, 415]\n",
      "hHBB_-423.7 kcal_hHBB\n",
      "[101, 260, 394]\n",
      "[127, 283, 417]\n",
      "hHBB_-423.7 kcal_hHBB\n",
      "[101, 260, 394]\n",
      "[127, 283, 415]\n",
      "hHBB_-423.7 kcal_hHBB\n",
      "[101, 259, 393]\n",
      "[127, 283, 416]\n",
      "hHBB_-423.7 kcal_hHBB\n",
      "[101, 259, 393]\n",
      "[127, 285, 416]\n",
      "hHBB_-423.7 kcal_hHBB\n",
      "[101, 231, 394]\n",
      "[127, 269, 420]\n",
      "hHBB_-423.7 kcal_hHBB\n",
      "[101, 231, 394]\n",
      "[127, 269, 420]\n",
      "hHBB_-423.7 kcal_hHBB\n",
      "[101, 231, 394]\n",
      "[127, 269, 420]\n",
      "Completed!\n",
      "Analyzing samples for: /Users/dosoonkim/Google Drive (dosoon@stanford.edu)/COVID_Vaccine/8. Experimental Results/Experimental Logs - Das/102120_PSU_5mC_BioAnalyzer/...\n",
      "[{'Sample': 'hHBB_Yellowstone_hHBB', 'Nucleotide': 'natural', 'Timepoint': 0.0, 'Plate': 1, 'FileNumber': 1}, {'Sample': 'hHBB_Yellowstone_hHBB', 'Nucleotide': 'natural', 'Timepoint': 0.5, 'Plate': 1, 'FileNumber': 2}, {'Sample': 'hHBB_Yellowstone_hHBB', 'Nucleotide': 'natural', 'Timepoint': 1.0, 'Plate': 1, 'FileNumber': 3}, {'Sample': 'hHBB_Yellowstone_hHBB', 'Nucleotide': 'natural', 'Timepoint': 1.5, 'Plate': 1, 'FileNumber': 4}, {'Sample': 'hHBB_Yellowstone_hHBB', 'Nucleotide': 'natural', 'Timepoint': 2.0, 'Plate': 1, 'FileNumber': 5}, {'Sample': 'hHBB_Yellowstone_hHBB', 'Nucleotide': 'natural', 'Timepoint': 3.0, 'Plate': 1, 'FileNumber': 6}, {'Sample': 'hHBB_Yellowstone_hHBB', 'Nucleotide': 'natural', 'Timepoint': 4.0, 'Plate': 1, 'FileNumber': 7}, {'Sample': 'hHBB_Yellowstone_hHBB', 'Nucleotide': 'natural', 'Timepoint': 5.0, 'Plate': 1, 'FileNumber': 8}, {'Sample': 'hHBB_Yellowstone_hHBB', 'Nucleotide': 'natural', 'Timepoint': 18.0, 'Plate': 1, 'FileNumber': 9}, {'Sample': 'hHBB_Yellowstone_hHBB', 'Nucleotide': 'natural', 'Timepoint': 24.0, 'Plate': 1, 'FileNumber': 10}, {'Sample': 'hHBB_Yellowstone_hHBB', 'Nucleotide': '5mC', 'Timepoint': 0.0, 'Plate': 1, 'FileNumber': 11}, {'Sample': 'hHBB_Yellowstone_hHBB', 'Nucleotide': '5mC', 'Timepoint': 0.5, 'Plate': 1, 'FileNumber': 12}, {'Sample': 'hHBB_Yellowstone_hHBB', 'Nucleotide': '5mC', 'Timepoint': 1.0, 'Plate': 2, 'FileNumber': 1}, {'Sample': 'hHBB_Yellowstone_hHBB', 'Nucleotide': '5mC', 'Timepoint': 1.5, 'Plate': 2, 'FileNumber': 2}, {'Sample': 'hHBB_Yellowstone_hHBB', 'Nucleotide': '5mC', 'Timepoint': 2.0, 'Plate': 2, 'FileNumber': 3}, {'Sample': 'hHBB_Yellowstone_hHBB', 'Nucleotide': '5mC', 'Timepoint': 3.0, 'Plate': 2, 'FileNumber': 4}, {'Sample': 'hHBB_Yellowstone_hHBB', 'Nucleotide': '5mC', 'Timepoint': 4.0, 'Plate': 2, 'FileNumber': 5}, {'Sample': 'hHBB_Yellowstone_hHBB', 'Nucleotide': '5mC', 'Timepoint': 5.0, 'Plate': 2, 'FileNumber': 6}, {'Sample': 'hHBB_Yellowstone_hHBB', 'Nucleotide': '5mC', 'Timepoint': 18.0, 'Plate': 2, 'FileNumber': 7}, {'Sample': 'hHBB_Yellowstone_hHBB', 'Nucleotide': '5mC', 'Timepoint': 24.0, 'Plate': 2, 'FileNumber': 8}, {'Sample': 'hHBB_Yellowstone_hHBB', 'Nucleotide': 'PSU', 'Timepoint': 0.0, 'Plate': 6, 'FileNumber': 11}, {'Sample': 'hHBB_Yellowstone_hHBB', 'Nucleotide': 'PSU', 'Timepoint': 0.5, 'Plate': 6, 'FileNumber': 12}, {'Sample': 'hHBB_Yellowstone_hHBB', 'Nucleotide': 'PSU', 'Timepoint': 1.0, 'Plate': 7, 'FileNumber': 1}, {'Sample': 'hHBB_Yellowstone_hHBB', 'Nucleotide': 'PSU', 'Timepoint': 1.5, 'Plate': 7, 'FileNumber': 2}, {'Sample': 'hHBB_Yellowstone_hHBB', 'Nucleotide': 'PSU', 'Timepoint': 2.0, 'Plate': 7, 'FileNumber': 3}, {'Sample': 'hHBB_Yellowstone_hHBB', 'Nucleotide': 'PSU', 'Timepoint': 3.0, 'Plate': 7, 'FileNumber': 4}, {'Sample': 'hHBB_Yellowstone_hHBB', 'Nucleotide': 'PSU', 'Timepoint': 4.0, 'Plate': 7, 'FileNumber': 5}, {'Sample': 'hHBB_Yellowstone_hHBB', 'Nucleotide': 'PSU', 'Timepoint': 5.0, 'Plate': 7, 'FileNumber': 6}, {'Sample': 'hHBB_Yellowstone_hHBB', 'Nucleotide': 'PSU', 'Timepoint': 18.0, 'Plate': 7, 'FileNumber': 7}, {'Sample': 'hHBB_Yellowstone_hHBB', 'Nucleotide': 'PSU', 'Timepoint': 24.0, 'Plate': 7, 'FileNumber': 8}, {'Sample': 'hHBB_LinearDesign_hHBB', 'Nucleotide': '5mC', 'Timepoint': 0.0, 'Plate': 9, 'FileNumber': 6}, {'Sample': 'hHBB_LinearDesign_hHBB', 'Nucleotide': '5mC', 'Timepoint': 0.5, 'Plate': 2, 'FileNumber': 9}, {'Sample': 'hHBB_LinearDesign_hHBB', 'Nucleotide': '5mC', 'Timepoint': 1.0, 'Plate': 2, 'FileNumber': 11}, {'Sample': 'hHBB_LinearDesign_hHBB', 'Nucleotide': '5mC', 'Timepoint': 1.5, 'Plate': 2, 'FileNumber': 12}, {'Sample': 'hHBB_LinearDesign_hHBB', 'Nucleotide': '5mC', 'Timepoint': 2.0, 'Plate': 3, 'FileNumber': 1}, {'Sample': 'hHBB_LinearDesign_hHBB', 'Nucleotide': '5mC', 'Timepoint': 3.0, 'Plate': 3, 'FileNumber': 2}, {'Sample': 'hHBB_LinearDesign_hHBB', 'Nucleotide': '5mC', 'Timepoint': 4.0, 'Plate': 3, 'FileNumber': 3}, {'Sample': 'hHBB_LinearDesign_hHBB', 'Nucleotide': '5mC', 'Timepoint': 5.0, 'Plate': 3, 'FileNumber': 4}, {'Sample': 'hHBB_LinearDesign_hHBB', 'Nucleotide': '5mC', 'Timepoint': 18.0, 'Plate': 3, 'FileNumber': 5}, {'Sample': 'hHBB_LinearDesign_hHBB', 'Nucleotide': '5mC', 'Timepoint': 24.0, 'Plate': 3, 'FileNumber': 6}, {'Sample': 'hHBB_LinearDesign_hHBB', 'Nucleotide': 'PSU', 'Timepoint': 0.0, 'Plate': 7, 'FileNumber': 9}, {'Sample': 'hHBB_LinearDesign_hHBB', 'Nucleotide': 'PSU', 'Timepoint': 0.5, 'Plate': 7, 'FileNumber': 10}, {'Sample': 'hHBB_LinearDesign_hHBB', 'Nucleotide': 'PSU', 'Timepoint': 1.0, 'Plate': 7, 'FileNumber': 11}, {'Sample': 'hHBB_LinearDesign_hHBB', 'Nucleotide': 'PSU', 'Timepoint': 1.5, 'Plate': 7, 'FileNumber': 12}, {'Sample': 'hHBB_LinearDesign_hHBB', 'Nucleotide': 'PSU', 'Timepoint': 2.0, 'Plate': 8, 'FileNumber': 1}, {'Sample': 'hHBB_LinearDesign_hHBB', 'Nucleotide': 'PSU', 'Timepoint': 3.0, 'Plate': 8, 'FileNumber': 2}, {'Sample': 'hHBB_LinearDesign_hHBB', 'Nucleotide': 'PSU', 'Timepoint': 4.0, 'Plate': 8, 'FileNumber': 3}, {'Sample': 'hHBB_LinearDesign_hHBB', 'Nucleotide': 'PSU', 'Timepoint': 5.0, 'Plate': 8, 'FileNumber': 4}, {'Sample': 'hHBB_LinearDesign_hHBB', 'Nucleotide': 'PSU', 'Timepoint': 18.0, 'Plate': 8, 'FileNumber': 5}, {'Sample': 'hHBB_LinearDesign_hHBB', 'Nucleotide': 'PSU', 'Timepoint': 24.0, 'Plate': 8, 'FileNumber': 6}, {'Sample': 'hHBB_Nluc_hHBB', 'Nucleotide': '5mC', 'Timepoint': 0.0, 'Plate': 3, 'FileNumber': 7}, {'Sample': 'hHBB_Nluc_hHBB', 'Nucleotide': '5mC', 'Timepoint': 0.5, 'Plate': 3, 'FileNumber': 8}, {'Sample': 'hHBB_Nluc_hHBB', 'Nucleotide': '5mC', 'Timepoint': 1.0, 'Plate': 3, 'FileNumber': 9}, {'Sample': 'hHBB_Nluc_hHBB', 'Nucleotide': '5mC', 'Timepoint': 1.5, 'Plate': 3, 'FileNumber': 10}, {'Sample': 'hHBB_Nluc_hHBB', 'Nucleotide': '5mC', 'Timepoint': 2.0, 'Plate': 3, 'FileNumber': 11}, {'Sample': 'hHBB_Nluc_hHBB', 'Nucleotide': '5mC', 'Timepoint': 3.0, 'Plate': 3, 'FileNumber': 12}, {'Sample': 'hHBB_Nluc_hHBB', 'Nucleotide': '5mC', 'Timepoint': 4.0, 'Plate': 4, 'FileNumber': 1}, {'Sample': 'hHBB_Nluc_hHBB', 'Nucleotide': '5mC', 'Timepoint': 5.0, 'Plate': 4, 'FileNumber': 2}, {'Sample': 'hHBB_Nluc_hHBB', 'Nucleotide': '5mC', 'Timepoint': 18.0, 'Plate': 4, 'FileNumber': 3}, {'Sample': 'hHBB_Nluc_hHBB', 'Nucleotide': '5mC', 'Timepoint': 24.0, 'Plate': 4, 'FileNumber': 4}, {'Sample': 'hHBB_Nluc_hHBB', 'Nucleotide': 'PSU', 'Timepoint': 0.0, 'Plate': 8, 'FileNumber': 7}, {'Sample': 'hHBB_Nluc_hHBB', 'Nucleotide': 'PSU', 'Timepoint': 0.5, 'Plate': 8, 'FileNumber': 8}, {'Sample': 'hHBB_Nluc_hHBB', 'Nucleotide': 'PSU', 'Timepoint': 1.0, 'Plate': 8, 'FileNumber': 9}, {'Sample': 'hHBB_Nluc_hHBB', 'Nucleotide': 'PSU', 'Timepoint': 1.5, 'Plate': 8, 'FileNumber': 10}, {'Sample': 'hHBB_Nluc_hHBB', 'Nucleotide': 'PSU', 'Timepoint': 2.0, 'Plate': 8, 'FileNumber': 11}, {'Sample': 'hHBB_Nluc_hHBB', 'Nucleotide': 'PSU', 'Timepoint': 3.0, 'Plate': 8, 'FileNumber': 12}, {'Sample': 'hHBB_Nluc_hHBB', 'Nucleotide': 'PSU', 'Timepoint': 4.0, 'Plate': 9, 'FileNumber': 1}, {'Sample': 'hHBB_Nluc_hHBB', 'Nucleotide': 'PSU', 'Timepoint': 5.0, 'Plate': 9, 'FileNumber': 2}, {'Sample': 'hHBB_Nluc_hHBB', 'Nucleotide': 'PSU', 'Timepoint': 18.0, 'Plate': 9, 'FileNumber': 3}, {'Sample': 'hHBB_Nluc_hHBB', 'Nucleotide': 'PSU', 'Timepoint': 24.0, 'Plate': 9, 'FileNumber': 4}, {'Sample': 'hHBB_GCrich-2_hHBB', 'Nucleotide': '5mC', 'Timepoint': 0.0, 'Plate': 4, 'FileNumber': 5}, {'Sample': 'hHBB_GCrich-2_hHBB', 'Nucleotide': '5mC', 'Timepoint': 0.5, 'Plate': 4, 'FileNumber': 6}, {'Sample': 'hHBB_GCrich-2_hHBB', 'Nucleotide': '5mC', 'Timepoint': 1.0, 'Plate': 4, 'FileNumber': 7}, {'Sample': 'hHBB_GCrich-2_hHBB', 'Nucleotide': '5mC', 'Timepoint': 1.5, 'Plate': 4, 'FileNumber': 8}, {'Sample': 'hHBB_GCrich-2_hHBB', 'Nucleotide': '5mC', 'Timepoint': 2.0, 'Plate': 4, 'FileNumber': 9}, {'Sample': 'hHBB_GCrich-2_hHBB', 'Nucleotide': '5mC', 'Timepoint': 3.0, 'Plate': 4, 'FileNumber': 10}, {'Sample': 'hHBB_GCrich-2_hHBB', 'Nucleotide': '5mC', 'Timepoint': 4.0, 'Plate': 4, 'FileNumber': 11}, {'Sample': 'hHBB_GCrich-2_hHBB', 'Nucleotide': '5mC', 'Timepoint': 5.0, 'Plate': 4, 'FileNumber': 12}, {'Sample': 'hHBB_GCrich-2_hHBB', 'Nucleotide': '5mC', 'Timepoint': 18.0, 'Plate': 9, 'FileNumber': 7}, {'Sample': 'hHBB_GCrich-2_hHBB', 'Nucleotide': '5mC', 'Timepoint': 24.0, 'Plate': 5, 'FileNumber': 2}, {'Sample': 'hHBB_GCrich-2_hHBB', 'Nucleotide': 'PSU', 'Timepoint': 0.0, 'Plate': 10, 'FileNumber': 2}, {'Sample': 'hHBB_GCrich-2_hHBB', 'Nucleotide': 'PSU', 'Timepoint': 0.5, 'Plate': 10, 'FileNumber': 2}, {'Sample': 'hHBB_GCrich-2_hHBB', 'Nucleotide': 'PSU', 'Timepoint': 1.0, 'Plate': 10, 'FileNumber': 3}, {'Sample': 'hHBB_GCrich-2_hHBB', 'Nucleotide': 'PSU', 'Timepoint': 1.5, 'Plate': 10, 'FileNumber': 4}, {'Sample': 'hHBB_GCrich-2_hHBB', 'Nucleotide': 'PSU', 'Timepoint': 2.0, 'Plate': 10, 'FileNumber': 5}, {'Sample': 'hHBB_GCrich-2_hHBB', 'Nucleotide': 'PSU', 'Timepoint': 3.0, 'Plate': 10, 'FileNumber': 6}, {'Sample': 'hHBB_GCrich-2_hHBB', 'Nucleotide': 'PSU', 'Timepoint': 4.0, 'Plate': 10, 'FileNumber': 7}, {'Sample': 'hHBB_GCrich-2_hHBB', 'Nucleotide': 'PSU', 'Timepoint': 5.0, 'Plate': 10, 'FileNumber': 8}, {'Sample': 'hHBB_GCrich-2_hHBB', 'Nucleotide': 'PSU', 'Timepoint': 18.0, 'Plate': 10, 'FileNumber': 9}, {'Sample': 'hHBB_GCrich-2_hHBB', 'Nucleotide': 'PSU', 'Timepoint': 24.0, 'Plate': 10, 'FileNumber': 10}, {'Sample': 'hHBB_LocalDesign_hHBB', 'Nucleotide': '5mC', 'Timepoint': 0.0, 'Plate': 5, 'FileNumber': 3}, {'Sample': 'hHBB_LocalDesign_hHBB', 'Nucleotide': '5mC', 'Timepoint': 0.5, 'Plate': 5, 'FileNumber': 4}, {'Sample': 'hHBB_LocalDesign_hHBB', 'Nucleotide': '5mC', 'Timepoint': 1.0, 'Plate': 5, 'FileNumber': 5}, {'Sample': 'hHBB_LocalDesign_hHBB', 'Nucleotide': '5mC', 'Timepoint': 1.5, 'Plate': 5, 'FileNumber': 6}, {'Sample': 'hHBB_LocalDesign_hHBB', 'Nucleotide': '5mC', 'Timepoint': 2.0, 'Plate': 5, 'FileNumber': 7}, {'Sample': 'hHBB_LocalDesign_hHBB', 'Nucleotide': '5mC', 'Timepoint': 3.0, 'Plate': 5, 'FileNumber': 8}, {'Sample': 'hHBB_LocalDesign_hHBB', 'Nucleotide': '5mC', 'Timepoint': 4.0, 'Plate': 5, 'FileNumber': 9}, {'Sample': 'hHBB_LocalDesign_hHBB', 'Nucleotide': '5mC', 'Timepoint': 5.0, 'Plate': 5, 'FileNumber': 10}, {'Sample': 'hHBB_LocalDesign_hHBB', 'Nucleotide': '5mC', 'Timepoint': 18.0, 'Plate': 5, 'FileNumber': 11}, {'Sample': 'hHBB_LocalDesign_hHBB', 'Nucleotide': '5mC', 'Timepoint': 24.0, 'Plate': 5, 'FileNumber': 12}, {'Sample': 'hHBB_LocalDesign_hHBB', 'Nucleotide': 'PSU', 'Timepoint': 0.0, 'Plate': 11, 'FileNumber': 1}, {'Sample': 'hHBB_LocalDesign_hHBB', 'Nucleotide': 'PSU', 'Timepoint': 0.5, 'Plate': 11, 'FileNumber': 2}, {'Sample': 'hHBB_LocalDesign_hHBB', 'Nucleotide': 'PSU', 'Timepoint': 1.0, 'Plate': 11, 'FileNumber': 3}, {'Sample': 'hHBB_LocalDesign_hHBB', 'Nucleotide': 'PSU', 'Timepoint': 1.5, 'Plate': 11, 'FileNumber': 4}, {'Sample': 'hHBB_LocalDesign_hHBB', 'Nucleotide': 'PSU', 'Timepoint': 2.0, 'Plate': 11, 'FileNumber': 5}, {'Sample': 'hHBB_LocalDesign_hHBB', 'Nucleotide': 'PSU', 'Timepoint': 3.0, 'Plate': 11, 'FileNumber': 6}, {'Sample': 'hHBB_LocalDesign_hHBB', 'Nucleotide': 'PSU', 'Timepoint': 4.0, 'Plate': 11, 'FileNumber': 7}, {'Sample': 'hHBB_LocalDesign_hHBB', 'Nucleotide': 'PSU', 'Timepoint': 5.0, 'Plate': 11, 'FileNumber': 8}, {'Sample': 'hHBB_LocalDesign_hHBB', 'Nucleotide': 'PSU', 'Timepoint': 18.0, 'Plate': 11, 'FileNumber': 9}, {'Sample': 'hHBB_LocalDesign_hHBB', 'Nucleotide': 'PSU', 'Timepoint': 24.0, 'Plate': 11, 'FileNumber': 10}, {'Sample': 'hHBB_-423.7 kcal_hHBB', 'Nucleotide': '5mC', 'Timepoint': 0.0, 'Plate': 6, 'FileNumber': 1}, {'Sample': 'hHBB_-423.7 kcal_hHBB', 'Nucleotide': '5mC', 'Timepoint': 0.5, 'Plate': 6, 'FileNumber': 2}, {'Sample': 'hHBB_-423.7 kcal_hHBB', 'Nucleotide': '5mC', 'Timepoint': 1.0, 'Plate': 6, 'FileNumber': 3}, {'Sample': 'hHBB_-423.7 kcal_hHBB', 'Nucleotide': '5mC', 'Timepoint': 1.5, 'Plate': 6, 'FileNumber': 4}, {'Sample': 'hHBB_-423.7 kcal_hHBB', 'Nucleotide': '5mC', 'Timepoint': 2.0, 'Plate': 6, 'FileNumber': 5}, {'Sample': 'hHBB_-423.7 kcal_hHBB', 'Nucleotide': '5mC', 'Timepoint': 3.0, 'Plate': 6, 'FileNumber': 6}, {'Sample': 'hHBB_-423.7 kcal_hHBB', 'Nucleotide': '5mC', 'Timepoint': 4.0, 'Plate': 6, 'FileNumber': 7}, {'Sample': 'hHBB_-423.7 kcal_hHBB', 'Nucleotide': '5mC', 'Timepoint': 5.0, 'Plate': 6, 'FileNumber': 8}, {'Sample': 'hHBB_-423.7 kcal_hHBB', 'Nucleotide': '5mC', 'Timepoint': 18.0, 'Plate': 6, 'FileNumber': 9}, {'Sample': 'hHBB_-423.7 kcal_hHBB', 'Nucleotide': '5mC', 'Timepoint': 24.0, 'Plate': 6, 'FileNumber': 10}, {'Sample': 'hHBB_-423.7 kcal_hHBB', 'Nucleotide': 'PSU', 'Timepoint': 0.0, 'Plate': 13, 'FileNumber': 1}, {'Sample': 'hHBB_-423.7 kcal_hHBB', 'Nucleotide': 'PSU', 'Timepoint': 0.5, 'Plate': 13, 'FileNumber': 2}, {'Sample': 'hHBB_-423.7 kcal_hHBB', 'Nucleotide': 'PSU', 'Timepoint': 1.0, 'Plate': 13, 'FileNumber': 3}, {'Sample': 'hHBB_-423.7 kcal_hHBB', 'Nucleotide': 'PSU', 'Timepoint': 1.5, 'Plate': 13, 'FileNumber': 4}, {'Sample': 'hHBB_-423.7 kcal_hHBB', 'Nucleotide': 'PSU', 'Timepoint': 2.0, 'Plate': 13, 'FileNumber': 5}, {'Sample': 'hHBB_-423.7 kcal_hHBB', 'Nucleotide': 'PSU', 'Timepoint': 3.0, 'Plate': 13, 'FileNumber': 6}, {'Sample': 'hHBB_-423.7 kcal_hHBB', 'Nucleotide': 'PSU', 'Timepoint': 4.0, 'Plate': 13, 'FileNumber': 7}, {'Sample': 'hHBB_-423.7 kcal_hHBB', 'Nucleotide': 'PSU', 'Timepoint': 5.0, 'Plate': 13, 'FileNumber': 8}, {'Sample': 'hHBB_-423.7 kcal_hHBB', 'Nucleotide': 'PSU', 'Timepoint': 18.0, 'Plate': 13, 'FileNumber': 9}, {'Sample': 'hHBB_-423.7 kcal_hHBB', 'Nucleotide': 'PSU', 'Timepoint': 24.0, 'Plate': 13, 'FileNumber': 10}]\n"
     ]
    },
    {
     "data": {
      "application/vnd.jupyter.widget-view+json": {
       "model_id": "55bbb75f88bd46b89c181a7f88d6494e",
       "version_major": 2,
       "version_minor": 0
      },
      "text/plain": [
       "HBox(children=(FloatProgress(value=0.0, max=130.0), HTML(value='')))"
      ]
     },
     "metadata": {},
     "output_type": "display_data"
    },
    {
     "name": "stdout",
     "output_type": "stream",
     "text": [
      "{'Sample': 'hHBB_Yellowstone_hHBB', 'Nucleotide': 'natural', 'Timepoint': 0.0, 'Plate': 1, 'FileNumber': 1}\n",
      "{'Sample': 'hHBB_Yellowstone_hHBB', 'Nucleotide': 'natural', 'Timepoint': 0.5, 'Plate': 1, 'FileNumber': 2}\n",
      "{'Sample': 'hHBB_Yellowstone_hHBB', 'Nucleotide': 'natural', 'Timepoint': 1.0, 'Plate': 1, 'FileNumber': 3}\n",
      "{'Sample': 'hHBB_Yellowstone_hHBB', 'Nucleotide': 'natural', 'Timepoint': 1.5, 'Plate': 1, 'FileNumber': 4}\n",
      "{'Sample': 'hHBB_Yellowstone_hHBB', 'Nucleotide': 'natural', 'Timepoint': 2.0, 'Plate': 1, 'FileNumber': 5}\n",
      "{'Sample': 'hHBB_Yellowstone_hHBB', 'Nucleotide': 'natural', 'Timepoint': 3.0, 'Plate': 1, 'FileNumber': 6}\n",
      "{'Sample': 'hHBB_Yellowstone_hHBB', 'Nucleotide': 'natural', 'Timepoint': 4.0, 'Plate': 1, 'FileNumber': 7}\n",
      "{'Sample': 'hHBB_Yellowstone_hHBB', 'Nucleotide': 'natural', 'Timepoint': 5.0, 'Plate': 1, 'FileNumber': 8}\n",
      "{'Sample': 'hHBB_Yellowstone_hHBB', 'Nucleotide': 'natural', 'Timepoint': 18.0, 'Plate': 1, 'FileNumber': 9}\n",
      "{'Sample': 'hHBB_Yellowstone_hHBB', 'Nucleotide': 'natural', 'Timepoint': 24.0, 'Plate': 1, 'FileNumber': 10}\n",
      "{'Sample': 'hHBB_Yellowstone_hHBB', 'Nucleotide': '5mC', 'Timepoint': 0.0, 'Plate': 1, 'FileNumber': 11}\n",
      "{'Sample': 'hHBB_Yellowstone_hHBB', 'Nucleotide': '5mC', 'Timepoint': 0.5, 'Plate': 1, 'FileNumber': 12}\n",
      "{'Sample': 'hHBB_Yellowstone_hHBB', 'Nucleotide': '5mC', 'Timepoint': 1.0, 'Plate': 2, 'FileNumber': 1}\n",
      "{'Sample': 'hHBB_Yellowstone_hHBB', 'Nucleotide': '5mC', 'Timepoint': 1.5, 'Plate': 2, 'FileNumber': 2}\n",
      "{'Sample': 'hHBB_Yellowstone_hHBB', 'Nucleotide': '5mC', 'Timepoint': 2.0, 'Plate': 2, 'FileNumber': 3}\n",
      "{'Sample': 'hHBB_Yellowstone_hHBB', 'Nucleotide': '5mC', 'Timepoint': 3.0, 'Plate': 2, 'FileNumber': 4}\n",
      "{'Sample': 'hHBB_Yellowstone_hHBB', 'Nucleotide': '5mC', 'Timepoint': 4.0, 'Plate': 2, 'FileNumber': 5}\n",
      "{'Sample': 'hHBB_Yellowstone_hHBB', 'Nucleotide': '5mC', 'Timepoint': 5.0, 'Plate': 2, 'FileNumber': 6}\n",
      "{'Sample': 'hHBB_Yellowstone_hHBB', 'Nucleotide': '5mC', 'Timepoint': 18.0, 'Plate': 2, 'FileNumber': 7}\n",
      "{'Sample': 'hHBB_Yellowstone_hHBB', 'Nucleotide': '5mC', 'Timepoint': 24.0, 'Plate': 2, 'FileNumber': 8}\n",
      "{'Sample': 'hHBB_Yellowstone_hHBB', 'Nucleotide': 'PSU', 'Timepoint': 0.0, 'Plate': 6, 'FileNumber': 11}\n",
      "{'Sample': 'hHBB_Yellowstone_hHBB', 'Nucleotide': 'PSU', 'Timepoint': 0.5, 'Plate': 6, 'FileNumber': 12}\n",
      "{'Sample': 'hHBB_Yellowstone_hHBB', 'Nucleotide': 'PSU', 'Timepoint': 1.0, 'Plate': 7, 'FileNumber': 1}\n",
      "{'Sample': 'hHBB_Yellowstone_hHBB', 'Nucleotide': 'PSU', 'Timepoint': 1.5, 'Plate': 7, 'FileNumber': 2}\n",
      "{'Sample': 'hHBB_Yellowstone_hHBB', 'Nucleotide': 'PSU', 'Timepoint': 2.0, 'Plate': 7, 'FileNumber': 3}\n",
      "{'Sample': 'hHBB_Yellowstone_hHBB', 'Nucleotide': 'PSU', 'Timepoint': 3.0, 'Plate': 7, 'FileNumber': 4}\n",
      "{'Sample': 'hHBB_Yellowstone_hHBB', 'Nucleotide': 'PSU', 'Timepoint': 4.0, 'Plate': 7, 'FileNumber': 5}\n",
      "{'Sample': 'hHBB_Yellowstone_hHBB', 'Nucleotide': 'PSU', 'Timepoint': 5.0, 'Plate': 7, 'FileNumber': 6}\n",
      "{'Sample': 'hHBB_Yellowstone_hHBB', 'Nucleotide': 'PSU', 'Timepoint': 18.0, 'Plate': 7, 'FileNumber': 7}\n",
      "{'Sample': 'hHBB_Yellowstone_hHBB', 'Nucleotide': 'PSU', 'Timepoint': 24.0, 'Plate': 7, 'FileNumber': 8}\n",
      "{'Sample': 'hHBB_LinearDesign_hHBB', 'Nucleotide': '5mC', 'Timepoint': 0.0, 'Plate': 9, 'FileNumber': 6}\n",
      "{'Sample': 'hHBB_LinearDesign_hHBB', 'Nucleotide': '5mC', 'Timepoint': 0.5, 'Plate': 2, 'FileNumber': 9}\n",
      "{'Sample': 'hHBB_LinearDesign_hHBB', 'Nucleotide': '5mC', 'Timepoint': 1.0, 'Plate': 2, 'FileNumber': 11}\n",
      "{'Sample': 'hHBB_LinearDesign_hHBB', 'Nucleotide': '5mC', 'Timepoint': 1.5, 'Plate': 2, 'FileNumber': 12}\n",
      "{'Sample': 'hHBB_LinearDesign_hHBB', 'Nucleotide': '5mC', 'Timepoint': 2.0, 'Plate': 3, 'FileNumber': 1}\n",
      "{'Sample': 'hHBB_LinearDesign_hHBB', 'Nucleotide': '5mC', 'Timepoint': 3.0, 'Plate': 3, 'FileNumber': 2}\n",
      "{'Sample': 'hHBB_LinearDesign_hHBB', 'Nucleotide': '5mC', 'Timepoint': 4.0, 'Plate': 3, 'FileNumber': 3}\n",
      "{'Sample': 'hHBB_LinearDesign_hHBB', 'Nucleotide': '5mC', 'Timepoint': 5.0, 'Plate': 3, 'FileNumber': 4}\n",
      "{'Sample': 'hHBB_LinearDesign_hHBB', 'Nucleotide': '5mC', 'Timepoint': 18.0, 'Plate': 3, 'FileNumber': 5}\n",
      "{'Sample': 'hHBB_LinearDesign_hHBB', 'Nucleotide': '5mC', 'Timepoint': 24.0, 'Plate': 3, 'FileNumber': 6}\n",
      "{'Sample': 'hHBB_LinearDesign_hHBB', 'Nucleotide': 'PSU', 'Timepoint': 0.0, 'Plate': 7, 'FileNumber': 9}\n",
      "{'Sample': 'hHBB_LinearDesign_hHBB', 'Nucleotide': 'PSU', 'Timepoint': 0.5, 'Plate': 7, 'FileNumber': 10}\n",
      "{'Sample': 'hHBB_LinearDesign_hHBB', 'Nucleotide': 'PSU', 'Timepoint': 1.0, 'Plate': 7, 'FileNumber': 11}\n",
      "{'Sample': 'hHBB_LinearDesign_hHBB', 'Nucleotide': 'PSU', 'Timepoint': 1.5, 'Plate': 7, 'FileNumber': 12}\n",
      "{'Sample': 'hHBB_LinearDesign_hHBB', 'Nucleotide': 'PSU', 'Timepoint': 2.0, 'Plate': 8, 'FileNumber': 1}\n",
      "{'Sample': 'hHBB_LinearDesign_hHBB', 'Nucleotide': 'PSU', 'Timepoint': 3.0, 'Plate': 8, 'FileNumber': 2}\n",
      "{'Sample': 'hHBB_LinearDesign_hHBB', 'Nucleotide': 'PSU', 'Timepoint': 4.0, 'Plate': 8, 'FileNumber': 3}\n",
      "{'Sample': 'hHBB_LinearDesign_hHBB', 'Nucleotide': 'PSU', 'Timepoint': 5.0, 'Plate': 8, 'FileNumber': 4}\n",
      "{'Sample': 'hHBB_LinearDesign_hHBB', 'Nucleotide': 'PSU', 'Timepoint': 18.0, 'Plate': 8, 'FileNumber': 5}\n",
      "{'Sample': 'hHBB_LinearDesign_hHBB', 'Nucleotide': 'PSU', 'Timepoint': 24.0, 'Plate': 8, 'FileNumber': 6}\n",
      "{'Sample': 'hHBB_Nluc_hHBB', 'Nucleotide': '5mC', 'Timepoint': 0.0, 'Plate': 3, 'FileNumber': 7}\n",
      "{'Sample': 'hHBB_Nluc_hHBB', 'Nucleotide': '5mC', 'Timepoint': 0.5, 'Plate': 3, 'FileNumber': 8}\n",
      "{'Sample': 'hHBB_Nluc_hHBB', 'Nucleotide': '5mC', 'Timepoint': 1.0, 'Plate': 3, 'FileNumber': 9}\n",
      "{'Sample': 'hHBB_Nluc_hHBB', 'Nucleotide': '5mC', 'Timepoint': 1.5, 'Plate': 3, 'FileNumber': 10}\n",
      "{'Sample': 'hHBB_Nluc_hHBB', 'Nucleotide': '5mC', 'Timepoint': 2.0, 'Plate': 3, 'FileNumber': 11}\n",
      "{'Sample': 'hHBB_Nluc_hHBB', 'Nucleotide': '5mC', 'Timepoint': 3.0, 'Plate': 3, 'FileNumber': 12}\n",
      "{'Sample': 'hHBB_Nluc_hHBB', 'Nucleotide': '5mC', 'Timepoint': 4.0, 'Plate': 4, 'FileNumber': 1}\n",
      "{'Sample': 'hHBB_Nluc_hHBB', 'Nucleotide': '5mC', 'Timepoint': 5.0, 'Plate': 4, 'FileNumber': 2}\n",
      "{'Sample': 'hHBB_Nluc_hHBB', 'Nucleotide': '5mC', 'Timepoint': 18.0, 'Plate': 4, 'FileNumber': 3}\n",
      "{'Sample': 'hHBB_Nluc_hHBB', 'Nucleotide': '5mC', 'Timepoint': 24.0, 'Plate': 4, 'FileNumber': 4}\n",
      "{'Sample': 'hHBB_Nluc_hHBB', 'Nucleotide': 'PSU', 'Timepoint': 0.0, 'Plate': 8, 'FileNumber': 7}\n",
      "{'Sample': 'hHBB_Nluc_hHBB', 'Nucleotide': 'PSU', 'Timepoint': 0.5, 'Plate': 8, 'FileNumber': 8}\n",
      "{'Sample': 'hHBB_Nluc_hHBB', 'Nucleotide': 'PSU', 'Timepoint': 1.0, 'Plate': 8, 'FileNumber': 9}\n",
      "{'Sample': 'hHBB_Nluc_hHBB', 'Nucleotide': 'PSU', 'Timepoint': 1.5, 'Plate': 8, 'FileNumber': 10}\n",
      "{'Sample': 'hHBB_Nluc_hHBB', 'Nucleotide': 'PSU', 'Timepoint': 2.0, 'Plate': 8, 'FileNumber': 11}\n",
      "{'Sample': 'hHBB_Nluc_hHBB', 'Nucleotide': 'PSU', 'Timepoint': 3.0, 'Plate': 8, 'FileNumber': 12}\n",
      "{'Sample': 'hHBB_Nluc_hHBB', 'Nucleotide': 'PSU', 'Timepoint': 4.0, 'Plate': 9, 'FileNumber': 1}\n",
      "{'Sample': 'hHBB_Nluc_hHBB', 'Nucleotide': 'PSU', 'Timepoint': 5.0, 'Plate': 9, 'FileNumber': 2}\n",
      "{'Sample': 'hHBB_Nluc_hHBB', 'Nucleotide': 'PSU', 'Timepoint': 18.0, 'Plate': 9, 'FileNumber': 3}\n",
      "{'Sample': 'hHBB_Nluc_hHBB', 'Nucleotide': 'PSU', 'Timepoint': 24.0, 'Plate': 9, 'FileNumber': 4}\n",
      "{'Sample': 'hHBB_GCrich-2_hHBB', 'Nucleotide': '5mC', 'Timepoint': 0.0, 'Plate': 4, 'FileNumber': 5}\n",
      "{'Sample': 'hHBB_GCrich-2_hHBB', 'Nucleotide': '5mC', 'Timepoint': 0.5, 'Plate': 4, 'FileNumber': 6}\n",
      "{'Sample': 'hHBB_GCrich-2_hHBB', 'Nucleotide': '5mC', 'Timepoint': 1.0, 'Plate': 4, 'FileNumber': 7}\n",
      "{'Sample': 'hHBB_GCrich-2_hHBB', 'Nucleotide': '5mC', 'Timepoint': 1.5, 'Plate': 4, 'FileNumber': 8}\n",
      "{'Sample': 'hHBB_GCrich-2_hHBB', 'Nucleotide': '5mC', 'Timepoint': 2.0, 'Plate': 4, 'FileNumber': 9}\n",
      "{'Sample': 'hHBB_GCrich-2_hHBB', 'Nucleotide': '5mC', 'Timepoint': 3.0, 'Plate': 4, 'FileNumber': 10}\n",
      "{'Sample': 'hHBB_GCrich-2_hHBB', 'Nucleotide': '5mC', 'Timepoint': 4.0, 'Plate': 4, 'FileNumber': 11}\n",
      "{'Sample': 'hHBB_GCrich-2_hHBB', 'Nucleotide': '5mC', 'Timepoint': 5.0, 'Plate': 4, 'FileNumber': 12}\n",
      "{'Sample': 'hHBB_GCrich-2_hHBB', 'Nucleotide': '5mC', 'Timepoint': 18.0, 'Plate': 9, 'FileNumber': 7}\n",
      "{'Sample': 'hHBB_GCrich-2_hHBB', 'Nucleotide': '5mC', 'Timepoint': 24.0, 'Plate': 5, 'FileNumber': 2}\n",
      "{'Sample': 'hHBB_GCrich-2_hHBB', 'Nucleotide': 'PSU', 'Timepoint': 0.0, 'Plate': 10, 'FileNumber': 2}\n",
      "{'Sample': 'hHBB_GCrich-2_hHBB', 'Nucleotide': 'PSU', 'Timepoint': 0.5, 'Plate': 10, 'FileNumber': 2}\n",
      "{'Sample': 'hHBB_GCrich-2_hHBB', 'Nucleotide': 'PSU', 'Timepoint': 1.0, 'Plate': 10, 'FileNumber': 3}\n",
      "{'Sample': 'hHBB_GCrich-2_hHBB', 'Nucleotide': 'PSU', 'Timepoint': 1.5, 'Plate': 10, 'FileNumber': 4}\n",
      "{'Sample': 'hHBB_GCrich-2_hHBB', 'Nucleotide': 'PSU', 'Timepoint': 2.0, 'Plate': 10, 'FileNumber': 5}\n",
      "{'Sample': 'hHBB_GCrich-2_hHBB', 'Nucleotide': 'PSU', 'Timepoint': 3.0, 'Plate': 10, 'FileNumber': 6}\n",
      "{'Sample': 'hHBB_GCrich-2_hHBB', 'Nucleotide': 'PSU', 'Timepoint': 4.0, 'Plate': 10, 'FileNumber': 7}\n",
      "{'Sample': 'hHBB_GCrich-2_hHBB', 'Nucleotide': 'PSU', 'Timepoint': 5.0, 'Plate': 10, 'FileNumber': 8}\n",
      "{'Sample': 'hHBB_GCrich-2_hHBB', 'Nucleotide': 'PSU', 'Timepoint': 18.0, 'Plate': 10, 'FileNumber': 9}\n",
      "{'Sample': 'hHBB_GCrich-2_hHBB', 'Nucleotide': 'PSU', 'Timepoint': 24.0, 'Plate': 10, 'FileNumber': 10}\n",
      "{'Sample': 'hHBB_LocalDesign_hHBB', 'Nucleotide': '5mC', 'Timepoint': 0.0, 'Plate': 5, 'FileNumber': 3}\n",
      "{'Sample': 'hHBB_LocalDesign_hHBB', 'Nucleotide': '5mC', 'Timepoint': 0.5, 'Plate': 5, 'FileNumber': 4}\n",
      "{'Sample': 'hHBB_LocalDesign_hHBB', 'Nucleotide': '5mC', 'Timepoint': 1.0, 'Plate': 5, 'FileNumber': 5}\n",
      "{'Sample': 'hHBB_LocalDesign_hHBB', 'Nucleotide': '5mC', 'Timepoint': 1.5, 'Plate': 5, 'FileNumber': 6}\n",
      "{'Sample': 'hHBB_LocalDesign_hHBB', 'Nucleotide': '5mC', 'Timepoint': 2.0, 'Plate': 5, 'FileNumber': 7}\n",
      "{'Sample': 'hHBB_LocalDesign_hHBB', 'Nucleotide': '5mC', 'Timepoint': 3.0, 'Plate': 5, 'FileNumber': 8}\n",
      "{'Sample': 'hHBB_LocalDesign_hHBB', 'Nucleotide': '5mC', 'Timepoint': 4.0, 'Plate': 5, 'FileNumber': 9}\n",
      "{'Sample': 'hHBB_LocalDesign_hHBB', 'Nucleotide': '5mC', 'Timepoint': 5.0, 'Plate': 5, 'FileNumber': 10}\n",
      "{'Sample': 'hHBB_LocalDesign_hHBB', 'Nucleotide': '5mC', 'Timepoint': 18.0, 'Plate': 5, 'FileNumber': 11}\n",
      "{'Sample': 'hHBB_LocalDesign_hHBB', 'Nucleotide': '5mC', 'Timepoint': 24.0, 'Plate': 5, 'FileNumber': 12}\n",
      "{'Sample': 'hHBB_LocalDesign_hHBB', 'Nucleotide': 'PSU', 'Timepoint': 0.0, 'Plate': 11, 'FileNumber': 1}\n",
      "{'Sample': 'hHBB_LocalDesign_hHBB', 'Nucleotide': 'PSU', 'Timepoint': 0.5, 'Plate': 11, 'FileNumber': 2}\n",
      "{'Sample': 'hHBB_LocalDesign_hHBB', 'Nucleotide': 'PSU', 'Timepoint': 1.0, 'Plate': 11, 'FileNumber': 3}\n",
      "{'Sample': 'hHBB_LocalDesign_hHBB', 'Nucleotide': 'PSU', 'Timepoint': 1.5, 'Plate': 11, 'FileNumber': 4}\n",
      "{'Sample': 'hHBB_LocalDesign_hHBB', 'Nucleotide': 'PSU', 'Timepoint': 2.0, 'Plate': 11, 'FileNumber': 5}\n",
      "{'Sample': 'hHBB_LocalDesign_hHBB', 'Nucleotide': 'PSU', 'Timepoint': 3.0, 'Plate': 11, 'FileNumber': 6}\n",
      "{'Sample': 'hHBB_LocalDesign_hHBB', 'Nucleotide': 'PSU', 'Timepoint': 4.0, 'Plate': 11, 'FileNumber': 7}\n",
      "{'Sample': 'hHBB_LocalDesign_hHBB', 'Nucleotide': 'PSU', 'Timepoint': 5.0, 'Plate': 11, 'FileNumber': 8}\n",
      "{'Sample': 'hHBB_LocalDesign_hHBB', 'Nucleotide': 'PSU', 'Timepoint': 18.0, 'Plate': 11, 'FileNumber': 9}\n",
      "{'Sample': 'hHBB_LocalDesign_hHBB', 'Nucleotide': 'PSU', 'Timepoint': 24.0, 'Plate': 11, 'FileNumber': 10}\n",
      "{'Sample': 'hHBB_-423.7 kcal_hHBB', 'Nucleotide': '5mC', 'Timepoint': 0.0, 'Plate': 6, 'FileNumber': 1}\n",
      "{'Sample': 'hHBB_-423.7 kcal_hHBB', 'Nucleotide': '5mC', 'Timepoint': 0.5, 'Plate': 6, 'FileNumber': 2}\n",
      "{'Sample': 'hHBB_-423.7 kcal_hHBB', 'Nucleotide': '5mC', 'Timepoint': 1.0, 'Plate': 6, 'FileNumber': 3}\n",
      "{'Sample': 'hHBB_-423.7 kcal_hHBB', 'Nucleotide': '5mC', 'Timepoint': 1.5, 'Plate': 6, 'FileNumber': 4}\n",
      "{'Sample': 'hHBB_-423.7 kcal_hHBB', 'Nucleotide': '5mC', 'Timepoint': 2.0, 'Plate': 6, 'FileNumber': 5}\n",
      "{'Sample': 'hHBB_-423.7 kcal_hHBB', 'Nucleotide': '5mC', 'Timepoint': 3.0, 'Plate': 6, 'FileNumber': 6}\n",
      "{'Sample': 'hHBB_-423.7 kcal_hHBB', 'Nucleotide': '5mC', 'Timepoint': 4.0, 'Plate': 6, 'FileNumber': 7}\n",
      "{'Sample': 'hHBB_-423.7 kcal_hHBB', 'Nucleotide': '5mC', 'Timepoint': 5.0, 'Plate': 6, 'FileNumber': 8}\n",
      "{'Sample': 'hHBB_-423.7 kcal_hHBB', 'Nucleotide': '5mC', 'Timepoint': 18.0, 'Plate': 6, 'FileNumber': 9}\n",
      "{'Sample': 'hHBB_-423.7 kcal_hHBB', 'Nucleotide': '5mC', 'Timepoint': 24.0, 'Plate': 6, 'FileNumber': 10}\n",
      "{'Sample': 'hHBB_-423.7 kcal_hHBB', 'Nucleotide': 'PSU', 'Timepoint': 0.0, 'Plate': 13, 'FileNumber': 1}\n",
      "{'Sample': 'hHBB_-423.7 kcal_hHBB', 'Nucleotide': 'PSU', 'Timepoint': 0.5, 'Plate': 13, 'FileNumber': 2}\n",
      "{'Sample': 'hHBB_-423.7 kcal_hHBB', 'Nucleotide': 'PSU', 'Timepoint': 1.0, 'Plate': 13, 'FileNumber': 3}\n",
      "{'Sample': 'hHBB_-423.7 kcal_hHBB', 'Nucleotide': 'PSU', 'Timepoint': 1.5, 'Plate': 13, 'FileNumber': 4}\n",
      "{'Sample': 'hHBB_-423.7 kcal_hHBB', 'Nucleotide': 'PSU', 'Timepoint': 2.0, 'Plate': 13, 'FileNumber': 5}\n",
      "{'Sample': 'hHBB_-423.7 kcal_hHBB', 'Nucleotide': 'PSU', 'Timepoint': 3.0, 'Plate': 13, 'FileNumber': 6}\n",
      "{'Sample': 'hHBB_-423.7 kcal_hHBB', 'Nucleotide': 'PSU', 'Timepoint': 4.0, 'Plate': 13, 'FileNumber': 7}\n",
      "{'Sample': 'hHBB_-423.7 kcal_hHBB', 'Nucleotide': 'PSU', 'Timepoint': 5.0, 'Plate': 13, 'FileNumber': 8}\n",
      "{'Sample': 'hHBB_-423.7 kcal_hHBB', 'Nucleotide': 'PSU', 'Timepoint': 18.0, 'Plate': 13, 'FileNumber': 9}\n",
      "{'Sample': 'hHBB_-423.7 kcal_hHBB', 'Nucleotide': 'PSU', 'Timepoint': 24.0, 'Plate': 13, 'FileNumber': 10}\n",
      "\n"
     ]
    },
    {
     "name": "stdout",
     "output_type": "stream",
     "text": [
      "hHBB_Yellowstone_hHBB\n"
     ]
    },
    {
     "name": "stderr",
     "output_type": "stream",
     "text": [
      "/Users/dosoonkim/anaconda3/lib/python3.7/site-packages/pandas/core/indexing.py:845: SettingWithCopyWarning: \n",
      "A value is trying to be set on a copy of a slice from a DataFrame.\n",
      "Try using .loc[row_indexer,col_indexer] = value instead\n",
      "\n",
      "See the caveats in the documentation: https://pandas.pydata.org/pandas-docs/stable/user_guide/indexing.html#returning-a-view-versus-a-copy\n",
      "  self.obj[key] = _infer_fill_value(value)\n",
      "/Users/dosoonkim/anaconda3/lib/python3.7/site-packages/pandas/core/indexing.py:966: SettingWithCopyWarning: \n",
      "A value is trying to be set on a copy of a slice from a DataFrame.\n",
      "Try using .loc[row_indexer,col_indexer] = value instead\n",
      "\n",
      "See the caveats in the documentation: https://pandas.pydata.org/pandas-docs/stable/user_guide/indexing.html#returning-a-view-versus-a-copy\n",
      "  self.obj[item] = s\n"
     ]
    },
    {
     "name": "stdout",
     "output_type": "stream",
     "text": [
      "hHBB_Yellowstone_hHBB\n",
      "hHBB_Yellowstone_hHBB\n",
      "hHBB_LinearDesign_hHBB\n",
      "hHBB_LinearDesign_hHBB\n",
      "hHBB_Nluc_hHBB\n",
      "hHBB_Nluc_hHBB\n",
      "hHBB_GCrich-2_hHBB\n",
      "hHBB_GCrich-2_hHBB\n",
      "hHBB_LocalDesign_hHBB\n",
      "hHBB_LocalDesign_hHBB\n",
      "hHBB_-423.7 kcal_hHBB\n",
      "hHBB_-423.7 kcal_hHBB\n"
     ]
    },
    {
     "name": "stderr",
     "output_type": "stream",
     "text": [
      "/Users/dosoonkim/Google Drive (dosoon@stanford.edu)/COVID_Vaccine/8. Experimental Results/Experimental Logs - Das/001_dosoon_revisit_bioanalyzer_fits/analysis_rd_dsk_scratch.py:275: RuntimeWarning: More than 20 figures have been opened. Figures created through the pyplot interface (`matplotlib.pyplot.figure`) are retained until explicitly closed and may consume too much memory. (To control this warning, see the rcParam `figure.max_open_warning`).\n",
      "  plt.figure(figsize=(8,12))\n",
      "/Users/dosoonkim/Google Drive (dosoon@stanford.edu)/COVID_Vaccine/8. Experimental Results/Experimental Logs - Das/001_dosoon_revisit_bioanalyzer_fits/analysis_rd_dsk_scratch.py:345: RuntimeWarning: More than 20 figures have been opened. Figures created through the pyplot interface (`matplotlib.pyplot.figure`) are retained until explicitly closed and may consume too much memory. (To control this warning, see the rcParam `figure.max_open_warning`).\n",
      "  plt.figure(figsize=(10,20))\n"
     ]
    },
    {
     "name": "stdout",
     "output_type": "stream",
     "text": [
      "hHBB_Yellowstone_hHBB\n",
      "[102, 231, 399]\n",
      "[126, 266, 426]\n",
      "hHBB_Yellowstone_hHBB\n",
      "[102, 231, 400]\n",
      "[126, 266, 427]\n",
      "hHBB_Yellowstone_hHBB\n",
      "[102, 232, 401]\n",
      "[126, 267, 428]\n",
      "hHBB_Yellowstone_hHBB\n",
      "[102, 232, 401]\n",
      "[126, 268, 428]\n",
      "hHBB_Yellowstone_hHBB\n",
      "[102, 230, 400]\n",
      "[126, 268, 427]\n",
      "hHBB_Yellowstone_hHBB\n",
      "[102, 232, 403]\n",
      "[126, 268, 427]\n",
      "hHBB_Yellowstone_hHBB\n",
      "[102, 232, 403]\n",
      "[126, 268, 427]\n",
      "hHBB_Yellowstone_hHBB\n",
      "[102, 232, 403]\n",
      "[126, 268, 427]\n",
      "hHBB_Yellowstone_hHBB\n",
      "[102, 232, 403]\n",
      "[126, 268, 427]\n",
      "hHBB_Yellowstone_hHBB\n",
      "[102, 232, 403]\n",
      "[126, 268, 427]\n"
     ]
    },
    {
     "name": "stderr",
     "output_type": "stream",
     "text": [
      "/Users/dosoonkim/Google Drive (dosoon@stanford.edu)/COVID_Vaccine/8. Experimental Results/Experimental Logs - Das/001_dosoon_revisit_bioanalyzer_fits/analysis_rd_dsk_scratch.py:275: RuntimeWarning: More than 20 figures have been opened. Figures created through the pyplot interface (`matplotlib.pyplot.figure`) are retained until explicitly closed and may consume too much memory. (To control this warning, see the rcParam `figure.max_open_warning`).\n",
      "  plt.figure(figsize=(8,12))\n",
      "/Users/dosoonkim/Google Drive (dosoon@stanford.edu)/COVID_Vaccine/8. Experimental Results/Experimental Logs - Das/001_dosoon_revisit_bioanalyzer_fits/analysis_rd_dsk_scratch.py:345: RuntimeWarning: More than 20 figures have been opened. Figures created through the pyplot interface (`matplotlib.pyplot.figure`) are retained until explicitly closed and may consume too much memory. (To control this warning, see the rcParam `figure.max_open_warning`).\n",
      "  plt.figure(figsize=(10,20))\n"
     ]
    },
    {
     "name": "stdout",
     "output_type": "stream",
     "text": [
      "hHBB_Yellowstone_hHBB\n",
      "[101, 232, 395]\n",
      "[127, 265, 418]\n",
      "hHBB_Yellowstone_hHBB\n",
      "[101, 231, 396]\n",
      "[127, 266, 420]\n",
      "hHBB_Yellowstone_hHBB\n",
      "[102, 231, 395]\n",
      "[126, 263, 422]\n",
      "hHBB_Yellowstone_hHBB\n",
      "[102, 231, 394]\n",
      "[126, 263, 423]\n",
      "hHBB_Yellowstone_hHBB\n",
      "[101, 231, 394]\n",
      "[127, 264, 424]\n",
      "hHBB_Yellowstone_hHBB\n",
      "[101, 228, 395]\n",
      "[127, 270, 422]\n",
      "hHBB_Yellowstone_hHBB\n",
      "[101, 228, 395]\n",
      "[127, 270, 421]\n",
      "hHBB_Yellowstone_hHBB\n",
      "[101, 228, 395]\n",
      "[127, 270, 421]\n",
      "hHBB_Yellowstone_hHBB\n",
      "[101, 228, 395]\n",
      "[127, 270, 421]\n",
      "hHBB_Yellowstone_hHBB\n",
      "[101, 228, 395]\n",
      "[127, 270, 421]\n"
     ]
    },
    {
     "name": "stderr",
     "output_type": "stream",
     "text": [
      "/Users/dosoonkim/Google Drive (dosoon@stanford.edu)/COVID_Vaccine/8. Experimental Results/Experimental Logs - Das/001_dosoon_revisit_bioanalyzer_fits/analysis_rd_dsk_scratch.py:275: RuntimeWarning: More than 20 figures have been opened. Figures created through the pyplot interface (`matplotlib.pyplot.figure`) are retained until explicitly closed and may consume too much memory. (To control this warning, see the rcParam `figure.max_open_warning`).\n",
      "  plt.figure(figsize=(8,12))\n",
      "/Users/dosoonkim/Google Drive (dosoon@stanford.edu)/COVID_Vaccine/8. Experimental Results/Experimental Logs - Das/001_dosoon_revisit_bioanalyzer_fits/analysis_rd_dsk_scratch.py:345: RuntimeWarning: More than 20 figures have been opened. Figures created through the pyplot interface (`matplotlib.pyplot.figure`) are retained until explicitly closed and may consume too much memory. (To control this warning, see the rcParam `figure.max_open_warning`).\n",
      "  plt.figure(figsize=(10,20))\n"
     ]
    },
    {
     "name": "stdout",
     "output_type": "stream",
     "text": [
      "hHBB_Yellowstone_hHBB\n",
      "[102, 231, 387]\n",
      "[125, 266, 413]\n",
      "hHBB_Yellowstone_hHBB\n",
      "[102, 232, 387]\n",
      "[125, 267, 413]\n",
      "hHBB_Yellowstone_hHBB\n",
      "[101, 231, 388]\n",
      "[127, 264, 415]\n",
      "hHBB_Yellowstone_hHBB\n",
      "[101, 230, 388]\n",
      "[127, 265, 414]\n",
      "hHBB_Yellowstone_hHBB\n",
      "[101, 231, 388]\n",
      "[127, 266, 414]\n",
      "hHBB_Yellowstone_hHBB\n",
      "[101, 230, 387]\n",
      "[127, 265, 414]\n",
      "hHBB_Yellowstone_hHBB\n",
      "[101, 231, 388]\n",
      "[127, 266, 415]\n",
      "hHBB_Yellowstone_hHBB\n",
      "[101, 231, 387]\n",
      "[127, 267, 416]\n",
      "hHBB_Yellowstone_hHBB\n",
      "[101, 231, 387]\n",
      "[127, 267, 416]\n",
      "hHBB_Yellowstone_hHBB\n",
      "[101, 231, 387]\n",
      "[127, 267, 416]\n"
     ]
    },
    {
     "name": "stderr",
     "output_type": "stream",
     "text": [
      "/Users/dosoonkim/Google Drive (dosoon@stanford.edu)/COVID_Vaccine/8. Experimental Results/Experimental Logs - Das/001_dosoon_revisit_bioanalyzer_fits/analysis_rd_dsk_scratch.py:275: RuntimeWarning: More than 20 figures have been opened. Figures created through the pyplot interface (`matplotlib.pyplot.figure`) are retained until explicitly closed and may consume too much memory. (To control this warning, see the rcParam `figure.max_open_warning`).\n",
      "  plt.figure(figsize=(8,12))\n",
      "/Users/dosoonkim/Google Drive (dosoon@stanford.edu)/COVID_Vaccine/8. Experimental Results/Experimental Logs - Das/001_dosoon_revisit_bioanalyzer_fits/analysis_rd_dsk_scratch.py:345: RuntimeWarning: More than 20 figures have been opened. Figures created through the pyplot interface (`matplotlib.pyplot.figure`) are retained until explicitly closed and may consume too much memory. (To control this warning, see the rcParam `figure.max_open_warning`).\n",
      "  plt.figure(figsize=(10,20))\n"
     ]
    },
    {
     "name": "stdout",
     "output_type": "stream",
     "text": [
      "hHBB_LinearDesign_hHBB\n",
      "[102, 232, 405]\n",
      "[126, 267, 434]\n",
      "hHBB_LinearDesign_hHBB\n",
      "[101, 232, 403]\n",
      "[127, 265, 429]\n",
      "hHBB_LinearDesign_hHBB\n",
      "[101, 230, 401]\n",
      "[127, 265, 430]\n",
      "hHBB_LinearDesign_hHBB\n",
      "[101, 230, 401]\n",
      "[127, 265, 433]\n",
      "hHBB_LinearDesign_hHBB\n",
      "[102, 232, 404]\n",
      "[126, 265, 434]\n",
      "hHBB_LinearDesign_hHBB\n",
      "[102, 231, 402]\n",
      "[126, 264, 437]\n",
      "hHBB_LinearDesign_hHBB\n",
      "[102, 232, 402]\n",
      "[126, 265, 438]\n",
      "hHBB_LinearDesign_hHBB\n",
      "[102, 231, 400]\n",
      "[126, 264, 441]\n",
      "hHBB_LinearDesign_hHBB\n",
      "[102, 231, 400]\n",
      "[126, 264, 441]\n",
      "hHBB_LinearDesign_hHBB\n",
      "[102, 231, 400]\n",
      "[126, 264, 441]\n"
     ]
    },
    {
     "name": "stderr",
     "output_type": "stream",
     "text": [
      "/Users/dosoonkim/Google Drive (dosoon@stanford.edu)/COVID_Vaccine/8. Experimental Results/Experimental Logs - Das/001_dosoon_revisit_bioanalyzer_fits/analysis_rd_dsk_scratch.py:275: RuntimeWarning: More than 20 figures have been opened. Figures created through the pyplot interface (`matplotlib.pyplot.figure`) are retained until explicitly closed and may consume too much memory. (To control this warning, see the rcParam `figure.max_open_warning`).\n",
      "  plt.figure(figsize=(8,12))\n",
      "/Users/dosoonkim/Google Drive (dosoon@stanford.edu)/COVID_Vaccine/8. Experimental Results/Experimental Logs - Das/001_dosoon_revisit_bioanalyzer_fits/analysis_rd_dsk_scratch.py:345: RuntimeWarning: More than 20 figures have been opened. Figures created through the pyplot interface (`matplotlib.pyplot.figure`) are retained until explicitly closed and may consume too much memory. (To control this warning, see the rcParam `figure.max_open_warning`).\n",
      "  plt.figure(figsize=(10,20))\n"
     ]
    },
    {
     "name": "stdout",
     "output_type": "stream",
     "text": [
      "hHBB_LinearDesign_hHBB\n",
      "[101, 230, 395]\n",
      "[127, 265, 416]\n",
      "hHBB_LinearDesign_hHBB\n",
      "[101, 230, 395]\n",
      "[127, 266, 416]\n",
      "hHBB_LinearDesign_hHBB\n",
      "[101, 229, 392]\n",
      "[127, 264, 415]\n",
      "hHBB_LinearDesign_hHBB\n",
      "[101, 229, 393]\n",
      "[127, 265, 416]\n",
      "hHBB_LinearDesign_hHBB\n",
      "[102, 231, 399]\n",
      "[126, 266, 422]\n",
      "hHBB_LinearDesign_hHBB\n",
      "[102, 230, 397]\n",
      "[126, 266, 420]\n",
      "hHBB_LinearDesign_hHBB\n",
      "[102, 230, 397]\n",
      "[126, 265, 420]\n",
      "hHBB_LinearDesign_hHBB\n",
      "[102, 231, 398]\n",
      "[126, 267, 422]\n",
      "hHBB_LinearDesign_hHBB\n",
      "[102, 231, 398]\n",
      "[126, 267, 422]\n",
      "hHBB_LinearDesign_hHBB\n",
      "[102, 231, 398]\n",
      "[126, 267, 422]\n"
     ]
    },
    {
     "name": "stderr",
     "output_type": "stream",
     "text": [
      "/Users/dosoonkim/Google Drive (dosoon@stanford.edu)/COVID_Vaccine/8. Experimental Results/Experimental Logs - Das/001_dosoon_revisit_bioanalyzer_fits/analysis_rd_dsk_scratch.py:275: RuntimeWarning: More than 20 figures have been opened. Figures created through the pyplot interface (`matplotlib.pyplot.figure`) are retained until explicitly closed and may consume too much memory. (To control this warning, see the rcParam `figure.max_open_warning`).\n",
      "  plt.figure(figsize=(8,12))\n",
      "/Users/dosoonkim/Google Drive (dosoon@stanford.edu)/COVID_Vaccine/8. Experimental Results/Experimental Logs - Das/001_dosoon_revisit_bioanalyzer_fits/analysis_rd_dsk_scratch.py:345: RuntimeWarning: More than 20 figures have been opened. Figures created through the pyplot interface (`matplotlib.pyplot.figure`) are retained until explicitly closed and may consume too much memory. (To control this warning, see the rcParam `figure.max_open_warning`).\n",
      "  plt.figure(figsize=(10,20))\n"
     ]
    },
    {
     "name": "stdout",
     "output_type": "stream",
     "text": [
      "hHBB_Nluc_hHBB\n",
      "[102, 231, 363]\n",
      "[126, 263, 413]\n",
      "hHBB_Nluc_hHBB\n",
      "[102, 231, 363]\n",
      "[126, 263, 414]\n",
      "hHBB_Nluc_hHBB\n",
      "[102, 231, 361]\n",
      "[126, 263, 414]\n",
      "hHBB_Nluc_hHBB\n",
      "[101, 230, 360]\n",
      "[127, 262, 414]\n",
      "hHBB_Nluc_hHBB\n",
      "[101, 232, 359]\n",
      "[127, 262, 418]\n",
      "hHBB_Nluc_hHBB\n",
      "[101, 228, 367]\n",
      "[127, 270, 403]\n",
      "hHBB_Nluc_hHBB\n",
      "[101, 228, 367]\n",
      "[127, 270, 403]\n",
      "hHBB_Nluc_hHBB\n",
      "[101, 228, 367]\n",
      "[127, 270, 403]\n",
      "hHBB_Nluc_hHBB\n",
      "[101, 228, 367]\n",
      "[127, 270, 403]\n",
      "hHBB_Nluc_hHBB\n",
      "[101, 228, 367]\n",
      "[127, 270, 403]\n"
     ]
    },
    {
     "name": "stderr",
     "output_type": "stream",
     "text": [
      "/Users/dosoonkim/Google Drive (dosoon@stanford.edu)/COVID_Vaccine/8. Experimental Results/Experimental Logs - Das/001_dosoon_revisit_bioanalyzer_fits/analysis_rd_dsk_scratch.py:275: RuntimeWarning: More than 20 figures have been opened. Figures created through the pyplot interface (`matplotlib.pyplot.figure`) are retained until explicitly closed and may consume too much memory. (To control this warning, see the rcParam `figure.max_open_warning`).\n",
      "  plt.figure(figsize=(8,12))\n",
      "/Users/dosoonkim/Google Drive (dosoon@stanford.edu)/COVID_Vaccine/8. Experimental Results/Experimental Logs - Das/001_dosoon_revisit_bioanalyzer_fits/analysis_rd_dsk_scratch.py:345: RuntimeWarning: More than 20 figures have been opened. Figures created through the pyplot interface (`matplotlib.pyplot.figure`) are retained until explicitly closed and may consume too much memory. (To control this warning, see the rcParam `figure.max_open_warning`).\n",
      "  plt.figure(figsize=(10,20))\n"
     ]
    },
    {
     "name": "stdout",
     "output_type": "stream",
     "text": [
      "hHBB_Nluc_hHBB\n",
      "[101, 234, 361]\n",
      "[127, 263, 397]\n",
      "hHBB_Nluc_hHBB\n",
      "[101, 234, 361]\n",
      "[127, 263, 397]\n",
      "hHBB_Nluc_hHBB\n",
      "[101, 234, 361]\n",
      "[127, 263, 397]\n",
      "hHBB_Nluc_hHBB\n",
      "[101, 234, 361]\n",
      "[127, 263, 397]\n",
      "hHBB_Nluc_hHBB\n",
      "[101, 234, 361]\n",
      "[127, 263, 397]\n",
      "hHBB_Nluc_hHBB\n",
      "[101, 229, 360]\n",
      "[127, 264, 398]\n",
      "hHBB_Nluc_hHBB\n",
      "[102, 231, 359]\n",
      "[126, 267, 403]\n",
      "hHBB_Nluc_hHBB\n",
      "[102, 231, 359]\n",
      "[126, 267, 403]\n",
      "hHBB_Nluc_hHBB\n",
      "[102, 231, 359]\n",
      "[126, 267, 403]\n",
      "hHBB_Nluc_hHBB\n",
      "[102, 231, 359]\n",
      "[126, 267, 403]\n"
     ]
    },
    {
     "name": "stderr",
     "output_type": "stream",
     "text": [
      "/Users/dosoonkim/Google Drive (dosoon@stanford.edu)/COVID_Vaccine/8. Experimental Results/Experimental Logs - Das/001_dosoon_revisit_bioanalyzer_fits/analysis_rd_dsk_scratch.py:275: RuntimeWarning: More than 20 figures have been opened. Figures created through the pyplot interface (`matplotlib.pyplot.figure`) are retained until explicitly closed and may consume too much memory. (To control this warning, see the rcParam `figure.max_open_warning`).\n",
      "  plt.figure(figsize=(8,12))\n",
      "/Users/dosoonkim/Google Drive (dosoon@stanford.edu)/COVID_Vaccine/8. Experimental Results/Experimental Logs - Das/001_dosoon_revisit_bioanalyzer_fits/analysis_rd_dsk_scratch.py:345: RuntimeWarning: More than 20 figures have been opened. Figures created through the pyplot interface (`matplotlib.pyplot.figure`) are retained until explicitly closed and may consume too much memory. (To control this warning, see the rcParam `figure.max_open_warning`).\n",
      "  plt.figure(figsize=(10,20))\n"
     ]
    },
    {
     "name": "stdout",
     "output_type": "stream",
     "text": [
      "hHBB_GCrich-2_hHBB\n",
      "[102, 232, 392]\n",
      "[126, 264, 425]\n",
      "hHBB_GCrich-2_hHBB\n",
      "[102, 232, 391]\n",
      "[126, 265, 426]\n",
      "hHBB_GCrich-2_hHBB\n",
      "[102, 231, 392]\n",
      "[126, 266, 427]\n",
      "hHBB_GCrich-2_hHBB\n",
      "[102, 232, 392]\n",
      "[126, 265, 428]\n",
      "hHBB_GCrich-2_hHBB\n",
      "[102, 231, 389]\n",
      "[126, 264, 427]\n",
      "hHBB_GCrich-2_hHBB\n",
      "[101, 231, 387]\n",
      "[127, 264, 432]\n",
      "hHBB_GCrich-2_hHBB\n",
      "[102, 230, 391]\n",
      "[126, 269, 426]\n",
      "hHBB_GCrich-2_hHBB\n",
      "[102, 229, 390]\n",
      "[126, 271, 428]\n",
      "hHBB_GCrich-2_hHBB\n",
      "[102, 229, 390]\n",
      "[126, 271, 428]\n",
      "hHBB_GCrich-2_hHBB\n",
      "[102, 229, 390]\n",
      "[126, 271, 428]\n"
     ]
    },
    {
     "name": "stderr",
     "output_type": "stream",
     "text": [
      "/Users/dosoonkim/Google Drive (dosoon@stanford.edu)/COVID_Vaccine/8. Experimental Results/Experimental Logs - Das/001_dosoon_revisit_bioanalyzer_fits/analysis_rd_dsk_scratch.py:275: RuntimeWarning: More than 20 figures have been opened. Figures created through the pyplot interface (`matplotlib.pyplot.figure`) are retained until explicitly closed and may consume too much memory. (To control this warning, see the rcParam `figure.max_open_warning`).\n",
      "  plt.figure(figsize=(8,12))\n",
      "/Users/dosoonkim/Google Drive (dosoon@stanford.edu)/COVID_Vaccine/8. Experimental Results/Experimental Logs - Das/001_dosoon_revisit_bioanalyzer_fits/analysis_rd_dsk_scratch.py:345: RuntimeWarning: More than 20 figures have been opened. Figures created through the pyplot interface (`matplotlib.pyplot.figure`) are retained until explicitly closed and may consume too much memory. (To control this warning, see the rcParam `figure.max_open_warning`).\n",
      "  plt.figure(figsize=(10,20))\n"
     ]
    },
    {
     "name": "stdout",
     "output_type": "stream",
     "text": [
      "hHBB_GCrich-2_hHBB\n",
      "[102, 231, 387]\n",
      "[126, 272, 417]\n",
      "hHBB_GCrich-2_hHBB\n",
      "[102, 231, 387]\n",
      "[126, 272, 417]\n",
      "hHBB_GCrich-2_hHBB\n",
      "[102, 229, 385]\n",
      "[126, 270, 417]\n",
      "hHBB_GCrich-2_hHBB\n",
      "[102, 231, 386]\n",
      "[126, 272, 419]\n",
      "hHBB_GCrich-2_hHBB\n",
      "[102, 231, 387]\n",
      "[126, 272, 419]\n",
      "hHBB_GCrich-2_hHBB\n",
      "[102, 231, 387]\n",
      "[126, 269, 420]\n",
      "hHBB_GCrich-2_hHBB\n",
      "[102, 230, 385]\n",
      "[126, 268, 420]\n",
      "hHBB_GCrich-2_hHBB\n",
      "[102, 230, 385]\n",
      "[126, 269, 421]\n",
      "hHBB_GCrich-2_hHBB\n",
      "[102, 230, 385]\n",
      "[126, 269, 421]\n",
      "hHBB_GCrich-2_hHBB\n",
      "[102, 230, 385]\n",
      "[126, 269, 421]\n"
     ]
    },
    {
     "name": "stderr",
     "output_type": "stream",
     "text": [
      "/Users/dosoonkim/Google Drive (dosoon@stanford.edu)/COVID_Vaccine/8. Experimental Results/Experimental Logs - Das/001_dosoon_revisit_bioanalyzer_fits/analysis_rd_dsk_scratch.py:275: RuntimeWarning: More than 20 figures have been opened. Figures created through the pyplot interface (`matplotlib.pyplot.figure`) are retained until explicitly closed and may consume too much memory. (To control this warning, see the rcParam `figure.max_open_warning`).\n",
      "  plt.figure(figsize=(8,12))\n",
      "/Users/dosoonkim/Google Drive (dosoon@stanford.edu)/COVID_Vaccine/8. Experimental Results/Experimental Logs - Das/001_dosoon_revisit_bioanalyzer_fits/analysis_rd_dsk_scratch.py:345: RuntimeWarning: More than 20 figures have been opened. Figures created through the pyplot interface (`matplotlib.pyplot.figure`) are retained until explicitly closed and may consume too much memory. (To control this warning, see the rcParam `figure.max_open_warning`).\n",
      "  plt.figure(figsize=(10,20))\n"
     ]
    },
    {
     "name": "stdout",
     "output_type": "stream",
     "text": [
      "hHBB_LocalDesign_hHBB\n",
      "[102, 228, 391]\n",
      "[126, 269, 414]\n",
      "hHBB_LocalDesign_hHBB\n",
      "[102, 229, 392]\n",
      "[126, 270, 415]\n",
      "hHBB_LocalDesign_hHBB\n",
      "[102, 230, 392]\n",
      "[126, 269, 416]\n",
      "hHBB_LocalDesign_hHBB\n",
      "[102, 230, 392]\n",
      "[126, 271, 418]\n",
      "hHBB_LocalDesign_hHBB\n",
      "[102, 230, 391]\n",
      "[126, 269, 417]\n",
      "hHBB_LocalDesign_hHBB\n",
      "[102, 229, 392]\n",
      "[126, 271, 415]\n",
      "hHBB_LocalDesign_hHBB\n",
      "[102, 230, 393]\n",
      "[126, 272, 417]\n",
      "hHBB_LocalDesign_hHBB\n",
      "[102, 229, 394]\n",
      "[126, 271, 414]\n",
      "hHBB_LocalDesign_hHBB\n",
      "[102, 229, 394]\n",
      "[126, 271, 414]\n",
      "hHBB_LocalDesign_hHBB\n",
      "[102, 229, 394]\n",
      "[126, 271, 414]\n"
     ]
    },
    {
     "name": "stderr",
     "output_type": "stream",
     "text": [
      "/Users/dosoonkim/Google Drive (dosoon@stanford.edu)/COVID_Vaccine/8. Experimental Results/Experimental Logs - Das/001_dosoon_revisit_bioanalyzer_fits/analysis_rd_dsk_scratch.py:275: RuntimeWarning: More than 20 figures have been opened. Figures created through the pyplot interface (`matplotlib.pyplot.figure`) are retained until explicitly closed and may consume too much memory. (To control this warning, see the rcParam `figure.max_open_warning`).\n",
      "  plt.figure(figsize=(8,12))\n",
      "/Users/dosoonkim/Google Drive (dosoon@stanford.edu)/COVID_Vaccine/8. Experimental Results/Experimental Logs - Das/001_dosoon_revisit_bioanalyzer_fits/analysis_rd_dsk_scratch.py:345: RuntimeWarning: More than 20 figures have been opened. Figures created through the pyplot interface (`matplotlib.pyplot.figure`) are retained until explicitly closed and may consume too much memory. (To control this warning, see the rcParam `figure.max_open_warning`).\n",
      "  plt.figure(figsize=(10,20))\n"
     ]
    },
    {
     "name": "stdout",
     "output_type": "stream",
     "text": [
      "hHBB_LocalDesign_hHBB\n",
      "[102, 226, 385]\n",
      "[125, 279, 408]\n",
      "hHBB_LocalDesign_hHBB\n",
      "[102, 227, 384]\n",
      "[125, 278, 407]\n",
      "hHBB_LocalDesign_hHBB\n",
      "[102, 230, 385]\n",
      "[126, 272, 408]\n",
      "hHBB_LocalDesign_hHBB\n",
      "[102, 229, 384]\n",
      "[126, 273, 407]\n",
      "hHBB_LocalDesign_hHBB\n",
      "[102, 230, 384]\n",
      "[126, 272, 408]\n",
      "hHBB_LocalDesign_hHBB\n",
      "[102, 231, 383]\n",
      "[126, 270, 409]\n",
      "hHBB_LocalDesign_hHBB\n",
      "[102, 230, 381]\n",
      "[126, 269, 407]\n",
      "hHBB_LocalDesign_hHBB\n",
      "[102, 231, 382]\n",
      "[126, 269, 408]\n",
      "hHBB_LocalDesign_hHBB\n",
      "[102, 231, 382]\n",
      "[126, 269, 408]\n",
      "hHBB_LocalDesign_hHBB\n",
      "[102, 231, 382]\n",
      "[126, 269, 408]\n"
     ]
    },
    {
     "name": "stderr",
     "output_type": "stream",
     "text": [
      "/Users/dosoonkim/Google Drive (dosoon@stanford.edu)/COVID_Vaccine/8. Experimental Results/Experimental Logs - Das/001_dosoon_revisit_bioanalyzer_fits/analysis_rd_dsk_scratch.py:275: RuntimeWarning: More than 20 figures have been opened. Figures created through the pyplot interface (`matplotlib.pyplot.figure`) are retained until explicitly closed and may consume too much memory. (To control this warning, see the rcParam `figure.max_open_warning`).\n",
      "  plt.figure(figsize=(8,12))\n",
      "/Users/dosoonkim/Google Drive (dosoon@stanford.edu)/COVID_Vaccine/8. Experimental Results/Experimental Logs - Das/001_dosoon_revisit_bioanalyzer_fits/analysis_rd_dsk_scratch.py:345: RuntimeWarning: More than 20 figures have been opened. Figures created through the pyplot interface (`matplotlib.pyplot.figure`) are retained until explicitly closed and may consume too much memory. (To control this warning, see the rcParam `figure.max_open_warning`).\n",
      "  plt.figure(figsize=(10,20))\n"
     ]
    },
    {
     "name": "stdout",
     "output_type": "stream",
     "text": [
      "hHBB_-423.7 kcal_hHBB\n",
      "[102, 232, 394]\n",
      "[125, 268, 417]\n",
      "hHBB_-423.7 kcal_hHBB\n",
      "[102, 233, 394]\n",
      "[125, 269, 417]\n",
      "hHBB_-423.7 kcal_hHBB\n",
      "[102, 231, 393]\n",
      "[125, 270, 416]\n",
      "hHBB_-423.7 kcal_hHBB\n",
      "[102, 232, 395]\n",
      "[125, 271, 419]\n",
      "hHBB_-423.7 kcal_hHBB\n",
      "[102, 232, 395]\n",
      "[125, 271, 419]\n",
      "hHBB_-423.7 kcal_hHBB\n",
      "[102, 232, 393]\n",
      "[125, 271, 420]\n",
      "hHBB_-423.7 kcal_hHBB\n",
      "[102, 229, 393]\n",
      "[125, 273, 419]\n",
      "hHBB_-423.7 kcal_hHBB\n",
      "[102, 229, 393]\n",
      "[125, 273, 419]\n",
      "hHBB_-423.7 kcal_hHBB\n",
      "[102, 229, 393]\n",
      "[125, 273, 419]\n",
      "hHBB_-423.7 kcal_hHBB\n",
      "[102, 229, 393]\n",
      "[125, 273, 419]\n"
     ]
    },
    {
     "name": "stderr",
     "output_type": "stream",
     "text": [
      "/Users/dosoonkim/Google Drive (dosoon@stanford.edu)/COVID_Vaccine/8. Experimental Results/Experimental Logs - Das/001_dosoon_revisit_bioanalyzer_fits/analysis_rd_dsk_scratch.py:275: RuntimeWarning: More than 20 figures have been opened. Figures created through the pyplot interface (`matplotlib.pyplot.figure`) are retained until explicitly closed and may consume too much memory. (To control this warning, see the rcParam `figure.max_open_warning`).\n",
      "  plt.figure(figsize=(8,12))\n",
      "/Users/dosoonkim/Google Drive (dosoon@stanford.edu)/COVID_Vaccine/8. Experimental Results/Experimental Logs - Das/001_dosoon_revisit_bioanalyzer_fits/analysis_rd_dsk_scratch.py:345: RuntimeWarning: More than 20 figures have been opened. Figures created through the pyplot interface (`matplotlib.pyplot.figure`) are retained until explicitly closed and may consume too much memory. (To control this warning, see the rcParam `figure.max_open_warning`).\n",
      "  plt.figure(figsize=(10,20))\n"
     ]
    },
    {
     "name": "stdout",
     "output_type": "stream",
     "text": [
      "hHBB_-423.7 kcal_hHBB\n",
      "[101, 259, 393]\n",
      "[127, 282, 413]\n",
      "hHBB_-423.7 kcal_hHBB\n",
      "[101, 259, 393]\n",
      "[127, 283, 414]\n",
      "hHBB_-423.7 kcal_hHBB\n",
      "[101, 260, 394]\n",
      "[127, 284, 415]\n",
      "hHBB_-423.7 kcal_hHBB\n",
      "[101, 260, 394]\n",
      "[127, 283, 417]\n",
      "hHBB_-423.7 kcal_hHBB\n",
      "[101, 260, 394]\n",
      "[127, 283, 415]\n",
      "hHBB_-423.7 kcal_hHBB\n",
      "[101, 259, 393]\n",
      "[127, 283, 416]\n",
      "hHBB_-423.7 kcal_hHBB\n",
      "[101, 259, 393]\n",
      "[127, 285, 416]\n",
      "hHBB_-423.7 kcal_hHBB\n",
      "[101, 231, 394]\n",
      "[127, 269, 420]\n",
      "hHBB_-423.7 kcal_hHBB\n",
      "[101, 231, 394]\n",
      "[127, 269, 420]\n",
      "hHBB_-423.7 kcal_hHBB\n",
      "[101, 231, 394]\n",
      "[127, 269, 420]\n",
      "Completed!\n"
     ]
    },
    {
     "data": {
      "text/plain": [
       "<Figure size 432x288 with 0 Axes>"
      ]
     },
     "metadata": {},
     "output_type": "display_data"
    },
    {
     "data": {
      "text/plain": [
       "<Figure size 576x864 with 0 Axes>"
      ]
     },
     "metadata": {},
     "output_type": "display_data"
    },
    {
     "data": {
      "text/plain": [
       "<Figure size 720x1440 with 0 Axes>"
      ]
     },
     "metadata": {},
     "output_type": "display_data"
    },
    {
     "data": {
      "text/plain": [
       "<Figure size 576x864 with 0 Axes>"
      ]
     },
     "metadata": {},
     "output_type": "display_data"
    },
    {
     "data": {
      "text/plain": [
       "<Figure size 720x1440 with 0 Axes>"
      ]
     },
     "metadata": {},
     "output_type": "display_data"
    },
    {
     "data": {
      "text/plain": [
       "<Figure size 576x864 with 0 Axes>"
      ]
     },
     "metadata": {},
     "output_type": "display_data"
    },
    {
     "data": {
      "text/plain": [
       "<Figure size 720x1440 with 0 Axes>"
      ]
     },
     "metadata": {},
     "output_type": "display_data"
    },
    {
     "data": {
      "text/plain": [
       "<Figure size 576x864 with 0 Axes>"
      ]
     },
     "metadata": {},
     "output_type": "display_data"
    },
    {
     "data": {
      "text/plain": [
       "<Figure size 720x1440 with 0 Axes>"
      ]
     },
     "metadata": {},
     "output_type": "display_data"
    },
    {
     "data": {
      "text/plain": [
       "<Figure size 576x864 with 0 Axes>"
      ]
     },
     "metadata": {},
     "output_type": "display_data"
    },
    {
     "data": {
      "text/plain": [
       "<Figure size 720x1440 with 0 Axes>"
      ]
     },
     "metadata": {},
     "output_type": "display_data"
    },
    {
     "data": {
      "text/plain": [
       "<Figure size 576x864 with 0 Axes>"
      ]
     },
     "metadata": {},
     "output_type": "display_data"
    },
    {
     "data": {
      "text/plain": [
       "<Figure size 720x1440 with 0 Axes>"
      ]
     },
     "metadata": {},
     "output_type": "display_data"
    },
    {
     "data": {
      "text/plain": [
       "<Figure size 576x864 with 0 Axes>"
      ]
     },
     "metadata": {},
     "output_type": "display_data"
    },
    {
     "data": {
      "text/plain": [
       "<Figure size 720x1440 with 0 Axes>"
      ]
     },
     "metadata": {},
     "output_type": "display_data"
    },
    {
     "data": {
      "text/plain": [
       "<Figure size 576x864 with 0 Axes>"
      ]
     },
     "metadata": {},
     "output_type": "display_data"
    },
    {
     "data": {
      "text/plain": [
       "<Figure size 720x1440 with 0 Axes>"
      ]
     },
     "metadata": {},
     "output_type": "display_data"
    },
    {
     "data": {
      "text/plain": [
       "<Figure size 576x864 with 0 Axes>"
      ]
     },
     "metadata": {},
     "output_type": "display_data"
    },
    {
     "data": {
      "text/plain": [
       "<Figure size 720x1440 with 0 Axes>"
      ]
     },
     "metadata": {},
     "output_type": "display_data"
    },
    {
     "data": {
      "text/plain": [
       "<Figure size 576x864 with 0 Axes>"
      ]
     },
     "metadata": {},
     "output_type": "display_data"
    },
    {
     "data": {
      "text/plain": [
       "<Figure size 720x1440 with 0 Axes>"
      ]
     },
     "metadata": {},
     "output_type": "display_data"
    },
    {
     "data": {
      "text/plain": [
       "<Figure size 576x864 with 0 Axes>"
      ]
     },
     "metadata": {},
     "output_type": "display_data"
    },
    {
     "data": {
      "text/plain": [
       "<Figure size 720x1440 with 0 Axes>"
      ]
     },
     "metadata": {},
     "output_type": "display_data"
    },
    {
     "data": {
      "text/plain": [
       "<Figure size 576x864 with 0 Axes>"
      ]
     },
     "metadata": {},
     "output_type": "display_data"
    },
    {
     "data": {
      "text/plain": [
       "<Figure size 720x1440 with 0 Axes>"
      ]
     },
     "metadata": {},
     "output_type": "display_data"
    },
    {
     "data": {
      "text/plain": [
       "<Figure size 576x864 with 0 Axes>"
      ]
     },
     "metadata": {},
     "output_type": "display_data"
    },
    {
     "data": {
      "text/plain": [
       "<Figure size 720x1440 with 0 Axes>"
      ]
     },
     "metadata": {},
     "output_type": "display_data"
    },
    {
     "data": {
      "text/plain": [
       "<Figure size 576x864 with 0 Axes>"
      ]
     },
     "metadata": {},
     "output_type": "display_data"
    },
    {
     "data": {
      "text/plain": [
       "<Figure size 720x1440 with 0 Axes>"
      ]
     },
     "metadata": {},
     "output_type": "display_data"
    },
    {
     "data": {
      "text/plain": [
       "<Figure size 576x864 with 0 Axes>"
      ]
     },
     "metadata": {},
     "output_type": "display_data"
    },
    {
     "data": {
      "text/plain": [
       "<Figure size 720x1440 with 0 Axes>"
      ]
     },
     "metadata": {},
     "output_type": "display_data"
    },
    {
     "data": {
      "text/plain": [
       "<Figure size 576x864 with 0 Axes>"
      ]
     },
     "metadata": {},
     "output_type": "display_data"
    },
    {
     "data": {
      "text/plain": [
       "<Figure size 720x1440 with 0 Axes>"
      ]
     },
     "metadata": {},
     "output_type": "display_data"
    },
    {
     "data": {
      "text/plain": [
       "<Figure size 576x864 with 0 Axes>"
      ]
     },
     "metadata": {},
     "output_type": "display_data"
    },
    {
     "data": {
      "text/plain": [
       "<Figure size 720x1440 with 0 Axes>"
      ]
     },
     "metadata": {},
     "output_type": "display_data"
    },
    {
     "data": {
      "text/plain": [
       "<Figure size 576x864 with 0 Axes>"
      ]
     },
     "metadata": {},
     "output_type": "display_data"
    },
    {
     "data": {
      "text/plain": [
       "<Figure size 720x1440 with 0 Axes>"
      ]
     },
     "metadata": {},
     "output_type": "display_data"
    },
    {
     "data": {
      "text/plain": [
       "<Figure size 576x864 with 0 Axes>"
      ]
     },
     "metadata": {},
     "output_type": "display_data"
    },
    {
     "data": {
      "text/plain": [
       "<Figure size 720x1440 with 0 Axes>"
      ]
     },
     "metadata": {},
     "output_type": "display_data"
    },
    {
     "data": {
      "text/plain": [
       "<Figure size 576x864 with 0 Axes>"
      ]
     },
     "metadata": {},
     "output_type": "display_data"
    },
    {
     "data": {
      "text/plain": [
       "<Figure size 720x1440 with 0 Axes>"
      ]
     },
     "metadata": {},
     "output_type": "display_data"
    },
    {
     "data": {
      "text/plain": [
       "<Figure size 576x864 with 0 Axes>"
      ]
     },
     "metadata": {},
     "output_type": "display_data"
    },
    {
     "data": {
      "text/plain": [
       "<Figure size 720x1440 with 0 Axes>"
      ]
     },
     "metadata": {},
     "output_type": "display_data"
    },
    {
     "data": {
      "text/plain": [
       "<Figure size 576x864 with 0 Axes>"
      ]
     },
     "metadata": {},
     "output_type": "display_data"
    },
    {
     "data": {
      "text/plain": [
       "<Figure size 720x1440 with 0 Axes>"
      ]
     },
     "metadata": {},
     "output_type": "display_data"
    },
    {
     "data": {
      "text/plain": [
       "<Figure size 576x864 with 0 Axes>"
      ]
     },
     "metadata": {},
     "output_type": "display_data"
    },
    {
     "data": {
      "text/plain": [
       "<Figure size 720x1440 with 0 Axes>"
      ]
     },
     "metadata": {},
     "output_type": "display_data"
    },
    {
     "data": {
      "text/plain": [
       "<Figure size 576x864 with 0 Axes>"
      ]
     },
     "metadata": {},
     "output_type": "display_data"
    },
    {
     "data": {
      "text/plain": [
       "<Figure size 720x1440 with 0 Axes>"
      ]
     },
     "metadata": {},
     "output_type": "display_data"
    },
    {
     "data": {
      "text/plain": [
       "<Figure size 576x864 with 0 Axes>"
      ]
     },
     "metadata": {},
     "output_type": "display_data"
    },
    {
     "data": {
      "text/plain": [
       "<Figure size 720x1440 with 0 Axes>"
      ]
     },
     "metadata": {},
     "output_type": "display_data"
    },
    {
     "data": {
      "text/plain": [
       "<Figure size 576x864 with 0 Axes>"
      ]
     },
     "metadata": {},
     "output_type": "display_data"
    },
    {
     "data": {
      "image/png": "[encoded data removed]",
      "text/plain": [
       "<Figure size 720x1440 with 10 Axes>"
      ]
     },
     "metadata": {
      "needs_background": "light"
     },
     "output_type": "display_data"
    }
   ],
   "source": [
    "### 10-22, m5C, PSU tests, normalize by P4P6\n",
    "data_dir = \"/Users/dosoonkim/Google Drive (dosoon@stanford.edu)/COVID_Vaccine/8. Experimental Results/Experimental Logs - Das/102120_PSU_5mC_BioAnalyzer/\"\n",
    "output_filename = 'dsk_output_1022_P4P6norm'\n",
    "output_dir = 'output_dsk/1021/'\n",
    "output_pdf = True\n",
    "norm_pk = 2\n",
    "pk_nt_bounds=np.array([[20,30],[200, 320],[735,1000]])\n",
    "output_1022_P4P6norm_compiled, ouput_1022_P4P6norm_fits = ivdeg.analyze_bioanalyzer_data(data_dir, pk_nt_bounds = pk_nt_bounds, output_filename = output_filename, norm_pk = norm_pk, output_dir=output_dir, output_pdf=output_pdf)\n",
    "\n",
    "### 10-22, m5C, PSU tests, normalize by total mRNA\n",
    "data_dir = \"/Users/dosoonkim/Google Drive (dosoon@stanford.edu)/COVID_Vaccine/8. Experimental Results/Experimental Logs - Das/102120_PSU_5mC_BioAnalyzer/\"\n",
    "output_filename = 'dsk_output_1022_totalmRNAnorm'\n",
    "output_dir = 'output_dsk/1021/'\n",
    "output_pdf = True\n",
    "norm_pk = 0\n",
    "pk_nt_bounds=np.array([[20,30],[200, 320],[735,1000]])\n",
    "output_1022_totalmRNAnorm_compiled, ouput_1022_totalmRNAnorm_fits = ivdeg.analyze_bioanalyzer_data(data_dir, pk_nt_bounds = pk_nt_bounds, output_filename = output_filename, norm_pk = norm_pk, output_dir=output_dir, output_pdf=output_pdf)\n"
   ]
  }
 ],
 "metadata": {
  "kernelspec": {
   "display_name": "Python 3",
   "language": "python",
   "name": "python3"
  },
  "language_info": {
   "codemirror_mode": {
    "name": "ipython",
    "version": 3
   },
   "file_extension": ".py",
   "mimetype": "text/x-python",
   "name": "python",
   "nbconvert_exporter": "python",
   "pygments_lexer": "ipython3",
   "version": "3.9.1"
  },
  "varInspector": {
   "cols": {
    "lenName": 16,
    "lenType": 16,
    "lenVar": 40
   },
   "kernels_config": {
    "python": {
     "delete_cmd_postfix": "",
     "delete_cmd_prefix": "del ",
     "library": "var_list.py",
     "varRefreshCmd": "print(var_dic_list())"
    },
    "r": {
     "delete_cmd_postfix": ") ",
     "delete_cmd_prefix": "rm(",
     "library": "var_list.r",
     "varRefreshCmd": "cat(var_dic_list()) "
    }
   },
   "types_to_exclude": [
    "module",
    "function",
    "builtin_function_or_method",
    "instance",
    "_Feature"
   ],
   "window_display": false
  }
 },
 "nbformat": 4,
 "nbformat_minor": 4
}
